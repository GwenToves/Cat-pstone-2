{
 "cells": [
  {
   "cell_type": "code",
   "execution_count": 1,
   "id": "07c50c60",
   "metadata": {},
   "outputs": [],
   "source": [
    "!conda activate wool_sucking_nn"
   ]
  },
  {
   "cell_type": "code",
   "execution_count": 2,
   "id": "d8b0a927",
   "metadata": {},
   "outputs": [],
   "source": [
    "import pandas as pd\n",
    "import numpy as np\n",
    "import matplotlib.pyplot as plt\n",
    "import seaborn as sns\n",
    "from scipy import stats \n",
    "from sklearn.model_selection import train_test_split\n",
    "\n",
    "%matplotlib inline"
   ]
  },
  {
   "cell_type": "markdown",
   "id": "3e1f5d2f",
   "metadata": {},
   "source": [
    "# Table of Contents\n",
    "[1. The Mission!](#mission)  \n",
    "[2. Read in \"raw\" data](#rawdata)  \n",
    "[3. Drop Problem Columns](#drop1)  \n",
    "[4. Impute Missing Values (without data leakage!)](#impute)  \n",
    "[5. Distributions, Duplicates, and Outliers, oh my! (spoiler alert: we're keeping all the target feature outliers)](#distributions)  \n",
    "[6. The Correlation Chronicles: Gwen Really Likes Heatmaps](#correlations)  \n",
    "[7. Clean Data at Your Service: Delivering a Spotless CSV File](#clean)"
   ]
  },
  {
   "cell_type": "markdown",
   "id": "6a72bb54",
   "metadata": {},
   "source": [
    "# <a id='mission'></a> 1. The Mission!\n",
    "Since the debut of ClickClock influencer, BuddyTheCat's adorable wool-sucking performances, the demand for wool-sucking kitties at my client's adoption agency has skyrocketed. Potential adopters are upset that they cannot filter cats up for adoption by this behavior, and it is impractical for this to be assessed during an intake evaluation. So, we want to predict wool-sucking; and this time: with a neural network! "
   ]
  },
  {
   "cell_type": "markdown",
   "id": "14beed1e",
   "metadata": {},
   "source": [
    "# <a id='rawdata'></a>  2. Read in \"raw\" data"
   ]
  },
  {
   "cell_type": "markdown",
   "id": "2872decc",
   "metadata": {},
   "source": [
    "I say raw in quotations because this is a dataset from a published study, so it is already pretty clean. It is comprised of the answers to a questionnaire regarding several background and living environment factors as well as \"ten behaviour traits: activity level; tendency to seek human contact (labelled as 'contact to people’); aggressiveness towards human family members, strangers, or other cats; shyness towards strangers or novel stimuli; level of self-grooming (labelled as ‘excessive grooming); wool sucking; and owner-evaluated behaviour problem, which were all coded on a 5-point Likert-type scale, except wool sucking, which was coded 1–8 and behaviour problem, which was coded as ‘no behaviour problem’, ‘self-evaluated behaviour problem’, and ‘behaviour problem diagnosed by a veterinarian'.\"  \n",
    "\n",
    "Link to published data: [Salonen et al., Breed differences of heritable behaviour traits in cats](https://figshare.com/articles/dataset/Salonen_et_al_Breed_differences_of_heritable_behaviour_traits_in_cats_-_data/8143835)"
   ]
  },
  {
   "cell_type": "code",
   "execution_count": 3,
   "id": "211bdf95",
   "metadata": {},
   "outputs": [],
   "source": [
    "cat_data = pd.read_excel('..\\Data\\cat_data.xlsx')"
   ]
  },
  {
   "cell_type": "code",
   "execution_count": 4,
   "id": "bdf613ec",
   "metadata": {},
   "outputs": [
    {
     "data": {
      "text/html": [
       "<div>\n",
       "<style scoped>\n",
       "    .dataframe tbody tr th:only-of-type {\n",
       "        vertical-align: middle;\n",
       "    }\n",
       "\n",
       "    .dataframe tbody tr th {\n",
       "        vertical-align: top;\n",
       "    }\n",
       "\n",
       "    .dataframe thead th {\n",
       "        text-align: right;\n",
       "    }\n",
       "</style>\n",
       "<table border=\"1\" class=\"dataframe\">\n",
       "  <thead>\n",
       "    <tr style=\"text-align: right;\">\n",
       "      <th></th>\n",
       "      <th>ID_number</th>\n",
       "      <th>Age</th>\n",
       "      <th>Gender</th>\n",
       "      <th>Neuter_status</th>\n",
       "      <th>Breed_group</th>\n",
       "      <th>Weaning_age</th>\n",
       "      <th>Outdoors</th>\n",
       "      <th>Other_cats</th>\n",
       "      <th>Activity_level</th>\n",
       "      <th>Contact_people</th>\n",
       "      <th>...</th>\n",
       "      <th>Aggression_owner</th>\n",
       "      <th>Aggression_cats</th>\n",
       "      <th>Shyness_novel</th>\n",
       "      <th>Shyness_strangers</th>\n",
       "      <th>Grooming</th>\n",
       "      <th>Wool_sucking</th>\n",
       "      <th>Behaviour_problem</th>\n",
       "      <th>Aggression_component</th>\n",
       "      <th>Shyness_component</th>\n",
       "      <th>Extraversion_component</th>\n",
       "    </tr>\n",
       "  </thead>\n",
       "  <tbody>\n",
       "    <tr>\n",
       "      <th>0</th>\n",
       "      <td>1</td>\n",
       "      <td>4.0274</td>\n",
       "      <td>2</td>\n",
       "      <td>1</td>\n",
       "      <td>BEN</td>\n",
       "      <td>8</td>\n",
       "      <td>0</td>\n",
       "      <td>1</td>\n",
       "      <td>4</td>\n",
       "      <td>5</td>\n",
       "      <td>...</td>\n",
       "      <td>1</td>\n",
       "      <td>1</td>\n",
       "      <td>2</td>\n",
       "      <td>1</td>\n",
       "      <td>1.0</td>\n",
       "      <td>0.0</td>\n",
       "      <td>1.0</td>\n",
       "      <td>-0.392731</td>\n",
       "      <td>-0.364198</td>\n",
       "      <td>0.666318</td>\n",
       "    </tr>\n",
       "    <tr>\n",
       "      <th>1</th>\n",
       "      <td>2</td>\n",
       "      <td>2.1096</td>\n",
       "      <td>2</td>\n",
       "      <td>1</td>\n",
       "      <td>BEN</td>\n",
       "      <td>8</td>\n",
       "      <td>0</td>\n",
       "      <td>1</td>\n",
       "      <td>5</td>\n",
       "      <td>4</td>\n",
       "      <td>...</td>\n",
       "      <td>1</td>\n",
       "      <td>1</td>\n",
       "      <td>3</td>\n",
       "      <td>3</td>\n",
       "      <td>1.0</td>\n",
       "      <td>0.0</td>\n",
       "      <td>1.0</td>\n",
       "      <td>-0.633626</td>\n",
       "      <td>1.419777</td>\n",
       "      <td>0.994083</td>\n",
       "    </tr>\n",
       "    <tr>\n",
       "      <th>2</th>\n",
       "      <td>3</td>\n",
       "      <td>7.6822</td>\n",
       "      <td>1</td>\n",
       "      <td>1</td>\n",
       "      <td>BUR</td>\n",
       "      <td>4</td>\n",
       "      <td>0</td>\n",
       "      <td>1</td>\n",
       "      <td>4</td>\n",
       "      <td>5</td>\n",
       "      <td>...</td>\n",
       "      <td>1</td>\n",
       "      <td>1</td>\n",
       "      <td>2</td>\n",
       "      <td>1</td>\n",
       "      <td>4.0</td>\n",
       "      <td>3.0</td>\n",
       "      <td>2.0</td>\n",
       "      <td>-0.392731</td>\n",
       "      <td>-0.364198</td>\n",
       "      <td>0.666318</td>\n",
       "    </tr>\n",
       "    <tr>\n",
       "      <th>3</th>\n",
       "      <td>4</td>\n",
       "      <td>5.0027</td>\n",
       "      <td>1</td>\n",
       "      <td>1</td>\n",
       "      <td>BUR</td>\n",
       "      <td>4</td>\n",
       "      <td>4</td>\n",
       "      <td>0</td>\n",
       "      <td>5</td>\n",
       "      <td>5</td>\n",
       "      <td>...</td>\n",
       "      <td>1</td>\n",
       "      <td>2</td>\n",
       "      <td>1</td>\n",
       "      <td>1</td>\n",
       "      <td>1.0</td>\n",
       "      <td>0.0</td>\n",
       "      <td>1.0</td>\n",
       "      <td>0.090309</td>\n",
       "      <td>-0.780989</td>\n",
       "      <td>1.330449</td>\n",
       "    </tr>\n",
       "    <tr>\n",
       "      <th>4</th>\n",
       "      <td>5</td>\n",
       "      <td>5.0137</td>\n",
       "      <td>1</td>\n",
       "      <td>1</td>\n",
       "      <td>EUR</td>\n",
       "      <td>4</td>\n",
       "      <td>5</td>\n",
       "      <td>1</td>\n",
       "      <td>4</td>\n",
       "      <td>5</td>\n",
       "      <td>...</td>\n",
       "      <td>1</td>\n",
       "      <td>1</td>\n",
       "      <td>2</td>\n",
       "      <td>1</td>\n",
       "      <td>1.0</td>\n",
       "      <td>0.0</td>\n",
       "      <td>1.0</td>\n",
       "      <td>-0.392731</td>\n",
       "      <td>-0.364198</td>\n",
       "      <td>0.666318</td>\n",
       "    </tr>\n",
       "  </tbody>\n",
       "</table>\n",
       "<p>5 rows × 21 columns</p>\n",
       "</div>"
      ],
      "text/plain": [
       "   ID_number     Age  Gender  Neuter_status Breed_group  Weaning_age  \\\n",
       "0          1  4.0274       2              1         BEN            8   \n",
       "1          2  2.1096       2              1         BEN            8   \n",
       "2          3  7.6822       1              1         BUR            4   \n",
       "3          4  5.0027       1              1         BUR            4   \n",
       "4          5  5.0137       1              1         EUR            4   \n",
       "\n",
       "   Outdoors  Other_cats  Activity_level  Contact_people  ...  \\\n",
       "0         0           1               4               5  ...   \n",
       "1         0           1               5               4  ...   \n",
       "2         0           1               4               5  ...   \n",
       "3         4           0               5               5  ...   \n",
       "4         5           1               4               5  ...   \n",
       "\n",
       "   Aggression_owner  Aggression_cats  Shyness_novel  Shyness_strangers  \\\n",
       "0                 1                1              2                  1   \n",
       "1                 1                1              3                  3   \n",
       "2                 1                1              2                  1   \n",
       "3                 1                2              1                  1   \n",
       "4                 1                1              2                  1   \n",
       "\n",
       "   Grooming  Wool_sucking  Behaviour_problem  Aggression_component  \\\n",
       "0       1.0           0.0                1.0             -0.392731   \n",
       "1       1.0           0.0                1.0             -0.633626   \n",
       "2       4.0           3.0                2.0             -0.392731   \n",
       "3       1.0           0.0                1.0              0.090309   \n",
       "4       1.0           0.0                1.0             -0.392731   \n",
       "\n",
       "   Shyness_component  Extraversion_component  \n",
       "0          -0.364198                0.666318  \n",
       "1           1.419777                0.994083  \n",
       "2          -0.364198                0.666318  \n",
       "3          -0.780989                1.330449  \n",
       "4          -0.364198                0.666318  \n",
       "\n",
       "[5 rows x 21 columns]"
      ]
     },
     "execution_count": 4,
     "metadata": {},
     "output_type": "execute_result"
    }
   ],
   "source": [
    "cat_data.head()"
   ]
  },
  {
   "cell_type": "code",
   "execution_count": 5,
   "id": "d0ecf5c1",
   "metadata": {},
   "outputs": [
    {
     "data": {
      "text/html": [
       "<div>\n",
       "<style scoped>\n",
       "    .dataframe tbody tr th:only-of-type {\n",
       "        vertical-align: middle;\n",
       "    }\n",
       "\n",
       "    .dataframe tbody tr th {\n",
       "        vertical-align: top;\n",
       "    }\n",
       "\n",
       "    .dataframe thead th {\n",
       "        text-align: right;\n",
       "    }\n",
       "</style>\n",
       "<table border=\"1\" class=\"dataframe\">\n",
       "  <thead>\n",
       "    <tr style=\"text-align: right;\">\n",
       "      <th></th>\n",
       "      <th>ID_number</th>\n",
       "      <th>Age</th>\n",
       "      <th>Gender</th>\n",
       "      <th>Neuter_status</th>\n",
       "      <th>Weaning_age</th>\n",
       "      <th>Outdoors</th>\n",
       "      <th>Other_cats</th>\n",
       "      <th>Activity_level</th>\n",
       "      <th>Contact_people</th>\n",
       "      <th>Aggression_stranger</th>\n",
       "      <th>Aggression_owner</th>\n",
       "      <th>Aggression_cats</th>\n",
       "      <th>Shyness_novel</th>\n",
       "      <th>Shyness_strangers</th>\n",
       "      <th>Grooming</th>\n",
       "      <th>Wool_sucking</th>\n",
       "      <th>Behaviour_problem</th>\n",
       "      <th>Aggression_component</th>\n",
       "      <th>Shyness_component</th>\n",
       "      <th>Extraversion_component</th>\n",
       "    </tr>\n",
       "  </thead>\n",
       "  <tbody>\n",
       "    <tr>\n",
       "      <th>count</th>\n",
       "      <td>5726.000000</td>\n",
       "      <td>5726.000000</td>\n",
       "      <td>5726.000000</td>\n",
       "      <td>5726.000000</td>\n",
       "      <td>5726.000000</td>\n",
       "      <td>5726.000000</td>\n",
       "      <td>5726.000000</td>\n",
       "      <td>5726.000000</td>\n",
       "      <td>5726.000000</td>\n",
       "      <td>5726.000000</td>\n",
       "      <td>5726.000000</td>\n",
       "      <td>5726.000000</td>\n",
       "      <td>5726.000000</td>\n",
       "      <td>5726.000000</td>\n",
       "      <td>5683.000000</td>\n",
       "      <td>5696.000000</td>\n",
       "      <td>5719.000000</td>\n",
       "      <td>5726.000000</td>\n",
       "      <td>5726.000000</td>\n",
       "      <td>5.726000e+03</td>\n",
       "    </tr>\n",
       "    <tr>\n",
       "      <th>mean</th>\n",
       "      <td>2863.500000</td>\n",
       "      <td>4.753083</td>\n",
       "      <td>1.538945</td>\n",
       "      <td>0.779776</td>\n",
       "      <td>4.618407</td>\n",
       "      <td>2.546455</td>\n",
       "      <td>0.847363</td>\n",
       "      <td>3.771743</td>\n",
       "      <td>4.089067</td>\n",
       "      <td>1.116312</td>\n",
       "      <td>1.096577</td>\n",
       "      <td>1.584177</td>\n",
       "      <td>2.026546</td>\n",
       "      <td>1.884736</td>\n",
       "      <td>1.794123</td>\n",
       "      <td>0.912395</td>\n",
       "      <td>1.070467</td>\n",
       "      <td>-0.000003</td>\n",
       "      <td>-0.000003</td>\n",
       "      <td>-1.359264e-07</td>\n",
       "    </tr>\n",
       "    <tr>\n",
       "      <th>std</th>\n",
       "      <td>1653.098152</td>\n",
       "      <td>3.769304</td>\n",
       "      <td>0.498525</td>\n",
       "      <td>0.414434</td>\n",
       "      <td>1.576421</td>\n",
       "      <td>1.910538</td>\n",
       "      <td>0.359669</td>\n",
       "      <td>0.864301</td>\n",
       "      <td>0.878921</td>\n",
       "      <td>0.417632</td>\n",
       "      <td>0.368069</td>\n",
       "      <td>0.840766</td>\n",
       "      <td>0.996585</td>\n",
       "      <td>1.051672</td>\n",
       "      <td>0.998514</td>\n",
       "      <td>1.544499</td>\n",
       "      <td>0.384330</td>\n",
       "      <td>0.896939</td>\n",
       "      <td>0.999784</td>\n",
       "      <td>9.768488e-01</td>\n",
       "    </tr>\n",
       "    <tr>\n",
       "      <th>min</th>\n",
       "      <td>1.000000</td>\n",
       "      <td>0.167100</td>\n",
       "      <td>1.000000</td>\n",
       "      <td>0.000000</td>\n",
       "      <td>1.000000</td>\n",
       "      <td>0.000000</td>\n",
       "      <td>0.000000</td>\n",
       "      <td>1.000000</td>\n",
       "      <td>1.000000</td>\n",
       "      <td>1.000000</td>\n",
       "      <td>1.000000</td>\n",
       "      <td>1.000000</td>\n",
       "      <td>1.000000</td>\n",
       "      <td>1.000000</td>\n",
       "      <td>1.000000</td>\n",
       "      <td>0.000000</td>\n",
       "      <td>0.000000</td>\n",
       "      <td>-0.964370</td>\n",
       "      <td>-2.433800</td>\n",
       "      <td>-4.061199e+00</td>\n",
       "    </tr>\n",
       "    <tr>\n",
       "      <th>25%</th>\n",
       "      <td>1432.250000</td>\n",
       "      <td>1.789000</td>\n",
       "      <td>1.000000</td>\n",
       "      <td>1.000000</td>\n",
       "      <td>4.000000</td>\n",
       "      <td>1.000000</td>\n",
       "      <td>1.000000</td>\n",
       "      <td>3.000000</td>\n",
       "      <td>4.000000</td>\n",
       "      <td>1.000000</td>\n",
       "      <td>1.000000</td>\n",
       "      <td>1.000000</td>\n",
       "      <td>1.000000</td>\n",
       "      <td>1.000000</td>\n",
       "      <td>1.000000</td>\n",
       "      <td>0.000000</td>\n",
       "      <td>1.000000</td>\n",
       "      <td>-0.448792</td>\n",
       "      <td>-0.780989</td>\n",
       "      <td>-6.867931e-01</td>\n",
       "    </tr>\n",
       "    <tr>\n",
       "      <th>50%</th>\n",
       "      <td>2863.500000</td>\n",
       "      <td>3.879450</td>\n",
       "      <td>2.000000</td>\n",
       "      <td>1.000000</td>\n",
       "      <td>4.000000</td>\n",
       "      <td>2.000000</td>\n",
       "      <td>1.000000</td>\n",
       "      <td>4.000000</td>\n",
       "      <td>4.000000</td>\n",
       "      <td>1.000000</td>\n",
       "      <td>1.000000</td>\n",
       "      <td>1.000000</td>\n",
       "      <td>2.000000</td>\n",
       "      <td>2.000000</td>\n",
       "      <td>1.000000</td>\n",
       "      <td>0.000000</td>\n",
       "      <td>1.000000</td>\n",
       "      <td>-0.330445</td>\n",
       "      <td>-0.175096</td>\n",
       "      <td>-1.865431e-03</td>\n",
       "    </tr>\n",
       "    <tr>\n",
       "      <th>75%</th>\n",
       "      <td>4294.750000</td>\n",
       "      <td>6.778100</td>\n",
       "      <td>2.000000</td>\n",
       "      <td>1.000000</td>\n",
       "      <td>5.000000</td>\n",
       "      <td>5.000000</td>\n",
       "      <td>1.000000</td>\n",
       "      <td>4.000000</td>\n",
       "      <td>5.000000</td>\n",
       "      <td>1.000000</td>\n",
       "      <td>1.000000</td>\n",
       "      <td>2.000000</td>\n",
       "      <td>3.000000</td>\n",
       "      <td>2.000000</td>\n",
       "      <td>3.000000</td>\n",
       "      <td>2.000000</td>\n",
       "      <td>1.000000</td>\n",
       "      <td>0.072477</td>\n",
       "      <td>0.497528</td>\n",
       "      <td>7.201160e-01</td>\n",
       "    </tr>\n",
       "    <tr>\n",
       "      <th>max</th>\n",
       "      <td>5726.000000</td>\n",
       "      <td>24.811000</td>\n",
       "      <td>2.000000</td>\n",
       "      <td>1.000000</td>\n",
       "      <td>8.000000</td>\n",
       "      <td>5.000000</td>\n",
       "      <td>1.000000</td>\n",
       "      <td>5.000000</td>\n",
       "      <td>5.000000</td>\n",
       "      <td>5.000000</td>\n",
       "      <td>5.000000</td>\n",
       "      <td>5.000000</td>\n",
       "      <td>5.000000</td>\n",
       "      <td>5.000000</td>\n",
       "      <td>5.000000</td>\n",
       "      <td>7.000000</td>\n",
       "      <td>3.000000</td>\n",
       "      <td>9.644858</td>\n",
       "      <td>3.577881</td>\n",
       "      <td>1.997650e+00</td>\n",
       "    </tr>\n",
       "  </tbody>\n",
       "</table>\n",
       "</div>"
      ],
      "text/plain": [
       "         ID_number          Age       Gender  Neuter_status  Weaning_age  \\\n",
       "count  5726.000000  5726.000000  5726.000000    5726.000000  5726.000000   \n",
       "mean   2863.500000     4.753083     1.538945       0.779776     4.618407   \n",
       "std    1653.098152     3.769304     0.498525       0.414434     1.576421   \n",
       "min       1.000000     0.167100     1.000000       0.000000     1.000000   \n",
       "25%    1432.250000     1.789000     1.000000       1.000000     4.000000   \n",
       "50%    2863.500000     3.879450     2.000000       1.000000     4.000000   \n",
       "75%    4294.750000     6.778100     2.000000       1.000000     5.000000   \n",
       "max    5726.000000    24.811000     2.000000       1.000000     8.000000   \n",
       "\n",
       "          Outdoors   Other_cats  Activity_level  Contact_people  \\\n",
       "count  5726.000000  5726.000000     5726.000000     5726.000000   \n",
       "mean      2.546455     0.847363        3.771743        4.089067   \n",
       "std       1.910538     0.359669        0.864301        0.878921   \n",
       "min       0.000000     0.000000        1.000000        1.000000   \n",
       "25%       1.000000     1.000000        3.000000        4.000000   \n",
       "50%       2.000000     1.000000        4.000000        4.000000   \n",
       "75%       5.000000     1.000000        4.000000        5.000000   \n",
       "max       5.000000     1.000000        5.000000        5.000000   \n",
       "\n",
       "       Aggression_stranger  Aggression_owner  Aggression_cats  Shyness_novel  \\\n",
       "count          5726.000000       5726.000000      5726.000000    5726.000000   \n",
       "mean              1.116312          1.096577         1.584177       2.026546   \n",
       "std               0.417632          0.368069         0.840766       0.996585   \n",
       "min               1.000000          1.000000         1.000000       1.000000   \n",
       "25%               1.000000          1.000000         1.000000       1.000000   \n",
       "50%               1.000000          1.000000         1.000000       2.000000   \n",
       "75%               1.000000          1.000000         2.000000       3.000000   \n",
       "max               5.000000          5.000000         5.000000       5.000000   \n",
       "\n",
       "       Shyness_strangers     Grooming  Wool_sucking  Behaviour_problem  \\\n",
       "count        5726.000000  5683.000000   5696.000000        5719.000000   \n",
       "mean            1.884736     1.794123      0.912395           1.070467   \n",
       "std             1.051672     0.998514      1.544499           0.384330   \n",
       "min             1.000000     1.000000      0.000000           0.000000   \n",
       "25%             1.000000     1.000000      0.000000           1.000000   \n",
       "50%             2.000000     1.000000      0.000000           1.000000   \n",
       "75%             2.000000     3.000000      2.000000           1.000000   \n",
       "max             5.000000     5.000000      7.000000           3.000000   \n",
       "\n",
       "       Aggression_component  Shyness_component  Extraversion_component  \n",
       "count           5726.000000        5726.000000            5.726000e+03  \n",
       "mean              -0.000003          -0.000003           -1.359264e-07  \n",
       "std                0.896939           0.999784            9.768488e-01  \n",
       "min               -0.964370          -2.433800           -4.061199e+00  \n",
       "25%               -0.448792          -0.780989           -6.867931e-01  \n",
       "50%               -0.330445          -0.175096           -1.865431e-03  \n",
       "75%                0.072477           0.497528            7.201160e-01  \n",
       "max                9.644858           3.577881            1.997650e+00  "
      ]
     },
     "execution_count": 5,
     "metadata": {},
     "output_type": "execute_result"
    }
   ],
   "source": [
    "cat_data.describe()"
   ]
  },
  {
   "cell_type": "markdown",
   "id": "b28f9289",
   "metadata": {},
   "source": [
    "Looks like there are 5726 records. Most columns are not missing values (yay!), but some very important ones are: Grooming (highly predictive of Wool_sucking according to Cat-pstone 1 results), Wool_sucking (aka our target feature), and Behaviour_problem (also found to be highly predictive of Wool-sucking).  \n",
    "\n",
    "HOWEVER: If you've seen Cat-pstone 1, you may know that I have some reservations about including Behaviour_problem. Through my research during this and the previous project, I found that some individuals (definitely pre-BuddyTheCat era, I'm sure) consider wool-sucking to be behavior problem. The study does not specify what is considered a behavior problem, only their rating scale method. I assume our intake evaluators also would have a hard time with this subjective distinction, so **I will not include Behaviour_problem in my predictive features.** "
   ]
  },
  {
   "cell_type": "markdown",
   "id": "789493ac",
   "metadata": {},
   "source": [
    "# <a id='drop1'></a>  3. Drop Problem Columns and Rows"
   ]
  },
  {
   "cell_type": "code",
   "execution_count": 6,
   "id": "ee79263b",
   "metadata": {},
   "outputs": [],
   "source": [
    "# dropping PCA components from study and ID, \n",
    "# also weaning_age, since it would be impossible to get that information for almost any cat that wasn't weaned at the facility \n",
    "cat_data.drop(columns=['Behaviour_problem', \n",
    "                       'Aggression_component', \n",
    "                       'Shyness_component', \n",
    "                       'Extraversion_component', \n",
    "                       'ID_number', \n",
    "                       'Weaning_age'], inplace=True)"
   ]
  },
  {
   "cell_type": "code",
   "execution_count": 7,
   "id": "845bddf8",
   "metadata": {},
   "outputs": [
    {
     "data": {
      "text/html": [
       "<div>\n",
       "<style scoped>\n",
       "    .dataframe tbody tr th:only-of-type {\n",
       "        vertical-align: middle;\n",
       "    }\n",
       "\n",
       "    .dataframe tbody tr th {\n",
       "        vertical-align: top;\n",
       "    }\n",
       "\n",
       "    .dataframe thead th {\n",
       "        text-align: right;\n",
       "    }\n",
       "</style>\n",
       "<table border=\"1\" class=\"dataframe\">\n",
       "  <thead>\n",
       "    <tr style=\"text-align: right;\">\n",
       "      <th></th>\n",
       "      <th>Age</th>\n",
       "      <th>Gender</th>\n",
       "      <th>Neuter_status</th>\n",
       "      <th>Outdoors</th>\n",
       "      <th>Other_cats</th>\n",
       "      <th>Activity_level</th>\n",
       "      <th>Contact_people</th>\n",
       "      <th>Aggression_stranger</th>\n",
       "      <th>Aggression_owner</th>\n",
       "      <th>Aggression_cats</th>\n",
       "      <th>Shyness_novel</th>\n",
       "      <th>Shyness_strangers</th>\n",
       "      <th>Grooming</th>\n",
       "      <th>Wool_sucking</th>\n",
       "    </tr>\n",
       "  </thead>\n",
       "  <tbody>\n",
       "    <tr>\n",
       "      <th>count</th>\n",
       "      <td>5696.000000</td>\n",
       "      <td>5696.000000</td>\n",
       "      <td>5696.000000</td>\n",
       "      <td>5696.000000</td>\n",
       "      <td>5696.000000</td>\n",
       "      <td>5696.000000</td>\n",
       "      <td>5696.000000</td>\n",
       "      <td>5696.000000</td>\n",
       "      <td>5696.000000</td>\n",
       "      <td>5696.000000</td>\n",
       "      <td>5696.000000</td>\n",
       "      <td>5696.000000</td>\n",
       "      <td>5655.000000</td>\n",
       "      <td>5696.000000</td>\n",
       "    </tr>\n",
       "    <tr>\n",
       "      <th>mean</th>\n",
       "      <td>4.752602</td>\n",
       "      <td>1.539326</td>\n",
       "      <td>0.779670</td>\n",
       "      <td>2.547753</td>\n",
       "      <td>0.847788</td>\n",
       "      <td>3.770190</td>\n",
       "      <td>4.088834</td>\n",
       "      <td>1.116397</td>\n",
       "      <td>1.096559</td>\n",
       "      <td>1.583743</td>\n",
       "      <td>2.025632</td>\n",
       "      <td>1.884480</td>\n",
       "      <td>1.794872</td>\n",
       "      <td>0.912395</td>\n",
       "    </tr>\n",
       "    <tr>\n",
       "      <th>std</th>\n",
       "      <td>3.768478</td>\n",
       "      <td>0.498495</td>\n",
       "      <td>0.414506</td>\n",
       "      <td>1.911887</td>\n",
       "      <td>0.359258</td>\n",
       "      <td>0.864699</td>\n",
       "      <td>0.878686</td>\n",
       "      <td>0.418163</td>\n",
       "      <td>0.368394</td>\n",
       "      <td>0.839547</td>\n",
       "      <td>0.996769</td>\n",
       "      <td>1.051775</td>\n",
       "      <td>0.998943</td>\n",
       "      <td>1.544499</td>\n",
       "    </tr>\n",
       "    <tr>\n",
       "      <th>min</th>\n",
       "      <td>0.167100</td>\n",
       "      <td>1.000000</td>\n",
       "      <td>0.000000</td>\n",
       "      <td>0.000000</td>\n",
       "      <td>0.000000</td>\n",
       "      <td>1.000000</td>\n",
       "      <td>1.000000</td>\n",
       "      <td>1.000000</td>\n",
       "      <td>1.000000</td>\n",
       "      <td>1.000000</td>\n",
       "      <td>1.000000</td>\n",
       "      <td>1.000000</td>\n",
       "      <td>1.000000</td>\n",
       "      <td>0.000000</td>\n",
       "    </tr>\n",
       "    <tr>\n",
       "      <th>25%</th>\n",
       "      <td>1.789000</td>\n",
       "      <td>1.000000</td>\n",
       "      <td>1.000000</td>\n",
       "      <td>1.000000</td>\n",
       "      <td>1.000000</td>\n",
       "      <td>3.000000</td>\n",
       "      <td>4.000000</td>\n",
       "      <td>1.000000</td>\n",
       "      <td>1.000000</td>\n",
       "      <td>1.000000</td>\n",
       "      <td>1.000000</td>\n",
       "      <td>1.000000</td>\n",
       "      <td>1.000000</td>\n",
       "      <td>0.000000</td>\n",
       "    </tr>\n",
       "    <tr>\n",
       "      <th>50%</th>\n",
       "      <td>3.886300</td>\n",
       "      <td>2.000000</td>\n",
       "      <td>1.000000</td>\n",
       "      <td>2.000000</td>\n",
       "      <td>1.000000</td>\n",
       "      <td>4.000000</td>\n",
       "      <td>4.000000</td>\n",
       "      <td>1.000000</td>\n",
       "      <td>1.000000</td>\n",
       "      <td>1.000000</td>\n",
       "      <td>2.000000</td>\n",
       "      <td>2.000000</td>\n",
       "      <td>1.000000</td>\n",
       "      <td>0.000000</td>\n",
       "    </tr>\n",
       "    <tr>\n",
       "      <th>75%</th>\n",
       "      <td>6.778100</td>\n",
       "      <td>2.000000</td>\n",
       "      <td>1.000000</td>\n",
       "      <td>5.000000</td>\n",
       "      <td>1.000000</td>\n",
       "      <td>4.000000</td>\n",
       "      <td>5.000000</td>\n",
       "      <td>1.000000</td>\n",
       "      <td>1.000000</td>\n",
       "      <td>2.000000</td>\n",
       "      <td>3.000000</td>\n",
       "      <td>2.000000</td>\n",
       "      <td>3.000000</td>\n",
       "      <td>2.000000</td>\n",
       "    </tr>\n",
       "    <tr>\n",
       "      <th>max</th>\n",
       "      <td>24.811000</td>\n",
       "      <td>2.000000</td>\n",
       "      <td>1.000000</td>\n",
       "      <td>5.000000</td>\n",
       "      <td>1.000000</td>\n",
       "      <td>5.000000</td>\n",
       "      <td>5.000000</td>\n",
       "      <td>5.000000</td>\n",
       "      <td>5.000000</td>\n",
       "      <td>5.000000</td>\n",
       "      <td>5.000000</td>\n",
       "      <td>5.000000</td>\n",
       "      <td>5.000000</td>\n",
       "      <td>7.000000</td>\n",
       "    </tr>\n",
       "  </tbody>\n",
       "</table>\n",
       "</div>"
      ],
      "text/plain": [
       "               Age       Gender  Neuter_status     Outdoors   Other_cats  \\\n",
       "count  5696.000000  5696.000000    5696.000000  5696.000000  5696.000000   \n",
       "mean      4.752602     1.539326       0.779670     2.547753     0.847788   \n",
       "std       3.768478     0.498495       0.414506     1.911887     0.359258   \n",
       "min       0.167100     1.000000       0.000000     0.000000     0.000000   \n",
       "25%       1.789000     1.000000       1.000000     1.000000     1.000000   \n",
       "50%       3.886300     2.000000       1.000000     2.000000     1.000000   \n",
       "75%       6.778100     2.000000       1.000000     5.000000     1.000000   \n",
       "max      24.811000     2.000000       1.000000     5.000000     1.000000   \n",
       "\n",
       "       Activity_level  Contact_people  Aggression_stranger  Aggression_owner  \\\n",
       "count     5696.000000     5696.000000          5696.000000       5696.000000   \n",
       "mean         3.770190        4.088834             1.116397          1.096559   \n",
       "std          0.864699        0.878686             0.418163          0.368394   \n",
       "min          1.000000        1.000000             1.000000          1.000000   \n",
       "25%          3.000000        4.000000             1.000000          1.000000   \n",
       "50%          4.000000        4.000000             1.000000          1.000000   \n",
       "75%          4.000000        5.000000             1.000000          1.000000   \n",
       "max          5.000000        5.000000             5.000000          5.000000   \n",
       "\n",
       "       Aggression_cats  Shyness_novel  Shyness_strangers     Grooming  \\\n",
       "count      5696.000000    5696.000000        5696.000000  5655.000000   \n",
       "mean          1.583743       2.025632           1.884480     1.794872   \n",
       "std           0.839547       0.996769           1.051775     0.998943   \n",
       "min           1.000000       1.000000           1.000000     1.000000   \n",
       "25%           1.000000       1.000000           1.000000     1.000000   \n",
       "50%           1.000000       2.000000           2.000000     1.000000   \n",
       "75%           2.000000       3.000000           2.000000     3.000000   \n",
       "max           5.000000       5.000000           5.000000     5.000000   \n",
       "\n",
       "       Wool_sucking  \n",
       "count   5696.000000  \n",
       "mean       0.912395  \n",
       "std        1.544499  \n",
       "min        0.000000  \n",
       "25%        0.000000  \n",
       "50%        0.000000  \n",
       "75%        2.000000  \n",
       "max        7.000000  "
      ]
     },
     "execution_count": 7,
     "metadata": {},
     "output_type": "execute_result"
    }
   ],
   "source": [
    "cat_data.dropna(subset=['Wool_sucking'], inplace=True)\n",
    "cat_data.describe()"
   ]
  },
  {
   "cell_type": "markdown",
   "id": "ae9fd27d",
   "metadata": {},
   "source": [
    "# <a id='distributions'></a>  4. Distributions, Duplicates, and Outliers, oh my! (spoiler alert: we're keeping all the target feature outliers) "
   ]
  },
  {
   "cell_type": "markdown",
   "id": "90d2c619",
   "metadata": {},
   "source": [
    "## 4.1 Distributions:"
   ]
  },
  {
   "cell_type": "markdown",
   "id": "a40df894",
   "metadata": {},
   "source": [
    "1 = not at all  \n",
    "2 = a little  \n",
    "3 = moderately  \n",
    "4 = a lot  \n",
    "5 = very much  "
   ]
  },
  {
   "cell_type": "code",
   "execution_count": 8,
   "id": "309c90a4",
   "metadata": {
    "scrolled": true
   },
   "outputs": [
    {
     "data": {
      "image/png": "[encoded data removed]",
      "text/plain": [
       "<Figure size 432x288 with 1 Axes>"
      ]
     },
     "metadata": {
      "needs_background": "light"
     },
     "output_type": "display_data"
    },
    {
     "name": "stdout",
     "output_type": "stream",
     "text": [
      "4    0.363940\n",
      "3    0.356039\n",
      "5    0.229635\n",
      "2    0.047753\n",
      "1    0.002633\n",
      "Name: Activity_level, dtype: float64\n"
     ]
    },
    {
     "data": {
      "image/png": "[encoded data removed]",
      "text/plain": [
       "<Figure size 432x288 with 1 Axes>"
      ]
     },
     "metadata": {
      "needs_background": "light"
     },
     "output_type": "display_data"
    },
    {
     "name": "stdout",
     "output_type": "stream",
     "text": [
      "4    0.386236\n",
      "5    0.376053\n",
      "3    0.196980\n",
      "2    0.031952\n",
      "1    0.008778\n",
      "Name: Contact_people, dtype: float64\n"
     ]
    },
    {
     "data": {
      "image/png": "[encoded data removed]",
      "text/plain": [
       "<Figure size 432x288 with 1 Axes>"
      ]
     },
     "metadata": {
      "needs_background": "light"
     },
     "output_type": "display_data"
    },
    {
     "name": "stdout",
     "output_type": "stream",
     "text": [
      "1    0.911341\n",
      "2    0.068294\n",
      "3    0.013869\n",
      "4    0.005618\n",
      "5    0.000878\n",
      "Name: Aggression_stranger, dtype: float64\n"
     ]
    },
    {
     "data": {
      "image/png": "[encoded data removed]",
      "text/plain": [
       "<Figure size 432x288 with 1 Axes>"
      ]
     },
     "metadata": {
      "needs_background": "light"
     },
     "output_type": "display_data"
    },
    {
     "name": "stdout",
     "output_type": "stream",
     "text": [
      "1    0.921699\n",
      "2    0.064958\n",
      "3    0.009480\n",
      "4    0.002809\n",
      "5    0.001053\n",
      "Name: Aggression_owner, dtype: float64\n"
     ]
    },
    {
     "data": {
      "image/png": "[encoded data removed]",
      "text/plain": [
       "<Figure size 432x288 with 1 Axes>"
      ]
     },
     "metadata": {
      "needs_background": "light"
     },
     "output_type": "display_data"
    },
    {
     "name": "stdout",
     "output_type": "stream",
     "text": [
      "1    0.591819\n",
      "2    0.279143\n",
      "3    0.091292\n",
      "4    0.028968\n",
      "5    0.008778\n",
      "Name: Aggression_cats, dtype: float64\n"
     ]
    },
    {
     "data": {
      "image/png": "[encoded data removed]",
      "text/plain": [
       "<Figure size 432x288 with 1 Axes>"
      ]
     },
     "metadata": {
      "needs_background": "light"
     },
     "output_type": "display_data"
    },
    {
     "name": "stdout",
     "output_type": "stream",
     "text": [
      "2    0.387992\n",
      "1    0.349719\n",
      "3    0.170646\n",
      "4    0.070225\n",
      "5    0.021419\n",
      "Name: Shyness_novel, dtype: float64\n"
     ]
    },
    {
     "data": {
      "image/png": "[encoded data removed]",
      "text/plain": [
       "<Figure size 432x288 with 1 Axes>"
      ]
     },
     "metadata": {
      "needs_background": "light"
     },
     "output_type": "display_data"
    },
    {
     "name": "stdout",
     "output_type": "stream",
     "text": [
      "1    0.465590\n",
      "2    0.307760\n",
      "3    0.131671\n",
      "4    0.066538\n",
      "5    0.028441\n",
      "Name: Shyness_strangers, dtype: float64\n"
     ]
    },
    {
     "data": {
      "image/png": "[encoded data removed]",
      "text/plain": [
       "<Figure size 432x288 with 1 Axes>"
      ]
     },
     "metadata": {
      "needs_background": "light"
     },
     "output_type": "display_data"
    },
    {
     "name": "stdout",
     "output_type": "stream",
     "text": [
      "1.0    0.548718\n",
      "3.0    0.226879\n",
      "2.0    0.171176\n",
      "4.0    0.042971\n",
      "5.0    0.010256\n",
      "Name: Grooming, dtype: float64\n"
     ]
    }
   ],
   "source": [
    "# create barcharts for all the 1-5 scaled columns \n",
    "likert_5_columns = ['Activity_level', 'Contact_people', 'Aggression_stranger', \n",
    "                   'Aggression_owner', 'Aggression_cats', 'Shyness_novel', 'Shyness_strangers', 'Grooming']\n",
    "\n",
    "\n",
    "#NOTE: Activity_level was 4th worst/31 predictive features in Cat-pstone 1, we may drop this from the final training set\n",
    "\n",
    "for column in likert_5_columns:\n",
    "    \n",
    "    cat_data[column].value_counts().plot.bar()\n",
    "    \n",
    "    plt.title(column)\n",
    "    \n",
    "    plt.show()\n",
    "    print(cat_data[column].value_counts(normalize=True))"
   ]
  },
  {
   "cell_type": "code",
   "execution_count": 9,
   "id": "eb7331a5",
   "metadata": {},
   "outputs": [
    {
     "data": {
      "image/png": "[encoded data removed]",
      "text/plain": [
       "<Figure size 432x288 with 1 Axes>"
      ]
     },
     "metadata": {
      "needs_background": "light"
     },
     "output_type": "display_data"
    }
   ],
   "source": [
    "# Age, in years\n",
    "# NOTE: Age was 5th worst/31 predictive features in Cat-pstone 1, we may drop this from the final training set\n",
    "cat_data['Age'].hist()\n",
    "plt.title('Age Distribution');"
   ]
  },
  {
   "cell_type": "code",
   "execution_count": 10,
   "id": "1010cd5a",
   "metadata": {},
   "outputs": [
    {
     "data": {
      "text/plain": [
       "2    0.539326\n",
       "1    0.460674\n",
       "Name: Gender, dtype: float64"
      ]
     },
     "execution_count": 10,
     "metadata": {},
     "output_type": "execute_result"
    },
    {
     "data": {
      "image/png": "[encoded data removed]",
      "text/plain": [
       "<Figure size 432x288 with 1 Axes>"
      ]
     },
     "metadata": {
      "needs_background": "light"
     },
     "output_type": "display_data"
    }
   ],
   "source": [
    "# Gender, pretty close to 50/50, 1=male, 2=female\n",
    "# NOTE: Gender was 2nd worst/31 predictive features, may drop from final training set\n",
    "cat_data.Gender.value_counts().plot.bar();\n",
    "cat_data.Gender.value_counts(normalize=True)"
   ]
  },
  {
   "cell_type": "code",
   "execution_count": 11,
   "id": "4e1cf95a",
   "metadata": {},
   "outputs": [
    {
     "data": {
      "text/plain": [
       "1    0.77967\n",
       "0    0.22033\n",
       "Name: Neuter_status, dtype: float64"
      ]
     },
     "execution_count": 11,
     "metadata": {},
     "output_type": "execute_result"
    },
    {
     "data": {
      "image/png": "[encoded data removed]",
      "text/plain": [
       "<Figure size 432x288 with 1 Axes>"
      ]
     },
     "metadata": {
      "needs_background": "light"
     },
     "output_type": "display_data"
    }
   ],
   "source": [
    "# Neuter status, 0=intact, 1=neutered\n",
    "cat_data.Neuter_status.value_counts().plot.bar()\n",
    "cat_data.Neuter_status.value_counts(normalize=True)"
   ]
  },
  {
   "cell_type": "markdown",
   "id": "018f5f7d",
   "metadata": {},
   "source": [
    "Breed_group: ABY = Abyssinian, Somali, and Ocicat BEN = Bengal BRI = British Shorthair BUR = Burmese and Burmilla CRX = Cornish Rex DRX = Devon Rex EUR = European Shorthair HCS = house cat KOR = Korat MCO = Maine Coon NFO = Norwegian Forest Cat ORI = Balinese, Oriental Longhair, Oriental Shorthair, Seychellois Longhair, Seychellois Shorthair, and Siamese PER = Persian and Exotic RAG = Ragdoll RUS = Russian Blue SBI = Saint Birman SIB = Siberian and Neva Masquerade TUV = Turkish Van and Angora other = other breeds"
   ]
  },
  {
   "cell_type": "code",
   "execution_count": 12,
   "id": "8fb0c787",
   "metadata": {},
   "outputs": [
    {
     "data": {
      "text/plain": [
       "HCS      0.146243\n",
       "ABY      0.068645\n",
       "other    0.067767\n",
       "MCO      0.055829\n",
       "RAG      0.053897\n",
       "ORI      0.053897\n",
       "CRX      0.052317\n",
       "SIB      0.051966\n",
       "NFO      0.051966\n",
       "SBI      0.051264\n",
       "BUR      0.048455\n",
       "RUS      0.046875\n",
       "BRI      0.042837\n",
       "PER      0.039677\n",
       "BEN      0.039150\n",
       "DRX      0.037044\n",
       "EUR      0.032303\n",
       "KOR      0.030372\n",
       "TUV      0.029494\n",
       "Name: Breed_group, dtype: float64"
      ]
     },
     "execution_count": 12,
     "metadata": {},
     "output_type": "execute_result"
    },
    {
     "data": {
      "image/png": "[encoded data removed]",
      "text/plain": [
       "<Figure size 432x288 with 1 Axes>"
      ]
     },
     "metadata": {
      "needs_background": "light"
     },
     "output_type": "display_data"
    }
   ],
   "source": [
    "# I am not sure how housecat and other differ\n",
    "cat_data.Breed_group.value_counts().plot.bar()\n",
    "cat_data.Breed_group.value_counts(normalize=True)"
   ]
  },
  {
   "cell_type": "code",
   "execution_count": 13,
   "id": "cc768088",
   "metadata": {},
   "outputs": [
    {
     "data": {
      "text/plain": [
       "5    0.261236\n",
       "1    0.223139\n",
       "0    0.187500\n",
       "4    0.134129\n",
       "2    0.100070\n",
       "3    0.093926\n",
       "Name: Outdoors, dtype: float64"
      ]
     },
     "execution_count": 13,
     "metadata": {},
     "output_type": "execute_result"
    },
    {
     "data": {
      "image/png": "[encoded data removed]",
      "text/plain": [
       "<Figure size 432x288 with 1 Axes>"
      ]
     },
     "metadata": {
      "needs_background": "light"
     },
     "output_type": "display_data"
    }
   ],
   "source": [
    "# outdoors, 0 = never, 1 = few times a year, 2 = 1-2 times a month, 3 = 1-2 times a week, 4 = 3-5 times a week, 5 = daily\n",
    "cat_data.Outdoors.value_counts().plot.bar()\n",
    "cat_data.Outdoors.value_counts(normalize=True)"
   ]
  },
  {
   "cell_type": "code",
   "execution_count": 14,
   "id": "74891d36",
   "metadata": {},
   "outputs": [
    {
     "data": {
      "text/plain": [
       "1    0.847788\n",
       "0    0.152212\n",
       "Name: Other_cats, dtype: float64"
      ]
     },
     "execution_count": 14,
     "metadata": {},
     "output_type": "execute_result"
    },
    {
     "data": {
      "image/png": "[encoded data removed]",
      "text/plain": [
       "<Figure size 432x288 with 1 Axes>"
      ]
     },
     "metadata": {
      "needs_background": "light"
     },
     "output_type": "display_data"
    }
   ],
   "source": [
    "# other cats, Are there other cats in the household? 0 = no, 1 = yes\n",
    "cat_data.Other_cats.value_counts().plot.bar()\n",
    "cat_data.Other_cats.value_counts(normalize=True)"
   ]
  },
  {
   "cell_type": "code",
   "execution_count": 15,
   "id": "9f712668",
   "metadata": {
    "scrolled": true
   },
   "outputs": [
    {
     "data": {
      "text/plain": [
       "0.0    0.683111\n",
       "4.0    0.073912\n",
       "2.0    0.070751\n",
       "3.0    0.066362\n",
       "1.0    0.064607\n",
       "5.0    0.036341\n",
       "6.0    0.004565\n",
       "7.0    0.000351\n",
       "Name: Wool_sucking, dtype: float64"
      ]
     },
     "execution_count": 15,
     "metadata": {},
     "output_type": "execute_result"
    },
    {
     "data": {
      "image/png": "[encoded data removed]",
      "text/plain": [
       "<Figure size 432x288 with 1 Axes>"
      ]
     },
     "metadata": {
      "needs_background": "light"
     },
     "output_type": "display_data"
    }
   ],
   "source": [
    "# wool sucking, 0 = never, 1 = 1-3 times in the cat's lifetime, 2 = 1-12 times a year, 3 = 1-4 times a month\n",
    "# 4 = 1-3 times a week, 5 = daily, 6 = many times per day, 7 = most of the day\n",
    "# NOTE: binarizing due to HUGE class imbalance\n",
    "cat_data.Wool_sucking.value_counts().plot.bar()\n",
    "cat_data.Wool_sucking.value_counts(normalize=True)"
   ]
  },
  {
   "cell_type": "code",
   "execution_count": 16,
   "id": "a10f3fee",
   "metadata": {},
   "outputs": [
    {
     "data": {
      "image/png": "[encoded data removed]",
      "text/plain": [
       "<Figure size 432x288 with 1 Axes>"
      ]
     },
     "metadata": {
      "needs_background": "light"
     },
     "output_type": "display_data"
    }
   ],
   "source": [
    "# slightly less class imbalance and a glimpse of  a chance to actually make this neural network work \n",
    "cat_data['Wool_sucking_binary'] = cat_data['Wool_sucking'].replace([2, 3, 4, 5, 6, 7], [1, 1, 1, 1, 1, 1])\n",
    "\n",
    "cat_data['Wool_sucking_binary'].value_counts().plot.bar()\n",
    "cat_data.Wool_sucking_binary.value_counts(normalize=True)\n",
    "\n",
    "plt.show()"
   ]
  },
  {
   "cell_type": "markdown",
   "id": "ebbb1a93",
   "metadata": {},
   "source": [
    "# <a id='impute'></a>  5. Impute Missing Values (without data leakage!)\n",
    "Technically I introduced a little data leakage in Cat-pstone 1 by imputing missing values prior to splitting my data into training and testing. I don't think the actual value (median) will be different, but for the matter of principle. "
   ]
  },
  {
   "cell_type": "code",
   "execution_count": 17,
   "id": "956f10e5",
   "metadata": {},
   "outputs": [],
   "source": [
    "X = cat_data.drop(columns=['Wool_sucking', 'Wool_sucking_binary'])\n",
    "y = cat_data['Wool_sucking_binary']\n",
    "\n",
    "# remember to use this random state later when splitting and imputing \n",
    "X_train, X_test, y_train, y_test = train_test_split(X, y, test_size=0.3, random_state=42, stratify=y)"
   ]
  },
  {
   "cell_type": "code",
   "execution_count": 18,
   "id": "7d0125f7",
   "metadata": {},
   "outputs": [
    {
     "name": "stdout",
     "output_type": "stream",
     "text": [
      "<class 'pandas.core.frame.DataFrame'>\n",
      "Int64Index: 3987 entries, 4019 to 5240\n",
      "Data columns (total 14 columns):\n",
      " #   Column               Non-Null Count  Dtype  \n",
      "---  ------               --------------  -----  \n",
      " 0   Age                  3987 non-null   float64\n",
      " 1   Gender               3987 non-null   int64  \n",
      " 2   Neuter_status        3987 non-null   int64  \n",
      " 3   Breed_group          3987 non-null   object \n",
      " 4   Outdoors             3987 non-null   int64  \n",
      " 5   Other_cats           3987 non-null   int64  \n",
      " 6   Activity_level       3987 non-null   int64  \n",
      " 7   Contact_people       3987 non-null   int64  \n",
      " 8   Aggression_stranger  3987 non-null   int64  \n",
      " 9   Aggression_owner     3987 non-null   int64  \n",
      " 10  Aggression_cats      3987 non-null   int64  \n",
      " 11  Shyness_novel        3987 non-null   int64  \n",
      " 12  Shyness_strangers    3987 non-null   int64  \n",
      " 13  Grooming             3987 non-null   float64\n",
      "dtypes: float64(2), int64(11), object(1)\n",
      "memory usage: 467.2+ KB\n",
      "None\n",
      "<class 'pandas.core.frame.DataFrame'>\n",
      "Int64Index: 1709 entries, 5049 to 2878\n",
      "Data columns (total 14 columns):\n",
      " #   Column               Non-Null Count  Dtype  \n",
      "---  ------               --------------  -----  \n",
      " 0   Age                  1709 non-null   float64\n",
      " 1   Gender               1709 non-null   int64  \n",
      " 2   Neuter_status        1709 non-null   int64  \n",
      " 3   Breed_group          1709 non-null   object \n",
      " 4   Outdoors             1709 non-null   int64  \n",
      " 5   Other_cats           1709 non-null   int64  \n",
      " 6   Activity_level       1709 non-null   int64  \n",
      " 7   Contact_people       1709 non-null   int64  \n",
      " 8   Aggression_stranger  1709 non-null   int64  \n",
      " 9   Aggression_owner     1709 non-null   int64  \n",
      " 10  Aggression_cats      1709 non-null   int64  \n",
      " 11  Shyness_novel        1709 non-null   int64  \n",
      " 12  Shyness_strangers    1709 non-null   int64  \n",
      " 13  Grooming             1709 non-null   float64\n",
      "dtypes: float64(2), int64(11), object(1)\n",
      "memory usage: 200.3+ KB\n",
      "None\n"
     ]
    }
   ],
   "source": [
    "grooming_median = X_train['Grooming'].median()\n",
    "X_train['Grooming'] = X_train['Grooming'].fillna(grooming_median)\n",
    "X_test['Grooming'] = X_test['Grooming'].fillna(grooming_median)\n",
    "\n",
    "print(X_train.info())\n",
    "print(X_test.info())"
   ]
  },
  {
   "cell_type": "markdown",
   "id": "6551d090",
   "metadata": {},
   "source": [
    "# <a id='correlations'></a>  6. The Correlation Chronicles"
   ]
  },
  {
   "cell_type": "code",
   "execution_count": 19,
   "id": "4d1d8cbc",
   "metadata": {},
   "outputs": [
    {
     "name": "stdout",
     "output_type": "stream",
     "text": [
      "Gender 2.036 0.154\n",
      "Neuter_status 35.031 0.0\n",
      "Breed_group 135.231 0.0\n",
      "Outdoors 47.4 0.0\n",
      "Other_cats 13.329 0.0\n",
      "Activity_level 9.61 0.048\n",
      "Contact_people 9.215 0.056\n",
      "Aggression_stranger 23.093 0.0\n",
      "Aggression_owner 26.147 0.0\n",
      "Aggression_cats 44.449 0.0\n",
      "Shyness_novel 75.755 0.0\n",
      "Shyness_strangers 31.765 0.0\n",
      "Grooming 210.097 0.0\n"
     ]
    }
   ],
   "source": [
    "wool_sucking_corr = {}\n",
    "\n",
    "for column in X_train.drop(columns=['Age']).columns:\n",
    "    cross_tab = pd.crosstab(y_train, X_train[column])\n",
    "    chi2, p_value, _, _ = stats.chi2_contingency(cross_tab)\n",
    "    wool_sucking_corr[column] = (round(chi2, 3), round(p_value,3))\n",
    "    print(column, round(chi2,3), round(p_value,3))    "
   ]
  },
  {
   "cell_type": "code",
   "execution_count": 20,
   "id": "1d074c91",
   "metadata": {},
   "outputs": [
    {
     "name": "stdout",
     "output_type": "stream",
     "text": [
      "Grooming (210.097, 0.0)\n",
      "Breed_group (135.231, 0.0)\n",
      "Shyness_novel (75.755, 0.0)\n",
      "Outdoors (47.4, 0.0)\n",
      "Aggression_cats (44.449, 0.0)\n",
      "Neuter_status (35.031, 0.0)\n",
      "Shyness_strangers (31.765, 0.0)\n",
      "Aggression_owner (26.147, 0.0)\n",
      "Aggression_stranger (23.093, 0.0)\n",
      "Other_cats (13.329, 0.0)\n",
      "Activity_level (9.61, 0.048)\n"
     ]
    }
   ],
   "source": [
    "filtered_wool_corr = {k: v for k, v in wool_sucking_corr.items() if v[1] < 0.05}\n",
    "                                                        # sorting based on first element of the value tuple, reverse=desc\n",
    "sorted_wool_corr = dict(sorted(filtered_wool_corr.items(), key=lambda x: x[1][0], reverse=True))\n",
    "\n",
    "for k, v in sorted_wool_corr.items():\n",
    "    print(k, v)"
   ]
  },
  {
   "cell_type": "code",
   "execution_count": 21,
   "id": "1f7c61e1",
   "metadata": {},
   "outputs": [
    {
     "name": "stdout",
     "output_type": "stream",
     "text": [
      "{'Contact_people', 'Gender'}\n"
     ]
    }
   ],
   "source": [
    "significant_corr_set = set(sorted_wool_corr.keys())\n",
    "wool_sucking_corr_set = set(wool_sucking_corr.keys())\n",
    "\n",
    "result_set = wool_sucking_corr_set - significant_corr_set\n",
    "print(result_set)"
   ]
  },
  {
   "cell_type": "markdown",
   "id": "90ae3076",
   "metadata": {},
   "source": [
    "Contact with people and gender did not make the cut in terms of being correlated with wool sucking, and activity level barely made the cut. I will probably not include these in my final set of predictors. "
   ]
  },
  {
   "cell_type": "code",
   "execution_count": 32,
   "id": "8b4dd601",
   "metadata": {},
   "outputs": [
    {
     "name": "stdout",
     "output_type": "stream",
     "text": [
      "Age -0.061 0.0\n",
      "Outdoors -0.062 0.0\n",
      "Activity_level 0.048 0.003\n",
      "Contact_people 0.042 0.008\n",
      "Aggression_stranger 0.057 0.0\n",
      "Aggression_owner 0.073 0.0\n",
      "Aggression_cats 0.084 0.0\n",
      "Shyness_novel 0.113 0.0\n",
      "Shyness_strangers 0.077 0.0\n",
      "Grooming 0.224 0.0\n"
     ]
    }
   ],
   "source": [
    "# pointbiserial for corr between continuous (we'll treat ordinal as continuous here) and dichotomous\n",
    "wool_sucking_corr2 = {}\n",
    "for column in X_train.drop(columns=['Breed_group', 'Gender', 'Neuter_status', 'Other_cats']).columns:\n",
    "    corr_coef, p_val = stats.pointbiserialr(y_train, X_train[column])\n",
    "    wool_sucking_corr2[column] = (round(corr_coef, 3), round(p_val,3))\n",
    "    print(column, round(corr_coef,3), round(p_val,3))    "
   ]
  },
  {
   "cell_type": "code",
   "execution_count": 33,
   "id": "ebd4a62b",
   "metadata": {},
   "outputs": [
    {
     "name": "stdout",
     "output_type": "stream",
     "text": [
      "Grooming: (0.224, 0.0)\n",
      "Shyness_novel: (0.113, 0.0)\n",
      "Aggression_cats: (0.084, 0.0)\n",
      "Shyness_strangers: (0.077, 0.0)\n",
      "Aggression_owner: (0.073, 0.0)\n",
      "Outdoors: (-0.062, 0.0)\n",
      "Age: (-0.061, 0.0)\n",
      "Aggression_stranger: (0.057, 0.0)\n",
      "Activity_level: (0.048, 0.003)\n",
      "Contact_people: (0.042, 0.008)\n"
     ]
    }
   ],
   "source": [
    "filtered_wool_corr = {k: v for k, v in wool_sucking_corr2.items() if v[1] < 0.05}\n",
    "                                                        # sorting based on first element of the value tuple, reverse=desc\n",
    "sorted_wool_corr = dict(sorted(filtered_wool_corr.items(), key=lambda x: abs(x[1][0]), reverse=True))\n",
    "\n",
    "for k, v in sorted_wool_corr.items():\n",
    "    print(f\"{k}: {v}\")"
   ]
  },
  {
   "cell_type": "markdown",
   "id": "c7865970",
   "metadata": {},
   "source": [
    "Will not be including the following columns, and I'm being far pickier than I was in Cat-pstone 1 because I'm concerned about training time with a neural network with so many inputs on my little machine:\n",
    "* Gender: no seeming correlation between gender and wool_sucking\n",
    "* Age: doesn't seem to be super correlated with wool-sucking, and wasn't very predictive in Cat-pstone 1 \n",
    "* Contact_people: the p-value for this was too high to show a relationship between this and the target feature with this dataset\n",
    "* Activity_level: low predictive power in Cat-pstone 1 and low correlation with target feature based on pointbiserialr\n",
    "* Aggression_stranger: low-ish predictive power in Cat-pstone 1 (although it was aggregated with aggression_owner in that dataset) \n",
    "* Outdoors: low predictive Cat 1, low corr with target\n",
    "* Other_cats: 3rd lowest predictive power in cat 1, low chi2 score with target\n",
    "\n",
    "Might drop even more later depending on training time, anything less than shyness_novel's score will be dropped too. "
   ]
  },
  {
   "cell_type": "markdown",
   "id": "0d8bfae9",
   "metadata": {},
   "source": [
    "# <a id='clean'></a>  7. Clean Data at Your Service: Delivering a Spotless CSV File"
   ]
  },
  {
   "cell_type": "code",
   "execution_count": 35,
   "id": "874ab6d0",
   "metadata": {},
   "outputs": [],
   "source": [
    "# drop all the columns"
   ]
  },
  {
   "cell_type": "code",
   "execution_count": null,
   "id": "6550a621",
   "metadata": {},
   "outputs": [],
   "source": [
    "# save the X and y train/tests to csv "
   ]
  }
 ],
 "metadata": {
  "kernelspec": {
   "display_name": "Python 3 (ipykernel)",
   "language": "python",
   "name": "python3"
  },
  "language_info": {
   "codemirror_mode": {
    "name": "ipython",
    "version": 3
   },
   "file_extension": ".py",
   "mimetype": "text/x-python",
   "name": "python",
   "nbconvert_exporter": "python",
   "pygments_lexer": "ipython3",
   "version": "3.9.12"
  }
 },
 "nbformat": 4,
 "nbformat_minor": 5
}
