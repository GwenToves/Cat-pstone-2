{
 "cells": [
  {
   "cell_type": "code",
   "execution_count": 65,
   "id": "a1fa7743",
   "metadata": {},
   "outputs": [],
   "source": [
    "# should already be activated, but just a reminder where ya are :)  \n",
    "# !conda activate wool_sucking_nn"
   ]
  },
  {
   "cell_type": "code",
   "execution_count": 66,
   "id": "d4af314f",
   "metadata": {},
   "outputs": [],
   "source": [
    "import pandas as pd\n",
    "import numpy as np\n",
    "import matplotlib.pyplot as plt\n",
    "import seaborn as sns\n",
    "from scipy import stats \n",
    "\n",
    "%matplotlib inline"
   ]
  },
  {
   "cell_type": "markdown",
   "id": "b5f7edcc",
   "metadata": {},
   "source": [
    "# Table of Contents:\n",
    "* [1. Import Training and Testing Data](#1data)  \n",
    "    * [1.1 Import `master_scores` and `add_to_master`](#1.1master)  \n",
    "* [2. Tensorflow.Keras Pre-Processing](#2tfprep)  \n",
    "* [3. Modeling with Multilayer Perceptron (MLP)](#3model)  \n",
    "    * [3.1 Plain Jane MLP](#3.1plainjane)  \n",
    "    * [3.2 Adagrad optimizer](#3.2adagrad)  \n",
    "    * [3.3 Scale Standardization](#3.3scaling)  \n",
    "    * [3.4 Playing with # of Nodes](#3.4playing)  \n",
    "    * [3.5 Resampling to deal with class imbalance](#3.5resample)  \n",
    "    * [3.6 MLP without `Grooming` feature](#3.6dropgroom)  \n",
    "* [4. Model Evaluation](#4evaluation)  \n",
    "    * [4.1 Training and Prediction Time Compared to Logistic Regression](#4.1)  \n",
    "    * [4.2 Compare Classification MLP Performance Metrics to Log Reg](#4.2)  \n",
    "        * [4.2.1 Logistic Regression without `Grooming` feature](#4.2.1)  \n",
    "    * [4.3 MLP classification performance on old data (from cat-pstone 1)](#4.3)"
   ]
  },
  {
   "cell_type": "markdown",
   "id": "0ace0a1e",
   "metadata": {},
   "source": [
    "# <a id='1data'></a> 1. Import Training and Testing Data "
   ]
  },
  {
   "cell_type": "code",
   "execution_count": 67,
   "id": "12a43745",
   "metadata": {},
   "outputs": [],
   "source": [
    "# import data\n",
    "excel_file = pd.read_excel('..\\Data\\cleaned_and_split_data.xlsx', sheet_name=None)\n",
    "\n",
    "# Unpack the dataframes into separate variables\n",
    "X_train = excel_file['X_train']\n",
    "X_test = excel_file['X_test']\n",
    "y_train = excel_file['y_train']\n",
    "y_test = excel_file['y_test']"
   ]
  },
  {
   "cell_type": "code",
   "execution_count": 68,
   "id": "3f7a7f7d",
   "metadata": {},
   "outputs": [
    {
     "name": "stdout",
     "output_type": "stream",
     "text": [
      "(3965, 7)\n"
     ]
    },
    {
     "data": {
      "text/html": [
       "<div>\n",
       "<style scoped>\n",
       "    .dataframe tbody tr th:only-of-type {\n",
       "        vertical-align: middle;\n",
       "    }\n",
       "\n",
       "    .dataframe tbody tr th {\n",
       "        vertical-align: top;\n",
       "    }\n",
       "\n",
       "    .dataframe thead th {\n",
       "        text-align: right;\n",
       "    }\n",
       "</style>\n",
       "<table border=\"1\" class=\"dataframe\">\n",
       "  <thead>\n",
       "    <tr style=\"text-align: right;\">\n",
       "      <th></th>\n",
       "      <th>Neuter_status</th>\n",
       "      <th>Breed_group</th>\n",
       "      <th>Aggression_owner</th>\n",
       "      <th>Aggression_cats</th>\n",
       "      <th>Shyness_novel</th>\n",
       "      <th>Shyness_strangers</th>\n",
       "      <th>Grooming</th>\n",
       "    </tr>\n",
       "  </thead>\n",
       "  <tbody>\n",
       "    <tr>\n",
       "      <th>0</th>\n",
       "      <td>1</td>\n",
       "      <td>SIB</td>\n",
       "      <td>1</td>\n",
       "      <td>2</td>\n",
       "      <td>4</td>\n",
       "      <td>4</td>\n",
       "      <td>3</td>\n",
       "    </tr>\n",
       "    <tr>\n",
       "      <th>1</th>\n",
       "      <td>1</td>\n",
       "      <td>HCS</td>\n",
       "      <td>1</td>\n",
       "      <td>2</td>\n",
       "      <td>4</td>\n",
       "      <td>4</td>\n",
       "      <td>2</td>\n",
       "    </tr>\n",
       "    <tr>\n",
       "      <th>2</th>\n",
       "      <td>0</td>\n",
       "      <td>ORI</td>\n",
       "      <td>1</td>\n",
       "      <td>1</td>\n",
       "      <td>1</td>\n",
       "      <td>1</td>\n",
       "      <td>1</td>\n",
       "    </tr>\n",
       "    <tr>\n",
       "      <th>3</th>\n",
       "      <td>1</td>\n",
       "      <td>MCO</td>\n",
       "      <td>1</td>\n",
       "      <td>1</td>\n",
       "      <td>2</td>\n",
       "      <td>2</td>\n",
       "      <td>3</td>\n",
       "    </tr>\n",
       "    <tr>\n",
       "      <th>4</th>\n",
       "      <td>1</td>\n",
       "      <td>HCS</td>\n",
       "      <td>1</td>\n",
       "      <td>1</td>\n",
       "      <td>2</td>\n",
       "      <td>1</td>\n",
       "      <td>2</td>\n",
       "    </tr>\n",
       "  </tbody>\n",
       "</table>\n",
       "</div>"
      ],
      "text/plain": [
       "   Neuter_status Breed_group  Aggression_owner  Aggression_cats  \\\n",
       "0              1         SIB                 1                2   \n",
       "1              1         HCS                 1                2   \n",
       "2              0         ORI                 1                1   \n",
       "3              1         MCO                 1                1   \n",
       "4              1         HCS                 1                1   \n",
       "\n",
       "   Shyness_novel  Shyness_strangers  Grooming  \n",
       "0              4                  4         3  \n",
       "1              4                  4         2  \n",
       "2              1                  1         1  \n",
       "3              2                  2         3  \n",
       "4              2                  1         2  "
      ]
     },
     "execution_count": 68,
     "metadata": {},
     "output_type": "execute_result"
    }
   ],
   "source": [
    "print(X_train.shape)\n",
    "X_train.head()"
   ]
  },
  {
   "cell_type": "code",
   "execution_count": 69,
   "id": "7364d6d3",
   "metadata": {},
   "outputs": [
    {
     "name": "stdout",
     "output_type": "stream",
     "text": [
      "(1700, 7)\n"
     ]
    },
    {
     "data": {
      "text/html": [
       "<div>\n",
       "<style scoped>\n",
       "    .dataframe tbody tr th:only-of-type {\n",
       "        vertical-align: middle;\n",
       "    }\n",
       "\n",
       "    .dataframe tbody tr th {\n",
       "        vertical-align: top;\n",
       "    }\n",
       "\n",
       "    .dataframe thead th {\n",
       "        text-align: right;\n",
       "    }\n",
       "</style>\n",
       "<table border=\"1\" class=\"dataframe\">\n",
       "  <thead>\n",
       "    <tr style=\"text-align: right;\">\n",
       "      <th></th>\n",
       "      <th>Neuter_status</th>\n",
       "      <th>Breed_group</th>\n",
       "      <th>Aggression_owner</th>\n",
       "      <th>Aggression_cats</th>\n",
       "      <th>Shyness_novel</th>\n",
       "      <th>Shyness_strangers</th>\n",
       "      <th>Grooming</th>\n",
       "    </tr>\n",
       "  </thead>\n",
       "  <tbody>\n",
       "    <tr>\n",
       "      <th>0</th>\n",
       "      <td>1</td>\n",
       "      <td>SIB</td>\n",
       "      <td>1</td>\n",
       "      <td>3</td>\n",
       "      <td>3</td>\n",
       "      <td>1</td>\n",
       "      <td>1</td>\n",
       "    </tr>\n",
       "    <tr>\n",
       "      <th>1</th>\n",
       "      <td>1</td>\n",
       "      <td>MCO</td>\n",
       "      <td>1</td>\n",
       "      <td>1</td>\n",
       "      <td>2</td>\n",
       "      <td>1</td>\n",
       "      <td>1</td>\n",
       "    </tr>\n",
       "    <tr>\n",
       "      <th>2</th>\n",
       "      <td>1</td>\n",
       "      <td>RUS</td>\n",
       "      <td>1</td>\n",
       "      <td>1</td>\n",
       "      <td>4</td>\n",
       "      <td>4</td>\n",
       "      <td>1</td>\n",
       "    </tr>\n",
       "    <tr>\n",
       "      <th>3</th>\n",
       "      <td>0</td>\n",
       "      <td>EUR</td>\n",
       "      <td>2</td>\n",
       "      <td>2</td>\n",
       "      <td>2</td>\n",
       "      <td>2</td>\n",
       "      <td>1</td>\n",
       "    </tr>\n",
       "    <tr>\n",
       "      <th>4</th>\n",
       "      <td>1</td>\n",
       "      <td>NFO</td>\n",
       "      <td>1</td>\n",
       "      <td>2</td>\n",
       "      <td>3</td>\n",
       "      <td>2</td>\n",
       "      <td>1</td>\n",
       "    </tr>\n",
       "  </tbody>\n",
       "</table>\n",
       "</div>"
      ],
      "text/plain": [
       "   Neuter_status Breed_group  Aggression_owner  Aggression_cats  \\\n",
       "0              1         SIB                 1                3   \n",
       "1              1         MCO                 1                1   \n",
       "2              1         RUS                 1                1   \n",
       "3              0         EUR                 2                2   \n",
       "4              1         NFO                 1                2   \n",
       "\n",
       "   Shyness_novel  Shyness_strangers  Grooming  \n",
       "0              3                  1         1  \n",
       "1              2                  1         1  \n",
       "2              4                  4         1  \n",
       "3              2                  2         1  \n",
       "4              3                  2         1  "
      ]
     },
     "execution_count": 69,
     "metadata": {},
     "output_type": "execute_result"
    }
   ],
   "source": [
    "print(X_test.shape)\n",
    "X_test.head()"
   ]
  },
  {
   "cell_type": "code",
   "execution_count": 70,
   "id": "ee588efc",
   "metadata": {},
   "outputs": [
    {
     "name": "stdout",
     "output_type": "stream",
     "text": [
      "(3965, 1)\n"
     ]
    },
    {
     "data": {
      "text/html": [
       "<div>\n",
       "<style scoped>\n",
       "    .dataframe tbody tr th:only-of-type {\n",
       "        vertical-align: middle;\n",
       "    }\n",
       "\n",
       "    .dataframe tbody tr th {\n",
       "        vertical-align: top;\n",
       "    }\n",
       "\n",
       "    .dataframe thead th {\n",
       "        text-align: right;\n",
       "    }\n",
       "</style>\n",
       "<table border=\"1\" class=\"dataframe\">\n",
       "  <thead>\n",
       "    <tr style=\"text-align: right;\">\n",
       "      <th></th>\n",
       "      <th>Wool_sucking_binary</th>\n",
       "    </tr>\n",
       "  </thead>\n",
       "  <tbody>\n",
       "    <tr>\n",
       "      <th>0</th>\n",
       "      <td>0</td>\n",
       "    </tr>\n",
       "    <tr>\n",
       "      <th>1</th>\n",
       "      <td>0</td>\n",
       "    </tr>\n",
       "    <tr>\n",
       "      <th>2</th>\n",
       "      <td>0</td>\n",
       "    </tr>\n",
       "    <tr>\n",
       "      <th>3</th>\n",
       "      <td>0</td>\n",
       "    </tr>\n",
       "    <tr>\n",
       "      <th>4</th>\n",
       "      <td>0</td>\n",
       "    </tr>\n",
       "  </tbody>\n",
       "</table>\n",
       "</div>"
      ],
      "text/plain": [
       "   Wool_sucking_binary\n",
       "0                    0\n",
       "1                    0\n",
       "2                    0\n",
       "3                    0\n",
       "4                    0"
      ]
     },
     "execution_count": 70,
     "metadata": {},
     "output_type": "execute_result"
    }
   ],
   "source": [
    "print(y_train.shape)\n",
    "y_train.head()"
   ]
  },
  {
   "cell_type": "code",
   "execution_count": 71,
   "id": "71b7dd12",
   "metadata": {},
   "outputs": [
    {
     "name": "stdout",
     "output_type": "stream",
     "text": [
      "(1700, 1)\n"
     ]
    },
    {
     "data": {
      "text/html": [
       "<div>\n",
       "<style scoped>\n",
       "    .dataframe tbody tr th:only-of-type {\n",
       "        vertical-align: middle;\n",
       "    }\n",
       "\n",
       "    .dataframe tbody tr th {\n",
       "        vertical-align: top;\n",
       "    }\n",
       "\n",
       "    .dataframe thead th {\n",
       "        text-align: right;\n",
       "    }\n",
       "</style>\n",
       "<table border=\"1\" class=\"dataframe\">\n",
       "  <thead>\n",
       "    <tr style=\"text-align: right;\">\n",
       "      <th></th>\n",
       "      <th>Wool_sucking_binary</th>\n",
       "    </tr>\n",
       "  </thead>\n",
       "  <tbody>\n",
       "    <tr>\n",
       "      <th>0</th>\n",
       "      <td>1</td>\n",
       "    </tr>\n",
       "    <tr>\n",
       "      <th>1</th>\n",
       "      <td>1</td>\n",
       "    </tr>\n",
       "    <tr>\n",
       "      <th>2</th>\n",
       "      <td>1</td>\n",
       "    </tr>\n",
       "    <tr>\n",
       "      <th>3</th>\n",
       "      <td>0</td>\n",
       "    </tr>\n",
       "    <tr>\n",
       "      <th>4</th>\n",
       "      <td>1</td>\n",
       "    </tr>\n",
       "  </tbody>\n",
       "</table>\n",
       "</div>"
      ],
      "text/plain": [
       "   Wool_sucking_binary\n",
       "0                    1\n",
       "1                    1\n",
       "2                    1\n",
       "3                    0\n",
       "4                    1"
      ]
     },
     "execution_count": 71,
     "metadata": {},
     "output_type": "execute_result"
    }
   ],
   "source": [
    "print(y_test.shape)\n",
    "y_test.head()"
   ]
  },
  {
   "cell_type": "markdown",
   "id": "d53267c9",
   "metadata": {},
   "source": [
    "## <a id='1.1master'></a>1.1 Create `master_scores` and `add_to_master`"
   ]
  },
  {
   "cell_type": "code",
   "execution_count": 72,
   "id": "44abc6a0",
   "metadata": {},
   "outputs": [],
   "source": [
    "# dataframe for scores amongst models\n",
    "master_scores = pd.DataFrame(columns=['Model','Recall', 'F1', 'Precision', 'Accuracy'])"
   ]
  },
  {
   "cell_type": "code",
   "execution_count": 73,
   "id": "0be17a6c",
   "metadata": {},
   "outputs": [],
   "source": [
    "# add_to_master(model_description, y_true, y_predicted, binary=True)\n",
    "def add_to_master(model_description, y_test, y_pred, binary=True):\n",
    "    '''\n",
    "    Adds a new row to the running score DataFrame `master_scores` \n",
    "    and functions for adding both binary and multiclass scores. \n",
    "    '''\n",
    "    global master_scores\n",
    "    if binary == True:\n",
    "        # Evalution Metrics\n",
    "        accuracy = accuracy_score(y_test, y_pred)\n",
    "        precision = precision_score(y_test, y_pred)\n",
    "        recall = recall_score(y_test, y_pred)\n",
    "        f1 = f1_score(y_test, y_pred)\n",
    "\n",
    "        # add to master_scores\n",
    "        new_row = {\n",
    "            'Model': model_description,\n",
    "            'Recall': round(recall,3), \n",
    "            'F1': round(f1, 3), \n",
    "            'Precision': round(precision, 3), \n",
    "            'Accuracy': round(accuracy, 3)}\n",
    "        \n",
    "        master_scores = master_scores.append(new_row, ignore_index=True)   \n",
    "    \n",
    "    else:\n",
    "        accuracy = accuracy_score(y_test, y_pred)\n",
    "        precision = precision_score(y_test, y_pred, average='macro') # I chose macro since we have less of the sucklers \n",
    "        recall = recall_score(y_test, y_pred, average='macro')       # and I want their accuracy to be meaningful\n",
    "        f1 = f1_score(y_test, y_pred, average='macro')\n",
    "\n",
    "\n",
    "        # add to master_scores\n",
    "        new_row = {\n",
    "            'Model': model_description,\n",
    "            'Recall': round(recall,3), \n",
    "            'F1': round(f1, 3), \n",
    "            'Precision': round(precision, 3), \n",
    "            'Accuracy': round(accuracy, 3)}\n",
    "        master_scores = master_scores.append(new_row, ignore_index=True)\n",
    "    return master_scores"
   ]
  },
  {
   "cell_type": "markdown",
   "id": "a1ccdddd",
   "metadata": {},
   "source": [
    "# <a id='2tfprep'></a> 2. Prep for tensorflow.keras"
   ]
  },
  {
   "cell_type": "code",
   "execution_count": 74,
   "id": "6dda99af",
   "metadata": {},
   "outputs": [],
   "source": [
    "import tensorflow as tf\n",
    "from tensorflow import keras\n",
    "from sklearn.metrics import accuracy_score,precision_score, recall_score, f1_score, confusion_matrix, ConfusionMatrixDisplay\n",
    "from sklearn.preprocessing import StandardScaler\n",
    "# for reproducibility \n",
    "tf.random.set_seed(42)\n",
    "np.random.seed(42)"
   ]
  },
  {
   "cell_type": "code",
   "execution_count": 75,
   "id": "69c582e6",
   "metadata": {},
   "outputs": [],
   "source": [
    "# one-hot breed \n",
    "X_train_encoded = pd.get_dummies(X_train, columns=['Breed_group'])\n",
    "X_test_encoded = pd.get_dummies(X_test, columns=['Breed_group'])"
   ]
  },
  {
   "cell_type": "code",
   "execution_count": 76,
   "id": "79a5eb7d",
   "metadata": {},
   "outputs": [
    {
     "data": {
      "text/plain": [
       "Index(['Neuter_status', 'Aggression_owner', 'Aggression_cats', 'Shyness_novel',\n",
       "       'Shyness_strangers', 'Grooming', 'Breed_group_ABY', 'Breed_group_BEN',\n",
       "       'Breed_group_BRI', 'Breed_group_BUR', 'Breed_group_CRX',\n",
       "       'Breed_group_DRX', 'Breed_group_EUR', 'Breed_group_HCS',\n",
       "       'Breed_group_KOR', 'Breed_group_MCO', 'Breed_group_NFO',\n",
       "       'Breed_group_ORI', 'Breed_group_PER', 'Breed_group_RAG',\n",
       "       'Breed_group_RUS', 'Breed_group_SBI', 'Breed_group_SIB',\n",
       "       'Breed_group_TUV', 'Breed_group_other'],\n",
       "      dtype='object')"
      ]
     },
     "execution_count": 76,
     "metadata": {},
     "output_type": "execute_result"
    }
   ],
   "source": [
    "X_train_encoded.columns"
   ]
  },
  {
   "cell_type": "markdown",
   "id": "6d74e784",
   "metadata": {},
   "source": [
    "# <a id='3model'></a> 3. MLP Modeling"
   ]
  },
  {
   "cell_type": "markdown",
   "id": "83911f9b",
   "metadata": {},
   "source": [
    "## <a id='3.1plainjane'></a> 3.1 Plain Jane"
   ]
  },
  {
   "cell_type": "code",
   "execution_count": 13,
   "id": "0f2ebb7b",
   "metadata": {},
   "outputs": [],
   "source": [
    "model = keras.Sequential([\n",
    "    keras.layers.Dense(64, activation='relu', input_shape=(len(X_train_encoded.columns),)),\n",
    "    keras.layers.Dense(64, activation='relu'),\n",
    "    keras.layers.Dense(1, activation='sigmoid')\n",
    "])"
   ]
  },
  {
   "cell_type": "code",
   "execution_count": 14,
   "id": "2aaefc0a",
   "metadata": {},
   "outputs": [],
   "source": [
    "# for some reason this isn't built in and needs to be formally declared \n",
    "def recall(y_true, y_pred):\n",
    "    true_positives = tf.keras.backend.sum(tf.keras.backend.round(tf.keras.backend.clip(y_true * y_pred, 0, 1)))\n",
    "    possible_positives = tf.keras.backend.sum(tf.keras.backend.round(tf.keras.backend.clip(y_true, 0, 1)))\n",
    "    recall = true_positives / (possible_positives + tf.keras.backend.epsilon())\n",
    "    return recall\n",
    "\n",
    "tf.keras.utils.get_custom_objects()['recall'] = recall"
   ]
  },
  {
   "cell_type": "code",
   "execution_count": 15,
   "id": "d370e07e",
   "metadata": {},
   "outputs": [],
   "source": [
    "model.compile(optimizer='adam', \n",
    "             loss='binary_crossentropy',\n",
    "             metrics=['accuracy', 'recall'])"
   ]
  },
  {
   "cell_type": "code",
   "execution_count": 16,
   "id": "02523520",
   "metadata": {},
   "outputs": [
    {
     "name": "stdout",
     "output_type": "stream",
     "text": [
      "Epoch 1/10\n",
      "124/124 [==============================] - 1s 941us/step - loss: 0.6271 - accuracy: 0.6840 - recall: 0.0146\n",
      "Epoch 2/10\n",
      "124/124 [==============================] - 0s 900us/step - loss: 0.6053 - accuracy: 0.6878 - recall: 0.1251\n",
      "Epoch 3/10\n",
      "124/124 [==============================] - 0s 916us/step - loss: 0.5971 - accuracy: 0.6946 - recall: 0.1897\n",
      "Epoch 4/10\n",
      "124/124 [==============================] - 0s 949us/step - loss: 0.5924 - accuracy: 0.6910 - recall: 0.1609\n",
      "Epoch 5/10\n",
      "124/124 [==============================] - 0s 908us/step - loss: 0.5887 - accuracy: 0.6976 - recall: 0.1798\n",
      "Epoch 6/10\n",
      "124/124 [==============================] - 0s 916us/step - loss: 0.5870 - accuracy: 0.6943 - recall: 0.2089\n",
      "Epoch 7/10\n",
      "124/124 [==============================] - 0s 933us/step - loss: 0.5849 - accuracy: 0.6943 - recall: 0.2139\n",
      "Epoch 8/10\n",
      "124/124 [==============================] - 0s 916us/step - loss: 0.5803 - accuracy: 0.6984 - recall: 0.1951\n",
      "Epoch 9/10\n",
      "124/124 [==============================] - 0s 908us/step - loss: 0.5789 - accuracy: 0.7001 - recall: 0.1972\n",
      "Epoch 10/10\n",
      "124/124 [==============================] - 0s 933us/step - loss: 0.5765 - accuracy: 0.6989 - recall: 0.2176\n"
     ]
    },
    {
     "data": {
      "text/plain": [
       "<keras.callbacks.History at 0x1ca334be370>"
      ]
     },
     "execution_count": 16,
     "metadata": {},
     "output_type": "execute_result"
    }
   ],
   "source": [
    "model.fit(X_train_encoded, y_train, epochs=10, batch_size=32)"
   ]
  },
  {
   "cell_type": "code",
   "execution_count": 17,
   "id": "472c8352",
   "metadata": {},
   "outputs": [
    {
     "name": "stdout",
     "output_type": "stream",
     "text": [
      "54/54 [==============================] - 0s 828us/step - loss: 0.5872 - accuracy: 0.6876 - recall: 0.2124\n",
      "Test Accuracy: 0.6876470446586609\n",
      "Test Loss: 0.587166428565979\n",
      "Test Recall: 0.2123861312866211\n"
     ]
    }
   ],
   "source": [
    "test_loss, test_acc, test_recall = model.evaluate(X_test_encoded, y_test)\n",
    "print('Test Accuracy:', test_acc)\n",
    "print('Test Loss:', test_loss)\n",
    "print('Test Recall:', test_recall)"
   ]
  },
  {
   "cell_type": "code",
   "execution_count": 18,
   "id": "cb7c6f7e",
   "metadata": {},
   "outputs": [
    {
     "name": "stdout",
     "output_type": "stream",
     "text": [
      "54/54 [==============================] - 0s 715us/step\n"
     ]
    },
    {
     "name": "stderr",
     "output_type": "stream",
     "text": [
      "C:\\Users\\gwent\\AppData\\Local\\Temp\\ipykernel_27636\\1005917253.py:23: FutureWarning: The frame.append method is deprecated and will be removed from pandas in a future version. Use pandas.concat instead.\n",
      "  master_scores = master_scores.append(new_row, ignore_index=True)\n"
     ]
    },
    {
     "data": {
      "text/plain": [
       "array([[1049,  110],\n",
       "       [ 421,  120]], dtype=int64)"
      ]
     },
     "execution_count": 18,
     "metadata": {},
     "output_type": "execute_result"
    }
   ],
   "source": [
    "y_pred = model.predict(X_test_encoded)\n",
    "y_pred = np.round(y_pred).astype(int)\n",
    "\n",
    "cm = confusion_matrix(y_test, y_pred)\n",
    "# add_to_master(model_description, y_true, y_predicted, binary=True)\n",
    "add_to_master(\"1 hidden, 64 nodes per, adam\", y_test, y_pred)\n",
    "cm"
   ]
  },
  {
   "cell_type": "code",
   "execution_count": 19,
   "id": "5431d1f6",
   "metadata": {},
   "outputs": [
    {
     "data": {
      "text/html": [
       "<div>\n",
       "<style scoped>\n",
       "    .dataframe tbody tr th:only-of-type {\n",
       "        vertical-align: middle;\n",
       "    }\n",
       "\n",
       "    .dataframe tbody tr th {\n",
       "        vertical-align: top;\n",
       "    }\n",
       "\n",
       "    .dataframe thead th {\n",
       "        text-align: right;\n",
       "    }\n",
       "</style>\n",
       "<table border=\"1\" class=\"dataframe\">\n",
       "  <thead>\n",
       "    <tr style=\"text-align: right;\">\n",
       "      <th></th>\n",
       "      <th>Model</th>\n",
       "      <th>Recall</th>\n",
       "      <th>F1</th>\n",
       "      <th>Precision</th>\n",
       "      <th>Accuracy</th>\n",
       "    </tr>\n",
       "  </thead>\n",
       "  <tbody>\n",
       "    <tr>\n",
       "      <th>0</th>\n",
       "      <td>1 hidden, 64 nodes per, adam</td>\n",
       "      <td>0.222</td>\n",
       "      <td>0.311</td>\n",
       "      <td>0.522</td>\n",
       "      <td>0.688</td>\n",
       "    </tr>\n",
       "  </tbody>\n",
       "</table>\n",
       "</div>"
      ],
      "text/plain": [
       "                          Model  Recall     F1  Precision  Accuracy\n",
       "0  1 hidden, 64 nodes per, adam   0.222  0.311      0.522     0.688"
      ]
     },
     "execution_count": 19,
     "metadata": {},
     "output_type": "execute_result"
    }
   ],
   "source": [
    "master_scores"
   ]
  },
  {
   "cell_type": "markdown",
   "id": "e659e48e",
   "metadata": {},
   "source": [
    "## <a id='3.2adagrad'></a> 3.2 Adagrad optimizer"
   ]
  },
  {
   "cell_type": "code",
   "execution_count": 20,
   "id": "c8b1639f",
   "metadata": {},
   "outputs": [],
   "source": [
    "model2 = keras.Sequential([\n",
    "    keras.layers.Dense(64, activation='relu', input_shape=(len(X_train_encoded.columns),)),\n",
    "    keras.layers.Dense(64, activation='relu'),\n",
    "    keras.layers.Dense(1, activation='sigmoid')\n",
    "])"
   ]
  },
  {
   "cell_type": "code",
   "execution_count": 21,
   "id": "6c14f69f",
   "metadata": {},
   "outputs": [],
   "source": [
    "# Adagrad better for when feataures vary in magnitude and frequency \n",
    "optimizer = tf.keras.optimizers.Adagrad(learning_rate=0.01)\n",
    "model2.compile(optimizer=optimizer, \n",
    "             loss='binary_crossentropy',\n",
    "             metrics=['accuracy', 'recall'])"
   ]
  },
  {
   "cell_type": "code",
   "execution_count": 22,
   "id": "2238ef2d",
   "metadata": {},
   "outputs": [
    {
     "name": "stdout",
     "output_type": "stream",
     "text": [
      "Epoch 1/10\n",
      "124/124 [==============================] - 0s 949us/step - loss: 0.6351 - accuracy: 0.6797 - recall: 0.0064\n",
      "Epoch 2/10\n",
      "124/124 [==============================] - 0s 957us/step - loss: 0.6233 - accuracy: 0.6817 - recall: 0.0127\n",
      "Epoch 3/10\n",
      "124/124 [==============================] - 0s 965us/step - loss: 0.6163 - accuracy: 0.6832 - recall: 0.0448\n",
      "Epoch 4/10\n",
      "124/124 [==============================] - 0s 916us/step - loss: 0.6120 - accuracy: 0.6880 - recall: 0.0536\n",
      "Epoch 5/10\n",
      "124/124 [==============================] - 0s 908us/step - loss: 0.6085 - accuracy: 0.6908 - recall: 0.0705\n",
      "Epoch 6/10\n",
      "124/124 [==============================] - 0s 900us/step - loss: 0.6055 - accuracy: 0.6852 - recall: 0.0877\n",
      "Epoch 7/10\n",
      "124/124 [==============================] - 0s 876us/step - loss: 0.6032 - accuracy: 0.6865 - recall: 0.0932\n",
      "Epoch 8/10\n",
      "124/124 [==============================] - 0s 827us/step - loss: 0.6014 - accuracy: 0.6875 - recall: 0.0939\n",
      "Epoch 9/10\n",
      "124/124 [==============================] - 0s 860us/step - loss: 0.5983 - accuracy: 0.6926 - recall: 0.1242\n",
      "Epoch 10/10\n",
      "124/124 [==============================] - 0s 876us/step - loss: 0.5977 - accuracy: 0.6890 - recall: 0.1089\n"
     ]
    },
    {
     "data": {
      "text/plain": [
       "<keras.callbacks.History at 0x1ca35a99df0>"
      ]
     },
     "execution_count": 22,
     "metadata": {},
     "output_type": "execute_result"
    }
   ],
   "source": [
    "model2.fit(X_train_encoded, y_train, epochs=10, batch_size=32)"
   ]
  },
  {
   "cell_type": "code",
   "execution_count": 23,
   "id": "df69d4da",
   "metadata": {},
   "outputs": [
    {
     "name": "stdout",
     "output_type": "stream",
     "text": [
      "54/54 [==============================] - 0s 753us/step - loss: 0.5997 - accuracy: 0.6835 - recall: 0.1529\n",
      "Test Accuracy: 0.6835294365882874\n",
      "Test Loss: 0.59971684217453\n",
      "Test Recall: 0.15287917852401733\n"
     ]
    }
   ],
   "source": [
    "test_loss, test_acc, test_recall = model2.evaluate(X_test_encoded, y_test)\n",
    "print('Test Accuracy:', test_acc)\n",
    "print('Test Loss:', test_loss)\n",
    "print('Test Recall:', test_recall)"
   ]
  },
  {
   "cell_type": "code",
   "execution_count": 24,
   "id": "9aed1137",
   "metadata": {},
   "outputs": [
    {
     "name": "stdout",
     "output_type": "stream",
     "text": [
      "54/54 [==============================] - 0s 621us/step\n"
     ]
    },
    {
     "name": "stderr",
     "output_type": "stream",
     "text": [
      "C:\\Users\\gwent\\AppData\\Local\\Temp\\ipykernel_27636\\1005917253.py:23: FutureWarning: The frame.append method is deprecated and will be removed from pandas in a future version. Use pandas.concat instead.\n",
      "  master_scores = master_scores.append(new_row, ignore_index=True)\n"
     ]
    },
    {
     "data": {
      "text/plain": [
       "array([[1076,   83],\n",
       "       [ 455,   86]], dtype=int64)"
      ]
     },
     "execution_count": 24,
     "metadata": {},
     "output_type": "execute_result"
    }
   ],
   "source": [
    "y_pred = model2.predict(X_test_encoded)\n",
    "y_pred = np.round(y_pred).astype(int)\n",
    "\n",
    "cm = confusion_matrix(y_test, y_pred)\n",
    "add_to_master(\"1 hidden, 64 nodes per, adagrad\", y_test, y_pred)\n",
    "cm"
   ]
  },
  {
   "cell_type": "markdown",
   "id": "19631b6e",
   "metadata": {},
   "source": [
    "## <a id='3.3scaling'></a> 3.3 Does scaling help anything"
   ]
  },
  {
   "cell_type": "code",
   "execution_count": 25,
   "id": "60dcdda8",
   "metadata": {},
   "outputs": [
    {
     "data": {
      "text/html": [
       "<style>#sk-container-id-1 {color: black;background-color: white;}#sk-container-id-1 pre{padding: 0;}#sk-container-id-1 div.sk-toggleable {background-color: white;}#sk-container-id-1 label.sk-toggleable__label {cursor: pointer;display: block;width: 100%;margin-bottom: 0;padding: 0.3em;box-sizing: border-box;text-align: center;}#sk-container-id-1 label.sk-toggleable__label-arrow:before {content: \"▸\";float: left;margin-right: 0.25em;color: #696969;}#sk-container-id-1 label.sk-toggleable__label-arrow:hover:before {color: black;}#sk-container-id-1 div.sk-estimator:hover label.sk-toggleable__label-arrow:before {color: black;}#sk-container-id-1 div.sk-toggleable__content {max-height: 0;max-width: 0;overflow: hidden;text-align: left;background-color: #f0f8ff;}#sk-container-id-1 div.sk-toggleable__content pre {margin: 0.2em;color: black;border-radius: 0.25em;background-color: #f0f8ff;}#sk-container-id-1 input.sk-toggleable__control:checked~div.sk-toggleable__content {max-height: 200px;max-width: 100%;overflow: auto;}#sk-container-id-1 input.sk-toggleable__control:checked~label.sk-toggleable__label-arrow:before {content: \"▾\";}#sk-container-id-1 div.sk-estimator input.sk-toggleable__control:checked~label.sk-toggleable__label {background-color: #d4ebff;}#sk-container-id-1 div.sk-label input.sk-toggleable__control:checked~label.sk-toggleable__label {background-color: #d4ebff;}#sk-container-id-1 input.sk-hidden--visually {border: 0;clip: rect(1px 1px 1px 1px);clip: rect(1px, 1px, 1px, 1px);height: 1px;margin: -1px;overflow: hidden;padding: 0;position: absolute;width: 1px;}#sk-container-id-1 div.sk-estimator {font-family: monospace;background-color: #f0f8ff;border: 1px dotted black;border-radius: 0.25em;box-sizing: border-box;margin-bottom: 0.5em;}#sk-container-id-1 div.sk-estimator:hover {background-color: #d4ebff;}#sk-container-id-1 div.sk-parallel-item::after {content: \"\";width: 100%;border-bottom: 1px solid gray;flex-grow: 1;}#sk-container-id-1 div.sk-label:hover label.sk-toggleable__label {background-color: #d4ebff;}#sk-container-id-1 div.sk-serial::before {content: \"\";position: absolute;border-left: 1px solid gray;box-sizing: border-box;top: 0;bottom: 0;left: 50%;z-index: 0;}#sk-container-id-1 div.sk-serial {display: flex;flex-direction: column;align-items: center;background-color: white;padding-right: 0.2em;padding-left: 0.2em;position: relative;}#sk-container-id-1 div.sk-item {position: relative;z-index: 1;}#sk-container-id-1 div.sk-parallel {display: flex;align-items: stretch;justify-content: center;background-color: white;position: relative;}#sk-container-id-1 div.sk-item::before, #sk-container-id-1 div.sk-parallel-item::before {content: \"\";position: absolute;border-left: 1px solid gray;box-sizing: border-box;top: 0;bottom: 0;left: 50%;z-index: -1;}#sk-container-id-1 div.sk-parallel-item {display: flex;flex-direction: column;z-index: 1;position: relative;background-color: white;}#sk-container-id-1 div.sk-parallel-item:first-child::after {align-self: flex-end;width: 50%;}#sk-container-id-1 div.sk-parallel-item:last-child::after {align-self: flex-start;width: 50%;}#sk-container-id-1 div.sk-parallel-item:only-child::after {width: 0;}#sk-container-id-1 div.sk-dashed-wrapped {border: 1px dashed gray;margin: 0 0.4em 0.5em 0.4em;box-sizing: border-box;padding-bottom: 0.4em;background-color: white;}#sk-container-id-1 div.sk-label label {font-family: monospace;font-weight: bold;display: inline-block;line-height: 1.2em;}#sk-container-id-1 div.sk-label-container {text-align: center;}#sk-container-id-1 div.sk-container {/* jupyter's `normalize.less` sets `[hidden] { display: none; }` but bootstrap.min.css set `[hidden] { display: none !important; }` so we also need the `!important` here to be able to override the default hidden behavior on the sphinx rendered scikit-learn.org. See: https://github.com/scikit-learn/scikit-learn/issues/21755 */display: inline-block !important;position: relative;}#sk-container-id-1 div.sk-text-repr-fallback {display: none;}</style><div id=\"sk-container-id-1\" class=\"sk-top-container\"><div class=\"sk-text-repr-fallback\"><pre>StandardScaler()</pre><b>In a Jupyter environment, please rerun this cell to show the HTML representation or trust the notebook. <br />On GitHub, the HTML representation is unable to render, please try loading this page with nbviewer.org.</b></div><div class=\"sk-container\" hidden><div class=\"sk-item\"><div class=\"sk-estimator sk-toggleable\"><input class=\"sk-toggleable__control sk-hidden--visually\" id=\"sk-estimator-id-1\" type=\"checkbox\" checked><label for=\"sk-estimator-id-1\" class=\"sk-toggleable__label sk-toggleable__label-arrow\">StandardScaler</label><div class=\"sk-toggleable__content\"><pre>StandardScaler()</pre></div></div></div></div></div>"
      ],
      "text/plain": [
       "StandardScaler()"
      ]
     },
     "execution_count": 25,
     "metadata": {},
     "output_type": "execute_result"
    }
   ],
   "source": [
    "scaler = StandardScaler()\n",
    "scaler.fit(X_train_encoded)"
   ]
  },
  {
   "cell_type": "code",
   "execution_count": 26,
   "id": "0ef18545",
   "metadata": {},
   "outputs": [],
   "source": [
    "X_train_scaled_encoded = scaler.transform(X_train_encoded)\n",
    "X_test_scaled_encoded = scaler.transform(X_test_encoded)"
   ]
  },
  {
   "cell_type": "code",
   "execution_count": 27,
   "id": "bccddabe",
   "metadata": {},
   "outputs": [
    {
     "data": {
      "text/plain": [
       "(3965, 25)"
      ]
     },
     "execution_count": 27,
     "metadata": {},
     "output_type": "execute_result"
    }
   ],
   "source": [
    "X_train_scaled_encoded.shape"
   ]
  },
  {
   "cell_type": "code",
   "execution_count": 28,
   "id": "a18c4782",
   "metadata": {
    "scrolled": true
   },
   "outputs": [
    {
     "name": "stdout",
     "output_type": "stream",
     "text": [
      "Epoch 1/10\n",
      "124/124 [==============================] - 0s 868us/step - loss: 0.6049 - accuracy: 0.6812 - recall: 0.0950\n",
      "Epoch 2/10\n",
      "124/124 [==============================] - 0s 876us/step - loss: 0.5888 - accuracy: 0.6875 - recall: 0.1666\n",
      "Epoch 3/10\n",
      "124/124 [==============================] - 0s 900us/step - loss: 0.5831 - accuracy: 0.6946 - recall: 0.2208\n",
      "Epoch 4/10\n",
      "124/124 [==============================] - 0s 900us/step - loss: 0.5807 - accuracy: 0.6956 - recall: 0.1838\n",
      "Epoch 5/10\n",
      "124/124 [==============================] - 0s 933us/step - loss: 0.5747 - accuracy: 0.7021 - recall: 0.2079\n",
      "Epoch 6/10\n",
      "124/124 [==============================] - 0s 973us/step - loss: 0.5746 - accuracy: 0.7021 - recall: 0.2217\n",
      "Epoch 7/10\n",
      "124/124 [==============================] - 0s 924us/step - loss: 0.5724 - accuracy: 0.7019 - recall: 0.2402\n",
      "Epoch 8/10\n",
      "124/124 [==============================] - 0s 957us/step - loss: 0.5695 - accuracy: 0.7125 - recall: 0.2447\n",
      "Epoch 9/10\n",
      "124/124 [==============================] - 0s 900us/step - loss: 0.5670 - accuracy: 0.7079 - recall: 0.2042\n",
      "Epoch 10/10\n",
      "124/124 [==============================] - 0s 933us/step - loss: 0.5634 - accuracy: 0.7090 - recall: 0.2453\n",
      "54/54 [==============================] - 0s 772us/step - loss: 0.5949 - accuracy: 0.6694 - recall: 0.2555\n",
      "Test Accuracy: 0.6694117784500122\n",
      "Test Loss: 0.5948532223701477\n",
      "Test Recall: 0.25548699498176575\n",
      "54/54 [==============================] - 0s 583us/step\n"
     ]
    },
    {
     "name": "stderr",
     "output_type": "stream",
     "text": [
      "C:\\Users\\gwent\\AppData\\Local\\Temp\\ipykernel_27636\\1005917253.py:23: FutureWarning: The frame.append method is deprecated and will be removed from pandas in a future version. Use pandas.concat instead.\n",
      "  master_scores = master_scores.append(new_row, ignore_index=True)\n"
     ]
    },
    {
     "data": {
      "text/plain": [
       "array([[992, 167],\n",
       "       [395, 146]], dtype=int64)"
      ]
     },
     "execution_count": 28,
     "metadata": {},
     "output_type": "execute_result"
    }
   ],
   "source": [
    "# Plain Jane + scaled\n",
    "model3 = keras.Sequential([\n",
    "    keras.layers.Dense(64, activation='relu', input_shape=(25,)),\n",
    "    keras.layers.Dense(64, activation='relu'),\n",
    "    keras.layers.Dense(1, activation='sigmoid')\n",
    "])\n",
    "\n",
    "model3.compile(optimizer='adam', \n",
    "             loss='binary_crossentropy',\n",
    "             metrics=['accuracy', 'recall'])\n",
    "\n",
    "model3.fit(X_train_scaled_encoded, y_train, epochs=10, batch_size=32)\n",
    "\n",
    "test_loss, test_acc, test_recall = model3.evaluate(X_test_scaled_encoded, y_test)\n",
    "print('Test Accuracy:', test_acc)\n",
    "print('Test Loss:', test_loss)\n",
    "print('Test Recall:', test_recall)\n",
    "\n",
    "y_pred = model3.predict(X_test_scaled_encoded)\n",
    "y_pred = np.round(y_pred).astype(int)\n",
    "\n",
    "cm = confusion_matrix(y_test, y_pred)\n",
    "add_to_master(\"1 hidden, 64 nodes per, adam, scaled\", y_test, y_pred)\n",
    "cm"
   ]
  },
  {
   "cell_type": "code",
   "execution_count": 29,
   "id": "424d9860",
   "metadata": {
    "scrolled": true
   },
   "outputs": [
    {
     "name": "stdout",
     "output_type": "stream",
     "text": [
      "Epoch 1/10\n",
      "124/124 [==============================] - 0s 851us/step - loss: 0.6266 - accuracy: 0.6711 - recall: 0.1270\n",
      "Epoch 2/10\n",
      "124/124 [==============================] - 0s 860us/step - loss: 0.6007 - accuracy: 0.6895 - recall: 0.0939\n",
      "Epoch 3/10\n",
      "124/124 [==============================] - 0s 835us/step - loss: 0.5928 - accuracy: 0.6951 - recall: 0.1574\n",
      "Epoch 4/10\n",
      "124/124 [==============================] - 0s 827us/step - loss: 0.5885 - accuracy: 0.6956 - recall: 0.1540\n",
      "Epoch 5/10\n",
      "124/124 [==============================] - 0s 860us/step - loss: 0.5853 - accuracy: 0.6989 - recall: 0.1779\n",
      "Epoch 6/10\n",
      "124/124 [==============================] - 0s 884us/step - loss: 0.5829 - accuracy: 0.6994 - recall: 0.1990\n",
      "Epoch 7/10\n",
      "124/124 [==============================] - 0s 835us/step - loss: 0.5810 - accuracy: 0.6999 - recall: 0.1839\n",
      "Epoch 8/10\n",
      "124/124 [==============================] - 0s 835us/step - loss: 0.5797 - accuracy: 0.7016 - recall: 0.2006\n",
      "Epoch 9/10\n",
      "124/124 [==============================] - 0s 860us/step - loss: 0.5774 - accuracy: 0.7026 - recall: 0.1984\n",
      "Epoch 10/10\n",
      "124/124 [==============================] - 0s 868us/step - loss: 0.5769 - accuracy: 0.7029 - recall: 0.1989\n",
      "54/54 [==============================] - 0s 753us/step - loss: 0.5852 - accuracy: 0.6788 - recall: 0.1824\n",
      "Test Accuracy: 0.6788235306739807\n",
      "Test Loss: 0.5851702690124512\n",
      "Test Recall: 0.18240486085414886\n",
      "54/54 [==============================] - 0s 621us/step\n"
     ]
    },
    {
     "name": "stderr",
     "output_type": "stream",
     "text": [
      "C:\\Users\\gwent\\AppData\\Local\\Temp\\ipykernel_27636\\1005917253.py:23: FutureWarning: The frame.append method is deprecated and will be removed from pandas in a future version. Use pandas.concat instead.\n",
      "  master_scores = master_scores.append(new_row, ignore_index=True)\n"
     ]
    },
    {
     "data": {
      "text/plain": [
       "array([[1051,  108],\n",
       "       [ 438,  103]], dtype=int64)"
      ]
     },
     "execution_count": 29,
     "metadata": {},
     "output_type": "execute_result"
    }
   ],
   "source": [
    "# adagrad + scaled \n",
    "model4 = keras.Sequential([\n",
    "    keras.layers.Dense(64, activation='relu', input_shape=(25,)),\n",
    "    keras.layers.Dense(64, activation='relu'),\n",
    "    keras.layers.Dense(1, activation='sigmoid')\n",
    "])\n",
    "\n",
    "# Adagrad supposedly better for when feataures vary in magnitude and frequency \n",
    "optimizer = tf.keras.optimizers.Adagrad(learning_rate=0.01)\n",
    "model4.compile(optimizer=optimizer, \n",
    "             loss='binary_crossentropy',\n",
    "             metrics=['accuracy', 'recall'])\n",
    "\n",
    "model4.fit(X_train_scaled_encoded, y_train, epochs=10, batch_size=32)\n",
    "\n",
    "test_loss, test_acc, test_recall = model4.evaluate(X_test_scaled_encoded, y_test)\n",
    "print('Test Accuracy:', test_acc)\n",
    "print('Test Loss:', test_loss)\n",
    "print('Test Recall:', test_recall)\n",
    "\n",
    "y_pred = model4.predict(X_test_scaled_encoded)\n",
    "y_pred = np.round(y_pred).astype(int)\n",
    "\n",
    "cm = confusion_matrix(y_test, y_pred)\n",
    "add_to_master(\"1 hidden, 64 nodes per, adagrad, scaled\", y_test, y_pred)\n",
    "cm"
   ]
  },
  {
   "cell_type": "code",
   "execution_count": 30,
   "id": "49bf0634",
   "metadata": {},
   "outputs": [
    {
     "data": {
      "text/html": [
       "<div>\n",
       "<style scoped>\n",
       "    .dataframe tbody tr th:only-of-type {\n",
       "        vertical-align: middle;\n",
       "    }\n",
       "\n",
       "    .dataframe tbody tr th {\n",
       "        vertical-align: top;\n",
       "    }\n",
       "\n",
       "    .dataframe thead th {\n",
       "        text-align: right;\n",
       "    }\n",
       "</style>\n",
       "<table border=\"1\" class=\"dataframe\">\n",
       "  <thead>\n",
       "    <tr style=\"text-align: right;\">\n",
       "      <th></th>\n",
       "      <th>Model</th>\n",
       "      <th>Recall</th>\n",
       "      <th>F1</th>\n",
       "      <th>Precision</th>\n",
       "      <th>Accuracy</th>\n",
       "    </tr>\n",
       "  </thead>\n",
       "  <tbody>\n",
       "    <tr>\n",
       "      <th>2</th>\n",
       "      <td>1 hidden, 64 nodes per, adam, scaled</td>\n",
       "      <td>0.270</td>\n",
       "      <td>0.342</td>\n",
       "      <td>0.466</td>\n",
       "      <td>0.669</td>\n",
       "    </tr>\n",
       "    <tr>\n",
       "      <th>0</th>\n",
       "      <td>1 hidden, 64 nodes per, adam</td>\n",
       "      <td>0.222</td>\n",
       "      <td>0.311</td>\n",
       "      <td>0.522</td>\n",
       "      <td>0.688</td>\n",
       "    </tr>\n",
       "    <tr>\n",
       "      <th>3</th>\n",
       "      <td>1 hidden, 64 nodes per, adagrad, scaled</td>\n",
       "      <td>0.190</td>\n",
       "      <td>0.274</td>\n",
       "      <td>0.488</td>\n",
       "      <td>0.679</td>\n",
       "    </tr>\n",
       "    <tr>\n",
       "      <th>1</th>\n",
       "      <td>1 hidden, 64 nodes per, adagrad</td>\n",
       "      <td>0.159</td>\n",
       "      <td>0.242</td>\n",
       "      <td>0.509</td>\n",
       "      <td>0.684</td>\n",
       "    </tr>\n",
       "  </tbody>\n",
       "</table>\n",
       "</div>"
      ],
      "text/plain": [
       "                                     Model  Recall     F1  Precision  Accuracy\n",
       "2     1 hidden, 64 nodes per, adam, scaled   0.270  0.342      0.466     0.669\n",
       "0             1 hidden, 64 nodes per, adam   0.222  0.311      0.522     0.688\n",
       "3  1 hidden, 64 nodes per, adagrad, scaled   0.190  0.274      0.488     0.679\n",
       "1          1 hidden, 64 nodes per, adagrad   0.159  0.242      0.509     0.684"
      ]
     },
     "execution_count": 30,
     "metadata": {},
     "output_type": "execute_result"
    }
   ],
   "source": [
    "master_scores.sort_values('Recall', ascending=False)"
   ]
  },
  {
   "cell_type": "markdown",
   "id": "45942463",
   "metadata": {},
   "source": [
    "## <a id='3.4playing'></a> 3.4 Playing around with # of nodes "
   ]
  },
  {
   "cell_type": "code",
   "execution_count": 31,
   "id": "256366ac",
   "metadata": {},
   "outputs": [],
   "source": [
    "# let's just streamline this \n",
    "def create_mlp(nodes, optimizer, X_train):\n",
    "    # Define the model architecture\n",
    "    model = keras.Sequential([\n",
    "    keras.layers.Dense(nodes, activation='relu', input_shape=(X_train.shape[1],)),\n",
    "    keras.layers.Dense(nodes, activation='relu'),\n",
    "    keras.layers.Dense(1, activation='sigmoid')\n",
    "])\n",
    "\n",
    "    model.compile(optimizer=optimizer, \n",
    "             loss='binary_crossentropy',\n",
    "             metrics=['accuracy', 'recall'])\n",
    "    \n",
    "    return model"
   ]
  },
  {
   "cell_type": "code",
   "execution_count": 32,
   "id": "59ff7897",
   "metadata": {},
   "outputs": [],
   "source": [
    "model5 = create_mlp(100, 'adam', X_train_scaled_encoded)"
   ]
  },
  {
   "cell_type": "code",
   "execution_count": 33,
   "id": "db824e87",
   "metadata": {
    "scrolled": true
   },
   "outputs": [
    {
     "name": "stdout",
     "output_type": "stream",
     "text": [
      "Epoch 1/10\n",
      "124/124 [==============================] - 0s 973us/step - loss: 0.6073 - accuracy: 0.6827 - recall: 0.0972\n",
      "Epoch 2/10\n",
      "124/124 [==============================] - 0s 997us/step - loss: 0.5879 - accuracy: 0.6918 - recall: 0.1708\n",
      "Epoch 3/10\n",
      "124/124 [==============================] - 0s 981us/step - loss: 0.5819 - accuracy: 0.6948 - recall: 0.2261\n",
      "Epoch 4/10\n",
      "124/124 [==============================] - 0s 981us/step - loss: 0.5776 - accuracy: 0.7011 - recall: 0.2017\n",
      "Epoch 5/10\n",
      "124/124 [==============================] - 0s 1ms/step - loss: 0.5712 - accuracy: 0.7067 - recall: 0.2326\n",
      "Epoch 6/10\n",
      "124/124 [==============================] - 0s 1ms/step - loss: 0.5703 - accuracy: 0.7059 - recall: 0.2547\n",
      "Epoch 7/10\n",
      "124/124 [==============================] - 0s 989us/step - loss: 0.5682 - accuracy: 0.7092 - recall: 0.2696\n",
      "Epoch 8/10\n",
      "124/124 [==============================] - 0s 981us/step - loss: 0.5636 - accuracy: 0.7170 - recall: 0.2762\n",
      "Epoch 9/10\n",
      "124/124 [==============================] - 0s 989us/step - loss: 0.5598 - accuracy: 0.7140 - recall: 0.2512\n",
      "Epoch 10/10\n",
      "124/124 [==============================] - 0s 997us/step - loss: 0.5571 - accuracy: 0.7165 - recall: 0.2852\n",
      "54/54 [==============================] - 0s 790us/step - loss: 0.5978 - accuracy: 0.6735 - recall: 0.2682\n",
      "Test Accuracy: 0.6735293865203857\n",
      "Test Loss: 0.5977703928947449\n",
      "Test Recall: 0.2681853175163269\n",
      "54/54 [==============================] - 0s 621us/step\n"
     ]
    },
    {
     "name": "stderr",
     "output_type": "stream",
     "text": [
      "C:\\Users\\gwent\\AppData\\Local\\Temp\\ipykernel_27636\\1005917253.py:23: FutureWarning: The frame.append method is deprecated and will be removed from pandas in a future version. Use pandas.concat instead.\n",
      "  master_scores = master_scores.append(new_row, ignore_index=True)\n"
     ]
    },
    {
     "data": {
      "text/plain": [
       "array([[992, 167],\n",
       "       [388, 153]], dtype=int64)"
      ]
     },
     "execution_count": 33,
     "metadata": {},
     "output_type": "execute_result"
    }
   ],
   "source": [
    "model5.fit(X_train_scaled_encoded, y_train, epochs=10, batch_size=32)\n",
    "\n",
    "test_loss, test_acc, test_recall = model5.evaluate(X_test_scaled_encoded, y_test)\n",
    "print('Test Accuracy:', test_acc)\n",
    "print('Test Loss:', test_loss)\n",
    "print('Test Recall:', test_recall)\n",
    "\n",
    "y_pred = model5.predict(X_test_scaled_encoded)\n",
    "y_pred = np.round(y_pred).astype(int)\n",
    "\n",
    "cm = confusion_matrix(y_test, y_pred)\n",
    "add_to_master(\"1 hidden, 100 nodes, adam\", y_test, y_pred)\n",
    "cm"
   ]
  },
  {
   "cell_type": "code",
   "execution_count": 34,
   "id": "80c22910",
   "metadata": {},
   "outputs": [
    {
     "name": "stdout",
     "output_type": "stream",
     "text": [
      "Epoch 1/10\n",
      "124/124 [==============================] - 0s 843us/step - loss: 0.6311 - accuracy: 0.6575 - recall: 0.0948\n",
      "Epoch 2/10\n",
      "124/124 [==============================] - 0s 860us/step - loss: 0.5925 - accuracy: 0.6895 - recall: 0.0979\n",
      "Epoch 3/10\n",
      "124/124 [==============================] - 0s 860us/step - loss: 0.5869 - accuracy: 0.6936 - recall: 0.1713\n",
      "Epoch 4/10\n",
      "124/124 [==============================] - 0s 868us/step - loss: 0.5825 - accuracy: 0.6974 - recall: 0.1715\n",
      "Epoch 5/10\n",
      "124/124 [==============================] - 0s 860us/step - loss: 0.5786 - accuracy: 0.6994 - recall: 0.1786\n",
      "Epoch 6/10\n",
      "124/124 [==============================] - 0s 868us/step - loss: 0.5774 - accuracy: 0.6968 - recall: 0.2008\n",
      "Epoch 7/10\n",
      "124/124 [==============================] - 0s 860us/step - loss: 0.5752 - accuracy: 0.6999 - recall: 0.2052\n",
      "Epoch 8/10\n",
      "124/124 [==============================] - 0s 860us/step - loss: 0.5732 - accuracy: 0.7016 - recall: 0.2160\n",
      "Epoch 9/10\n",
      "124/124 [==============================] - 0s 868us/step - loss: 0.5708 - accuracy: 0.7049 - recall: 0.2149\n",
      "Epoch 10/10\n",
      "124/124 [==============================] - 0s 860us/step - loss: 0.5694 - accuracy: 0.7062 - recall: 0.2275\n",
      "54/54 [==============================] - 0s 715us/step - loss: 0.5841 - accuracy: 0.6853 - recall: 0.2292\n",
      "Test Accuracy: 0.6852940917015076\n",
      "Test Loss: 0.5841400027275085\n",
      "Test Recall: 0.2292286604642868\n",
      "54/54 [==============================] - 0s 602us/step\n"
     ]
    },
    {
     "name": "stderr",
     "output_type": "stream",
     "text": [
      "C:\\Users\\gwent\\AppData\\Local\\Temp\\ipykernel_27636\\1005917253.py:23: FutureWarning: The frame.append method is deprecated and will be removed from pandas in a future version. Use pandas.concat instead.\n",
      "  master_scores = master_scores.append(new_row, ignore_index=True)\n"
     ]
    },
    {
     "data": {
      "text/plain": [
       "array([[1035,  124],\n",
       "       [ 411,  130]], dtype=int64)"
      ]
     },
     "execution_count": 34,
     "metadata": {},
     "output_type": "execute_result"
    }
   ],
   "source": [
    "model6 = create_mlp(32, 'adam', X_train_scaled_encoded)\n",
    "model6.fit(X_train_scaled_encoded, y_train, epochs=10, batch_size=32)\n",
    "\n",
    "test_loss, test_acc, test_recall = model6.evaluate(X_test_scaled_encoded, y_test)\n",
    "print('Test Accuracy:', test_acc)\n",
    "print('Test Loss:', test_loss)\n",
    "print('Test Recall:', test_recall)\n",
    "\n",
    "y_pred = model6.predict(X_test_scaled_encoded)\n",
    "y_pred = np.round(y_pred).astype(int)\n",
    "\n",
    "cm = confusion_matrix(y_test, y_pred)\n",
    "add_to_master(\"1 hidden, 32 nodes, adam\", y_test, y_pred)\n",
    "cm"
   ]
  },
  {
   "cell_type": "code",
   "execution_count": 35,
   "id": "77fd69c4",
   "metadata": {
    "scrolled": true
   },
   "outputs": [
    {
     "name": "stdout",
     "output_type": "stream",
     "text": [
      "Epoch 1/10\n",
      "124/124 [==============================] - 1s 1ms/step - loss: 0.6072 - accuracy: 0.6784 - recall: 0.1726\n",
      "Epoch 2/10\n",
      "124/124 [==============================] - 0s 1ms/step - loss: 0.5877 - accuracy: 0.6956 - recall: 0.2144\n",
      "Epoch 3/10\n",
      "124/124 [==============================] - 0s 1ms/step - loss: 0.5805 - accuracy: 0.6961 - recall: 0.2335\n",
      "Epoch 4/10\n",
      "124/124 [==============================] - 0s 1ms/step - loss: 0.5775 - accuracy: 0.6976 - recall: 0.2024\n",
      "Epoch 5/10\n",
      "124/124 [==============================] - 0s 1ms/step - loss: 0.5696 - accuracy: 0.7125 - recall: 0.2541\n",
      "Epoch 6/10\n",
      "124/124 [==============================] - 0s 1ms/step - loss: 0.5716 - accuracy: 0.7090 - recall: 0.2687\n",
      "Epoch 7/10\n",
      "124/124 [==============================] - 0s 1ms/step - loss: 0.5683 - accuracy: 0.7092 - recall: 0.2749\n",
      "Epoch 8/10\n",
      "124/124 [==============================] - 0s 1ms/step - loss: 0.5621 - accuracy: 0.7148 - recall: 0.2726\n",
      "Epoch 9/10\n",
      "124/124 [==============================] - 0s 1ms/step - loss: 0.5560 - accuracy: 0.7120 - recall: 0.2462\n",
      "Epoch 10/10\n",
      "124/124 [==============================] - 0s 1ms/step - loss: 0.5528 - accuracy: 0.7183 - recall: 0.2951\n",
      "54/54 [==============================] - 0s 809us/step - loss: 0.6012 - accuracy: 0.6629 - recall: 0.2636\n",
      "Test Accuracy: 0.6629411578178406\n",
      "Test Loss: 0.6011725068092346\n",
      "Test Recall: 0.263608455657959\n",
      "54/54 [==============================] - 0s 659us/step\n"
     ]
    },
    {
     "name": "stderr",
     "output_type": "stream",
     "text": [
      "C:\\Users\\gwent\\AppData\\Local\\Temp\\ipykernel_27636\\1005917253.py:23: FutureWarning: The frame.append method is deprecated and will be removed from pandas in a future version. Use pandas.concat instead.\n",
      "  master_scores = master_scores.append(new_row, ignore_index=True)\n"
     ]
    },
    {
     "data": {
      "text/plain": [
       "array([[976, 183],\n",
       "       [390, 151]], dtype=int64)"
      ]
     },
     "execution_count": 35,
     "metadata": {},
     "output_type": "execute_result"
    }
   ],
   "source": [
    "model7 = create_mlp(250, 'adam', X_train_scaled_encoded)\n",
    "model7.fit(X_train_scaled_encoded, y_train, epochs=10, batch_size=32)\n",
    "\n",
    "test_loss, test_acc, test_recall = model7.evaluate(X_test_scaled_encoded, y_test)\n",
    "print('Test Accuracy:', test_acc)\n",
    "print('Test Loss:', test_loss)\n",
    "print('Test Recall:', test_recall)\n",
    "\n",
    "y_pred = model7.predict(X_test_scaled_encoded)\n",
    "y_pred = np.round(y_pred).astype(int)\n",
    "\n",
    "cm = confusion_matrix(y_test, y_pred)\n",
    "add_to_master(\"1 hidden, 250 nodes, adam\", y_test, y_pred)\n",
    "cm"
   ]
  },
  {
   "cell_type": "code",
   "execution_count": 36,
   "id": "4ac07e60",
   "metadata": {
    "scrolled": true
   },
   "outputs": [
    {
     "name": "stdout",
     "output_type": "stream",
     "text": [
      "Epoch 1/10\n",
      "124/124 [==============================] - 1s 1ms/step - loss: 0.6079 - accuracy: 0.6807 - recall: 0.1697\n",
      "Epoch 2/10\n",
      "124/124 [==============================] - 0s 1ms/step - loss: 0.5875 - accuracy: 0.6943 - recall: 0.2158\n",
      "Epoch 3/10\n",
      "124/124 [==============================] - 0s 1ms/step - loss: 0.5801 - accuracy: 0.7014 - recall: 0.2189\n",
      "Epoch 4/10\n",
      "124/124 [==============================] - 0s 1ms/step - loss: 0.5779 - accuracy: 0.7026 - recall: 0.2138\n",
      "Epoch 5/10\n",
      "124/124 [==============================] - 0s 1ms/step - loss: 0.5692 - accuracy: 0.7087 - recall: 0.2313\n",
      "Epoch 6/10\n",
      "124/124 [==============================] - 0s 1ms/step - loss: 0.5718 - accuracy: 0.7044 - recall: 0.2469\n",
      "Epoch 7/10\n",
      "124/124 [==============================] - 0s 1ms/step - loss: 0.5684 - accuracy: 0.7084 - recall: 0.2685\n",
      "Epoch 8/10\n",
      "124/124 [==============================] - 0s 1ms/step - loss: 0.5617 - accuracy: 0.7148 - recall: 0.2679\n",
      "Epoch 9/10\n",
      "124/124 [==============================] - 0s 1ms/step - loss: 0.5565 - accuracy: 0.7145 - recall: 0.2493\n",
      "Epoch 10/10\n",
      "124/124 [==============================] - 0s 1ms/step - loss: 0.5533 - accuracy: 0.7163 - recall: 0.2923\n",
      "54/54 [==============================] - 0s 828us/step - loss: 0.6011 - accuracy: 0.6671 - recall: 0.2571\n",
      "Test Accuracy: 0.6670588254928589\n",
      "Test Loss: 0.6010522246360779\n",
      "Test Recall: 0.25708624720573425\n",
      "54/54 [==============================] - 0s 640us/step\n"
     ]
    },
    {
     "name": "stderr",
     "output_type": "stream",
     "text": [
      "C:\\Users\\gwent\\AppData\\Local\\Temp\\ipykernel_27636\\1005917253.py:23: FutureWarning: The frame.append method is deprecated and will be removed from pandas in a future version. Use pandas.concat instead.\n",
      "  master_scores = master_scores.append(new_row, ignore_index=True)\n"
     ]
    },
    {
     "data": {
      "text/plain": [
       "array([[986, 173],\n",
       "       [393, 148]], dtype=int64)"
      ]
     },
     "execution_count": 36,
     "metadata": {},
     "output_type": "execute_result"
    }
   ],
   "source": [
    "# definitely overfits\n",
    "model8 = create_mlp(300, 'adam', X_train_scaled_encoded)\n",
    "model8.fit(X_train_scaled_encoded, y_train, epochs=10, batch_size=32)\n",
    "\n",
    "test_loss, test_acc, test_recall = model8.evaluate(X_test_scaled_encoded, y_test)\n",
    "print('Test Accuracy:', test_acc)\n",
    "print('Test Loss:', test_loss)\n",
    "print('Test Recall:', test_recall)\n",
    "\n",
    "y_pred = model8.predict(X_test_scaled_encoded)\n",
    "y_pred = np.round(y_pred).astype(int)\n",
    "\n",
    "cm = confusion_matrix(y_test, y_pred)\n",
    "add_to_master(\"1 hidden, 300 nodes, adam\", y_test, y_pred)\n",
    "cm"
   ]
  },
  {
   "cell_type": "code",
   "execution_count": 37,
   "id": "08550f15",
   "metadata": {
    "scrolled": true
   },
   "outputs": [
    {
     "data": {
      "text/html": [
       "<div>\n",
       "<style scoped>\n",
       "    .dataframe tbody tr th:only-of-type {\n",
       "        vertical-align: middle;\n",
       "    }\n",
       "\n",
       "    .dataframe tbody tr th {\n",
       "        vertical-align: top;\n",
       "    }\n",
       "\n",
       "    .dataframe thead th {\n",
       "        text-align: right;\n",
       "    }\n",
       "</style>\n",
       "<table border=\"1\" class=\"dataframe\">\n",
       "  <thead>\n",
       "    <tr style=\"text-align: right;\">\n",
       "      <th></th>\n",
       "      <th>Model</th>\n",
       "      <th>Recall</th>\n",
       "      <th>F1</th>\n",
       "      <th>Precision</th>\n",
       "      <th>Accuracy</th>\n",
       "    </tr>\n",
       "  </thead>\n",
       "  <tbody>\n",
       "    <tr>\n",
       "      <th>4</th>\n",
       "      <td>1 hidden, 100 nodes, adam</td>\n",
       "      <td>0.283</td>\n",
       "      <td>0.355</td>\n",
       "      <td>0.478</td>\n",
       "      <td>0.674</td>\n",
       "    </tr>\n",
       "    <tr>\n",
       "      <th>6</th>\n",
       "      <td>1 hidden, 250 nodes, adam</td>\n",
       "      <td>0.279</td>\n",
       "      <td>0.345</td>\n",
       "      <td>0.452</td>\n",
       "      <td>0.663</td>\n",
       "    </tr>\n",
       "    <tr>\n",
       "      <th>7</th>\n",
       "      <td>1 hidden, 300 nodes, adam</td>\n",
       "      <td>0.274</td>\n",
       "      <td>0.343</td>\n",
       "      <td>0.461</td>\n",
       "      <td>0.667</td>\n",
       "    </tr>\n",
       "    <tr>\n",
       "      <th>2</th>\n",
       "      <td>1 hidden, 64 nodes per, adam, scaled</td>\n",
       "      <td>0.270</td>\n",
       "      <td>0.342</td>\n",
       "      <td>0.466</td>\n",
       "      <td>0.669</td>\n",
       "    </tr>\n",
       "    <tr>\n",
       "      <th>5</th>\n",
       "      <td>1 hidden, 32 nodes, adam</td>\n",
       "      <td>0.240</td>\n",
       "      <td>0.327</td>\n",
       "      <td>0.512</td>\n",
       "      <td>0.685</td>\n",
       "    </tr>\n",
       "    <tr>\n",
       "      <th>0</th>\n",
       "      <td>1 hidden, 64 nodes per, adam</td>\n",
       "      <td>0.222</td>\n",
       "      <td>0.311</td>\n",
       "      <td>0.522</td>\n",
       "      <td>0.688</td>\n",
       "    </tr>\n",
       "    <tr>\n",
       "      <th>3</th>\n",
       "      <td>1 hidden, 64 nodes per, adagrad, scaled</td>\n",
       "      <td>0.190</td>\n",
       "      <td>0.274</td>\n",
       "      <td>0.488</td>\n",
       "      <td>0.679</td>\n",
       "    </tr>\n",
       "    <tr>\n",
       "      <th>1</th>\n",
       "      <td>1 hidden, 64 nodes per, adagrad</td>\n",
       "      <td>0.159</td>\n",
       "      <td>0.242</td>\n",
       "      <td>0.509</td>\n",
       "      <td>0.684</td>\n",
       "    </tr>\n",
       "  </tbody>\n",
       "</table>\n",
       "</div>"
      ],
      "text/plain": [
       "                                     Model  Recall     F1  Precision  Accuracy\n",
       "4                1 hidden, 100 nodes, adam   0.283  0.355      0.478     0.674\n",
       "6                1 hidden, 250 nodes, adam   0.279  0.345      0.452     0.663\n",
       "7                1 hidden, 300 nodes, adam   0.274  0.343      0.461     0.667\n",
       "2     1 hidden, 64 nodes per, adam, scaled   0.270  0.342      0.466     0.669\n",
       "5                 1 hidden, 32 nodes, adam   0.240  0.327      0.512     0.685\n",
       "0             1 hidden, 64 nodes per, adam   0.222  0.311      0.522     0.688\n",
       "3  1 hidden, 64 nodes per, adagrad, scaled   0.190  0.274      0.488     0.679\n",
       "1          1 hidden, 64 nodes per, adagrad   0.159  0.242      0.509     0.684"
      ]
     },
     "execution_count": 37,
     "metadata": {},
     "output_type": "execute_result"
    }
   ],
   "source": [
    "master_scores.sort_values('Recall', ascending=False)"
   ]
  },
  {
   "cell_type": "markdown",
   "id": "26bd5d3e",
   "metadata": {},
   "source": [
    "## <a id='3.5resample'></a> 3.5 Resampling"
   ]
  },
  {
   "cell_type": "markdown",
   "id": "7feac994",
   "metadata": {},
   "source": [
    "Okay so we are pretty similar in performance to the logistic regression models from cat-pstone 1 on every metric except recall (and the part it plays in F1, of course). Let's see if over or undersampling with the top performing model architecture (model1). "
   ]
  },
  {
   "cell_type": "code",
   "execution_count": 38,
   "id": "07a5b843",
   "metadata": {},
   "outputs": [],
   "source": [
    "# in my experience these guys do better than something like SMOTE \n",
    "from imblearn.under_sampling import RandomUnderSampler\n",
    "from imblearn.over_sampling import RandomOverSampler"
   ]
  },
  {
   "cell_type": "code",
   "execution_count": 39,
   "id": "5b5044ae",
   "metadata": {},
   "outputs": [
    {
     "data": {
      "text/plain": [
       "(3965, 25)"
      ]
     },
     "execution_count": 39,
     "metadata": {},
     "output_type": "execute_result"
    }
   ],
   "source": [
    "X_train_scaled_encoded.shape"
   ]
  },
  {
   "cell_type": "code",
   "execution_count": 40,
   "id": "a3c4ea8e",
   "metadata": {},
   "outputs": [],
   "source": [
    "rus = RandomUnderSampler()\n",
    "X_resampled_rus, y_resampled_rus = rus.fit_resample(X_train_scaled_encoded, y_train)\n",
    "\n",
    "ros = RandomOverSampler()\n",
    "X_resampled_ros, y_resampled_ros = ros.fit_resample(X_train_scaled_encoded, y_train)"
   ]
  },
  {
   "cell_type": "code",
   "execution_count": 61,
   "id": "a2d287c6",
   "metadata": {},
   "outputs": [
    {
     "name": "stdout",
     "output_type": "stream",
     "text": [
      "Epoch 1/10\n",
      "79/79 [==============================] - 0s 869us/step - loss: 0.6712 - accuracy: 0.5867 - recall: 0.5752\n",
      "Epoch 2/10\n",
      "79/79 [==============================] - 0s 882us/step - loss: 0.6327 - accuracy: 0.6504 - recall: 0.6649\n",
      "Epoch 3/10\n",
      "79/79 [==============================] - 0s 895us/step - loss: 0.6192 - accuracy: 0.6560 - recall: 0.6457\n",
      "Epoch 4/10\n",
      "79/79 [==============================] - 0s 870us/step - loss: 0.6090 - accuracy: 0.6706 - recall: 0.6869\n",
      "Epoch 5/10\n",
      "79/79 [==============================] - 0s 870us/step - loss: 0.6007 - accuracy: 0.6785 - recall: 0.6800\n",
      "Epoch 6/10\n",
      "79/79 [==============================] - 0s 870us/step - loss: 0.5925 - accuracy: 0.6857 - recall: 0.6909\n",
      "Epoch 7/10\n",
      "79/79 [==============================] - 0s 870us/step - loss: 0.5859 - accuracy: 0.6916 - recall: 0.6990\n",
      "Epoch 8/10\n",
      "79/79 [==============================] - 0s 857us/step - loss: 0.5763 - accuracy: 0.7031 - recall: 0.6972\n",
      "Epoch 9/10\n",
      "79/79 [==============================] - 0s 895us/step - loss: 0.5705 - accuracy: 0.7027 - recall: 0.7085\n",
      "Epoch 10/10\n",
      "79/79 [==============================] - 0s 882us/step - loss: 0.5618 - accuracy: 0.7126 - recall: 0.7073\n",
      "54/54 [==============================] - 0s 583us/step\n"
     ]
    },
    {
     "name": "stderr",
     "output_type": "stream",
     "text": [
      "C:\\Users\\gwent\\AppData\\Local\\Temp\\ipykernel_27636\\1005917253.py:23: FutureWarning: The frame.append method is deprecated and will be removed from pandas in a future version. Use pandas.concat instead.\n",
      "  master_scores = master_scores.append(new_row, ignore_index=True)\n"
     ]
    },
    {
     "data": {
      "text/plain": [
       "Text(0.5, 1.0, 'Tuned MLP')"
      ]
     },
     "execution_count": 61,
     "metadata": {},
     "output_type": "execute_result"
    },
    {
     "data": {
      "image/png": "[encoded data removed]",
      "text/plain": [
       "<Figure size 640x480 with 1 Axes>"
      ]
     },
     "metadata": {},
     "output_type": "display_data"
    }
   ],
   "source": [
    "# RUS \n",
    "model9 = create_mlp(64, 'adam', X_train_scaled_encoded)\n",
    "model9.fit(X_resampled_rus, y_resampled_rus, epochs=10, batch_size=32)\n",
    "\n",
    "y_pred = model9.predict(X_test_scaled_encoded)\n",
    "y_pred = np.round(y_pred).astype(int)\n",
    "\n",
    "cm = confusion_matrix(y_test, y_pred)\n",
    "add_to_master(\"RUS 1 hidden, 64 nodes, adam\", y_test, y_pred)\n",
    "disp = ConfusionMatrixDisplay(confusion_matrix=cm, display_labels=['Non-suckers', 'Suckers'])\n",
    "disp.plot(colorbar=False, cmap='PuBu')\n",
    "plt.title('Tuned MLP')"
   ]
  },
  {
   "cell_type": "code",
   "execution_count": 64,
   "id": "acc92ebe",
   "metadata": {},
   "outputs": [
    {
     "name": "stdout",
     "output_type": "stream",
     "text": [
      "Model: \"sequential_13\"\n",
      "_________________________________________________________________\n",
      " Layer (type)                Output Shape              Param #   \n",
      "=================================================================\n",
      " dense_39 (Dense)            (None, 64)                2112      \n",
      "                                                                 \n",
      " dense_40 (Dense)            (None, 64)                4160      \n",
      "                                                                 \n",
      " dense_41 (Dense)            (None, 1)                 65        \n",
      "                                                                 \n",
      "=================================================================\n",
      "Total params: 6,337\n",
      "Trainable params: 6,337\n",
      "Non-trainable params: 0\n",
      "_________________________________________________________________\n"
     ]
    }
   ],
   "source": [
    "model9.summary()"
   ]
  },
  {
   "cell_type": "code",
   "execution_count": 42,
   "id": "bf60768f",
   "metadata": {},
   "outputs": [
    {
     "name": "stdout",
     "output_type": "stream",
     "text": [
      "Epoch 1/10\n",
      "169/169 [==============================] - 1s 879us/step - loss: 0.6665 - accuracy: 0.5953 - recall: 0.6019\n",
      "Epoch 2/10\n",
      "169/169 [==============================] - 0s 896us/step - loss: 0.6436 - accuracy: 0.6319 - recall: 0.6178\n",
      "Epoch 3/10\n",
      "169/169 [==============================] - 0s 885us/step - loss: 0.6365 - accuracy: 0.6465 - recall: 0.6563\n",
      "Epoch 4/10\n",
      "169/169 [==============================] - 0s 896us/step - loss: 0.6307 - accuracy: 0.6459 - recall: 0.6359\n",
      "Epoch 5/10\n",
      "169/169 [==============================] - 0s 891us/step - loss: 0.6220 - accuracy: 0.6580 - recall: 0.6448\n",
      "Epoch 6/10\n",
      "169/169 [==============================] - 0s 885us/step - loss: 0.6189 - accuracy: 0.6589 - recall: 0.6656\n",
      "Epoch 7/10\n",
      "169/169 [==============================] - 0s 896us/step - loss: 0.6148 - accuracy: 0.6622 - recall: 0.6651\n",
      "Epoch 8/10\n",
      "169/169 [==============================] - 0s 891us/step - loss: 0.6111 - accuracy: 0.6646 - recall: 0.6574\n",
      "Epoch 9/10\n",
      "169/169 [==============================] - 0s 914us/step - loss: 0.6065 - accuracy: 0.6717 - recall: 0.6779\n",
      "Epoch 10/10\n",
      "169/169 [==============================] - 0s 926us/step - loss: 0.6021 - accuracy: 0.6733 - recall: 0.6811\n",
      "54/54 [==============================] - 0s 583us/step\n"
     ]
    },
    {
     "name": "stderr",
     "output_type": "stream",
     "text": [
      "C:\\Users\\gwent\\AppData\\Local\\Temp\\ipykernel_27636\\1005917253.py:23: FutureWarning: The frame.append method is deprecated and will be removed from pandas in a future version. Use pandas.concat instead.\n",
      "  master_scores = master_scores.append(new_row, ignore_index=True)\n"
     ]
    },
    {
     "data": {
      "text/plain": [
       "array([[785, 374],\n",
       "       [265, 276]], dtype=int64)"
      ]
     },
     "execution_count": 42,
     "metadata": {},
     "output_type": "execute_result"
    }
   ],
   "source": [
    "# ROS \n",
    "model10 = create_mlp(64, 'adam', X_train_scaled_encoded)\n",
    "model10.fit(X_resampled_ros, y_resampled_ros, epochs=10, batch_size=32)\n",
    "\n",
    "y_pred = model10.predict(X_test_scaled_encoded)\n",
    "y_pred = np.round(y_pred).astype(int)\n",
    "\n",
    "cm = confusion_matrix(y_test, y_pred)\n",
    "add_to_master(\"ROS 1 hidden, 64 nodes, adam\", y_test, y_pred)\n",
    "cm"
   ]
  },
  {
   "cell_type": "code",
   "execution_count": 43,
   "id": "ee074722",
   "metadata": {},
   "outputs": [
    {
     "name": "stdout",
     "output_type": "stream",
     "text": [
      "Epoch 1/10\n",
      "101/101 [==============================] - 0s 858us/step - loss: 0.6792 - accuracy: 0.5792 - recall: 0.5672\n",
      "Epoch 2/10\n",
      "101/101 [==============================] - 0s 888us/step - loss: 0.6510 - accuracy: 0.6303 - recall: 0.6169\n",
      "Epoch 3/10\n",
      "101/101 [==============================] - 0s 908us/step - loss: 0.6438 - accuracy: 0.6387 - recall: 0.6344\n",
      "Epoch 4/10\n",
      "101/101 [==============================] - 0s 908us/step - loss: 0.6372 - accuracy: 0.6426 - recall: 0.6355\n",
      "Epoch 5/10\n",
      "101/101 [==============================] - 0s 977us/step - loss: 0.6351 - accuracy: 0.6470 - recall: 0.6289\n",
      "Epoch 6/10\n",
      "101/101 [==============================] - 0s 918us/step - loss: 0.6289 - accuracy: 0.6470 - recall: 0.6462\n",
      "Epoch 7/10\n",
      "101/101 [==============================] - 0s 898us/step - loss: 0.6256 - accuracy: 0.6565 - recall: 0.6416\n",
      "Epoch 8/10\n",
      "101/101 [==============================] - 0s 878us/step - loss: 0.6217 - accuracy: 0.6593 - recall: 0.6662\n",
      "Epoch 9/10\n",
      "101/101 [==============================] - 0s 888us/step - loss: 0.6204 - accuracy: 0.6573 - recall: 0.6455\n",
      "Epoch 10/10\n",
      "101/101 [==============================] - 0s 908us/step - loss: 0.6167 - accuracy: 0.6557 - recall: 0.6542\n",
      "54/54 [==============================] - 0s 602us/step\n"
     ]
    },
    {
     "name": "stderr",
     "output_type": "stream",
     "text": [
      "C:\\Users\\gwent\\AppData\\Local\\Temp\\ipykernel_27636\\1005917253.py:23: FutureWarning: The frame.append method is deprecated and will be removed from pandas in a future version. Use pandas.concat instead.\n",
      "  master_scores = master_scores.append(new_row, ignore_index=True)\n"
     ]
    },
    {
     "data": {
      "text/plain": [
       "array([[752, 407],\n",
       "       [233, 308]], dtype=int64)"
      ]
     },
     "execution_count": 43,
     "metadata": {},
     "output_type": "execute_result"
    }
   ],
   "source": [
    "# RUS \n",
    "model11 = create_mlp(64, 'adam', X_train_scaled_encoded)\n",
    "model11.fit(X_resampled_rus, y_resampled_rus, epochs=10, batch_size=25)\n",
    "\n",
    "y_pred = model11.predict(X_test_scaled_encoded)\n",
    "y_pred = np.round(y_pred).astype(int)\n",
    "\n",
    "cm = confusion_matrix(y_test, y_pred)\n",
    "add_to_master(\"RUS, adam, batch 25\", y_test, y_pred)\n",
    "cm"
   ]
  },
  {
   "cell_type": "code",
   "execution_count": 95,
   "id": "98559e77",
   "metadata": {},
   "outputs": [
    {
     "data": {
      "image/png": "[encoded data removed]",
      "text/plain": [
       "<Figure size 640x480 with 1 Axes>"
      ]
     },
     "metadata": {},
     "output_type": "display_data"
    }
   ],
   "source": [
    "normal = y_train.value_counts()\n",
    "resampled = y_resampled_rus.value_counts()\n",
    "\n",
    "# Set the class labels\n",
    "class_labels = ['0', '1']\n",
    "\n",
    "# Set the count values for each class\n",
    "counts_normal = [normal[0], normal[1]]\n",
    "counts_resampled = [resampled[0], resampled[1]]\n",
    "\n",
    "# Set the x-axis positions for normal and resampled bars\n",
    "x_pos_normal = [0, 1]\n",
    "x_pos_resampled = [3, 4]\n",
    "\n",
    "# Plot the bar graph for normal counts\n",
    "plt.bar(x_pos_normal, counts_normal, width=0.4, align='center', label='Normal (Before)')\n",
    "\n",
    "# Plot the bar graph for resampled counts\n",
    "plt.bar(x_pos_resampled, counts_resampled, width=0.4, align='center', label='Resampled (After)')\n",
    "\n",
    "\n",
    "# Add count labels on top of each bar\n",
    "for i, count in enumerate(counts_normal):\n",
    "    plt.text(x_pos_normal[i], count, str(count), ha='center', va='bottom')\n",
    "for i, count in enumerate(counts_resampled):\n",
    "    plt.text(x_pos_resampled[i], count, str(count), ha='center', va='bottom')\n",
    "\n",
    "\n",
    "# Add labels and title\n",
    "plt.xlabel('Class')\n",
    "plt.ylabel('Count')\n",
    "plt.title('Distribution of Classes')\n",
    "\n",
    "# Set the x-axis tick positions and labels\n",
    "x_pos = x_pos_normal + x_pos_resampled\n",
    "x_labels = class_labels + class_labels\n",
    "plt.xticks(x_pos, x_labels)\n",
    "\n",
    "# Add a legend\n",
    "plt.legend()\n",
    "\n",
    "# Display the graph\n",
    "plt.show()"
   ]
  },
  {
   "cell_type": "markdown",
   "id": "cea69c26",
   "metadata": {},
   "source": [
    "## <a id='3.6dropgroom'></a> 3.6 out of curiosity, does MLP still perform well with grooming dropped?\n",
    "I only bring this up because a little birdy told me the kennels are short-staffed and recording # of hairball incidents adds to much time to the rounds. "
   ]
  },
  {
   "cell_type": "code",
   "execution_count": 45,
   "id": "90852399",
   "metadata": {},
   "outputs": [
    {
     "name": "stdout",
     "output_type": "stream",
     "text": [
      "(3965, 6)\n",
      "(1700, 6)\n",
      "(3965, 24)\n",
      "(1700, 24)\n",
      "(3965, 25)\n",
      "(1700, 25)\n"
     ]
    }
   ],
   "source": [
    "X_train_no_groom = X_train.drop(columns=['Grooming'])\n",
    "X_test_no_groom = X_test.drop(columns=['Grooming'])\n",
    "\n",
    "print(X_train_no_groom.shape)\n",
    "print(X_test_no_groom.shape)\n",
    "\n",
    "# one-hot breed \n",
    "X_train_encoded_no_groom = pd.get_dummies(X_train_no_groom, columns=['Breed_group'])\n",
    "X_test_encoded_no_groom = pd.get_dummies(X_test_no_groom, columns=['Breed_group'])\n",
    "\n",
    "print(X_train_encoded_no_groom.shape)\n",
    "print(X_test_encoded_no_groom.shape)\n",
    "\n",
    "scaler = StandardScaler()\n",
    "scaler.fit(X_train_encoded)\n",
    "X_train_scaled_encoded_ng = scaler.transform(X_train_encoded)\n",
    "X_test_scaled_encoded_ng = scaler.transform(X_test_encoded)\n",
    "\n",
    "print(X_train_scaled_encoded_ng.shape)\n",
    "print(X_test_scaled_encoded_ng.shape)\n",
    "\n",
    "rus = RandomUnderSampler()\n",
    "X_resampled_rus_ng, y_resampled_rus_ng = rus.fit_resample(X_train_scaled_encoded, y_train)"
   ]
  },
  {
   "cell_type": "code",
   "execution_count": 46,
   "id": "582504c0",
   "metadata": {},
   "outputs": [
    {
     "name": "stdout",
     "output_type": "stream",
     "text": [
      "(3965, 25)\n",
      "(2524, 25)\n",
      "(3965, 25)\n"
     ]
    }
   ],
   "source": [
    "print(X_train_scaled_encoded_ng.shape)\n",
    "print(X_resampled_rus_ng.shape)\n",
    "print(X_train_scaled_encoded.shape)"
   ]
  },
  {
   "cell_type": "code",
   "execution_count": 47,
   "id": "1cff7735",
   "metadata": {},
   "outputs": [
    {
     "name": "stdout",
     "output_type": "stream",
     "text": [
      "Epoch 1/10\n",
      "79/79 [==============================] - 0s 895us/step - loss: 0.6812 - accuracy: 0.5618 - recall: 0.5840\n",
      "Epoch 2/10\n",
      "79/79 [==============================] - 0s 895us/step - loss: 0.6530 - accuracy: 0.6097 - recall: 0.5982\n",
      "Epoch 3/10\n",
      "79/79 [==============================] - 0s 921us/step - loss: 0.6453 - accuracy: 0.6224 - recall: 0.6166\n",
      "Epoch 4/10\n",
      "79/79 [==============================] - 0s 895us/step - loss: 0.6406 - accuracy: 0.6280 - recall: 0.6150\n",
      "Epoch 5/10\n",
      "79/79 [==============================] - 0s 895us/step - loss: 0.6362 - accuracy: 0.6383 - recall: 0.6344\n",
      "Epoch 6/10\n",
      "79/79 [==============================] - 0s 895us/step - loss: 0.6336 - accuracy: 0.6430 - recall: 0.6616\n",
      "Epoch 7/10\n",
      "79/79 [==============================] - 0s 882us/step - loss: 0.6290 - accuracy: 0.6494 - recall: 0.6322\n",
      "Epoch 8/10\n",
      "79/79 [==============================] - 0s 908us/step - loss: 0.6254 - accuracy: 0.6502 - recall: 0.6422\n",
      "Epoch 9/10\n",
      "79/79 [==============================] - 0s 895us/step - loss: 0.6262 - accuracy: 0.6482 - recall: 0.6278\n",
      "Epoch 10/10\n",
      "79/79 [==============================] - 0s 908us/step - loss: 0.6209 - accuracy: 0.6601 - recall: 0.6733\n",
      "54/54 [==============================] - 0s 602us/step\n"
     ]
    },
    {
     "name": "stderr",
     "output_type": "stream",
     "text": [
      "C:\\Users\\gwent\\AppData\\Local\\Temp\\ipykernel_27636\\1005917253.py:23: FutureWarning: The frame.append method is deprecated and will be removed from pandas in a future version. Use pandas.concat instead.\n",
      "  master_scores = master_scores.append(new_row, ignore_index=True)\n"
     ]
    },
    {
     "data": {
      "text/plain": [
       "Text(0.5, 1.0, 'MLP, No Grooming')"
      ]
     },
     "execution_count": 47,
     "metadata": {},
     "output_type": "execute_result"
    },
    {
     "data": {
      "image/png": "[encoded data removed]",
      "text/plain": [
       "<Figure size 640x480 with 1 Axes>"
      ]
     },
     "metadata": {},
     "output_type": "display_data"
    }
   ],
   "source": [
    "# RUS 64 adam scaled no grooming\n",
    "model11 = create_mlp(64, 'adam', X_resampled_rus_ng)\n",
    "model11.fit(X_resampled_rus_ng, y_resampled_rus_ng, epochs=10, batch_size=32)\n",
    "\n",
    "y_pred = model11.predict(X_test_scaled_encoded_ng)\n",
    "y_pred = np.round(y_pred).astype(int)\n",
    "\n",
    "cm = confusion_matrix(y_test, y_pred)\n",
    "add_to_master(\"no groom, RUS, 64, adam\", y_test, y_pred)\n",
    "\n",
    "disp = ConfusionMatrixDisplay(confusion_matrix=cm, display_labels=['Non-suckers', 'Suckers'])\n",
    "disp.plot(colorbar=False, cmap='PuBu')\n",
    "plt.title('MLP, No Grooming')"
   ]
  },
  {
   "cell_type": "code",
   "execution_count": 48,
   "id": "3b86763e",
   "metadata": {},
   "outputs": [
    {
     "data": {
      "text/html": [
       "<div>\n",
       "<style scoped>\n",
       "    .dataframe tbody tr th:only-of-type {\n",
       "        vertical-align: middle;\n",
       "    }\n",
       "\n",
       "    .dataframe tbody tr th {\n",
       "        vertical-align: top;\n",
       "    }\n",
       "\n",
       "    .dataframe thead th {\n",
       "        text-align: right;\n",
       "    }\n",
       "</style>\n",
       "<table border=\"1\" class=\"dataframe\">\n",
       "  <thead>\n",
       "    <tr style=\"text-align: right;\">\n",
       "      <th></th>\n",
       "      <th>Model</th>\n",
       "      <th>Recall</th>\n",
       "      <th>F1</th>\n",
       "      <th>Precision</th>\n",
       "      <th>Accuracy</th>\n",
       "    </tr>\n",
       "  </thead>\n",
       "  <tbody>\n",
       "    <tr>\n",
       "      <th>8</th>\n",
       "      <td>RUS 1 hidden, 64 nodes, adam</td>\n",
       "      <td>0.577</td>\n",
       "      <td>0.485</td>\n",
       "      <td>0.419</td>\n",
       "      <td>0.611</td>\n",
       "    </tr>\n",
       "    <tr>\n",
       "      <th>11</th>\n",
       "      <td>no groom, RUS, 64, adam</td>\n",
       "      <td>0.571</td>\n",
       "      <td>0.495</td>\n",
       "      <td>0.437</td>\n",
       "      <td>0.629</td>\n",
       "    </tr>\n",
       "    <tr>\n",
       "      <th>10</th>\n",
       "      <td>RUS, adam, batch 25</td>\n",
       "      <td>0.569</td>\n",
       "      <td>0.490</td>\n",
       "      <td>0.431</td>\n",
       "      <td>0.624</td>\n",
       "    </tr>\n",
       "    <tr>\n",
       "      <th>9</th>\n",
       "      <td>ROS 1 hidden, 64 nodes, adam</td>\n",
       "      <td>0.510</td>\n",
       "      <td>0.463</td>\n",
       "      <td>0.425</td>\n",
       "      <td>0.624</td>\n",
       "    </tr>\n",
       "    <tr>\n",
       "      <th>4</th>\n",
       "      <td>1 hidden, 100 nodes, adam</td>\n",
       "      <td>0.283</td>\n",
       "      <td>0.355</td>\n",
       "      <td>0.478</td>\n",
       "      <td>0.674</td>\n",
       "    </tr>\n",
       "  </tbody>\n",
       "</table>\n",
       "</div>"
      ],
      "text/plain": [
       "                           Model  Recall     F1  Precision  Accuracy\n",
       "8   RUS 1 hidden, 64 nodes, adam   0.577  0.485      0.419     0.611\n",
       "11       no groom, RUS, 64, adam   0.571  0.495      0.437     0.629\n",
       "10           RUS, adam, batch 25   0.569  0.490      0.431     0.624\n",
       "9   ROS 1 hidden, 64 nodes, adam   0.510  0.463      0.425     0.624\n",
       "4      1 hidden, 100 nodes, adam   0.283  0.355      0.478     0.674"
      ]
     },
     "execution_count": 48,
     "metadata": {},
     "output_type": "execute_result"
    }
   ],
   "source": [
    "master_scores.sort_values('Recall', ascending=False).head()"
   ]
  },
  {
   "cell_type": "markdown",
   "id": "9540363a",
   "metadata": {},
   "source": [
    "# <a id='4evaluation'></a> 4. Model evaluation "
   ]
  },
  {
   "cell_type": "markdown",
   "id": "dfedd67d",
   "metadata": {},
   "source": [
    "## <a id='4.1'></a> 4.1 Training and Prediction Time "
   ]
  },
  {
   "cell_type": "code",
   "execution_count": 49,
   "id": "4976187b",
   "metadata": {},
   "outputs": [
    {
     "name": "stdout",
     "output_type": "stream",
     "text": [
      "Epoch 1/10\n",
      "169/169 [==============================] - 0s 891us/step - loss: 0.5984 - accuracy: 0.6694 - recall: 0.6711\n",
      "Epoch 2/10\n",
      "169/169 [==============================] - 0s 914us/step - loss: 0.5936 - accuracy: 0.6857 - recall: 0.6959\n",
      "Epoch 3/10\n",
      "169/169 [==============================] - 0s 926us/step - loss: 0.5915 - accuracy: 0.6804 - recall: 0.6992\n",
      "Epoch 4/10\n",
      "169/169 [==============================] - 0s 914us/step - loss: 0.5883 - accuracy: 0.6829 - recall: 0.6793\n",
      "Epoch 5/10\n",
      "169/169 [==============================] - 0s 891us/step - loss: 0.5809 - accuracy: 0.6946 - recall: 0.6968\n",
      "Epoch 6/10\n",
      "169/169 [==============================] - 0s 891us/step - loss: 0.5795 - accuracy: 0.6889 - recall: 0.7018\n",
      "Epoch 7/10\n",
      "169/169 [==============================] - 0s 902us/step - loss: 0.5759 - accuracy: 0.6935 - recall: 0.7091\n",
      "Epoch 8/10\n",
      "169/169 [==============================] - 0s 920us/step - loss: 0.5731 - accuracy: 0.6922 - recall: 0.6959\n",
      "Epoch 9/10\n",
      "169/169 [==============================] - 0s 926us/step - loss: 0.5693 - accuracy: 0.6983 - recall: 0.7077\n",
      "Epoch 10/10\n",
      "169/169 [==============================] - 0s 896us/step - loss: 0.5651 - accuracy: 0.7046 - recall: 0.7209\n",
      "54/54 [==============================] - 0s 621us/step\n"
     ]
    }
   ],
   "source": [
    "import time\n",
    "# training time \n",
    "start = time.time()\n",
    "model10.fit(X_resampled_ros, y_resampled_ros, epochs=10, batch_size=32)\n",
    "end = time.time()\n",
    "training_time = end - start\n",
    "\n",
    "p_start = time.time()\n",
    "y_pred = model10.predict(X_test_encoded)\n",
    "p_end = time.time()\n",
    "predict_time = p_end - p_start"
   ]
  },
  {
   "cell_type": "markdown",
   "id": "0269bf91",
   "metadata": {},
   "source": [
    "## <a id='4.2'></a> 4.2 Comparing to a Logistic Regression\n",
    "In Cat-pstone 1 I had did not prune down the columns nearly as much. I want to see how it does with this new training set. "
   ]
  },
  {
   "cell_type": "code",
   "execution_count": 86,
   "id": "b35e1a01",
   "metadata": {},
   "outputs": [
    {
     "name": "stdout",
     "output_type": "stream",
     "text": [
      "Neuter_status [ 0.19903558  0.17227488  0.03677185  0.12064047 -0.03706323  0.4342284\n",
      " -0.05853404  0.17224738 -0.38643666 -0.20124889 -0.03009703  0.05229493\n",
      " -0.14960211  0.26616604  0.49945393  0.166152    0.18983358  0.55200465\n",
      " -0.43973573 -0.05338864 -0.7714627   0.43310836 -0.20001811  0.24860885\n",
      " -0.28535725]\n"
     ]
    },
    {
     "name": "stderr",
     "output_type": "stream",
     "text": [
      "C:\\Users\\gwent\\AppData\\Local\\Temp\\ipykernel_27636\\1005917253.py:23: FutureWarning: The frame.append method is deprecated and will be removed from pandas in a future version. Use pandas.concat instead.\n",
      "  master_scores = master_scores.append(new_row, ignore_index=True)\n"
     ]
    },
    {
     "data": {
      "image/png": "[encoded data removed]",
      "text/plain": [
       "<Figure size 640x480 with 1 Axes>"
      ]
     },
     "metadata": {},
     "output_type": "display_data"
    }
   ],
   "source": [
    "from sklearn.linear_model import LogisticRegression\n",
    "\n",
    "# fit model, + training time \n",
    "t_start = time.time()\n",
    "log_balanced = LogisticRegression(class_weight='balanced').fit(X_train_encoded, (y_train.values.reshape(-1)))\n",
    "t_end = time.time()\n",
    "log_training = t_end - t_start\n",
    "\n",
    "# predict w model, + prediction time \n",
    "p_start = time.time()\n",
    "y_pred = log_balanced.predict(X_test_encoded)\n",
    "p_end = time.time()\n",
    "log_predict = p_end - p_start \n",
    "\n",
    "# add_to_master(model_description, y_true, y_predicted, binary=True)\n",
    "add_to_master(\"class_weight='balanced', LogReg\", y_test, y_pred)\n",
    "\n",
    "cm = confusion_matrix(y_test, y_pred)\n",
    "disp = ConfusionMatrixDisplay(confusion_matrix=cm, display_labels=['Non-suckers', 'Suckers'])\n",
    "disp.plot(colorbar=False, cmap='PuBu')\n",
    "plt.title(\"Logistic Regression, class_weight='balanced'\")"
   ]
  },
  {
   "cell_type": "code",
   "execution_count": 90,
   "id": "db6ecece",
   "metadata": {},
   "outputs": [
    {
     "name": "stdout",
     "output_type": "stream",
     "text": [
      "1: Breed_group_RUS -0.77\n",
      "2: Breed_group_ORI 0.55\n",
      "3: Breed_group_KOR 0.5\n",
      "4: Breed_group_PER -0.44\n",
      "5: Grooming 0.43\n",
      "6: Breed_group_SBI 0.43\n",
      "7: Breed_group_BRI -0.39\n",
      "8: Breed_group_other -0.29\n",
      "9: Breed_group_HCS 0.27\n",
      "10: Breed_group_TUV 0.25\n",
      "11: Breed_group_BUR -0.2\n",
      "12: Breed_group_SIB -0.2\n",
      "13: Neuter_status 0.2\n",
      "14: Breed_group_NFO 0.19\n",
      "15: Aggression_owner 0.17\n",
      "16: Breed_group_BEN 0.17\n",
      "17: Breed_group_MCO 0.17\n",
      "18: Breed_group_EUR -0.15\n",
      "19: Shyness_novel 0.12\n",
      "20: Breed_group_ABY -0.06\n",
      "21: Breed_group_RAG -0.05\n",
      "22: Breed_group_DRX 0.05\n",
      "23: Shyness_strangers -0.04\n",
      "24: Aggression_cats 0.04\n",
      "25: Breed_group_CRX -0.03\n"
     ]
    }
   ],
   "source": [
    "# Get the coefficients and corresponding feature names\n",
    "coefficients = log_balanced.coef_[0]\n",
    "feature_names = X_train_encoded.columns\n",
    "\n",
    "# Combine coefficients with feature names into a dictionary\n",
    "feature_coefficients = dict(zip(feature_names, coefficients))\n",
    "\n",
    "# Sort the feature coefficients by magnitude\n",
    "sorted_coefficients = sorted(feature_coefficients.items(), key=lambda x: abs(x[1]), reverse=True)\n",
    "\n",
    "\n",
    "# Print the top most predictive features\n",
    "\n",
    "for i, (feature, coefficient) in enumerate(sorted_coefficients[:26], start=1):\n",
    "    print(f\"{i}: {feature} {round(coefficient,2)}\")\n"
   ]
  },
  {
   "cell_type": "code",
   "execution_count": 51,
   "id": "ceb01be9",
   "metadata": {},
   "outputs": [
    {
     "name": "stderr",
     "output_type": "stream",
     "text": [
      "C:\\Users\\gwent\\AppData\\Local\\Temp\\ipykernel_27636\\1005917253.py:23: FutureWarning: The frame.append method is deprecated and will be removed from pandas in a future version. Use pandas.concat instead.\n",
      "  master_scores = master_scores.append(new_row, ignore_index=True)\n"
     ]
    }
   ],
   "source": [
    "# scaled and logistic regression\n",
    "log_balanced_scaled = LogisticRegression(class_weight='balanced').fit(X_train_scaled_encoded, (y_train.values.reshape(-1)))\n",
    "y_pred = log_balanced_scaled.predict(X_test_scaled_encoded)\n",
    "\n",
    "# add_to_master(model_description, y_true, y_predicted, binary=True)\n",
    "add_to_master(\"class_weight='balanced', LogReg, scaled\", y_test, y_pred);"
   ]
  },
  {
   "cell_type": "code",
   "execution_count": 52,
   "id": "76bad6e0",
   "metadata": {},
   "outputs": [
    {
     "name": "stdout",
     "output_type": "stream",
     "text": [
      "MLP training time: 1.6107640266418457 \n",
      "MLP predict time: 0.13364887237548828 \n",
      "Logistic Regression training time: 0.02094435691833496 \n",
      "Logistic Regression predict time: 0.000997781753540039\n",
      "MLP is 76.9 times slower at training than logistic regression. \n",
      "MLP is 133.9 times slower at predicting than logistic regression.\n"
     ]
    }
   ],
   "source": [
    "print(f\"MLP training time: {training_time} \\nMLP predict time: {predict_time} \\nLogistic Regression training time: {log_training} \\nLogistic Regression predict time: {log_predict}\")\n",
    "train_ratio = round(training_time / log_training, 1)\n",
    "predict_ratio = round(predict_time / log_predict, 1)\n",
    "print(f\"MLP is {train_ratio} times slower at training than logistic regression. \\nMLP is {predict_ratio} times slower at predicting than logistic regression.\" )\n",
    "# AND I didn't even include the time spent doing a random undersampling for the MLP, which logistic reg didn't need "
   ]
  },
  {
   "cell_type": "markdown",
   "id": "b59a44b4",
   "metadata": {},
   "source": [
    "### <a id='4.2.1'></a> 4.2.1 Logistic Regression No Grooming"
   ]
  },
  {
   "cell_type": "code",
   "execution_count": 53,
   "id": "aa2edf55",
   "metadata": {},
   "outputs": [
    {
     "name": "stderr",
     "output_type": "stream",
     "text": [
      "C:\\Users\\gwent\\anaconda3\\envs\\wool_sucking_nn\\lib\\site-packages\\sklearn\\utils\\validation.py:1143: DataConversionWarning: A column-vector y was passed when a 1d array was expected. Please change the shape of y to (n_samples, ), for example using ravel().\n",
      "  y = column_or_1d(y, warn=True)\n",
      "C:\\Users\\gwent\\AppData\\Local\\Temp\\ipykernel_27636\\1005917253.py:23: FutureWarning: The frame.append method is deprecated and will be removed from pandas in a future version. Use pandas.concat instead.\n",
      "  master_scores = master_scores.append(new_row, ignore_index=True)\n"
     ]
    },
    {
     "data": {
      "text/plain": [
       "Text(0.5, 1.0, 'Logistic Regression, No Grooming')"
      ]
     },
     "execution_count": 53,
     "metadata": {},
     "output_type": "execute_result"
    },
    {
     "data": {
      "image/png": "[encoded data removed]",
      "text/plain": [
       "<Figure size 640x480 with 1 Axes>"
      ]
     },
     "metadata": {},
     "output_type": "display_data"
    }
   ],
   "source": [
    "# no grooming logistic regression \n",
    "log_no_groom = LogisticRegression(class_weight='balanced').fit(X_train_scaled_encoded_ng, y_train)\n",
    "y_pred = log_no_groom.predict(X_test_scaled_encoded_ng)\n",
    "\n",
    "add_to_master('log reg no grooming', y_test, y_pred)\n",
    "\n",
    "cm = confusion_matrix(y_test, y_pred)\n",
    "disp = ConfusionMatrixDisplay(confusion_matrix=cm, display_labels=['Non-suckers', 'Suckers'])\n",
    "disp.plot(colorbar=False, cmap='PuBu')\n",
    "plt.title(\"Logistic Regression, No Grooming\")"
   ]
  },
  {
   "cell_type": "code",
   "execution_count": 54,
   "id": "4f6c10d0",
   "metadata": {},
   "outputs": [
    {
     "data": {
      "text/html": [
       "<div>\n",
       "<style scoped>\n",
       "    .dataframe tbody tr th:only-of-type {\n",
       "        vertical-align: middle;\n",
       "    }\n",
       "\n",
       "    .dataframe tbody tr th {\n",
       "        vertical-align: top;\n",
       "    }\n",
       "\n",
       "    .dataframe thead th {\n",
       "        text-align: right;\n",
       "    }\n",
       "</style>\n",
       "<table border=\"1\" class=\"dataframe\">\n",
       "  <thead>\n",
       "    <tr style=\"text-align: right;\">\n",
       "      <th></th>\n",
       "      <th>Model</th>\n",
       "      <th>Recall</th>\n",
       "      <th>F1</th>\n",
       "      <th>Precision</th>\n",
       "      <th>Accuracy</th>\n",
       "    </tr>\n",
       "  </thead>\n",
       "  <tbody>\n",
       "    <tr>\n",
       "      <th>13</th>\n",
       "      <td>class_weight='balanced', LogReg, scaled</td>\n",
       "      <td>0.593</td>\n",
       "      <td>0.504</td>\n",
       "      <td>0.437</td>\n",
       "      <td>0.628</td>\n",
       "    </tr>\n",
       "    <tr>\n",
       "      <th>14</th>\n",
       "      <td>log reg no grooming</td>\n",
       "      <td>0.593</td>\n",
       "      <td>0.504</td>\n",
       "      <td>0.437</td>\n",
       "      <td>0.628</td>\n",
       "    </tr>\n",
       "    <tr>\n",
       "      <th>12</th>\n",
       "      <td>class_weight='balanced', LogReg</td>\n",
       "      <td>0.588</td>\n",
       "      <td>0.502</td>\n",
       "      <td>0.438</td>\n",
       "      <td>0.629</td>\n",
       "    </tr>\n",
       "    <tr>\n",
       "      <th>8</th>\n",
       "      <td>RUS 1 hidden, 64 nodes, adam</td>\n",
       "      <td>0.577</td>\n",
       "      <td>0.485</td>\n",
       "      <td>0.419</td>\n",
       "      <td>0.611</td>\n",
       "    </tr>\n",
       "    <tr>\n",
       "      <th>11</th>\n",
       "      <td>no groom, RUS, 64, adam</td>\n",
       "      <td>0.571</td>\n",
       "      <td>0.495</td>\n",
       "      <td>0.437</td>\n",
       "      <td>0.629</td>\n",
       "    </tr>\n",
       "    <tr>\n",
       "      <th>10</th>\n",
       "      <td>RUS, adam, batch 25</td>\n",
       "      <td>0.569</td>\n",
       "      <td>0.490</td>\n",
       "      <td>0.431</td>\n",
       "      <td>0.624</td>\n",
       "    </tr>\n",
       "    <tr>\n",
       "      <th>9</th>\n",
       "      <td>ROS 1 hidden, 64 nodes, adam</td>\n",
       "      <td>0.510</td>\n",
       "      <td>0.463</td>\n",
       "      <td>0.425</td>\n",
       "      <td>0.624</td>\n",
       "    </tr>\n",
       "    <tr>\n",
       "      <th>4</th>\n",
       "      <td>1 hidden, 100 nodes, adam</td>\n",
       "      <td>0.283</td>\n",
       "      <td>0.355</td>\n",
       "      <td>0.478</td>\n",
       "      <td>0.674</td>\n",
       "    </tr>\n",
       "    <tr>\n",
       "      <th>6</th>\n",
       "      <td>1 hidden, 250 nodes, adam</td>\n",
       "      <td>0.279</td>\n",
       "      <td>0.345</td>\n",
       "      <td>0.452</td>\n",
       "      <td>0.663</td>\n",
       "    </tr>\n",
       "    <tr>\n",
       "      <th>7</th>\n",
       "      <td>1 hidden, 300 nodes, adam</td>\n",
       "      <td>0.274</td>\n",
       "      <td>0.343</td>\n",
       "      <td>0.461</td>\n",
       "      <td>0.667</td>\n",
       "    </tr>\n",
       "  </tbody>\n",
       "</table>\n",
       "</div>"
      ],
      "text/plain": [
       "                                      Model  Recall     F1  Precision  \\\n",
       "13  class_weight='balanced', LogReg, scaled   0.593  0.504      0.437   \n",
       "14                      log reg no grooming   0.593  0.504      0.437   \n",
       "12          class_weight='balanced', LogReg   0.588  0.502      0.438   \n",
       "8              RUS 1 hidden, 64 nodes, adam   0.577  0.485      0.419   \n",
       "11                  no groom, RUS, 64, adam   0.571  0.495      0.437   \n",
       "10                      RUS, adam, batch 25   0.569  0.490      0.431   \n",
       "9              ROS 1 hidden, 64 nodes, adam   0.510  0.463      0.425   \n",
       "4                 1 hidden, 100 nodes, adam   0.283  0.355      0.478   \n",
       "6                 1 hidden, 250 nodes, adam   0.279  0.345      0.452   \n",
       "7                 1 hidden, 300 nodes, adam   0.274  0.343      0.461   \n",
       "\n",
       "    Accuracy  \n",
       "13     0.628  \n",
       "14     0.628  \n",
       "12     0.629  \n",
       "8      0.611  \n",
       "11     0.629  \n",
       "10     0.624  \n",
       "9      0.624  \n",
       "4      0.674  \n",
       "6      0.663  \n",
       "7      0.667  "
      ]
     },
     "execution_count": 54,
     "metadata": {},
     "output_type": "execute_result"
    }
   ],
   "source": [
    "# for reference, cat-pstone 1 model was 0.622, 0.519, 0.446, 0.635\n",
    "master_scores.sort_values('Recall', ascending=False).head(10)"
   ]
  },
  {
   "cell_type": "markdown",
   "id": "f85b9f40",
   "metadata": {},
   "source": [
    "## <a id='4.3'></a>4.3 Old data MLP "
   ]
  },
  {
   "cell_type": "code",
   "execution_count": 55,
   "id": "e3a4f3d7",
   "metadata": {},
   "outputs": [],
   "source": [
    "from sklearn.model_selection import train_test_split\n",
    "df = pd.read_csv('..\\Data\\cat_clean.csv')"
   ]
  },
  {
   "cell_type": "code",
   "execution_count": 56,
   "id": "5f5707c1",
   "metadata": {},
   "outputs": [],
   "source": [
    "# binarize wool-sucking\n",
    "df_bin = df.copy()\n",
    "df_bin['ws_binary'] = df_bin['Wool_sucking'].replace([1, 2, 3, 4, 5, 6, 7], [1, 1, 1, 1, 1, 1, 1])\n",
    "df_bin.drop(columns='Wool_sucking', inplace=True)\n",
    "\n",
    "# Recode Behaviour_problem to binary\n",
    "df_bin['Behaviour_problem'].replace([1, 2, 3], [0, 1, 1], inplace=True)\n",
    "\n",
    "# encode breed group\n",
    "df_bin_encoded = pd.get_dummies(df_bin, columns=['Breed_group'])"
   ]
  },
  {
   "cell_type": "code",
   "execution_count": 57,
   "id": "0c7272b7",
   "metadata": {},
   "outputs": [
    {
     "data": {
      "text/plain": [
       "Index(['Age', 'Gender', 'Neuter_status', 'Weaning_age', 'Outdoors',\n",
       "       'Other_cats', 'Activity_level', 'Contact_people', 'Aggression_cats',\n",
       "       'Grooming', 'Behaviour_problem', 'Breed_group_ABY', 'Breed_group_BEN',\n",
       "       'Breed_group_BRI', 'Breed_group_BUR', 'Breed_group_CRX',\n",
       "       'Breed_group_DRX', 'Breed_group_EUR', 'Breed_group_HCS',\n",
       "       'Breed_group_KOR', 'Breed_group_MCO', 'Breed_group_NFO',\n",
       "       'Breed_group_ORI', 'Breed_group_PER', 'Breed_group_RAG',\n",
       "       'Breed_group_RUS', 'Breed_group_SBI', 'Breed_group_SIB',\n",
       "       'Breed_group_TUV', 'Breed_group_other', 'agg_shy',\n",
       "       'agg_aggress_people'],\n",
       "      dtype='object')"
      ]
     },
     "execution_count": 57,
     "metadata": {},
     "output_type": "execute_result"
    }
   ],
   "source": [
    "X = df_bin_encoded.drop(columns=['ws_binary'])\n",
    "y = df_bin_encoded['ws_binary']\n",
    "X_train, X_test, y_train, y_test = train_test_split(X, y, test_size=0.3, random_state=42,stratify=y)\n",
    "\n",
    "# making agg columns for training set \n",
    "X_train['agg_shy'] = (X_train['Shyness_novel'] + X_train['Shyness_strangers']) / 2\n",
    "X_train['agg_aggress_people'] = (X_train['Aggression_owner'] + X_train['Aggression_stranger']) / 2 \n",
    "X_train.drop(columns=['Shyness_novel', 'Shyness_strangers', 'Aggression_stranger', 'Aggression_owner'], inplace=True)\n",
    "X_train.columns\n",
    "\n",
    "# making agg columns for testing set\n",
    "X_test['agg_shy'] = (X_test['Shyness_novel'] + X_test['Shyness_strangers']) / 2\n",
    "X_test['agg_aggress_people'] = (X_test['Aggression_owner'] + X_test['Aggression_stranger']) / 2\n",
    "X_test.drop(columns=['Shyness_novel', 'Shyness_strangers', 'Aggression_stranger', 'Aggression_owner'], inplace=True)\n",
    "X_test.columns"
   ]
  },
  {
   "cell_type": "code",
   "execution_count": 58,
   "id": "7dc3d2e9",
   "metadata": {},
   "outputs": [
    {
     "name": "stdout",
     "output_type": "stream",
     "text": [
      "Epoch 1/10\n",
      "79/79 [==============================] - 0s 882us/step - loss: 0.6669 - accuracy: 0.6053 - recall: 0.5996\n",
      "Epoch 2/10\n",
      "79/79 [==============================] - 0s 908us/step - loss: 0.6305 - accuracy: 0.6457 - recall: 0.6503\n",
      "Epoch 3/10\n",
      "79/79 [==============================] - 0s 908us/step - loss: 0.6163 - accuracy: 0.6591 - recall: 0.6450\n",
      "Epoch 4/10\n",
      "79/79 [==============================] - 0s 908us/step - loss: 0.6063 - accuracy: 0.6686 - recall: 0.6639\n",
      "Epoch 5/10\n",
      "79/79 [==============================] - 0s 908us/step - loss: 0.5986 - accuracy: 0.6778 - recall: 0.6818\n",
      "Epoch 6/10\n",
      "79/79 [==============================] - 0s 895us/step - loss: 0.5887 - accuracy: 0.6873 - recall: 0.6803\n",
      "Epoch 7/10\n",
      "79/79 [==============================] - 0s 882us/step - loss: 0.5812 - accuracy: 0.7027 - recall: 0.7077\n",
      "Epoch 8/10\n",
      "79/79 [==============================] - 0s 882us/step - loss: 0.5719 - accuracy: 0.7003 - recall: 0.6951\n",
      "Epoch 9/10\n",
      "79/79 [==============================] - 0s 895us/step - loss: 0.5666 - accuracy: 0.7051 - recall: 0.7130\n",
      "Epoch 10/10\n",
      "79/79 [==============================] - 0s 908us/step - loss: 0.5568 - accuracy: 0.7177 - recall: 0.7091\n",
      "54/54 [==============================] - 0s 602us/step\n"
     ]
    },
    {
     "name": "stderr",
     "output_type": "stream",
     "text": [
      "C:\\Users\\gwent\\AppData\\Local\\Temp\\ipykernel_27636\\1005917253.py:23: FutureWarning: The frame.append method is deprecated and will be removed from pandas in a future version. Use pandas.concat instead.\n",
      "  master_scores = master_scores.append(new_row, ignore_index=True)\n"
     ]
    },
    {
     "data": {
      "text/plain": [
       "array([[648, 519],\n",
       "       [180, 362]], dtype=int64)"
      ]
     },
     "execution_count": 58,
     "metadata": {},
     "output_type": "execute_result"
    }
   ],
   "source": [
    "scaler = StandardScaler()\n",
    "scaler.fit(X_train)\n",
    "\n",
    "X_train_scaled_encoded = scaler.transform(X_train)\n",
    "X_test_scaled_encoded = scaler.transform(X_test)\n",
    "\n",
    "rus = RandomUnderSampler()\n",
    "X_resampled_rus, y_resampled_rus = rus.fit_resample(X_train_scaled_encoded, y_train)\n",
    "\n",
    "model12 = create_mlp(64, 'adam', X_resampled_rus)\n",
    "model12.fit(X_resampled_rus, y_resampled_rus, epochs=10, batch_size=32)\n",
    "\n",
    "y_pred = model12.predict(X_test_scaled_encoded)\n",
    "y_pred = np.round(y_pred).astype(int)\n",
    "\n",
    "cm = confusion_matrix(y_test, y_pred)\n",
    "add_to_master(\"old data rus adam 64\", y_test, y_pred)\n",
    "cm"
   ]
  },
  {
   "cell_type": "code",
   "execution_count": 59,
   "id": "d8178a86",
   "metadata": {},
   "outputs": [
    {
     "data": {
      "text/html": [
       "<div>\n",
       "<style scoped>\n",
       "    .dataframe tbody tr th:only-of-type {\n",
       "        vertical-align: middle;\n",
       "    }\n",
       "\n",
       "    .dataframe tbody tr th {\n",
       "        vertical-align: top;\n",
       "    }\n",
       "\n",
       "    .dataframe thead th {\n",
       "        text-align: right;\n",
       "    }\n",
       "</style>\n",
       "<table border=\"1\" class=\"dataframe\">\n",
       "  <thead>\n",
       "    <tr style=\"text-align: right;\">\n",
       "      <th></th>\n",
       "      <th>Model</th>\n",
       "      <th>Recall</th>\n",
       "      <th>F1</th>\n",
       "      <th>Precision</th>\n",
       "      <th>Accuracy</th>\n",
       "    </tr>\n",
       "  </thead>\n",
       "  <tbody>\n",
       "    <tr>\n",
       "      <th>15</th>\n",
       "      <td>old data rus adam 64</td>\n",
       "      <td>0.668</td>\n",
       "      <td>0.509</td>\n",
       "      <td>0.411</td>\n",
       "      <td>0.591</td>\n",
       "    </tr>\n",
       "    <tr>\n",
       "      <th>13</th>\n",
       "      <td>class_weight='balanced', LogReg, scaled</td>\n",
       "      <td>0.593</td>\n",
       "      <td>0.504</td>\n",
       "      <td>0.437</td>\n",
       "      <td>0.628</td>\n",
       "    </tr>\n",
       "    <tr>\n",
       "      <th>14</th>\n",
       "      <td>log reg no grooming</td>\n",
       "      <td>0.593</td>\n",
       "      <td>0.504</td>\n",
       "      <td>0.437</td>\n",
       "      <td>0.628</td>\n",
       "    </tr>\n",
       "    <tr>\n",
       "      <th>12</th>\n",
       "      <td>class_weight='balanced', LogReg</td>\n",
       "      <td>0.588</td>\n",
       "      <td>0.502</td>\n",
       "      <td>0.438</td>\n",
       "      <td>0.629</td>\n",
       "    </tr>\n",
       "    <tr>\n",
       "      <th>8</th>\n",
       "      <td>RUS 1 hidden, 64 nodes, adam</td>\n",
       "      <td>0.577</td>\n",
       "      <td>0.485</td>\n",
       "      <td>0.419</td>\n",
       "      <td>0.611</td>\n",
       "    </tr>\n",
       "    <tr>\n",
       "      <th>11</th>\n",
       "      <td>no groom, RUS, 64, adam</td>\n",
       "      <td>0.571</td>\n",
       "      <td>0.495</td>\n",
       "      <td>0.437</td>\n",
       "      <td>0.629</td>\n",
       "    </tr>\n",
       "    <tr>\n",
       "      <th>10</th>\n",
       "      <td>RUS, adam, batch 25</td>\n",
       "      <td>0.569</td>\n",
       "      <td>0.490</td>\n",
       "      <td>0.431</td>\n",
       "      <td>0.624</td>\n",
       "    </tr>\n",
       "    <tr>\n",
       "      <th>9</th>\n",
       "      <td>ROS 1 hidden, 64 nodes, adam</td>\n",
       "      <td>0.510</td>\n",
       "      <td>0.463</td>\n",
       "      <td>0.425</td>\n",
       "      <td>0.624</td>\n",
       "    </tr>\n",
       "    <tr>\n",
       "      <th>4</th>\n",
       "      <td>1 hidden, 100 nodes, adam</td>\n",
       "      <td>0.283</td>\n",
       "      <td>0.355</td>\n",
       "      <td>0.478</td>\n",
       "      <td>0.674</td>\n",
       "    </tr>\n",
       "    <tr>\n",
       "      <th>6</th>\n",
       "      <td>1 hidden, 250 nodes, adam</td>\n",
       "      <td>0.279</td>\n",
       "      <td>0.345</td>\n",
       "      <td>0.452</td>\n",
       "      <td>0.663</td>\n",
       "    </tr>\n",
       "    <tr>\n",
       "      <th>7</th>\n",
       "      <td>1 hidden, 300 nodes, adam</td>\n",
       "      <td>0.274</td>\n",
       "      <td>0.343</td>\n",
       "      <td>0.461</td>\n",
       "      <td>0.667</td>\n",
       "    </tr>\n",
       "    <tr>\n",
       "      <th>2</th>\n",
       "      <td>1 hidden, 64 nodes per, adam, scaled</td>\n",
       "      <td>0.270</td>\n",
       "      <td>0.342</td>\n",
       "      <td>0.466</td>\n",
       "      <td>0.669</td>\n",
       "    </tr>\n",
       "    <tr>\n",
       "      <th>5</th>\n",
       "      <td>1 hidden, 32 nodes, adam</td>\n",
       "      <td>0.240</td>\n",
       "      <td>0.327</td>\n",
       "      <td>0.512</td>\n",
       "      <td>0.685</td>\n",
       "    </tr>\n",
       "    <tr>\n",
       "      <th>0</th>\n",
       "      <td>1 hidden, 64 nodes per, adam</td>\n",
       "      <td>0.222</td>\n",
       "      <td>0.311</td>\n",
       "      <td>0.522</td>\n",
       "      <td>0.688</td>\n",
       "    </tr>\n",
       "    <tr>\n",
       "      <th>3</th>\n",
       "      <td>1 hidden, 64 nodes per, adagrad, scaled</td>\n",
       "      <td>0.190</td>\n",
       "      <td>0.274</td>\n",
       "      <td>0.488</td>\n",
       "      <td>0.679</td>\n",
       "    </tr>\n",
       "    <tr>\n",
       "      <th>1</th>\n",
       "      <td>1 hidden, 64 nodes per, adagrad</td>\n",
       "      <td>0.159</td>\n",
       "      <td>0.242</td>\n",
       "      <td>0.509</td>\n",
       "      <td>0.684</td>\n",
       "    </tr>\n",
       "  </tbody>\n",
       "</table>\n",
       "</div>"
      ],
      "text/plain": [
       "                                      Model  Recall     F1  Precision  \\\n",
       "15                     old data rus adam 64   0.668  0.509      0.411   \n",
       "13  class_weight='balanced', LogReg, scaled   0.593  0.504      0.437   \n",
       "14                      log reg no grooming   0.593  0.504      0.437   \n",
       "12          class_weight='balanced', LogReg   0.588  0.502      0.438   \n",
       "8              RUS 1 hidden, 64 nodes, adam   0.577  0.485      0.419   \n",
       "11                  no groom, RUS, 64, adam   0.571  0.495      0.437   \n",
       "10                      RUS, adam, batch 25   0.569  0.490      0.431   \n",
       "9              ROS 1 hidden, 64 nodes, adam   0.510  0.463      0.425   \n",
       "4                 1 hidden, 100 nodes, adam   0.283  0.355      0.478   \n",
       "6                 1 hidden, 250 nodes, adam   0.279  0.345      0.452   \n",
       "7                 1 hidden, 300 nodes, adam   0.274  0.343      0.461   \n",
       "2      1 hidden, 64 nodes per, adam, scaled   0.270  0.342      0.466   \n",
       "5                  1 hidden, 32 nodes, adam   0.240  0.327      0.512   \n",
       "0              1 hidden, 64 nodes per, adam   0.222  0.311      0.522   \n",
       "3   1 hidden, 64 nodes per, adagrad, scaled   0.190  0.274      0.488   \n",
       "1           1 hidden, 64 nodes per, adagrad   0.159  0.242      0.509   \n",
       "\n",
       "    Accuracy  \n",
       "15     0.591  \n",
       "13     0.628  \n",
       "14     0.628  \n",
       "12     0.629  \n",
       "8      0.611  \n",
       "11     0.629  \n",
       "10     0.624  \n",
       "9      0.624  \n",
       "4      0.674  \n",
       "6      0.663  \n",
       "7      0.667  \n",
       "2      0.669  \n",
       "5      0.685  \n",
       "0      0.688  \n",
       "3      0.679  \n",
       "1      0.684  "
      ]
     },
     "execution_count": 59,
     "metadata": {},
     "output_type": "execute_result"
    }
   ],
   "source": [
    "# for reference, cat-pstone 1 model was 0.622, 0.519, 0.446, 0.635\n",
    "# it really doesn't do any better than a weighted LR model, in either dataset\n",
    "master_scores.sort_values(['Recall', 'Accuracy'], ascending=False)"
   ]
  }
 ],
 "metadata": {
  "kernelspec": {
   "display_name": "Python 3 (ipykernel)",
   "language": "python",
   "name": "python3"
  },
  "language_info": {
   "codemirror_mode": {
    "name": "ipython",
    "version": 3
   },
   "file_extension": ".py",
   "mimetype": "text/x-python",
   "name": "python",
   "nbconvert_exporter": "python",
   "pygments_lexer": "ipython3",
   "version": "3.9.0"
  }
 },
 "nbformat": 4,
 "nbformat_minor": 5
}
