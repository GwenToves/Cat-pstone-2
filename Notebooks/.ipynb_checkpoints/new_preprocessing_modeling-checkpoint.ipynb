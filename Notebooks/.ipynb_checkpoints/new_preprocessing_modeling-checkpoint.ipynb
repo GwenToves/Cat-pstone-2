{
 "cells": [
  {
   "cell_type": "code",
   "execution_count": 1,
   "id": "a1fa7743",
   "metadata": {},
   "outputs": [],
   "source": [
    "# should already be activated, but just a reminder where ya are :)  \n",
    "# !conda activate wool_sucking_nn"
   ]
  },
  {
   "cell_type": "code",
   "execution_count": 2,
   "id": "d4af314f",
   "metadata": {},
   "outputs": [],
   "source": [
    "import pandas as pd\n",
    "import numpy as np\n",
    "import matplotlib.pyplot as plt\n",
    "import seaborn as sns\n",
    "from scipy import stats \n",
    "\n",
    "%matplotlib inline"
   ]
  },
  {
   "cell_type": "code",
   "execution_count": 3,
   "id": "12a43745",
   "metadata": {},
   "outputs": [],
   "source": [
    "# import data\n",
    "excel_file = pd.read_excel('..\\Data\\cleaned_and_split_data.xlsx', sheet_name=None)\n",
    "\n",
    "# Unpack the dataframes into separate variables\n",
    "X_train = excel_file['X_train']\n",
    "X_test = excel_file['X_test']\n",
    "y_train = excel_file['y_train']\n",
    "y_test = excel_file['y_test']"
   ]
  },
  {
   "cell_type": "code",
   "execution_count": 4,
   "id": "3f7a7f7d",
   "metadata": {},
   "outputs": [],
   "source": [
    "print(X_train.shape)\n",
    "X_train.head()"
   ]
  },
  {
   "cell_type": "code",
   "execution_count": 5,
   "id": "7364d6d3",
   "metadata": {},
   "outputs": [],
   "source": [
    "print(X_test.shape)\n",
    "X_test.head()"
   ]
  },
  {
   "cell_type": "code",
   "execution_count": 6,
   "id": "ee588efc",
   "metadata": {},
   "outputs": [],
   "source": [
    "print(y_train.shape)\n",
    "y_train.head()"
   ]
  },
  {
   "cell_type": "code",
   "execution_count": 7,
   "id": "71b7dd12",
   "metadata": {},
   "outputs": [],
   "source": [
    "print(y_test.shape)\n",
    "y_test.head()"
   ]
  },
  {
   "cell_type": "markdown",
   "id": "a1ccdddd",
   "metadata": {},
   "source": [
    "# Prep for tensorflow.keras"
   ]
  },
  {
   "cell_type": "code",
   "execution_count": 8,
   "id": "6dda99af",
   "metadata": {},
   "outputs": [],
   "source": [
    "import tensorflow\n",
    "from tensorflow import keras"
   ]
  },
  {
   "cell_type": "code",
   "execution_count": 9,
   "id": "69c582e6",
   "metadata": {},
   "outputs": [],
   "source": [
    "# one-hot breed \n",
    "X_train_encoded = pd.get_dummies(X_train, columns=['Breed_group'])\n",
    "X_test_encoded = pd.get_dummies(X_test, columns=['Breed_group'])\n"
   ]
  },
  {
   "cell_type": "code",
   "execution_count": 10,
   "id": "79a5eb7d",
   "metadata": {},
   "outputs": [],
   "source": [
    "X_train_encoded"
   ]
  }
 ],
 "metadata": {
  "kernelspec": {
   "display_name": "Python 3 (ipykernel)",
   "language": "python",
   "name": "python3"
  },
  "language_info": {
   "codemirror_mode": {
    "name": "ipython",
    "version": 3
   },
   "file_extension": ".py",
   "mimetype": "text/x-python",
   "name": "python",
   "nbconvert_exporter": "python",
   "pygments_lexer": "ipython3",
   "version": "3.9.0"
  }
 },
 "nbformat": 4,
 "nbformat_minor": 5
}
