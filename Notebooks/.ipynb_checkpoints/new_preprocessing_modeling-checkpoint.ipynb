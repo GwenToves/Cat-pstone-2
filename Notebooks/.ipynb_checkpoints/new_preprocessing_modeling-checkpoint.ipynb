{
 "cells": [
  {
   "cell_type": "code",
   "execution_count": 1,
   "id": "a1fa7743",
   "metadata": {},
   "outputs": [],
   "source": [
    "# should already be activated, but just a reminder where ya are :)  \n",
    "# !conda activate wool_sucking_nn"
   ]
  },
  {
   "cell_type": "code",
   "execution_count": 1,
   "id": "d4af314f",
   "metadata": {},
   "outputs": [],
   "source": [
    "import pandas as pd\n",
    "import numpy as np\n",
    "import matplotlib.pyplot as plt\n",
    "import seaborn as sns\n",
    "from scipy import stats \n",
    "\n",
    "%matplotlib inline"
   ]
  },
  {
   "cell_type": "code",
   "execution_count": 2,
   "id": "12a43745",
   "metadata": {},
   "outputs": [],
   "source": [
    "# import data\n",
    "excel_file = pd.read_excel('..\\Data\\cleaned_and_split_data.xlsx', sheet_name=None)\n",
    "\n",
    "# Unpack the dataframes into separate variables\n",
    "X_train = excel_file['X_train']\n",
    "X_test = excel_file['X_test']\n",
    "y_train = excel_file['y_train']\n",
    "y_test = excel_file['y_test']"
   ]
  },
  {
   "cell_type": "code",
   "execution_count": 3,
   "id": "3f7a7f7d",
   "metadata": {},
   "outputs": [
    {
     "name": "stdout",
     "output_type": "stream",
     "text": [
      "(3965, 7)\n"
     ]
    },
    {
     "data": {
      "text/html": [
       "<div>\n",
       "<style scoped>\n",
       "    .dataframe tbody tr th:only-of-type {\n",
       "        vertical-align: middle;\n",
       "    }\n",
       "\n",
       "    .dataframe tbody tr th {\n",
       "        vertical-align: top;\n",
       "    }\n",
       "\n",
       "    .dataframe thead th {\n",
       "        text-align: right;\n",
       "    }\n",
       "</style>\n",
       "<table border=\"1\" class=\"dataframe\">\n",
       "  <thead>\n",
       "    <tr style=\"text-align: right;\">\n",
       "      <th></th>\n",
       "      <th>Neuter_status</th>\n",
       "      <th>Breed_group</th>\n",
       "      <th>Aggression_owner</th>\n",
       "      <th>Aggression_cats</th>\n",
       "      <th>Shyness_novel</th>\n",
       "      <th>Shyness_strangers</th>\n",
       "      <th>Grooming</th>\n",
       "    </tr>\n",
       "  </thead>\n",
       "  <tbody>\n",
       "    <tr>\n",
       "      <th>0</th>\n",
       "      <td>1</td>\n",
       "      <td>SIB</td>\n",
       "      <td>1</td>\n",
       "      <td>2</td>\n",
       "      <td>4</td>\n",
       "      <td>4</td>\n",
       "      <td>3</td>\n",
       "    </tr>\n",
       "    <tr>\n",
       "      <th>1</th>\n",
       "      <td>1</td>\n",
       "      <td>HCS</td>\n",
       "      <td>1</td>\n",
       "      <td>2</td>\n",
       "      <td>4</td>\n",
       "      <td>4</td>\n",
       "      <td>2</td>\n",
       "    </tr>\n",
       "    <tr>\n",
       "      <th>2</th>\n",
       "      <td>0</td>\n",
       "      <td>ORI</td>\n",
       "      <td>1</td>\n",
       "      <td>1</td>\n",
       "      <td>1</td>\n",
       "      <td>1</td>\n",
       "      <td>1</td>\n",
       "    </tr>\n",
       "    <tr>\n",
       "      <th>3</th>\n",
       "      <td>1</td>\n",
       "      <td>MCO</td>\n",
       "      <td>1</td>\n",
       "      <td>1</td>\n",
       "      <td>2</td>\n",
       "      <td>2</td>\n",
       "      <td>3</td>\n",
       "    </tr>\n",
       "    <tr>\n",
       "      <th>4</th>\n",
       "      <td>1</td>\n",
       "      <td>HCS</td>\n",
       "      <td>1</td>\n",
       "      <td>1</td>\n",
       "      <td>2</td>\n",
       "      <td>1</td>\n",
       "      <td>2</td>\n",
       "    </tr>\n",
       "  </tbody>\n",
       "</table>\n",
       "</div>"
      ],
      "text/plain": [
       "   Neuter_status Breed_group  Aggression_owner  Aggression_cats  \\\n",
       "0              1         SIB                 1                2   \n",
       "1              1         HCS                 1                2   \n",
       "2              0         ORI                 1                1   \n",
       "3              1         MCO                 1                1   \n",
       "4              1         HCS                 1                1   \n",
       "\n",
       "   Shyness_novel  Shyness_strangers  Grooming  \n",
       "0              4                  4         3  \n",
       "1              4                  4         2  \n",
       "2              1                  1         1  \n",
       "3              2                  2         3  \n",
       "4              2                  1         2  "
      ]
     },
     "execution_count": 3,
     "metadata": {},
     "output_type": "execute_result"
    }
   ],
   "source": [
    "print(X_train.shape)\n",
    "X_train.head()"
   ]
  },
  {
   "cell_type": "code",
   "execution_count": 4,
   "id": "7364d6d3",
   "metadata": {},
   "outputs": [
    {
     "name": "stdout",
     "output_type": "stream",
     "text": [
      "(1700, 7)\n"
     ]
    },
    {
     "data": {
      "text/html": [
       "<div>\n",
       "<style scoped>\n",
       "    .dataframe tbody tr th:only-of-type {\n",
       "        vertical-align: middle;\n",
       "    }\n",
       "\n",
       "    .dataframe tbody tr th {\n",
       "        vertical-align: top;\n",
       "    }\n",
       "\n",
       "    .dataframe thead th {\n",
       "        text-align: right;\n",
       "    }\n",
       "</style>\n",
       "<table border=\"1\" class=\"dataframe\">\n",
       "  <thead>\n",
       "    <tr style=\"text-align: right;\">\n",
       "      <th></th>\n",
       "      <th>Neuter_status</th>\n",
       "      <th>Breed_group</th>\n",
       "      <th>Aggression_owner</th>\n",
       "      <th>Aggression_cats</th>\n",
       "      <th>Shyness_novel</th>\n",
       "      <th>Shyness_strangers</th>\n",
       "      <th>Grooming</th>\n",
       "    </tr>\n",
       "  </thead>\n",
       "  <tbody>\n",
       "    <tr>\n",
       "      <th>0</th>\n",
       "      <td>1</td>\n",
       "      <td>SIB</td>\n",
       "      <td>1</td>\n",
       "      <td>3</td>\n",
       "      <td>3</td>\n",
       "      <td>1</td>\n",
       "      <td>1</td>\n",
       "    </tr>\n",
       "    <tr>\n",
       "      <th>1</th>\n",
       "      <td>1</td>\n",
       "      <td>MCO</td>\n",
       "      <td>1</td>\n",
       "      <td>1</td>\n",
       "      <td>2</td>\n",
       "      <td>1</td>\n",
       "      <td>1</td>\n",
       "    </tr>\n",
       "    <tr>\n",
       "      <th>2</th>\n",
       "      <td>1</td>\n",
       "      <td>RUS</td>\n",
       "      <td>1</td>\n",
       "      <td>1</td>\n",
       "      <td>4</td>\n",
       "      <td>4</td>\n",
       "      <td>1</td>\n",
       "    </tr>\n",
       "    <tr>\n",
       "      <th>3</th>\n",
       "      <td>0</td>\n",
       "      <td>EUR</td>\n",
       "      <td>2</td>\n",
       "      <td>2</td>\n",
       "      <td>2</td>\n",
       "      <td>2</td>\n",
       "      <td>1</td>\n",
       "    </tr>\n",
       "    <tr>\n",
       "      <th>4</th>\n",
       "      <td>1</td>\n",
       "      <td>NFO</td>\n",
       "      <td>1</td>\n",
       "      <td>2</td>\n",
       "      <td>3</td>\n",
       "      <td>2</td>\n",
       "      <td>1</td>\n",
       "    </tr>\n",
       "  </tbody>\n",
       "</table>\n",
       "</div>"
      ],
      "text/plain": [
       "   Neuter_status Breed_group  Aggression_owner  Aggression_cats  \\\n",
       "0              1         SIB                 1                3   \n",
       "1              1         MCO                 1                1   \n",
       "2              1         RUS                 1                1   \n",
       "3              0         EUR                 2                2   \n",
       "4              1         NFO                 1                2   \n",
       "\n",
       "   Shyness_novel  Shyness_strangers  Grooming  \n",
       "0              3                  1         1  \n",
       "1              2                  1         1  \n",
       "2              4                  4         1  \n",
       "3              2                  2         1  \n",
       "4              3                  2         1  "
      ]
     },
     "execution_count": 4,
     "metadata": {},
     "output_type": "execute_result"
    }
   ],
   "source": [
    "print(X_test.shape)\n",
    "X_test.head()"
   ]
  },
  {
   "cell_type": "code",
   "execution_count": 5,
   "id": "ee588efc",
   "metadata": {},
   "outputs": [
    {
     "name": "stdout",
     "output_type": "stream",
     "text": [
      "(3965, 1)\n"
     ]
    },
    {
     "data": {
      "text/html": [
       "<div>\n",
       "<style scoped>\n",
       "    .dataframe tbody tr th:only-of-type {\n",
       "        vertical-align: middle;\n",
       "    }\n",
       "\n",
       "    .dataframe tbody tr th {\n",
       "        vertical-align: top;\n",
       "    }\n",
       "\n",
       "    .dataframe thead th {\n",
       "        text-align: right;\n",
       "    }\n",
       "</style>\n",
       "<table border=\"1\" class=\"dataframe\">\n",
       "  <thead>\n",
       "    <tr style=\"text-align: right;\">\n",
       "      <th></th>\n",
       "      <th>Wool_sucking_binary</th>\n",
       "    </tr>\n",
       "  </thead>\n",
       "  <tbody>\n",
       "    <tr>\n",
       "      <th>0</th>\n",
       "      <td>0</td>\n",
       "    </tr>\n",
       "    <tr>\n",
       "      <th>1</th>\n",
       "      <td>0</td>\n",
       "    </tr>\n",
       "    <tr>\n",
       "      <th>2</th>\n",
       "      <td>0</td>\n",
       "    </tr>\n",
       "    <tr>\n",
       "      <th>3</th>\n",
       "      <td>0</td>\n",
       "    </tr>\n",
       "    <tr>\n",
       "      <th>4</th>\n",
       "      <td>0</td>\n",
       "    </tr>\n",
       "  </tbody>\n",
       "</table>\n",
       "</div>"
      ],
      "text/plain": [
       "   Wool_sucking_binary\n",
       "0                    0\n",
       "1                    0\n",
       "2                    0\n",
       "3                    0\n",
       "4                    0"
      ]
     },
     "execution_count": 5,
     "metadata": {},
     "output_type": "execute_result"
    }
   ],
   "source": [
    "print(y_train.shape)\n",
    "y_train.head()"
   ]
  },
  {
   "cell_type": "code",
   "execution_count": 6,
   "id": "71b7dd12",
   "metadata": {},
   "outputs": [
    {
     "name": "stdout",
     "output_type": "stream",
     "text": [
      "(1700, 1)\n"
     ]
    },
    {
     "data": {
      "text/html": [
       "<div>\n",
       "<style scoped>\n",
       "    .dataframe tbody tr th:only-of-type {\n",
       "        vertical-align: middle;\n",
       "    }\n",
       "\n",
       "    .dataframe tbody tr th {\n",
       "        vertical-align: top;\n",
       "    }\n",
       "\n",
       "    .dataframe thead th {\n",
       "        text-align: right;\n",
       "    }\n",
       "</style>\n",
       "<table border=\"1\" class=\"dataframe\">\n",
       "  <thead>\n",
       "    <tr style=\"text-align: right;\">\n",
       "      <th></th>\n",
       "      <th>Wool_sucking_binary</th>\n",
       "    </tr>\n",
       "  </thead>\n",
       "  <tbody>\n",
       "    <tr>\n",
       "      <th>0</th>\n",
       "      <td>1</td>\n",
       "    </tr>\n",
       "    <tr>\n",
       "      <th>1</th>\n",
       "      <td>1</td>\n",
       "    </tr>\n",
       "    <tr>\n",
       "      <th>2</th>\n",
       "      <td>1</td>\n",
       "    </tr>\n",
       "    <tr>\n",
       "      <th>3</th>\n",
       "      <td>0</td>\n",
       "    </tr>\n",
       "    <tr>\n",
       "      <th>4</th>\n",
       "      <td>1</td>\n",
       "    </tr>\n",
       "  </tbody>\n",
       "</table>\n",
       "</div>"
      ],
      "text/plain": [
       "   Wool_sucking_binary\n",
       "0                    1\n",
       "1                    1\n",
       "2                    1\n",
       "3                    0\n",
       "4                    1"
      ]
     },
     "execution_count": 6,
     "metadata": {},
     "output_type": "execute_result"
    }
   ],
   "source": [
    "print(y_test.shape)\n",
    "y_test.head()"
   ]
  },
  {
   "cell_type": "markdown",
   "id": "d53267c9",
   "metadata": {},
   "source": [
    "## To record model metrics"
   ]
  },
  {
   "cell_type": "code",
   "execution_count": 7,
   "id": "44abc6a0",
   "metadata": {},
   "outputs": [],
   "source": [
    "# dataframe for scores amongst models\n",
    "master_scores = pd.DataFrame(columns=['Model','Recall', 'F1', 'Precision', 'Accuracy'])"
   ]
  },
  {
   "cell_type": "code",
   "execution_count": 8,
   "id": "0be17a6c",
   "metadata": {},
   "outputs": [],
   "source": [
    "# add_to_master(model_description, y_true, y_predicted, binary=True)\n",
    "def add_to_master(model_description, y_test, y_pred, binary=True):\n",
    "    '''\n",
    "    Adds a new row to the running score DataFrame `master_scores` \n",
    "    and functions for adding both binary and multiclass scores. \n",
    "    '''\n",
    "    global master_scores\n",
    "    if binary == True:\n",
    "        # Evalution Metrics\n",
    "        accuracy = accuracy_score(y_test, y_pred)\n",
    "        precision = precision_score(y_test, y_pred)\n",
    "        recall = recall_score(y_test, y_pred)\n",
    "        f1 = f1_score(y_test, y_pred)\n",
    "\n",
    "        # add to master_scores\n",
    "        new_row = {\n",
    "            'Model': model_description,\n",
    "            'Recall': round(recall,3), \n",
    "            'F1': round(f1, 3), \n",
    "            'Precision': round(precision, 3), \n",
    "            'Accuracy': round(accuracy, 3)}\n",
    "        \n",
    "        master_scores = master_scores.append(new_row, ignore_index=True)   \n",
    "    \n",
    "    else:\n",
    "        accuracy = accuracy_score(y_test, y_pred)\n",
    "        precision = precision_score(y_test, y_pred, average='macro') # I chose macro since we have less of the sucklers \n",
    "        recall = recall_score(y_test, y_pred, average='macro')       # and I want their accuracy to be meaningful\n",
    "        f1 = f1_score(y_test, y_pred, average='macro')\n",
    "\n",
    "\n",
    "        # add to master_scores\n",
    "        new_row = {\n",
    "            'Model': model_description,\n",
    "            'Recall': round(recall,3), \n",
    "            'F1': round(f1, 3), \n",
    "            'Precision': round(precision, 3), \n",
    "            'Accuracy': round(accuracy, 3)}\n",
    "        master_scores = master_scores.append(new_row, ignore_index=True)\n",
    "    return master_scores"
   ]
  },
  {
   "cell_type": "markdown",
   "id": "a1ccdddd",
   "metadata": {},
   "source": [
    "# Prep for tensorflow.keras"
   ]
  },
  {
   "cell_type": "code",
   "execution_count": 9,
   "id": "6dda99af",
   "metadata": {},
   "outputs": [],
   "source": [
    "import tensorflow as tf\n",
    "from tensorflow import keras\n",
    "from sklearn.metrics import accuracy_score,precision_score, recall_score, f1_score, confusion_matrix\n",
    "from sklearn.preprocessing import StandardScaler\n",
    "# for reproducibility \n",
    "tf.random.set_seed(42)\n",
    "np.random.seed(42)"
   ]
  },
  {
   "cell_type": "code",
   "execution_count": 10,
   "id": "69c582e6",
   "metadata": {},
   "outputs": [],
   "source": [
    "# one-hot breed \n",
    "X_train_encoded = pd.get_dummies(X_train, columns=['Breed_group'])\n",
    "X_test_encoded = pd.get_dummies(X_test, columns=['Breed_group'])"
   ]
  },
  {
   "cell_type": "code",
   "execution_count": 11,
   "id": "79a5eb7d",
   "metadata": {},
   "outputs": [
    {
     "data": {
      "text/html": [
       "<div>\n",
       "<style scoped>\n",
       "    .dataframe tbody tr th:only-of-type {\n",
       "        vertical-align: middle;\n",
       "    }\n",
       "\n",
       "    .dataframe tbody tr th {\n",
       "        vertical-align: top;\n",
       "    }\n",
       "\n",
       "    .dataframe thead th {\n",
       "        text-align: right;\n",
       "    }\n",
       "</style>\n",
       "<table border=\"1\" class=\"dataframe\">\n",
       "  <thead>\n",
       "    <tr style=\"text-align: right;\">\n",
       "      <th></th>\n",
       "      <th>Neuter_status</th>\n",
       "      <th>Aggression_owner</th>\n",
       "      <th>Aggression_cats</th>\n",
       "      <th>Shyness_novel</th>\n",
       "      <th>Shyness_strangers</th>\n",
       "      <th>Grooming</th>\n",
       "      <th>Breed_group_ABY</th>\n",
       "      <th>Breed_group_BEN</th>\n",
       "      <th>Breed_group_BRI</th>\n",
       "      <th>Breed_group_BUR</th>\n",
       "      <th>...</th>\n",
       "      <th>Breed_group_MCO</th>\n",
       "      <th>Breed_group_NFO</th>\n",
       "      <th>Breed_group_ORI</th>\n",
       "      <th>Breed_group_PER</th>\n",
       "      <th>Breed_group_RAG</th>\n",
       "      <th>Breed_group_RUS</th>\n",
       "      <th>Breed_group_SBI</th>\n",
       "      <th>Breed_group_SIB</th>\n",
       "      <th>Breed_group_TUV</th>\n",
       "      <th>Breed_group_other</th>\n",
       "    </tr>\n",
       "  </thead>\n",
       "  <tbody>\n",
       "    <tr>\n",
       "      <th>0</th>\n",
       "      <td>1</td>\n",
       "      <td>1</td>\n",
       "      <td>2</td>\n",
       "      <td>4</td>\n",
       "      <td>4</td>\n",
       "      <td>3</td>\n",
       "      <td>0</td>\n",
       "      <td>0</td>\n",
       "      <td>0</td>\n",
       "      <td>0</td>\n",
       "      <td>...</td>\n",
       "      <td>0</td>\n",
       "      <td>0</td>\n",
       "      <td>0</td>\n",
       "      <td>0</td>\n",
       "      <td>0</td>\n",
       "      <td>0</td>\n",
       "      <td>0</td>\n",
       "      <td>1</td>\n",
       "      <td>0</td>\n",
       "      <td>0</td>\n",
       "    </tr>\n",
       "    <tr>\n",
       "      <th>1</th>\n",
       "      <td>1</td>\n",
       "      <td>1</td>\n",
       "      <td>2</td>\n",
       "      <td>4</td>\n",
       "      <td>4</td>\n",
       "      <td>2</td>\n",
       "      <td>0</td>\n",
       "      <td>0</td>\n",
       "      <td>0</td>\n",
       "      <td>0</td>\n",
       "      <td>...</td>\n",
       "      <td>0</td>\n",
       "      <td>0</td>\n",
       "      <td>0</td>\n",
       "      <td>0</td>\n",
       "      <td>0</td>\n",
       "      <td>0</td>\n",
       "      <td>0</td>\n",
       "      <td>0</td>\n",
       "      <td>0</td>\n",
       "      <td>0</td>\n",
       "    </tr>\n",
       "    <tr>\n",
       "      <th>2</th>\n",
       "      <td>0</td>\n",
       "      <td>1</td>\n",
       "      <td>1</td>\n",
       "      <td>1</td>\n",
       "      <td>1</td>\n",
       "      <td>1</td>\n",
       "      <td>0</td>\n",
       "      <td>0</td>\n",
       "      <td>0</td>\n",
       "      <td>0</td>\n",
       "      <td>...</td>\n",
       "      <td>0</td>\n",
       "      <td>0</td>\n",
       "      <td>1</td>\n",
       "      <td>0</td>\n",
       "      <td>0</td>\n",
       "      <td>0</td>\n",
       "      <td>0</td>\n",
       "      <td>0</td>\n",
       "      <td>0</td>\n",
       "      <td>0</td>\n",
       "    </tr>\n",
       "    <tr>\n",
       "      <th>3</th>\n",
       "      <td>1</td>\n",
       "      <td>1</td>\n",
       "      <td>1</td>\n",
       "      <td>2</td>\n",
       "      <td>2</td>\n",
       "      <td>3</td>\n",
       "      <td>0</td>\n",
       "      <td>0</td>\n",
       "      <td>0</td>\n",
       "      <td>0</td>\n",
       "      <td>...</td>\n",
       "      <td>1</td>\n",
       "      <td>0</td>\n",
       "      <td>0</td>\n",
       "      <td>0</td>\n",
       "      <td>0</td>\n",
       "      <td>0</td>\n",
       "      <td>0</td>\n",
       "      <td>0</td>\n",
       "      <td>0</td>\n",
       "      <td>0</td>\n",
       "    </tr>\n",
       "    <tr>\n",
       "      <th>4</th>\n",
       "      <td>1</td>\n",
       "      <td>1</td>\n",
       "      <td>1</td>\n",
       "      <td>2</td>\n",
       "      <td>1</td>\n",
       "      <td>2</td>\n",
       "      <td>0</td>\n",
       "      <td>0</td>\n",
       "      <td>0</td>\n",
       "      <td>0</td>\n",
       "      <td>...</td>\n",
       "      <td>0</td>\n",
       "      <td>0</td>\n",
       "      <td>0</td>\n",
       "      <td>0</td>\n",
       "      <td>0</td>\n",
       "      <td>0</td>\n",
       "      <td>0</td>\n",
       "      <td>0</td>\n",
       "      <td>0</td>\n",
       "      <td>0</td>\n",
       "    </tr>\n",
       "    <tr>\n",
       "      <th>...</th>\n",
       "      <td>...</td>\n",
       "      <td>...</td>\n",
       "      <td>...</td>\n",
       "      <td>...</td>\n",
       "      <td>...</td>\n",
       "      <td>...</td>\n",
       "      <td>...</td>\n",
       "      <td>...</td>\n",
       "      <td>...</td>\n",
       "      <td>...</td>\n",
       "      <td>...</td>\n",
       "      <td>...</td>\n",
       "      <td>...</td>\n",
       "      <td>...</td>\n",
       "      <td>...</td>\n",
       "      <td>...</td>\n",
       "      <td>...</td>\n",
       "      <td>...</td>\n",
       "      <td>...</td>\n",
       "      <td>...</td>\n",
       "      <td>...</td>\n",
       "    </tr>\n",
       "    <tr>\n",
       "      <th>3960</th>\n",
       "      <td>1</td>\n",
       "      <td>1</td>\n",
       "      <td>3</td>\n",
       "      <td>1</td>\n",
       "      <td>1</td>\n",
       "      <td>2</td>\n",
       "      <td>0</td>\n",
       "      <td>0</td>\n",
       "      <td>0</td>\n",
       "      <td>0</td>\n",
       "      <td>...</td>\n",
       "      <td>0</td>\n",
       "      <td>0</td>\n",
       "      <td>0</td>\n",
       "      <td>0</td>\n",
       "      <td>0</td>\n",
       "      <td>0</td>\n",
       "      <td>0</td>\n",
       "      <td>0</td>\n",
       "      <td>1</td>\n",
       "      <td>0</td>\n",
       "    </tr>\n",
       "    <tr>\n",
       "      <th>3961</th>\n",
       "      <td>1</td>\n",
       "      <td>2</td>\n",
       "      <td>2</td>\n",
       "      <td>2</td>\n",
       "      <td>1</td>\n",
       "      <td>1</td>\n",
       "      <td>0</td>\n",
       "      <td>0</td>\n",
       "      <td>0</td>\n",
       "      <td>0</td>\n",
       "      <td>...</td>\n",
       "      <td>0</td>\n",
       "      <td>0</td>\n",
       "      <td>0</td>\n",
       "      <td>0</td>\n",
       "      <td>0</td>\n",
       "      <td>0</td>\n",
       "      <td>0</td>\n",
       "      <td>0</td>\n",
       "      <td>0</td>\n",
       "      <td>0</td>\n",
       "    </tr>\n",
       "    <tr>\n",
       "      <th>3962</th>\n",
       "      <td>1</td>\n",
       "      <td>1</td>\n",
       "      <td>1</td>\n",
       "      <td>3</td>\n",
       "      <td>4</td>\n",
       "      <td>1</td>\n",
       "      <td>0</td>\n",
       "      <td>0</td>\n",
       "      <td>0</td>\n",
       "      <td>0</td>\n",
       "      <td>...</td>\n",
       "      <td>0</td>\n",
       "      <td>0</td>\n",
       "      <td>0</td>\n",
       "      <td>0</td>\n",
       "      <td>0</td>\n",
       "      <td>0</td>\n",
       "      <td>0</td>\n",
       "      <td>1</td>\n",
       "      <td>0</td>\n",
       "      <td>0</td>\n",
       "    </tr>\n",
       "    <tr>\n",
       "      <th>3963</th>\n",
       "      <td>1</td>\n",
       "      <td>1</td>\n",
       "      <td>1</td>\n",
       "      <td>4</td>\n",
       "      <td>4</td>\n",
       "      <td>1</td>\n",
       "      <td>0</td>\n",
       "      <td>0</td>\n",
       "      <td>0</td>\n",
       "      <td>0</td>\n",
       "      <td>...</td>\n",
       "      <td>0</td>\n",
       "      <td>0</td>\n",
       "      <td>0</td>\n",
       "      <td>0</td>\n",
       "      <td>0</td>\n",
       "      <td>0</td>\n",
       "      <td>0</td>\n",
       "      <td>0</td>\n",
       "      <td>0</td>\n",
       "      <td>0</td>\n",
       "    </tr>\n",
       "    <tr>\n",
       "      <th>3964</th>\n",
       "      <td>1</td>\n",
       "      <td>1</td>\n",
       "      <td>2</td>\n",
       "      <td>1</td>\n",
       "      <td>1</td>\n",
       "      <td>2</td>\n",
       "      <td>0</td>\n",
       "      <td>0</td>\n",
       "      <td>0</td>\n",
       "      <td>0</td>\n",
       "      <td>...</td>\n",
       "      <td>0</td>\n",
       "      <td>0</td>\n",
       "      <td>0</td>\n",
       "      <td>0</td>\n",
       "      <td>1</td>\n",
       "      <td>0</td>\n",
       "      <td>0</td>\n",
       "      <td>0</td>\n",
       "      <td>0</td>\n",
       "      <td>0</td>\n",
       "    </tr>\n",
       "  </tbody>\n",
       "</table>\n",
       "<p>3965 rows × 25 columns</p>\n",
       "</div>"
      ],
      "text/plain": [
       "      Neuter_status  Aggression_owner  Aggression_cats  Shyness_novel  \\\n",
       "0                 1                 1                2              4   \n",
       "1                 1                 1                2              4   \n",
       "2                 0                 1                1              1   \n",
       "3                 1                 1                1              2   \n",
       "4                 1                 1                1              2   \n",
       "...             ...               ...              ...            ...   \n",
       "3960              1                 1                3              1   \n",
       "3961              1                 2                2              2   \n",
       "3962              1                 1                1              3   \n",
       "3963              1                 1                1              4   \n",
       "3964              1                 1                2              1   \n",
       "\n",
       "      Shyness_strangers  Grooming  Breed_group_ABY  Breed_group_BEN  \\\n",
       "0                     4         3                0                0   \n",
       "1                     4         2                0                0   \n",
       "2                     1         1                0                0   \n",
       "3                     2         3                0                0   \n",
       "4                     1         2                0                0   \n",
       "...                 ...       ...              ...              ...   \n",
       "3960                  1         2                0                0   \n",
       "3961                  1         1                0                0   \n",
       "3962                  4         1                0                0   \n",
       "3963                  4         1                0                0   \n",
       "3964                  1         2                0                0   \n",
       "\n",
       "      Breed_group_BRI  Breed_group_BUR  ...  Breed_group_MCO  Breed_group_NFO  \\\n",
       "0                   0                0  ...                0                0   \n",
       "1                   0                0  ...                0                0   \n",
       "2                   0                0  ...                0                0   \n",
       "3                   0                0  ...                1                0   \n",
       "4                   0                0  ...                0                0   \n",
       "...               ...              ...  ...              ...              ...   \n",
       "3960                0                0  ...                0                0   \n",
       "3961                0                0  ...                0                0   \n",
       "3962                0                0  ...                0                0   \n",
       "3963                0                0  ...                0                0   \n",
       "3964                0                0  ...                0                0   \n",
       "\n",
       "      Breed_group_ORI  Breed_group_PER  Breed_group_RAG  Breed_group_RUS  \\\n",
       "0                   0                0                0                0   \n",
       "1                   0                0                0                0   \n",
       "2                   1                0                0                0   \n",
       "3                   0                0                0                0   \n",
       "4                   0                0                0                0   \n",
       "...               ...              ...              ...              ...   \n",
       "3960                0                0                0                0   \n",
       "3961                0                0                0                0   \n",
       "3962                0                0                0                0   \n",
       "3963                0                0                0                0   \n",
       "3964                0                0                1                0   \n",
       "\n",
       "      Breed_group_SBI  Breed_group_SIB  Breed_group_TUV  Breed_group_other  \n",
       "0                   0                1                0                  0  \n",
       "1                   0                0                0                  0  \n",
       "2                   0                0                0                  0  \n",
       "3                   0                0                0                  0  \n",
       "4                   0                0                0                  0  \n",
       "...               ...              ...              ...                ...  \n",
       "3960                0                0                1                  0  \n",
       "3961                0                0                0                  0  \n",
       "3962                0                1                0                  0  \n",
       "3963                0                0                0                  0  \n",
       "3964                0                0                0                  0  \n",
       "\n",
       "[3965 rows x 25 columns]"
      ]
     },
     "execution_count": 11,
     "metadata": {},
     "output_type": "execute_result"
    }
   ],
   "source": [
    "X_train_encoded"
   ]
  },
  {
   "cell_type": "markdown",
   "id": "83911f9b",
   "metadata": {},
   "source": [
    "## Plain Jane"
   ]
  },
  {
   "cell_type": "code",
   "execution_count": 12,
   "id": "0f2ebb7b",
   "metadata": {},
   "outputs": [],
   "source": [
    "model = keras.Sequential([\n",
    "    keras.layers.Dense(64, activation='relu', input_shape=(len(X_train_encoded.columns),)),\n",
    "    keras.layers.Dense(64, activation='relu'),\n",
    "    keras.layers.Dense(1, activation='sigmoid')\n",
    "])"
   ]
  },
  {
   "cell_type": "code",
   "execution_count": 13,
   "id": "2aaefc0a",
   "metadata": {},
   "outputs": [],
   "source": [
    "def recall(y_true, y_pred):\n",
    "    true_positives = tf.keras.backend.sum(tf.keras.backend.round(tf.keras.backend.clip(y_true * y_pred, 0, 1)))\n",
    "    possible_positives = tf.keras.backend.sum(tf.keras.backend.round(tf.keras.backend.clip(y_true, 0, 1)))\n",
    "    recall = true_positives / (possible_positives + tf.keras.backend.epsilon())\n",
    "    return recall\n",
    "\n",
    "tf.keras.utils.get_custom_objects()['recall'] = recall"
   ]
  },
  {
   "cell_type": "code",
   "execution_count": 14,
   "id": "d370e07e",
   "metadata": {},
   "outputs": [],
   "source": [
    "model.compile(optimizer='adam', \n",
    "             loss='binary_crossentropy',\n",
    "             metrics=['accuracy', 'recall'])"
   ]
  },
  {
   "cell_type": "code",
   "execution_count": 15,
   "id": "02523520",
   "metadata": {},
   "outputs": [
    {
     "name": "stdout",
     "output_type": "stream",
     "text": [
      "Epoch 1/10\n",
      "124/124 [==============================] - 1s 957us/step - loss: 0.6292 - accuracy: 0.6827 - recall: 0.0133\n",
      "Epoch 2/10\n",
      "124/124 [==============================] - 0s 957us/step - loss: 0.6056 - accuracy: 0.6845 - recall: 0.1046\n",
      "Epoch 3/10\n",
      "124/124 [==============================] - 0s 916us/step - loss: 0.5946 - accuracy: 0.6883 - recall: 0.1757\n",
      "Epoch 4/10\n",
      "124/124 [==============================] - 0s 941us/step - loss: 0.5903 - accuracy: 0.6878 - recall: 0.1451\n",
      "Epoch 5/10\n",
      "124/124 [==============================] - 0s 924us/step - loss: 0.5851 - accuracy: 0.6974 - recall: 0.1734\n",
      "Epoch 6/10\n",
      "124/124 [==============================] - 0s 908us/step - loss: 0.5825 - accuracy: 0.6963 - recall: 0.2081\n",
      "Epoch 7/10\n",
      "124/124 [==============================] - 0s 900us/step - loss: 0.5827 - accuracy: 0.6926 - recall: 0.2124\n",
      "Epoch 8/10\n",
      "124/124 [==============================] - 0s 908us/step - loss: 0.5770 - accuracy: 0.7019 - recall: 0.2071\n",
      "Epoch 9/10\n",
      "124/124 [==============================] - 0s 892us/step - loss: 0.5763 - accuracy: 0.6981 - recall: 0.2007\n",
      "Epoch 10/10\n",
      "124/124 [==============================] - 0s 924us/step - loss: 0.5735 - accuracy: 0.7034 - recall: 0.2185\n"
     ]
    },
    {
     "data": {
      "text/plain": [
       "<keras.callbacks.History at 0x1eedb8ccf40>"
      ]
     },
     "execution_count": 15,
     "metadata": {},
     "output_type": "execute_result"
    }
   ],
   "source": [
    "model.fit(X_train_encoded, y_train, epochs=10, batch_size=32)"
   ]
  },
  {
   "cell_type": "code",
   "execution_count": 16,
   "id": "472c8352",
   "metadata": {},
   "outputs": [
    {
     "name": "stdout",
     "output_type": "stream",
     "text": [
      "54/54 [==============================] - 0s 734us/step - loss: 0.5865 - accuracy: 0.6800 - recall: 0.2685\n",
      "Test Accuracy: 0.6800000071525574\n",
      "Test Loss: 0.5864678025245667\n",
      "Test Recall: 0.26853251457214355\n"
     ]
    }
   ],
   "source": [
    "test_loss, test_acc, test_recall = model.evaluate(X_test_encoded, y_test)\n",
    "print('Test Accuracy:', test_acc)\n",
    "print('Test Loss:', test_loss)\n",
    "print('Test Recall:', test_recall)"
   ]
  },
  {
   "cell_type": "code",
   "execution_count": 17,
   "id": "cb7c6f7e",
   "metadata": {},
   "outputs": [
    {
     "name": "stdout",
     "output_type": "stream",
     "text": [
      "54/54 [==============================] - 0s 602us/step\n"
     ]
    },
    {
     "name": "stderr",
     "output_type": "stream",
     "text": [
      "C:\\Users\\gwent\\AppData\\Local\\Temp\\ipykernel_14392\\1005917253.py:23: FutureWarning: The frame.append method is deprecated and will be removed from pandas in a future version. Use pandas.concat instead.\n",
      "  master_scores = master_scores.append(new_row, ignore_index=True)\n"
     ]
    },
    {
     "data": {
      "text/plain": [
       "array([[1005,  154],\n",
       "       [ 390,  151]], dtype=int64)"
      ]
     },
     "execution_count": 17,
     "metadata": {},
     "output_type": "execute_result"
    }
   ],
   "source": [
    "y_pred = model.predict(X_test_encoded)\n",
    "y_pred = np.round(y_pred).astype(int)\n",
    "\n",
    "cm = confusion_matrix(y_test, y_pred)\n",
    "# add_to_master(model_description, y_true, y_predicted, binary=True)\n",
    "add_to_master(\"1 hidden, 64 nodes per, adam\", y_test, y_pred)\n",
    "cm"
   ]
  },
  {
   "cell_type": "code",
   "execution_count": 18,
   "id": "5431d1f6",
   "metadata": {},
   "outputs": [
    {
     "data": {
      "text/html": [
       "<div>\n",
       "<style scoped>\n",
       "    .dataframe tbody tr th:only-of-type {\n",
       "        vertical-align: middle;\n",
       "    }\n",
       "\n",
       "    .dataframe tbody tr th {\n",
       "        vertical-align: top;\n",
       "    }\n",
       "\n",
       "    .dataframe thead th {\n",
       "        text-align: right;\n",
       "    }\n",
       "</style>\n",
       "<table border=\"1\" class=\"dataframe\">\n",
       "  <thead>\n",
       "    <tr style=\"text-align: right;\">\n",
       "      <th></th>\n",
       "      <th>Model</th>\n",
       "      <th>Recall</th>\n",
       "      <th>F1</th>\n",
       "      <th>Precision</th>\n",
       "      <th>Accuracy</th>\n",
       "    </tr>\n",
       "  </thead>\n",
       "  <tbody>\n",
       "    <tr>\n",
       "      <th>0</th>\n",
       "      <td>1 hidden, 64 nodes per, adam</td>\n",
       "      <td>0.279</td>\n",
       "      <td>0.357</td>\n",
       "      <td>0.495</td>\n",
       "      <td>0.68</td>\n",
       "    </tr>\n",
       "  </tbody>\n",
       "</table>\n",
       "</div>"
      ],
      "text/plain": [
       "                          Model  Recall     F1  Precision  Accuracy\n",
       "0  1 hidden, 64 nodes per, adam   0.279  0.357      0.495      0.68"
      ]
     },
     "execution_count": 18,
     "metadata": {},
     "output_type": "execute_result"
    }
   ],
   "source": [
    "master_scores"
   ]
  },
  {
   "cell_type": "markdown",
   "id": "cfd960fa",
   "metadata": {},
   "source": [
    "Not doing too hot, but also seems to be doing better than initial models in Cat-pstone 1. "
   ]
  },
  {
   "cell_type": "markdown",
   "id": "e659e48e",
   "metadata": {},
   "source": [
    "## Adagrad optimizer"
   ]
  },
  {
   "cell_type": "code",
   "execution_count": 19,
   "id": "c8b1639f",
   "metadata": {},
   "outputs": [],
   "source": [
    "model2 = keras.Sequential([\n",
    "    keras.layers.Dense(64, activation='relu', input_shape=(len(X_train_encoded.columns),)),\n",
    "    keras.layers.Dense(64, activation='relu'),\n",
    "    keras.layers.Dense(1, activation='sigmoid')\n",
    "])"
   ]
  },
  {
   "cell_type": "code",
   "execution_count": 20,
   "id": "6c14f69f",
   "metadata": {},
   "outputs": [],
   "source": [
    "# Adagrad better for when feataures vary in magnitude and frequency \n",
    "optimizer = tf.keras.optimizers.Adagrad(learning_rate=0.01)\n",
    "model2.compile(optimizer=optimizer, \n",
    "             loss='binary_crossentropy',\n",
    "             metrics=['accuracy', 'recall'])"
   ]
  },
  {
   "cell_type": "code",
   "execution_count": 21,
   "id": "2238ef2d",
   "metadata": {},
   "outputs": [
    {
     "name": "stdout",
     "output_type": "stream",
     "text": [
      "Epoch 1/10\n",
      "124/124 [==============================] - 0s 811us/step - loss: 0.6373 - accuracy: 0.6810 - recall: 0.0000e+00\n",
      "Epoch 2/10\n",
      "124/124 [==============================] - 0s 835us/step - loss: 0.6236 - accuracy: 0.6815 - recall: 0.0019\n",
      "Epoch 3/10\n",
      "124/124 [==============================] - 0s 819us/step - loss: 0.6170 - accuracy: 0.6858 - recall: 0.0418\n",
      "Epoch 4/10\n",
      "124/124 [==============================] - 0s 819us/step - loss: 0.6130 - accuracy: 0.6858 - recall: 0.0432\n",
      "Epoch 5/10\n",
      "124/124 [==============================] - 0s 819us/step - loss: 0.6097 - accuracy: 0.6888 - recall: 0.0713\n",
      "Epoch 6/10\n",
      "124/124 [==============================] - 0s 860us/step - loss: 0.6069 - accuracy: 0.6868 - recall: 0.0932\n",
      "Epoch 7/10\n",
      "124/124 [==============================] - 0s 868us/step - loss: 0.6046 - accuracy: 0.6895 - recall: 0.0945\n",
      "Epoch 8/10\n",
      "124/124 [==============================] - 0s 835us/step - loss: 0.6029 - accuracy: 0.6923 - recall: 0.1032\n",
      "Epoch 9/10\n",
      "124/124 [==============================] - 0s 827us/step - loss: 0.5997 - accuracy: 0.6893 - recall: 0.1226\n",
      "Epoch 10/10\n",
      "124/124 [==============================] - 0s 819us/step - loss: 0.5994 - accuracy: 0.6885 - recall: 0.1188\n"
     ]
    },
    {
     "data": {
      "text/plain": [
       "<keras.callbacks.History at 0x1eedde98fd0>"
      ]
     },
     "execution_count": 21,
     "metadata": {},
     "output_type": "execute_result"
    }
   ],
   "source": [
    "model2.fit(X_train_encoded, y_train, epochs=10, batch_size=32)"
   ]
  },
  {
   "cell_type": "code",
   "execution_count": 22,
   "id": "df69d4da",
   "metadata": {},
   "outputs": [
    {
     "name": "stdout",
     "output_type": "stream",
     "text": [
      "54/54 [==============================] - 0s 715us/step - loss: 0.6031 - accuracy: 0.6865 - recall: 0.1331\n",
      "Test Accuracy: 0.6864705681800842\n",
      "Test Loss: 0.6031489372253418\n",
      "Test Recall: 0.13311810791492462\n"
     ]
    }
   ],
   "source": [
    "test_loss, test_acc, test_recall = model2.evaluate(X_test_encoded, y_test)\n",
    "print('Test Accuracy:', test_acc)\n",
    "print('Test Loss:', test_loss)\n",
    "print('Test Recall:', test_recall)"
   ]
  },
  {
   "cell_type": "code",
   "execution_count": 23,
   "id": "9aed1137",
   "metadata": {},
   "outputs": [
    {
     "name": "stdout",
     "output_type": "stream",
     "text": [
      "54/54 [==============================] - 0s 640us/step\n"
     ]
    },
    {
     "name": "stderr",
     "output_type": "stream",
     "text": [
      "C:\\Users\\gwent\\AppData\\Local\\Temp\\ipykernel_14392\\1005917253.py:23: FutureWarning: The frame.append method is deprecated and will be removed from pandas in a future version. Use pandas.concat instead.\n",
      "  master_scores = master_scores.append(new_row, ignore_index=True)\n"
     ]
    },
    {
     "data": {
      "text/plain": [
       "array([[1092,   67],\n",
       "       [ 466,   75]], dtype=int64)"
      ]
     },
     "execution_count": 23,
     "metadata": {},
     "output_type": "execute_result"
    }
   ],
   "source": [
    "y_pred = model2.predict(X_test_encoded)\n",
    "y_pred = np.round(y_pred).astype(int)\n",
    "\n",
    "cm = confusion_matrix(y_test, y_pred)\n",
    "add_to_master(\"1 hidden, 64 nodes per, adagrad\", y_test, y_pred)\n",
    "cm"
   ]
  },
  {
   "cell_type": "markdown",
   "id": "19631b6e",
   "metadata": {},
   "source": [
    "## Scaled with Plain Jane and Adagrad"
   ]
  },
  {
   "cell_type": "code",
   "execution_count": 24,
   "id": "60dcdda8",
   "metadata": {},
   "outputs": [
    {
     "data": {
      "text/html": [
       "<style>#sk-container-id-1 {color: black;background-color: white;}#sk-container-id-1 pre{padding: 0;}#sk-container-id-1 div.sk-toggleable {background-color: white;}#sk-container-id-1 label.sk-toggleable__label {cursor: pointer;display: block;width: 100%;margin-bottom: 0;padding: 0.3em;box-sizing: border-box;text-align: center;}#sk-container-id-1 label.sk-toggleable__label-arrow:before {content: \"▸\";float: left;margin-right: 0.25em;color: #696969;}#sk-container-id-1 label.sk-toggleable__label-arrow:hover:before {color: black;}#sk-container-id-1 div.sk-estimator:hover label.sk-toggleable__label-arrow:before {color: black;}#sk-container-id-1 div.sk-toggleable__content {max-height: 0;max-width: 0;overflow: hidden;text-align: left;background-color: #f0f8ff;}#sk-container-id-1 div.sk-toggleable__content pre {margin: 0.2em;color: black;border-radius: 0.25em;background-color: #f0f8ff;}#sk-container-id-1 input.sk-toggleable__control:checked~div.sk-toggleable__content {max-height: 200px;max-width: 100%;overflow: auto;}#sk-container-id-1 input.sk-toggleable__control:checked~label.sk-toggleable__label-arrow:before {content: \"▾\";}#sk-container-id-1 div.sk-estimator input.sk-toggleable__control:checked~label.sk-toggleable__label {background-color: #d4ebff;}#sk-container-id-1 div.sk-label input.sk-toggleable__control:checked~label.sk-toggleable__label {background-color: #d4ebff;}#sk-container-id-1 input.sk-hidden--visually {border: 0;clip: rect(1px 1px 1px 1px);clip: rect(1px, 1px, 1px, 1px);height: 1px;margin: -1px;overflow: hidden;padding: 0;position: absolute;width: 1px;}#sk-container-id-1 div.sk-estimator {font-family: monospace;background-color: #f0f8ff;border: 1px dotted black;border-radius: 0.25em;box-sizing: border-box;margin-bottom: 0.5em;}#sk-container-id-1 div.sk-estimator:hover {background-color: #d4ebff;}#sk-container-id-1 div.sk-parallel-item::after {content: \"\";width: 100%;border-bottom: 1px solid gray;flex-grow: 1;}#sk-container-id-1 div.sk-label:hover label.sk-toggleable__label {background-color: #d4ebff;}#sk-container-id-1 div.sk-serial::before {content: \"\";position: absolute;border-left: 1px solid gray;box-sizing: border-box;top: 0;bottom: 0;left: 50%;z-index: 0;}#sk-container-id-1 div.sk-serial {display: flex;flex-direction: column;align-items: center;background-color: white;padding-right: 0.2em;padding-left: 0.2em;position: relative;}#sk-container-id-1 div.sk-item {position: relative;z-index: 1;}#sk-container-id-1 div.sk-parallel {display: flex;align-items: stretch;justify-content: center;background-color: white;position: relative;}#sk-container-id-1 div.sk-item::before, #sk-container-id-1 div.sk-parallel-item::before {content: \"\";position: absolute;border-left: 1px solid gray;box-sizing: border-box;top: 0;bottom: 0;left: 50%;z-index: -1;}#sk-container-id-1 div.sk-parallel-item {display: flex;flex-direction: column;z-index: 1;position: relative;background-color: white;}#sk-container-id-1 div.sk-parallel-item:first-child::after {align-self: flex-end;width: 50%;}#sk-container-id-1 div.sk-parallel-item:last-child::after {align-self: flex-start;width: 50%;}#sk-container-id-1 div.sk-parallel-item:only-child::after {width: 0;}#sk-container-id-1 div.sk-dashed-wrapped {border: 1px dashed gray;margin: 0 0.4em 0.5em 0.4em;box-sizing: border-box;padding-bottom: 0.4em;background-color: white;}#sk-container-id-1 div.sk-label label {font-family: monospace;font-weight: bold;display: inline-block;line-height: 1.2em;}#sk-container-id-1 div.sk-label-container {text-align: center;}#sk-container-id-1 div.sk-container {/* jupyter's `normalize.less` sets `[hidden] { display: none; }` but bootstrap.min.css set `[hidden] { display: none !important; }` so we also need the `!important` here to be able to override the default hidden behavior on the sphinx rendered scikit-learn.org. See: https://github.com/scikit-learn/scikit-learn/issues/21755 */display: inline-block !important;position: relative;}#sk-container-id-1 div.sk-text-repr-fallback {display: none;}</style><div id=\"sk-container-id-1\" class=\"sk-top-container\"><div class=\"sk-text-repr-fallback\"><pre>StandardScaler()</pre><b>In a Jupyter environment, please rerun this cell to show the HTML representation or trust the notebook. <br />On GitHub, the HTML representation is unable to render, please try loading this page with nbviewer.org.</b></div><div class=\"sk-container\" hidden><div class=\"sk-item\"><div class=\"sk-estimator sk-toggleable\"><input class=\"sk-toggleable__control sk-hidden--visually\" id=\"sk-estimator-id-1\" type=\"checkbox\" checked><label for=\"sk-estimator-id-1\" class=\"sk-toggleable__label sk-toggleable__label-arrow\">StandardScaler</label><div class=\"sk-toggleable__content\"><pre>StandardScaler()</pre></div></div></div></div></div>"
      ],
      "text/plain": [
       "StandardScaler()"
      ]
     },
     "execution_count": 24,
     "metadata": {},
     "output_type": "execute_result"
    }
   ],
   "source": [
    "scaler = StandardScaler()\n",
    "scaler.fit(X_train_encoded)"
   ]
  },
  {
   "cell_type": "code",
   "execution_count": 25,
   "id": "0ef18545",
   "metadata": {},
   "outputs": [],
   "source": [
    "X_train_scaled_encoded = scaler.transform(X_train_encoded)\n",
    "X_test_scaled_encoded = scaler.transform(X_test_encoded)"
   ]
  },
  {
   "cell_type": "code",
   "execution_count": 26,
   "id": "bccddabe",
   "metadata": {},
   "outputs": [
    {
     "data": {
      "text/plain": [
       "(3965, 25)"
      ]
     },
     "execution_count": 26,
     "metadata": {},
     "output_type": "execute_result"
    }
   ],
   "source": [
    "X_train_scaled_encoded.shape"
   ]
  },
  {
   "cell_type": "code",
   "execution_count": 27,
   "id": "a18c4782",
   "metadata": {},
   "outputs": [
    {
     "name": "stdout",
     "output_type": "stream",
     "text": [
      "Epoch 1/10\n",
      "124/124 [==============================] - 0s 868us/step - loss: 0.6102 - accuracy: 0.6777 - recall: 0.1178\n",
      "Epoch 2/10\n",
      "124/124 [==============================] - 0s 900us/step - loss: 0.5882 - accuracy: 0.6918 - recall: 0.1488\n",
      "Epoch 3/10\n",
      "124/124 [==============================] - 0s 892us/step - loss: 0.5823 - accuracy: 0.6989 - recall: 0.2134\n",
      "Epoch 4/10\n",
      "124/124 [==============================] - 0s 908us/step - loss: 0.5791 - accuracy: 0.7011 - recall: 0.1787\n",
      "Epoch 5/10\n",
      "124/124 [==============================] - 0s 884us/step - loss: 0.5735 - accuracy: 0.7042 - recall: 0.2090\n",
      "Epoch 6/10\n",
      "124/124 [==============================] - 0s 916us/step - loss: 0.5728 - accuracy: 0.7044 - recall: 0.2274\n",
      "Epoch 7/10\n",
      "124/124 [==============================] - 0s 924us/step - loss: 0.5708 - accuracy: 0.7049 - recall: 0.2450\n",
      "Epoch 8/10\n",
      "124/124 [==============================] - 0s 900us/step - loss: 0.5669 - accuracy: 0.7052 - recall: 0.2385\n",
      "Epoch 9/10\n",
      "124/124 [==============================] - 0s 965us/step - loss: 0.5640 - accuracy: 0.7112 - recall: 0.2323\n",
      "Epoch 10/10\n",
      "124/124 [==============================] - 0s 908us/step - loss: 0.5615 - accuracy: 0.7079 - recall: 0.2624\n",
      "54/54 [==============================] - 0s 715us/step - loss: 0.5995 - accuracy: 0.6635 - recall: 0.2617\n",
      "Test Accuracy: 0.6635293960571289\n",
      "Test Loss: 0.599450409412384\n",
      "Test Recall: 0.26170268654823303\n",
      "54/54 [==============================] - 0s 659us/step\n"
     ]
    },
    {
     "name": "stderr",
     "output_type": "stream",
     "text": [
      "C:\\Users\\gwent\\AppData\\Local\\Temp\\ipykernel_14392\\1005917253.py:23: FutureWarning: The frame.append method is deprecated and will be removed from pandas in a future version. Use pandas.concat instead.\n",
      "  master_scores = master_scores.append(new_row, ignore_index=True)\n"
     ]
    },
    {
     "data": {
      "text/plain": [
       "array([[977, 182],\n",
       "       [390, 151]], dtype=int64)"
      ]
     },
     "execution_count": 27,
     "metadata": {},
     "output_type": "execute_result"
    }
   ],
   "source": [
    "# Plain Jane + scaled\n",
    "model3 = keras.Sequential([\n",
    "    keras.layers.Dense(64, activation='relu', input_shape=(25,)),\n",
    "    keras.layers.Dense(64, activation='relu'),\n",
    "    keras.layers.Dense(1, activation='sigmoid')\n",
    "])\n",
    "\n",
    "model3.compile(optimizer='adam', \n",
    "             loss='binary_crossentropy',\n",
    "             metrics=['accuracy', 'recall'])\n",
    "\n",
    "model3.fit(X_train_scaled_encoded, y_train, epochs=10, batch_size=32)\n",
    "\n",
    "test_loss, test_acc, test_recall = model3.evaluate(X_test_scaled_encoded, y_test)\n",
    "print('Test Accuracy:', test_acc)\n",
    "print('Test Loss:', test_loss)\n",
    "print('Test Recall:', test_recall)\n",
    "\n",
    "y_pred = model3.predict(X_test_scaled_encoded)\n",
    "y_pred = np.round(y_pred).astype(int)\n",
    "\n",
    "cm = confusion_matrix(y_test, y_pred)\n",
    "add_to_master(\"1 hidden, 64 nodes per, adam, scaled\", y_test, y_pred)\n",
    "cm"
   ]
  },
  {
   "cell_type": "code",
   "execution_count": 28,
   "id": "424d9860",
   "metadata": {},
   "outputs": [
    {
     "name": "stdout",
     "output_type": "stream",
     "text": [
      "Epoch 1/10\n",
      "124/124 [==============================] - 0s 811us/step - loss: 0.6231 - accuracy: 0.6830 - recall: 0.0212\n",
      "Epoch 2/10\n",
      "124/124 [==============================] - 0s 876us/step - loss: 0.6010 - accuracy: 0.6910 - recall: 0.0654\n",
      "Epoch 3/10\n",
      "124/124 [==============================] - 0s 981us/step - loss: 0.5924 - accuracy: 0.6931 - recall: 0.1287\n",
      "Epoch 4/10\n",
      "124/124 [==============================] - 0s 941us/step - loss: 0.5882 - accuracy: 0.6941 - recall: 0.1370\n",
      "Epoch 5/10\n",
      "124/124 [==============================] - 0s 908us/step - loss: 0.5853 - accuracy: 0.7006 - recall: 0.1620\n",
      "Epoch 6/10\n",
      "124/124 [==============================] - 0s 949us/step - loss: 0.5833 - accuracy: 0.6999 - recall: 0.1818\n",
      "Epoch 7/10\n",
      "124/124 [==============================] - 0s 916us/step - loss: 0.5817 - accuracy: 0.6971 - recall: 0.1746\n",
      "Epoch 8/10\n",
      "124/124 [==============================] - 0s 868us/step - loss: 0.5804 - accuracy: 0.7004 - recall: 0.1917\n",
      "Epoch 9/10\n",
      "124/124 [==============================] - 0s 835us/step - loss: 0.5784 - accuracy: 0.7001 - recall: 0.1991\n",
      "Epoch 10/10\n",
      "124/124 [==============================] - 0s 819us/step - loss: 0.5781 - accuracy: 0.7021 - recall: 0.1868\n",
      "54/54 [==============================] - 0s 734us/step - loss: 0.5866 - accuracy: 0.6912 - recall: 0.1852\n",
      "Test Accuracy: 0.6911764740943909\n",
      "Test Loss: 0.5866242051124573\n",
      "Test Recall: 0.18517529964447021\n",
      "54/54 [==============================] - 0s 621us/step\n"
     ]
    },
    {
     "name": "stderr",
     "output_type": "stream",
     "text": [
      "C:\\Users\\gwent\\AppData\\Local\\Temp\\ipykernel_14392\\1005917253.py:23: FutureWarning: The frame.append method is deprecated and will be removed from pandas in a future version. Use pandas.concat instead.\n",
      "  master_scores = master_scores.append(new_row, ignore_index=True)\n"
     ]
    },
    {
     "data": {
      "text/plain": [
       "array([[1072,   87],\n",
       "       [ 438,  103]], dtype=int64)"
      ]
     },
     "execution_count": 28,
     "metadata": {},
     "output_type": "execute_result"
    }
   ],
   "source": [
    "# adagrad + scaled \n",
    "model4 = keras.Sequential([\n",
    "    keras.layers.Dense(64, activation='relu', input_shape=(25,)),\n",
    "    keras.layers.Dense(64, activation='relu'),\n",
    "    keras.layers.Dense(1, activation='sigmoid')\n",
    "])\n",
    "\n",
    "# Adagrad better for when feataures vary in magnitude and frequency \n",
    "optimizer = tf.keras.optimizers.Adagrad(learning_rate=0.01)\n",
    "model4.compile(optimizer=optimizer, \n",
    "             loss='binary_crossentropy',\n",
    "             metrics=['accuracy', 'recall'])\n",
    "\n",
    "model4.fit(X_train_scaled_encoded, y_train, epochs=10, batch_size=32)\n",
    "\n",
    "test_loss, test_acc, test_recall = model4.evaluate(X_test_scaled_encoded, y_test)\n",
    "print('Test Accuracy:', test_acc)\n",
    "print('Test Loss:', test_loss)\n",
    "print('Test Recall:', test_recall)\n",
    "\n",
    "y_pred = model4.predict(X_test_scaled_encoded)\n",
    "y_pred = np.round(y_pred).astype(int)\n",
    "\n",
    "cm = confusion_matrix(y_test, y_pred)\n",
    "add_to_master(\"1 hidden, 64 nodes per, adagrad, scaled\", y_test, y_pred)\n",
    "cm"
   ]
  },
  {
   "cell_type": "code",
   "execution_count": 29,
   "id": "49bf0634",
   "metadata": {},
   "outputs": [
    {
     "data": {
      "text/html": [
       "<div>\n",
       "<style scoped>\n",
       "    .dataframe tbody tr th:only-of-type {\n",
       "        vertical-align: middle;\n",
       "    }\n",
       "\n",
       "    .dataframe tbody tr th {\n",
       "        vertical-align: top;\n",
       "    }\n",
       "\n",
       "    .dataframe thead th {\n",
       "        text-align: right;\n",
       "    }\n",
       "</style>\n",
       "<table border=\"1\" class=\"dataframe\">\n",
       "  <thead>\n",
       "    <tr style=\"text-align: right;\">\n",
       "      <th></th>\n",
       "      <th>Model</th>\n",
       "      <th>Recall</th>\n",
       "      <th>F1</th>\n",
       "      <th>Precision</th>\n",
       "      <th>Accuracy</th>\n",
       "    </tr>\n",
       "  </thead>\n",
       "  <tbody>\n",
       "    <tr>\n",
       "      <th>0</th>\n",
       "      <td>1 hidden, 64 nodes per, adam</td>\n",
       "      <td>0.279</td>\n",
       "      <td>0.357</td>\n",
       "      <td>0.495</td>\n",
       "      <td>0.680</td>\n",
       "    </tr>\n",
       "    <tr>\n",
       "      <th>2</th>\n",
       "      <td>1 hidden, 64 nodes per, adam, scaled</td>\n",
       "      <td>0.279</td>\n",
       "      <td>0.346</td>\n",
       "      <td>0.453</td>\n",
       "      <td>0.664</td>\n",
       "    </tr>\n",
       "    <tr>\n",
       "      <th>3</th>\n",
       "      <td>1 hidden, 64 nodes per, adagrad, scaled</td>\n",
       "      <td>0.190</td>\n",
       "      <td>0.282</td>\n",
       "      <td>0.542</td>\n",
       "      <td>0.691</td>\n",
       "    </tr>\n",
       "    <tr>\n",
       "      <th>1</th>\n",
       "      <td>1 hidden, 64 nodes per, adagrad</td>\n",
       "      <td>0.139</td>\n",
       "      <td>0.220</td>\n",
       "      <td>0.528</td>\n",
       "      <td>0.686</td>\n",
       "    </tr>\n",
       "  </tbody>\n",
       "</table>\n",
       "</div>"
      ],
      "text/plain": [
       "                                     Model  Recall     F1  Precision  Accuracy\n",
       "0             1 hidden, 64 nodes per, adam   0.279  0.357      0.495     0.680\n",
       "2     1 hidden, 64 nodes per, adam, scaled   0.279  0.346      0.453     0.664\n",
       "3  1 hidden, 64 nodes per, adagrad, scaled   0.190  0.282      0.542     0.691\n",
       "1          1 hidden, 64 nodes per, adagrad   0.139  0.220      0.528     0.686"
      ]
     },
     "execution_count": 29,
     "metadata": {},
     "output_type": "execute_result"
    }
   ],
   "source": [
    "master_scores.sort_values('Recall', ascending=False)"
   ]
  },
  {
   "cell_type": "code",
   "execution_count": 30,
   "id": "256366ac",
   "metadata": {},
   "outputs": [],
   "source": [
    "def create_mlp(nodes, optimizer, X_train):\n",
    "    # Define the model architecture\n",
    "    model = keras.Sequential([\n",
    "    keras.layers.Dense(nodes, activation='relu', input_shape=(X_train.shape[1],)),\n",
    "    keras.layers.Dense(nodes, activation='relu'),\n",
    "    keras.layers.Dense(1, activation='sigmoid')\n",
    "])\n",
    "\n",
    "    model.compile(optimizer=optimizer, \n",
    "             loss='binary_crossentropy',\n",
    "             metrics=['accuracy', 'recall'])\n",
    "    \n",
    "    return model"
   ]
  },
  {
   "cell_type": "code",
   "execution_count": 31,
   "id": "59ff7897",
   "metadata": {},
   "outputs": [],
   "source": [
    "model5 = create_mlp(100, 'adam', X_train_scaled_encoded)"
   ]
  },
  {
   "cell_type": "code",
   "execution_count": 32,
   "id": "db824e87",
   "metadata": {},
   "outputs": [
    {
     "name": "stdout",
     "output_type": "stream",
     "text": [
      "Epoch 1/10\n",
      "124/124 [==============================] - 0s 973us/step - loss: 0.6047 - accuracy: 0.6820 - recall: 0.1112\n",
      "Epoch 2/10\n",
      "124/124 [==============================] - 0s 997us/step - loss: 0.5856 - accuracy: 0.6956 - recall: 0.1908\n",
      "Epoch 3/10\n",
      "124/124 [==============================] - 0s 1ms/step - loss: 0.5789 - accuracy: 0.6981 - recall: 0.2367\n",
      "Epoch 4/10\n",
      "124/124 [==============================] - 0s 997us/step - loss: 0.5758 - accuracy: 0.6979 - recall: 0.2002\n",
      "Epoch 5/10\n",
      "124/124 [==============================] - 0s 1ms/step - loss: 0.5699 - accuracy: 0.7054 - recall: 0.2299\n",
      "Epoch 6/10\n",
      "124/124 [==============================] - 0s 989us/step - loss: 0.5701 - accuracy: 0.7049 - recall: 0.2390\n",
      "Epoch 7/10\n",
      "124/124 [==============================] - 0s 981us/step - loss: 0.5674 - accuracy: 0.7047 - recall: 0.2682\n",
      "Epoch 8/10\n",
      "124/124 [==============================] - 0s 981us/step - loss: 0.5628 - accuracy: 0.7130 - recall: 0.2709\n",
      "Epoch 9/10\n",
      "124/124 [==============================] - 0s 989us/step - loss: 0.5585 - accuracy: 0.7120 - recall: 0.2454\n",
      "Epoch 10/10\n",
      "124/124 [==============================] - 0s 989us/step - loss: 0.5570 - accuracy: 0.7125 - recall: 0.2818\n",
      "54/54 [==============================] - 0s 753us/step - loss: 0.5975 - accuracy: 0.6635 - recall: 0.2600\n",
      "Test Accuracy: 0.6635293960571289\n",
      "Test Loss: 0.5975043177604675\n",
      "Test Recall: 0.25997382402420044\n",
      "54/54 [==============================] - 0s 621us/step\n"
     ]
    },
    {
     "name": "stderr",
     "output_type": "stream",
     "text": [
      "C:\\Users\\gwent\\AppData\\Local\\Temp\\ipykernel_14392\\1005917253.py:23: FutureWarning: The frame.append method is deprecated and will be removed from pandas in a future version. Use pandas.concat instead.\n",
      "  master_scores = master_scores.append(new_row, ignore_index=True)\n"
     ]
    },
    {
     "data": {
      "text/plain": [
       "array([[979, 180],\n",
       "       [392, 149]], dtype=int64)"
      ]
     },
     "execution_count": 32,
     "metadata": {},
     "output_type": "execute_result"
    }
   ],
   "source": [
    "model5.fit(X_train_scaled_encoded, y_train, epochs=10, batch_size=32)\n",
    "\n",
    "test_loss, test_acc, test_recall = model5.evaluate(X_test_scaled_encoded, y_test)\n",
    "print('Test Accuracy:', test_acc)\n",
    "print('Test Loss:', test_loss)\n",
    "print('Test Recall:', test_recall)\n",
    "\n",
    "y_pred = model5.predict(X_test_scaled_encoded)\n",
    "y_pred = np.round(y_pred).astype(int)\n",
    "\n",
    "cm = confusion_matrix(y_test, y_pred)\n",
    "add_to_master(\"1 hidden, 100 nodes, adam\", y_test, y_pred)\n",
    "cm"
   ]
  },
  {
   "cell_type": "code",
   "execution_count": 33,
   "id": "80c22910",
   "metadata": {},
   "outputs": [
    {
     "name": "stdout",
     "output_type": "stream",
     "text": [
      "Epoch 1/10\n",
      "124/124 [==============================] - 0s 843us/step - loss: 0.6189 - accuracy: 0.6726 - recall: 0.1100\n",
      "Epoch 2/10\n",
      "124/124 [==============================] - 0s 860us/step - loss: 0.5946 - accuracy: 0.6923 - recall: 0.1084\n",
      "Epoch 3/10\n",
      "124/124 [==============================] - 0s 860us/step - loss: 0.5888 - accuracy: 0.6956 - recall: 0.1807\n",
      "Epoch 4/10\n",
      "124/124 [==============================] - 0s 860us/step - loss: 0.5842 - accuracy: 0.7009 - recall: 0.1627\n",
      "Epoch 5/10\n",
      "124/124 [==============================] - 0s 868us/step - loss: 0.5805 - accuracy: 0.6994 - recall: 0.1814\n",
      "Epoch 6/10\n",
      "124/124 [==============================] - 0s 900us/step - loss: 0.5782 - accuracy: 0.6994 - recall: 0.1912\n",
      "Epoch 7/10\n",
      "124/124 [==============================] - 0s 876us/step - loss: 0.5763 - accuracy: 0.7009 - recall: 0.2008\n",
      "Epoch 8/10\n",
      "124/124 [==============================] - 0s 860us/step - loss: 0.5737 - accuracy: 0.7059 - recall: 0.2122\n",
      "Epoch 9/10\n",
      "124/124 [==============================] - 0s 876us/step - loss: 0.5720 - accuracy: 0.7029 - recall: 0.2031\n",
      "Epoch 10/10\n",
      "124/124 [==============================] - 0s 851us/step - loss: 0.5696 - accuracy: 0.7069 - recall: 0.2228\n",
      "54/54 [==============================] - 0s 715us/step - loss: 0.5906 - accuracy: 0.6735 - recall: 0.2132\n",
      "Test Accuracy: 0.6735293865203857\n",
      "Test Loss: 0.5906127691268921\n",
      "Test Recall: 0.21322691440582275\n",
      "54/54 [==============================] - 0s 602us/step\n"
     ]
    },
    {
     "name": "stderr",
     "output_type": "stream",
     "text": [
      "C:\\Users\\gwent\\AppData\\Local\\Temp\\ipykernel_14392\\1005917253.py:23: FutureWarning: The frame.append method is deprecated and will be removed from pandas in a future version. Use pandas.concat instead.\n",
      "  master_scores = master_scores.append(new_row, ignore_index=True)\n"
     ]
    },
    {
     "data": {
      "text/plain": [
       "array([[1026,  133],\n",
       "       [ 422,  119]], dtype=int64)"
      ]
     },
     "execution_count": 33,
     "metadata": {},
     "output_type": "execute_result"
    }
   ],
   "source": [
    "model6 = create_mlp(32, 'adam', X_train_scaled_encoded)\n",
    "model6.fit(X_train_scaled_encoded, y_train, epochs=10, batch_size=32)\n",
    "\n",
    "test_loss, test_acc, test_recall = model6.evaluate(X_test_scaled_encoded, y_test)\n",
    "print('Test Accuracy:', test_acc)\n",
    "print('Test Loss:', test_loss)\n",
    "print('Test Recall:', test_recall)\n",
    "\n",
    "y_pred = model6.predict(X_test_scaled_encoded)\n",
    "y_pred = np.round(y_pred).astype(int)\n",
    "\n",
    "cm = confusion_matrix(y_test, y_pred)\n",
    "add_to_master(\"1 hidden, 32 nodes, adam\", y_test, y_pred)\n",
    "cm"
   ]
  },
  {
   "cell_type": "code",
   "execution_count": 34,
   "id": "77fd69c4",
   "metadata": {},
   "outputs": [
    {
     "name": "stdout",
     "output_type": "stream",
     "text": [
      "Epoch 1/10\n",
      "124/124 [==============================] - 1s 1ms/step - loss: 0.6075 - accuracy: 0.6835 - recall: 0.1611\n",
      "Epoch 2/10\n",
      "124/124 [==============================] - 0s 1ms/step - loss: 0.5875 - accuracy: 0.6963 - recall: 0.2258\n",
      "Epoch 3/10\n",
      "124/124 [==============================] - 0s 1ms/step - loss: 0.5795 - accuracy: 0.7009 - recall: 0.2328\n",
      "Epoch 4/10\n",
      "124/124 [==============================] - 0s 1ms/step - loss: 0.5776 - accuracy: 0.7016 - recall: 0.2061\n",
      "Epoch 5/10\n",
      "124/124 [==============================] - 0s 1ms/step - loss: 0.5687 - accuracy: 0.7112 - recall: 0.2430\n",
      "Epoch 6/10\n",
      "124/124 [==============================] - 0s 1ms/step - loss: 0.5705 - accuracy: 0.7105 - recall: 0.2699\n",
      "Epoch 7/10\n",
      "124/124 [==============================] - 0s 1ms/step - loss: 0.5675 - accuracy: 0.7047 - recall: 0.2743\n",
      "Epoch 8/10\n",
      "124/124 [==============================] - 0s 1ms/step - loss: 0.5614 - accuracy: 0.7117 - recall: 0.2695\n",
      "Epoch 9/10\n",
      "124/124 [==============================] - 0s 1ms/step - loss: 0.5562 - accuracy: 0.7145 - recall: 0.2548\n",
      "Epoch 10/10\n",
      "124/124 [==============================] - 0s 1ms/step - loss: 0.5531 - accuracy: 0.7175 - recall: 0.2976\n",
      "54/54 [==============================] - 0s 809us/step - loss: 0.6001 - accuracy: 0.6665 - recall: 0.2683\n",
      "Test Accuracy: 0.6664705872535706\n",
      "Test Loss: 0.6001041531562805\n",
      "Test Recall: 0.2683146297931671\n",
      "54/54 [==============================] - 0s 677us/step\n"
     ]
    },
    {
     "name": "stderr",
     "output_type": "stream",
     "text": [
      "C:\\Users\\gwent\\AppData\\Local\\Temp\\ipykernel_14392\\1005917253.py:23: FutureWarning: The frame.append method is deprecated and will be removed from pandas in a future version. Use pandas.concat instead.\n",
      "  master_scores = master_scores.append(new_row, ignore_index=True)\n"
     ]
    },
    {
     "data": {
      "text/plain": [
       "array([[979, 180],\n",
       "       [387, 154]], dtype=int64)"
      ]
     },
     "execution_count": 34,
     "metadata": {},
     "output_type": "execute_result"
    }
   ],
   "source": [
    "model7 = create_mlp(250, 'adam', X_train_scaled_encoded)\n",
    "model7.fit(X_train_scaled_encoded, y_train, epochs=10, batch_size=32)\n",
    "\n",
    "test_loss, test_acc, test_recall = model7.evaluate(X_test_scaled_encoded, y_test)\n",
    "print('Test Accuracy:', test_acc)\n",
    "print('Test Loss:', test_loss)\n",
    "print('Test Recall:', test_recall)\n",
    "\n",
    "y_pred = model7.predict(X_test_scaled_encoded)\n",
    "y_pred = np.round(y_pred).astype(int)\n",
    "\n",
    "cm = confusion_matrix(y_test, y_pred)\n",
    "add_to_master(\"1 hidden, 250 nodes, adam\", y_test, y_pred)\n",
    "cm"
   ]
  },
  {
   "cell_type": "code",
   "execution_count": 35,
   "id": "4ac07e60",
   "metadata": {},
   "outputs": [
    {
     "name": "stdout",
     "output_type": "stream",
     "text": [
      "Epoch 1/10\n",
      "124/124 [==============================] - 0s 1ms/step - loss: 0.6088 - accuracy: 0.6802 - recall: 0.1688\n",
      "Epoch 2/10\n",
      "124/124 [==============================] - 0s 1ms/step - loss: 0.5888 - accuracy: 0.6968 - recall: 0.2117\n",
      "Epoch 3/10\n",
      "124/124 [==============================] - 0s 1ms/step - loss: 0.5802 - accuracy: 0.6979 - recall: 0.2268\n",
      "Epoch 4/10\n",
      "124/124 [==============================] - 0s 1ms/step - loss: 0.5781 - accuracy: 0.6986 - recall: 0.1981\n",
      "Epoch 5/10\n",
      "124/124 [==============================] - 0s 1ms/step - loss: 0.5690 - accuracy: 0.7064 - recall: 0.2432\n",
      "Epoch 6/10\n",
      "124/124 [==============================] - 0s 1ms/step - loss: 0.5714 - accuracy: 0.7079 - recall: 0.2591\n",
      "Epoch 7/10\n",
      "124/124 [==============================] - 0s 1ms/step - loss: 0.5683 - accuracy: 0.7084 - recall: 0.2676\n",
      "Epoch 8/10\n",
      "124/124 [==============================] - 0s 1ms/step - loss: 0.5620 - accuracy: 0.7107 - recall: 0.2675\n",
      "Epoch 9/10\n",
      "124/124 [==============================] - 0s 1ms/step - loss: 0.5564 - accuracy: 0.7140 - recall: 0.2393\n",
      "Epoch 10/10\n",
      "124/124 [==============================] - 0s 1ms/step - loss: 0.5524 - accuracy: 0.7193 - recall: 0.2856\n",
      "54/54 [==============================] - 0s 828us/step - loss: 0.6011 - accuracy: 0.6647 - recall: 0.2658\n",
      "Test Accuracy: 0.6647058725357056\n",
      "Test Loss: 0.6010903120040894\n",
      "Test Recall: 0.2658006548881531\n",
      "54/54 [==============================] - 0s 677us/step\n"
     ]
    },
    {
     "name": "stderr",
     "output_type": "stream",
     "text": [
      "C:\\Users\\gwent\\AppData\\Local\\Temp\\ipykernel_14392\\1005917253.py:23: FutureWarning: The frame.append method is deprecated and will be removed from pandas in a future version. Use pandas.concat instead.\n",
      "  master_scores = master_scores.append(new_row, ignore_index=True)\n"
     ]
    },
    {
     "data": {
      "text/plain": [
       "array([[979, 180],\n",
       "       [390, 151]], dtype=int64)"
      ]
     },
     "execution_count": 35,
     "metadata": {},
     "output_type": "execute_result"
    }
   ],
   "source": [
    "# definitely overfits\n",
    "model8 = create_mlp(300, 'adam', X_train_scaled_encoded)\n",
    "model8.fit(X_train_scaled_encoded, y_train, epochs=10, batch_size=32)\n",
    "\n",
    "test_loss, test_acc, test_recall = model8.evaluate(X_test_scaled_encoded, y_test)\n",
    "print('Test Accuracy:', test_acc)\n",
    "print('Test Loss:', test_loss)\n",
    "print('Test Recall:', test_recall)\n",
    "\n",
    "y_pred = model8.predict(X_test_scaled_encoded)\n",
    "y_pred = np.round(y_pred).astype(int)\n",
    "\n",
    "cm = confusion_matrix(y_test, y_pred)\n",
    "add_to_master(\"1 hidden, 300 nodes, adam\", y_test, y_pred)\n",
    "cm"
   ]
  },
  {
   "cell_type": "code",
   "execution_count": 36,
   "id": "08550f15",
   "metadata": {},
   "outputs": [
    {
     "data": {
      "text/html": [
       "<div>\n",
       "<style scoped>\n",
       "    .dataframe tbody tr th:only-of-type {\n",
       "        vertical-align: middle;\n",
       "    }\n",
       "\n",
       "    .dataframe tbody tr th {\n",
       "        vertical-align: top;\n",
       "    }\n",
       "\n",
       "    .dataframe thead th {\n",
       "        text-align: right;\n",
       "    }\n",
       "</style>\n",
       "<table border=\"1\" class=\"dataframe\">\n",
       "  <thead>\n",
       "    <tr style=\"text-align: right;\">\n",
       "      <th></th>\n",
       "      <th>Model</th>\n",
       "      <th>Recall</th>\n",
       "      <th>F1</th>\n",
       "      <th>Precision</th>\n",
       "      <th>Accuracy</th>\n",
       "    </tr>\n",
       "  </thead>\n",
       "  <tbody>\n",
       "    <tr>\n",
       "      <th>6</th>\n",
       "      <td>1 hidden, 250 nodes, adam</td>\n",
       "      <td>0.285</td>\n",
       "      <td>0.352</td>\n",
       "      <td>0.461</td>\n",
       "      <td>0.666</td>\n",
       "    </tr>\n",
       "    <tr>\n",
       "      <th>0</th>\n",
       "      <td>1 hidden, 64 nodes per, adam</td>\n",
       "      <td>0.279</td>\n",
       "      <td>0.357</td>\n",
       "      <td>0.495</td>\n",
       "      <td>0.680</td>\n",
       "    </tr>\n",
       "    <tr>\n",
       "      <th>2</th>\n",
       "      <td>1 hidden, 64 nodes per, adam, scaled</td>\n",
       "      <td>0.279</td>\n",
       "      <td>0.346</td>\n",
       "      <td>0.453</td>\n",
       "      <td>0.664</td>\n",
       "    </tr>\n",
       "    <tr>\n",
       "      <th>7</th>\n",
       "      <td>1 hidden, 300 nodes, adam</td>\n",
       "      <td>0.279</td>\n",
       "      <td>0.346</td>\n",
       "      <td>0.456</td>\n",
       "      <td>0.665</td>\n",
       "    </tr>\n",
       "    <tr>\n",
       "      <th>4</th>\n",
       "      <td>1 hidden, 100 nodes, adam</td>\n",
       "      <td>0.275</td>\n",
       "      <td>0.343</td>\n",
       "      <td>0.453</td>\n",
       "      <td>0.664</td>\n",
       "    </tr>\n",
       "    <tr>\n",
       "      <th>5</th>\n",
       "      <td>1 hidden, 32 nodes, adam</td>\n",
       "      <td>0.220</td>\n",
       "      <td>0.300</td>\n",
       "      <td>0.472</td>\n",
       "      <td>0.674</td>\n",
       "    </tr>\n",
       "    <tr>\n",
       "      <th>3</th>\n",
       "      <td>1 hidden, 64 nodes per, adagrad, scaled</td>\n",
       "      <td>0.190</td>\n",
       "      <td>0.282</td>\n",
       "      <td>0.542</td>\n",
       "      <td>0.691</td>\n",
       "    </tr>\n",
       "    <tr>\n",
       "      <th>1</th>\n",
       "      <td>1 hidden, 64 nodes per, adagrad</td>\n",
       "      <td>0.139</td>\n",
       "      <td>0.220</td>\n",
       "      <td>0.528</td>\n",
       "      <td>0.686</td>\n",
       "    </tr>\n",
       "  </tbody>\n",
       "</table>\n",
       "</div>"
      ],
      "text/plain": [
       "                                     Model  Recall     F1  Precision  Accuracy\n",
       "6                1 hidden, 250 nodes, adam   0.285  0.352      0.461     0.666\n",
       "0             1 hidden, 64 nodes per, adam   0.279  0.357      0.495     0.680\n",
       "2     1 hidden, 64 nodes per, adam, scaled   0.279  0.346      0.453     0.664\n",
       "7                1 hidden, 300 nodes, adam   0.279  0.346      0.456     0.665\n",
       "4                1 hidden, 100 nodes, adam   0.275  0.343      0.453     0.664\n",
       "5                 1 hidden, 32 nodes, adam   0.220  0.300      0.472     0.674\n",
       "3  1 hidden, 64 nodes per, adagrad, scaled   0.190  0.282      0.542     0.691\n",
       "1          1 hidden, 64 nodes per, adagrad   0.139  0.220      0.528     0.686"
      ]
     },
     "execution_count": 36,
     "metadata": {},
     "output_type": "execute_result"
    }
   ],
   "source": [
    "master_scores.sort_values('Recall', ascending=False)"
   ]
  },
  {
   "cell_type": "markdown",
   "id": "7feac994",
   "metadata": {},
   "source": [
    "Okay so we are pretty similar in performance to the logistic regression models from cat-pstone 1 on every metric except recall (and the part it plays in F1, of course). Let's see if over or undersampling with the top performing model architecture (model1). "
   ]
  },
  {
   "cell_type": "code",
   "execution_count": 37,
   "id": "07a5b843",
   "metadata": {},
   "outputs": [],
   "source": [
    "from imblearn.under_sampling import RandomUnderSampler\n",
    "from imblearn.over_sampling import RandomOverSampler"
   ]
  },
  {
   "cell_type": "code",
   "execution_count": 38,
   "id": "a3c4ea8e",
   "metadata": {},
   "outputs": [],
   "source": [
    "rus = RandomUnderSampler()\n",
    "X_resampled_rus, y_resampled_rus = rus.fit_resample(X_train_scaled_encoded, y_train)\n",
    "\n",
    "ros = RandomOverSampler()\n",
    "X_resampled_ros, y_resampled_ros = ros.fit_resample(X_train_scaled_encoded, y_train)"
   ]
  },
  {
   "cell_type": "code",
   "execution_count": 39,
   "id": "a2d287c6",
   "metadata": {},
   "outputs": [
    {
     "name": "stdout",
     "output_type": "stream",
     "text": [
      "Epoch 1/10\n",
      "79/79 [==============================] - 0s 857us/step - loss: 0.6777 - accuracy: 0.5677 - recall: 0.5536\n",
      "Epoch 2/10\n",
      "79/79 [==============================] - 0s 895us/step - loss: 0.6496 - accuracy: 0.6256 - recall: 0.6189\n",
      "Epoch 3/10\n",
      "79/79 [==============================] - 0s 921us/step - loss: 0.6418 - accuracy: 0.6355 - recall: 0.6324\n",
      "Epoch 4/10\n",
      "79/79 [==============================] - 0s 895us/step - loss: 0.6358 - accuracy: 0.6359 - recall: 0.6311\n",
      "Epoch 5/10\n",
      "79/79 [==============================] - 0s 895us/step - loss: 0.6327 - accuracy: 0.6466 - recall: 0.6368\n",
      "Epoch 6/10\n",
      "79/79 [==============================] - 0s 895us/step - loss: 0.6287 - accuracy: 0.6470 - recall: 0.6630\n",
      "Epoch 7/10\n",
      "79/79 [==============================] - 0s 895us/step - loss: 0.6230 - accuracy: 0.6557 - recall: 0.6529\n",
      "Epoch 8/10\n",
      "79/79 [==============================] - 0s 895us/step - loss: 0.6189 - accuracy: 0.6581 - recall: 0.6703\n",
      "Epoch 9/10\n",
      "79/79 [==============================] - 0s 933us/step - loss: 0.6190 - accuracy: 0.6573 - recall: 0.6473\n",
      "Epoch 10/10\n",
      "79/79 [==============================] - 0s 882us/step - loss: 0.6153 - accuracy: 0.6644 - recall: 0.6717\n",
      "54/54 [==============================] - 0s 602us/step\n"
     ]
    },
    {
     "name": "stderr",
     "output_type": "stream",
     "text": [
      "C:\\Users\\gwent\\AppData\\Local\\Temp\\ipykernel_14392\\1005917253.py:23: FutureWarning: The frame.append method is deprecated and will be removed from pandas in a future version. Use pandas.concat instead.\n",
      "  master_scores = master_scores.append(new_row, ignore_index=True)\n"
     ]
    },
    {
     "data": {
      "text/plain": [
       "array([[758, 401],\n",
       "       [240, 301]], dtype=int64)"
      ]
     },
     "execution_count": 39,
     "metadata": {},
     "output_type": "execute_result"
    }
   ],
   "source": [
    "# RUS \n",
    "model9 = create_mlp(64, 'adam', X_train_scaled_encoded)\n",
    "model9.fit(X_resampled_rus, y_resampled_rus, epochs=10, batch_size=32)\n",
    "\n",
    "y_pred = model9.predict(X_test_scaled_encoded)\n",
    "y_pred = np.round(y_pred).astype(int)\n",
    "\n",
    "cm = confusion_matrix(y_test, y_pred)\n",
    "add_to_master(\"RUS 1 hidden, 64 nodes, adam\", y_test, y_pred)\n",
    "cm"
   ]
  },
  {
   "cell_type": "code",
   "execution_count": 40,
   "id": "bf60768f",
   "metadata": {},
   "outputs": [
    {
     "name": "stdout",
     "output_type": "stream",
     "text": [
      "Epoch 1/10\n",
      "169/169 [==============================] - 1s 855us/step - loss: 0.6649 - accuracy: 0.5910 - recall: 0.5849\n",
      "Epoch 2/10\n",
      "169/169 [==============================] - 0s 885us/step - loss: 0.6443 - accuracy: 0.6271 - recall: 0.6106\n",
      "Epoch 3/10\n",
      "169/169 [==============================] - 0s 873us/step - loss: 0.6361 - accuracy: 0.6413 - recall: 0.6451\n",
      "Epoch 4/10\n",
      "169/169 [==============================] - 0s 914us/step - loss: 0.6302 - accuracy: 0.6426 - recall: 0.6284\n",
      "Epoch 5/10\n",
      "169/169 [==============================] - 0s 885us/step - loss: 0.6218 - accuracy: 0.6587 - recall: 0.6446\n",
      "Epoch 6/10\n",
      "169/169 [==============================] - 0s 891us/step - loss: 0.6178 - accuracy: 0.6585 - recall: 0.6640\n",
      "Epoch 7/10\n",
      "169/169 [==============================] - 0s 885us/step - loss: 0.6129 - accuracy: 0.6580 - recall: 0.6602\n",
      "Epoch 8/10\n",
      "169/169 [==============================] - 0s 885us/step - loss: 0.6093 - accuracy: 0.6624 - recall: 0.6482\n",
      "Epoch 9/10\n",
      "169/169 [==============================] - 0s 891us/step - loss: 0.6043 - accuracy: 0.6683 - recall: 0.6666\n",
      "Epoch 10/10\n",
      "169/169 [==============================] - 0s 885us/step - loss: 0.6004 - accuracy: 0.6735 - recall: 0.6762\n",
      "54/54 [==============================] - 0s 621us/step\n"
     ]
    },
    {
     "name": "stderr",
     "output_type": "stream",
     "text": [
      "C:\\Users\\gwent\\AppData\\Local\\Temp\\ipykernel_14392\\1005917253.py:23: FutureWarning: The frame.append method is deprecated and will be removed from pandas in a future version. Use pandas.concat instead.\n",
      "  master_scores = master_scores.append(new_row, ignore_index=True)\n"
     ]
    },
    {
     "data": {
      "text/plain": [
       "array([[798, 361],\n",
       "       [261, 280]], dtype=int64)"
      ]
     },
     "execution_count": 40,
     "metadata": {},
     "output_type": "execute_result"
    }
   ],
   "source": [
    "# ROS \n",
    "model10 = create_mlp(64, 'adam', X_train_scaled_encoded)\n",
    "model10.fit(X_resampled_ros, y_resampled_ros, epochs=10, batch_size=32)\n",
    "\n",
    "y_pred = model10.predict(X_test_scaled_encoded)\n",
    "y_pred = np.round(y_pred).astype(int)\n",
    "\n",
    "cm = confusion_matrix(y_test, y_pred)\n",
    "add_to_master(\"ROS 1 hidden, 64 nodes, adam\", y_test, y_pred)\n",
    "cm"
   ]
  },
  {
   "cell_type": "code",
   "execution_count": 41,
   "id": "7138b6c9",
   "metadata": {},
   "outputs": [
    {
     "data": {
      "text/html": [
       "<div>\n",
       "<style scoped>\n",
       "    .dataframe tbody tr th:only-of-type {\n",
       "        vertical-align: middle;\n",
       "    }\n",
       "\n",
       "    .dataframe tbody tr th {\n",
       "        vertical-align: top;\n",
       "    }\n",
       "\n",
       "    .dataframe thead th {\n",
       "        text-align: right;\n",
       "    }\n",
       "</style>\n",
       "<table border=\"1\" class=\"dataframe\">\n",
       "  <thead>\n",
       "    <tr style=\"text-align: right;\">\n",
       "      <th></th>\n",
       "      <th>Model</th>\n",
       "      <th>Recall</th>\n",
       "      <th>F1</th>\n",
       "      <th>Precision</th>\n",
       "      <th>Accuracy</th>\n",
       "    </tr>\n",
       "  </thead>\n",
       "  <tbody>\n",
       "    <tr>\n",
       "      <th>8</th>\n",
       "      <td>RUS 1 hidden, 64 nodes, adam</td>\n",
       "      <td>0.556</td>\n",
       "      <td>0.484</td>\n",
       "      <td>0.429</td>\n",
       "      <td>0.623</td>\n",
       "    </tr>\n",
       "    <tr>\n",
       "      <th>9</th>\n",
       "      <td>ROS 1 hidden, 64 nodes, adam</td>\n",
       "      <td>0.518</td>\n",
       "      <td>0.474</td>\n",
       "      <td>0.437</td>\n",
       "      <td>0.634</td>\n",
       "    </tr>\n",
       "    <tr>\n",
       "      <th>6</th>\n",
       "      <td>1 hidden, 250 nodes, adam</td>\n",
       "      <td>0.285</td>\n",
       "      <td>0.352</td>\n",
       "      <td>0.461</td>\n",
       "      <td>0.666</td>\n",
       "    </tr>\n",
       "    <tr>\n",
       "      <th>0</th>\n",
       "      <td>1 hidden, 64 nodes per, adam</td>\n",
       "      <td>0.279</td>\n",
       "      <td>0.357</td>\n",
       "      <td>0.495</td>\n",
       "      <td>0.680</td>\n",
       "    </tr>\n",
       "    <tr>\n",
       "      <th>2</th>\n",
       "      <td>1 hidden, 64 nodes per, adam, scaled</td>\n",
       "      <td>0.279</td>\n",
       "      <td>0.346</td>\n",
       "      <td>0.453</td>\n",
       "      <td>0.664</td>\n",
       "    </tr>\n",
       "    <tr>\n",
       "      <th>7</th>\n",
       "      <td>1 hidden, 300 nodes, adam</td>\n",
       "      <td>0.279</td>\n",
       "      <td>0.346</td>\n",
       "      <td>0.456</td>\n",
       "      <td>0.665</td>\n",
       "    </tr>\n",
       "    <tr>\n",
       "      <th>4</th>\n",
       "      <td>1 hidden, 100 nodes, adam</td>\n",
       "      <td>0.275</td>\n",
       "      <td>0.343</td>\n",
       "      <td>0.453</td>\n",
       "      <td>0.664</td>\n",
       "    </tr>\n",
       "    <tr>\n",
       "      <th>5</th>\n",
       "      <td>1 hidden, 32 nodes, adam</td>\n",
       "      <td>0.220</td>\n",
       "      <td>0.300</td>\n",
       "      <td>0.472</td>\n",
       "      <td>0.674</td>\n",
       "    </tr>\n",
       "    <tr>\n",
       "      <th>3</th>\n",
       "      <td>1 hidden, 64 nodes per, adagrad, scaled</td>\n",
       "      <td>0.190</td>\n",
       "      <td>0.282</td>\n",
       "      <td>0.542</td>\n",
       "      <td>0.691</td>\n",
       "    </tr>\n",
       "    <tr>\n",
       "      <th>1</th>\n",
       "      <td>1 hidden, 64 nodes per, adagrad</td>\n",
       "      <td>0.139</td>\n",
       "      <td>0.220</td>\n",
       "      <td>0.528</td>\n",
       "      <td>0.686</td>\n",
       "    </tr>\n",
       "  </tbody>\n",
       "</table>\n",
       "</div>"
      ],
      "text/plain": [
       "                                     Model  Recall     F1  Precision  Accuracy\n",
       "8             RUS 1 hidden, 64 nodes, adam   0.556  0.484      0.429     0.623\n",
       "9             ROS 1 hidden, 64 nodes, adam   0.518  0.474      0.437     0.634\n",
       "6                1 hidden, 250 nodes, adam   0.285  0.352      0.461     0.666\n",
       "0             1 hidden, 64 nodes per, adam   0.279  0.357      0.495     0.680\n",
       "2     1 hidden, 64 nodes per, adam, scaled   0.279  0.346      0.453     0.664\n",
       "7                1 hidden, 300 nodes, adam   0.279  0.346      0.456     0.665\n",
       "4                1 hidden, 100 nodes, adam   0.275  0.343      0.453     0.664\n",
       "5                 1 hidden, 32 nodes, adam   0.220  0.300      0.472     0.674\n",
       "3  1 hidden, 64 nodes per, adagrad, scaled   0.190  0.282      0.542     0.691\n",
       "1          1 hidden, 64 nodes per, adagrad   0.139  0.220      0.528     0.686"
      ]
     },
     "execution_count": 41,
     "metadata": {},
     "output_type": "execute_result"
    }
   ],
   "source": [
    "master_scores.sort_values('Recall', ascending=False)"
   ]
  },
  {
   "cell_type": "code",
   "execution_count": 42,
   "id": "ee074722",
   "metadata": {},
   "outputs": [
    {
     "name": "stdout",
     "output_type": "stream",
     "text": [
      "Epoch 1/10\n",
      "101/101 [==============================] - 0s 848us/step - loss: 0.6716 - accuracy: 0.5927 - recall: 0.5684\n",
      "Epoch 2/10\n",
      "101/101 [==============================] - 0s 878us/step - loss: 0.6480 - accuracy: 0.6288 - recall: 0.6112\n",
      "Epoch 3/10\n",
      "101/101 [==============================] - 0s 898us/step - loss: 0.6403 - accuracy: 0.6375 - recall: 0.6403\n",
      "Epoch 4/10\n",
      "101/101 [==============================] - 0s 908us/step - loss: 0.6337 - accuracy: 0.6462 - recall: 0.6416\n",
      "Epoch 5/10\n",
      "101/101 [==============================] - 0s 898us/step - loss: 0.6301 - accuracy: 0.6462 - recall: 0.6368\n",
      "Epoch 6/10\n",
      "101/101 [==============================] - 0s 888us/step - loss: 0.6245 - accuracy: 0.6569 - recall: 0.6669\n",
      "Epoch 7/10\n",
      "101/101 [==============================] - 0s 938us/step - loss: 0.6213 - accuracy: 0.6573 - recall: 0.6545\n",
      "Epoch 8/10\n",
      "101/101 [==============================] - 0s 878us/step - loss: 0.6167 - accuracy: 0.6609 - recall: 0.6738\n",
      "Epoch 9/10\n",
      "101/101 [==============================] - 0s 888us/step - loss: 0.6153 - accuracy: 0.6636 - recall: 0.6580\n",
      "Epoch 10/10\n",
      "101/101 [==============================] - 0s 888us/step - loss: 0.6123 - accuracy: 0.6668 - recall: 0.6692\n",
      "54/54 [==============================] - 0s 621us/step\n"
     ]
    },
    {
     "name": "stderr",
     "output_type": "stream",
     "text": [
      "C:\\Users\\gwent\\AppData\\Local\\Temp\\ipykernel_14392\\1005917253.py:23: FutureWarning: The frame.append method is deprecated and will be removed from pandas in a future version. Use pandas.concat instead.\n",
      "  master_scores = master_scores.append(new_row, ignore_index=True)\n"
     ]
    },
    {
     "data": {
      "text/plain": [
       "array([[703, 456],\n",
       "       [225, 316]], dtype=int64)"
      ]
     },
     "execution_count": 42,
     "metadata": {},
     "output_type": "execute_result"
    }
   ],
   "source": [
    "# RUS \n",
    "model11 = create_mlp(64, 'adam', X_train_scaled_encoded)\n",
    "model11.fit(X_resampled_rus, y_resampled_rus, epochs=10, batch_size=25)\n",
    "\n",
    "y_pred = model11.predict(X_test_scaled_encoded)\n",
    "y_pred = np.round(y_pred).astype(int)\n",
    "\n",
    "cm = confusion_matrix(y_test, y_pred)\n",
    "add_to_master(\"RUS, adam, batch 25\", y_test, y_pred)\n",
    "cm"
   ]
  },
  {
   "cell_type": "code",
   "execution_count": 43,
   "id": "765bc6bc",
   "metadata": {},
   "outputs": [
    {
     "data": {
      "text/html": [
       "<div>\n",
       "<style scoped>\n",
       "    .dataframe tbody tr th:only-of-type {\n",
       "        vertical-align: middle;\n",
       "    }\n",
       "\n",
       "    .dataframe tbody tr th {\n",
       "        vertical-align: top;\n",
       "    }\n",
       "\n",
       "    .dataframe thead th {\n",
       "        text-align: right;\n",
       "    }\n",
       "</style>\n",
       "<table border=\"1\" class=\"dataframe\">\n",
       "  <thead>\n",
       "    <tr style=\"text-align: right;\">\n",
       "      <th></th>\n",
       "      <th>Model</th>\n",
       "      <th>Recall</th>\n",
       "      <th>F1</th>\n",
       "      <th>Precision</th>\n",
       "      <th>Accuracy</th>\n",
       "    </tr>\n",
       "  </thead>\n",
       "  <tbody>\n",
       "    <tr>\n",
       "      <th>10</th>\n",
       "      <td>RUS, adam, batch 25</td>\n",
       "      <td>0.584</td>\n",
       "      <td>0.481</td>\n",
       "      <td>0.409</td>\n",
       "      <td>0.599</td>\n",
       "    </tr>\n",
       "    <tr>\n",
       "      <th>8</th>\n",
       "      <td>RUS 1 hidden, 64 nodes, adam</td>\n",
       "      <td>0.556</td>\n",
       "      <td>0.484</td>\n",
       "      <td>0.429</td>\n",
       "      <td>0.623</td>\n",
       "    </tr>\n",
       "    <tr>\n",
       "      <th>9</th>\n",
       "      <td>ROS 1 hidden, 64 nodes, adam</td>\n",
       "      <td>0.518</td>\n",
       "      <td>0.474</td>\n",
       "      <td>0.437</td>\n",
       "      <td>0.634</td>\n",
       "    </tr>\n",
       "    <tr>\n",
       "      <th>6</th>\n",
       "      <td>1 hidden, 250 nodes, adam</td>\n",
       "      <td>0.285</td>\n",
       "      <td>0.352</td>\n",
       "      <td>0.461</td>\n",
       "      <td>0.666</td>\n",
       "    </tr>\n",
       "    <tr>\n",
       "      <th>0</th>\n",
       "      <td>1 hidden, 64 nodes per, adam</td>\n",
       "      <td>0.279</td>\n",
       "      <td>0.357</td>\n",
       "      <td>0.495</td>\n",
       "      <td>0.680</td>\n",
       "    </tr>\n",
       "  </tbody>\n",
       "</table>\n",
       "</div>"
      ],
      "text/plain": [
       "                           Model  Recall     F1  Precision  Accuracy\n",
       "10           RUS, adam, batch 25   0.584  0.481      0.409     0.599\n",
       "8   RUS 1 hidden, 64 nodes, adam   0.556  0.484      0.429     0.623\n",
       "9   ROS 1 hidden, 64 nodes, adam   0.518  0.474      0.437     0.634\n",
       "6      1 hidden, 250 nodes, adam   0.285  0.352      0.461     0.666\n",
       "0   1 hidden, 64 nodes per, adam   0.279  0.357      0.495     0.680"
      ]
     },
     "execution_count": 43,
     "metadata": {},
     "output_type": "execute_result"
    }
   ],
   "source": [
    "master_scores.sort_values('Recall', ascending=False).head()"
   ]
  },
  {
   "cell_type": "markdown",
   "id": "08ad835d",
   "metadata": {},
   "source": [
    "Well we've gotten it pretty close to the performance of the LR model. Is anything about it better? Run speed?"
   ]
  },
  {
   "cell_type": "code",
   "execution_count": 44,
   "id": "4976187b",
   "metadata": {},
   "outputs": [
    {
     "name": "stdout",
     "output_type": "stream",
     "text": [
      "Epoch 1/10\n",
      "169/169 [==============================] - 0s 1ms/step - loss: 0.5968 - accuracy: 0.6737 - recall: 0.6706\n",
      "Epoch 2/10\n",
      "169/169 [==============================] - 0s 974us/step - loss: 0.5930 - accuracy: 0.6818 - recall: 0.6874\n",
      "Epoch 3/10\n",
      "169/169 [==============================] - 0s 956us/step - loss: 0.5912 - accuracy: 0.6866 - recall: 0.6986\n",
      "Epoch 4/10\n",
      "169/169 [==============================] - 0s 968us/step - loss: 0.5885 - accuracy: 0.6811 - recall: 0.6729\n",
      "Epoch 5/10\n",
      "169/169 [==============================] - 0s 997us/step - loss: 0.5824 - accuracy: 0.6946 - recall: 0.7002\n",
      "Epoch 6/10\n",
      "169/169 [==============================] - 0s 1ms/step - loss: 0.5812 - accuracy: 0.6902 - recall: 0.7065\n",
      "Epoch 7/10\n",
      "169/169 [==============================] - 0s 1ms/step - loss: 0.5782 - accuracy: 0.6874 - recall: 0.6915\n",
      "Epoch 8/10\n",
      "169/169 [==============================] - 0s 1ms/step - loss: 0.5770 - accuracy: 0.6922 - recall: 0.6864\n",
      "Epoch 9/10\n",
      "169/169 [==============================] - 0s 968us/step - loss: 0.5724 - accuracy: 0.6955 - recall: 0.6992\n",
      "Epoch 10/10\n",
      "169/169 [==============================] - 0s 932us/step - loss: 0.5702 - accuracy: 0.6972 - recall: 0.7154\n",
      "54/54 [==============================] - 0s 602us/step\n"
     ]
    }
   ],
   "source": [
    "import time\n",
    "# training time \n",
    "start = time.time()\n",
    "model10.fit(X_resampled_ros, y_resampled_ros, epochs=10, batch_size=32)\n",
    "end = time.time()\n",
    "training_time = end - start\n",
    "\n",
    "p_start = time.time()\n",
    "y_pred = model10.predict(X_test_encoded)\n",
    "p_end = time.time()\n",
    "predict_time = p_end - p_start"
   ]
  },
  {
   "cell_type": "markdown",
   "id": "0269bf91",
   "metadata": {},
   "source": [
    "# Comparing to a Logistic Regression\n",
    "In Cat-pstone 1 I had did not prune down the columns nearly as much. I want to see how it does with this new training set. "
   ]
  },
  {
   "cell_type": "code",
   "execution_count": 53,
   "id": "b35e1a01",
   "metadata": {},
   "outputs": [],
   "source": [
    "from sklearn.linear_model import LogisticRegression\n",
    "\n",
    "# fit model, + training time \n",
    "t_start = time.time()\n",
    "log_balanced = LogisticRegression(class_weight='balanced').fit(X_train_encoded, (y_train.values.reshape(-1)))\n",
    "t_end = time.time()\n",
    "log_training = t_end - t_start\n",
    "\n",
    "# predict w model, + prediction time \n",
    "p_start = time.time()\n",
    "y_pred = log_balanced.predict(X_test_encoded)\n",
    "p_end = time.time()\n",
    "log_predict = p_end - p_start \n",
    "\n",
    "# add_to_master(model_description, y_true, y_predicted, binary=True)\n",
    "add_to_master(\"class_weight='balanced', LogReg\", y_test, y_pred)"
   ]
  },
  {
   "cell_type": "code",
   "execution_count": 54,
   "id": "ceb01be9",
   "metadata": {},
   "outputs": [
    {
     "name": "stderr",
     "output_type": "stream",
     "text": [
      "C:\\Users\\gwent\\AppData\\Local\\Temp\\ipykernel_14392\\1005917253.py:23: FutureWarning: The frame.append method is deprecated and will be removed from pandas in a future version. Use pandas.concat instead.\n",
      "  master_scores = master_scores.append(new_row, ignore_index=True)\n",
      "C:\\Users\\gwent\\anaconda3\\envs\\wool_sucking_nn\\lib\\site-packages\\sklearn\\base.py:439: UserWarning: X does not have valid feature names, but LogisticRegression was fitted with feature names\n",
      "  warnings.warn(\n",
      "C:\\Users\\gwent\\AppData\\Local\\Temp\\ipykernel_14392\\1005917253.py:23: FutureWarning: The frame.append method is deprecated and will be removed from pandas in a future version. Use pandas.concat instead.\n",
      "  master_scores = master_scores.append(new_row, ignore_index=True)\n"
     ]
    }
   ],
   "source": [
    "# scaled and logistic regression\n",
    "log_balanced_scaled = LogisticRegression(class_weight='balanced').fit(X_train_encoded, (y_train.values.reshape(-1)))\n",
    "y_pred = log_balanced_scaled.predict(X_test_scaled_encoded)\n",
    "\n",
    "# add_to_master(model_description, y_true, y_predicted, binary=True)\n",
    "add_to_master(\"class_weight='balanced', LogReg, scaled\", y_test, y_pred);"
   ]
  },
  {
   "cell_type": "code",
   "execution_count": 48,
   "id": "3b1b5adf",
   "metadata": {},
   "outputs": [
    {
     "name": "stdout",
     "output_type": "stream",
     "text": [
      "MLP training time: 1.7623367309570312 \n",
      "MLP predict time: 0.13364672660827637 \n",
      "Logistic Regression training time: 0.029920339584350586 \n",
      "Logistic Regression predict time: 0.000997304916381836\n",
      "MLP is 58.9 times slower at training than logistic regression. \n",
      "MLP is 134.0 times slower at predicting than logistic regression.\n"
     ]
    }
   ],
   "source": [
    "print(f\"MLP training time: {training_time} \\nMLP predict time: {predict_time} \\nLogistic Regression training time: {log_training} \\nLogistic Regression predict time: {log_predict}\")\n",
    "train_ratio = round(training_time / log_training, 1)\n",
    "predict_ratio = round(predict_time / log_predict, 1)\n",
    "print(f\"MLP is {train_ratio} times slower at training than logistic regression. \\nMLP is {predict_ratio} times slower at predicting than logistic regression.\" )\n",
    "# AND I didn't even include the time spent doing a random undersampling for the MLP, which logistic reg didn't need "
   ]
  },
  {
   "cell_type": "code",
   "execution_count": null,
   "id": "4f6c10d0",
   "metadata": {},
   "outputs": [],
   "source": [
    "# for reference, cat-pstone 1 model was 0.622, 0.519, 0.446, 0.635\n",
    "master_scores.sort_values('Recall', ascending=False).head()"
   ]
  },
  {
   "cell_type": "markdown",
   "id": "55d7b017",
   "metadata": {},
   "source": [
    "Given that this model does not perform as well as the cat-pstone 1 model (marginally), I want to see how my best performing model architecture does on the dataset I used with cat-pstone 1 (with a lot more columns!). "
   ]
  },
  {
   "cell_type": "code",
   "execution_count": null,
   "id": "e3a4f3d7",
   "metadata": {},
   "outputs": [],
   "source": [
    "from sklearn.model_selection import train_test_split\n",
    "df = pd.read_csv('..\\Data\\cat_clean.csv')"
   ]
  },
  {
   "cell_type": "code",
   "execution_count": null,
   "id": "5f5707c1",
   "metadata": {},
   "outputs": [],
   "source": [
    "# binarize wool-sucking\n",
    "df_bin = df.copy()\n",
    "df_bin['ws_binary'] = df_bin['Wool_sucking'].replace([1, 2, 3, 4, 5, 6, 7], [1, 1, 1, 1, 1, 1, 1])\n",
    "df_bin.drop(columns='Wool_sucking', inplace=True)\n",
    "\n",
    "# Recode Behaviour_problem to binary\n",
    "df_bin['Behaviour_problem'].replace([1, 2, 3], [0, 1, 1], inplace=True)\n",
    "\n",
    "# encode breed group\n",
    "df_bin_encoded = pd.get_dummies(df_bin, columns=['Breed_group'])"
   ]
  },
  {
   "cell_type": "code",
   "execution_count": null,
   "id": "0c7272b7",
   "metadata": {},
   "outputs": [],
   "source": [
    "X = df_bin_encoded.drop(columns=['ws_binary'])\n",
    "y = df_bin_encoded['ws_binary']\n",
    "X_train, X_test, y_train, y_test = train_test_split(X, y, test_size=0.3, random_state=42,stratify=y)\n",
    "\n",
    "# making agg columns for training set \n",
    "X_train['agg_shy'] = (X_train['Shyness_novel'] + X_train['Shyness_strangers']) / 2\n",
    "X_train['agg_aggress_people'] = (X_train['Aggression_owner'] + X_train['Aggression_stranger']) / 2 \n",
    "X_train.drop(columns=['Shyness_novel', 'Shyness_strangers', 'Aggression_stranger', 'Aggression_owner'], inplace=True)\n",
    "X_train.columns\n",
    "\n",
    "# making agg columns for testing set\n",
    "X_test['agg_shy'] = (X_test['Shyness_novel'] + X_test['Shyness_strangers']) / 2\n",
    "X_test['agg_aggress_people'] = (X_test['Aggression_owner'] + X_test['Aggression_stranger']) / 2\n",
    "X_test.drop(columns=['Shyness_novel', 'Shyness_strangers', 'Aggression_stranger', 'Aggression_owner'], inplace=True)\n",
    "X_test.columns"
   ]
  },
  {
   "cell_type": "code",
   "execution_count": null,
   "id": "7dc3d2e9",
   "metadata": {},
   "outputs": [],
   "source": [
    "scaler = StandardScaler()\n",
    "scaler.fit(X_train)\n",
    "\n",
    "X_train_scaled_encoded = scaler.transform(X_train)\n",
    "X_test_scaled_encoded = scaler.transform(X_test)\n",
    "\n",
    "rus = RandomUnderSampler()\n",
    "X_resampled_rus, y_resampled_rus = rus.fit_resample(X_train_scaled_encoded, y_train)\n",
    "\n",
    "model12 = create_mlp(64, 'adam', X_resampled_rus)\n",
    "model12.fit(X_resampled_rus, y_resampled_rus, epochs=10, batch_size=32)\n",
    "\n",
    "y_pred = model12.predict(X_test_scaled_encoded)\n",
    "y_pred = np.round(y_pred).astype(int)\n",
    "\n",
    "cm = confusion_matrix(y_test, y_pred)\n",
    "add_to_master(\"old data rus adam 64\", y_test, y_pred)\n",
    "cm"
   ]
  },
  {
   "cell_type": "code",
   "execution_count": null,
   "id": "d8178a86",
   "metadata": {},
   "outputs": [],
   "source": [
    "# for reference, cat-pstone 1 model was 0.622, 0.519, 0.446, 0.635\n",
    "# it really doesn't do any better than a weighted LR model, in either dataset\n",
    "master_scores.sort_values('Recall', ascending=False)"
   ]
  }
 ],
 "metadata": {
  "kernelspec": {
   "display_name": "Python 3 (ipykernel)",
   "language": "python",
   "name": "python3"
  },
  "language_info": {
   "codemirror_mode": {
    "name": "ipython",
    "version": 3
   },
   "file_extension": ".py",
   "mimetype": "text/x-python",
   "name": "python",
   "nbconvert_exporter": "python",
   "pygments_lexer": "ipython3",
   "version": "3.9.0"
  }
 },
 "nbformat": 4,
 "nbformat_minor": 5
}
