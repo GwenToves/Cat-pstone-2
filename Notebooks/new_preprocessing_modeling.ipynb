{
 "cells": [
  {
   "cell_type": "code",
   "execution_count": 1,
   "id": "a1fa7743",
   "metadata": {},
   "outputs": [],
   "source": [
    "# should already be activated, but just a reminder where ya are :)  \n",
    "# !conda activate wool_sucking_nn"
   ]
  },
  {
   "cell_type": "code",
   "execution_count": 2,
   "id": "d4af314f",
   "metadata": {},
   "outputs": [],
   "source": [
    "import pandas as pd\n",
    "import numpy as np\n",
    "import matplotlib.pyplot as plt\n",
    "import seaborn as sns\n",
    "from scipy import stats \n",
    "\n",
    "%matplotlib inline"
   ]
  },
  {
   "cell_type": "code",
   "execution_count": 3,
   "id": "12a43745",
   "metadata": {},
   "outputs": [],
   "source": [
    "# import data\n",
    "excel_file = pd.read_excel('..\\Data\\cleaned_and_split_data.xlsx', sheet_name=None)\n",
    "\n",
    "# Unpack the dataframes into separate variables\n",
    "X_train = excel_file['X_train']\n",
    "X_test = excel_file['X_test']\n",
    "y_train = excel_file['y_train']\n",
    "y_test = excel_file['y_test']"
   ]
  },
  {
   "cell_type": "code",
   "execution_count": 4,
   "id": "3f7a7f7d",
   "metadata": {},
   "outputs": [
    {
     "name": "stdout",
     "output_type": "stream",
     "text": [
      "(3965, 7)\n"
     ]
    },
    {
     "data": {
      "text/html": [
       "<div>\n",
       "<style scoped>\n",
       "    .dataframe tbody tr th:only-of-type {\n",
       "        vertical-align: middle;\n",
       "    }\n",
       "\n",
       "    .dataframe tbody tr th {\n",
       "        vertical-align: top;\n",
       "    }\n",
       "\n",
       "    .dataframe thead th {\n",
       "        text-align: right;\n",
       "    }\n",
       "</style>\n",
       "<table border=\"1\" class=\"dataframe\">\n",
       "  <thead>\n",
       "    <tr style=\"text-align: right;\">\n",
       "      <th></th>\n",
       "      <th>Neuter_status</th>\n",
       "      <th>Breed_group</th>\n",
       "      <th>Aggression_owner</th>\n",
       "      <th>Aggression_cats</th>\n",
       "      <th>Shyness_novel</th>\n",
       "      <th>Shyness_strangers</th>\n",
       "      <th>Grooming</th>\n",
       "    </tr>\n",
       "  </thead>\n",
       "  <tbody>\n",
       "    <tr>\n",
       "      <th>0</th>\n",
       "      <td>1</td>\n",
       "      <td>SIB</td>\n",
       "      <td>1</td>\n",
       "      <td>2</td>\n",
       "      <td>4</td>\n",
       "      <td>4</td>\n",
       "      <td>3</td>\n",
       "    </tr>\n",
       "    <tr>\n",
       "      <th>1</th>\n",
       "      <td>1</td>\n",
       "      <td>HCS</td>\n",
       "      <td>1</td>\n",
       "      <td>2</td>\n",
       "      <td>4</td>\n",
       "      <td>4</td>\n",
       "      <td>2</td>\n",
       "    </tr>\n",
       "    <tr>\n",
       "      <th>2</th>\n",
       "      <td>0</td>\n",
       "      <td>ORI</td>\n",
       "      <td>1</td>\n",
       "      <td>1</td>\n",
       "      <td>1</td>\n",
       "      <td>1</td>\n",
       "      <td>1</td>\n",
       "    </tr>\n",
       "    <tr>\n",
       "      <th>3</th>\n",
       "      <td>1</td>\n",
       "      <td>MCO</td>\n",
       "      <td>1</td>\n",
       "      <td>1</td>\n",
       "      <td>2</td>\n",
       "      <td>2</td>\n",
       "      <td>3</td>\n",
       "    </tr>\n",
       "    <tr>\n",
       "      <th>4</th>\n",
       "      <td>1</td>\n",
       "      <td>HCS</td>\n",
       "      <td>1</td>\n",
       "      <td>1</td>\n",
       "      <td>2</td>\n",
       "      <td>1</td>\n",
       "      <td>2</td>\n",
       "    </tr>\n",
       "  </tbody>\n",
       "</table>\n",
       "</div>"
      ],
      "text/plain": [
       "   Neuter_status Breed_group  Aggression_owner  Aggression_cats  \\\n",
       "0              1         SIB                 1                2   \n",
       "1              1         HCS                 1                2   \n",
       "2              0         ORI                 1                1   \n",
       "3              1         MCO                 1                1   \n",
       "4              1         HCS                 1                1   \n",
       "\n",
       "   Shyness_novel  Shyness_strangers  Grooming  \n",
       "0              4                  4         3  \n",
       "1              4                  4         2  \n",
       "2              1                  1         1  \n",
       "3              2                  2         3  \n",
       "4              2                  1         2  "
      ]
     },
     "execution_count": 4,
     "metadata": {},
     "output_type": "execute_result"
    }
   ],
   "source": [
    "print(X_train.shape)\n",
    "X_train.head()"
   ]
  },
  {
   "cell_type": "code",
   "execution_count": 5,
   "id": "7364d6d3",
   "metadata": {},
   "outputs": [
    {
     "name": "stdout",
     "output_type": "stream",
     "text": [
      "(1700, 7)\n"
     ]
    },
    {
     "data": {
      "text/html": [
       "<div>\n",
       "<style scoped>\n",
       "    .dataframe tbody tr th:only-of-type {\n",
       "        vertical-align: middle;\n",
       "    }\n",
       "\n",
       "    .dataframe tbody tr th {\n",
       "        vertical-align: top;\n",
       "    }\n",
       "\n",
       "    .dataframe thead th {\n",
       "        text-align: right;\n",
       "    }\n",
       "</style>\n",
       "<table border=\"1\" class=\"dataframe\">\n",
       "  <thead>\n",
       "    <tr style=\"text-align: right;\">\n",
       "      <th></th>\n",
       "      <th>Neuter_status</th>\n",
       "      <th>Breed_group</th>\n",
       "      <th>Aggression_owner</th>\n",
       "      <th>Aggression_cats</th>\n",
       "      <th>Shyness_novel</th>\n",
       "      <th>Shyness_strangers</th>\n",
       "      <th>Grooming</th>\n",
       "    </tr>\n",
       "  </thead>\n",
       "  <tbody>\n",
       "    <tr>\n",
       "      <th>0</th>\n",
       "      <td>1</td>\n",
       "      <td>SIB</td>\n",
       "      <td>1</td>\n",
       "      <td>3</td>\n",
       "      <td>3</td>\n",
       "      <td>1</td>\n",
       "      <td>1</td>\n",
       "    </tr>\n",
       "    <tr>\n",
       "      <th>1</th>\n",
       "      <td>1</td>\n",
       "      <td>MCO</td>\n",
       "      <td>1</td>\n",
       "      <td>1</td>\n",
       "      <td>2</td>\n",
       "      <td>1</td>\n",
       "      <td>1</td>\n",
       "    </tr>\n",
       "    <tr>\n",
       "      <th>2</th>\n",
       "      <td>1</td>\n",
       "      <td>RUS</td>\n",
       "      <td>1</td>\n",
       "      <td>1</td>\n",
       "      <td>4</td>\n",
       "      <td>4</td>\n",
       "      <td>1</td>\n",
       "    </tr>\n",
       "    <tr>\n",
       "      <th>3</th>\n",
       "      <td>0</td>\n",
       "      <td>EUR</td>\n",
       "      <td>2</td>\n",
       "      <td>2</td>\n",
       "      <td>2</td>\n",
       "      <td>2</td>\n",
       "      <td>1</td>\n",
       "    </tr>\n",
       "    <tr>\n",
       "      <th>4</th>\n",
       "      <td>1</td>\n",
       "      <td>NFO</td>\n",
       "      <td>1</td>\n",
       "      <td>2</td>\n",
       "      <td>3</td>\n",
       "      <td>2</td>\n",
       "      <td>1</td>\n",
       "    </tr>\n",
       "  </tbody>\n",
       "</table>\n",
       "</div>"
      ],
      "text/plain": [
       "   Neuter_status Breed_group  Aggression_owner  Aggression_cats  \\\n",
       "0              1         SIB                 1                3   \n",
       "1              1         MCO                 1                1   \n",
       "2              1         RUS                 1                1   \n",
       "3              0         EUR                 2                2   \n",
       "4              1         NFO                 1                2   \n",
       "\n",
       "   Shyness_novel  Shyness_strangers  Grooming  \n",
       "0              3                  1         1  \n",
       "1              2                  1         1  \n",
       "2              4                  4         1  \n",
       "3              2                  2         1  \n",
       "4              3                  2         1  "
      ]
     },
     "execution_count": 5,
     "metadata": {},
     "output_type": "execute_result"
    }
   ],
   "source": [
    "print(X_test.shape)\n",
    "X_test.head()"
   ]
  },
  {
   "cell_type": "code",
   "execution_count": 6,
   "id": "ee588efc",
   "metadata": {},
   "outputs": [
    {
     "name": "stdout",
     "output_type": "stream",
     "text": [
      "(3965, 1)\n"
     ]
    },
    {
     "data": {
      "text/html": [
       "<div>\n",
       "<style scoped>\n",
       "    .dataframe tbody tr th:only-of-type {\n",
       "        vertical-align: middle;\n",
       "    }\n",
       "\n",
       "    .dataframe tbody tr th {\n",
       "        vertical-align: top;\n",
       "    }\n",
       "\n",
       "    .dataframe thead th {\n",
       "        text-align: right;\n",
       "    }\n",
       "</style>\n",
       "<table border=\"1\" class=\"dataframe\">\n",
       "  <thead>\n",
       "    <tr style=\"text-align: right;\">\n",
       "      <th></th>\n",
       "      <th>Wool_sucking_binary</th>\n",
       "    </tr>\n",
       "  </thead>\n",
       "  <tbody>\n",
       "    <tr>\n",
       "      <th>0</th>\n",
       "      <td>0</td>\n",
       "    </tr>\n",
       "    <tr>\n",
       "      <th>1</th>\n",
       "      <td>0</td>\n",
       "    </tr>\n",
       "    <tr>\n",
       "      <th>2</th>\n",
       "      <td>0</td>\n",
       "    </tr>\n",
       "    <tr>\n",
       "      <th>3</th>\n",
       "      <td>0</td>\n",
       "    </tr>\n",
       "    <tr>\n",
       "      <th>4</th>\n",
       "      <td>0</td>\n",
       "    </tr>\n",
       "  </tbody>\n",
       "</table>\n",
       "</div>"
      ],
      "text/plain": [
       "   Wool_sucking_binary\n",
       "0                    0\n",
       "1                    0\n",
       "2                    0\n",
       "3                    0\n",
       "4                    0"
      ]
     },
     "execution_count": 6,
     "metadata": {},
     "output_type": "execute_result"
    }
   ],
   "source": [
    "print(y_train.shape)\n",
    "y_train.head()"
   ]
  },
  {
   "cell_type": "code",
   "execution_count": 7,
   "id": "71b7dd12",
   "metadata": {},
   "outputs": [
    {
     "name": "stdout",
     "output_type": "stream",
     "text": [
      "(1700, 1)\n"
     ]
    },
    {
     "data": {
      "text/html": [
       "<div>\n",
       "<style scoped>\n",
       "    .dataframe tbody tr th:only-of-type {\n",
       "        vertical-align: middle;\n",
       "    }\n",
       "\n",
       "    .dataframe tbody tr th {\n",
       "        vertical-align: top;\n",
       "    }\n",
       "\n",
       "    .dataframe thead th {\n",
       "        text-align: right;\n",
       "    }\n",
       "</style>\n",
       "<table border=\"1\" class=\"dataframe\">\n",
       "  <thead>\n",
       "    <tr style=\"text-align: right;\">\n",
       "      <th></th>\n",
       "      <th>Wool_sucking_binary</th>\n",
       "    </tr>\n",
       "  </thead>\n",
       "  <tbody>\n",
       "    <tr>\n",
       "      <th>0</th>\n",
       "      <td>1</td>\n",
       "    </tr>\n",
       "    <tr>\n",
       "      <th>1</th>\n",
       "      <td>1</td>\n",
       "    </tr>\n",
       "    <tr>\n",
       "      <th>2</th>\n",
       "      <td>1</td>\n",
       "    </tr>\n",
       "    <tr>\n",
       "      <th>3</th>\n",
       "      <td>0</td>\n",
       "    </tr>\n",
       "    <tr>\n",
       "      <th>4</th>\n",
       "      <td>1</td>\n",
       "    </tr>\n",
       "  </tbody>\n",
       "</table>\n",
       "</div>"
      ],
      "text/plain": [
       "   Wool_sucking_binary\n",
       "0                    1\n",
       "1                    1\n",
       "2                    1\n",
       "3                    0\n",
       "4                    1"
      ]
     },
     "execution_count": 7,
     "metadata": {},
     "output_type": "execute_result"
    }
   ],
   "source": [
    "print(y_test.shape)\n",
    "y_test.head()"
   ]
  },
  {
   "cell_type": "markdown",
   "id": "d53267c9",
   "metadata": {},
   "source": [
    "## To record model metrics"
   ]
  },
  {
   "cell_type": "code",
   "execution_count": 8,
   "id": "44abc6a0",
   "metadata": {},
   "outputs": [],
   "source": [
    "# dataframe for scores amongst models\n",
    "master_scores = pd.DataFrame(columns=['Model','Recall', 'F1', 'Precision', 'Accuracy'])"
   ]
  },
  {
   "cell_type": "code",
   "execution_count": 9,
   "id": "0be17a6c",
   "metadata": {},
   "outputs": [],
   "source": [
    "# add_to_master(model_description, y_true, y_predicted, binary=True)\n",
    "def add_to_master(model_description, y_test, y_pred, binary=True):\n",
    "    '''\n",
    "    Adds a new row to the running score DataFrame `master_scores` \n",
    "    and functions for adding both binary and multiclass scores. \n",
    "    '''\n",
    "    global master_scores\n",
    "    if binary == True:\n",
    "        # Evalution Metrics\n",
    "        accuracy = accuracy_score(y_test, y_pred)\n",
    "        precision = precision_score(y_test, y_pred)\n",
    "        recall = recall_score(y_test, y_pred)\n",
    "        f1 = f1_score(y_test, y_pred)\n",
    "\n",
    "        # add to master_scores\n",
    "        new_row = {\n",
    "            'Model': model_description,\n",
    "            'Recall': round(recall,3), \n",
    "            'F1': round(f1, 3), \n",
    "            'Precision': round(precision, 3), \n",
    "            'Accuracy': round(accuracy, 3)}\n",
    "        \n",
    "        master_scores = master_scores.append(new_row, ignore_index=True)   \n",
    "    \n",
    "    else:\n",
    "        accuracy = accuracy_score(y_test, y_pred)\n",
    "        precision = precision_score(y_test, y_pred, average='macro') # I chose macro since we have less of the sucklers \n",
    "        recall = recall_score(y_test, y_pred, average='macro')       # and I want their accuracy to be meaningful\n",
    "        f1 = f1_score(y_test, y_pred, average='macro')\n",
    "\n",
    "\n",
    "        # add to master_scores\n",
    "        new_row = {\n",
    "            'Model': model_description,\n",
    "            'Recall': round(recall,3), \n",
    "            'F1': round(f1, 3), \n",
    "            'Precision': round(precision, 3), \n",
    "            'Accuracy': round(accuracy, 3)}\n",
    "        master_scores = master_scores.append(new_row, ignore_index=True)\n",
    "    return master_scores"
   ]
  },
  {
   "cell_type": "markdown",
   "id": "a1ccdddd",
   "metadata": {},
   "source": [
    "# Prep for tensorflow.keras"
   ]
  },
  {
   "cell_type": "code",
   "execution_count": 10,
   "id": "6dda99af",
   "metadata": {},
   "outputs": [],
   "source": [
    "import tensorflow as tf\n",
    "from tensorflow import keras\n",
    "from sklearn.metrics import accuracy_score,precision_score, recall_score, f1_score, confusion_matrix\n",
    "from sklearn.preprocessing import StandardScaler\n",
    "# for reproducibility \n",
    "tf.random.set_seed(42)\n",
    "np.random.seed(42)"
   ]
  },
  {
   "cell_type": "code",
   "execution_count": 11,
   "id": "69c582e6",
   "metadata": {},
   "outputs": [],
   "source": [
    "# one-hot breed \n",
    "X_train_encoded = pd.get_dummies(X_train, columns=['Breed_group'])\n",
    "X_test_encoded = pd.get_dummies(X_test, columns=['Breed_group'])"
   ]
  },
  {
   "cell_type": "code",
   "execution_count": 12,
   "id": "79a5eb7d",
   "metadata": {},
   "outputs": [
    {
     "data": {
      "text/html": [
       "<div>\n",
       "<style scoped>\n",
       "    .dataframe tbody tr th:only-of-type {\n",
       "        vertical-align: middle;\n",
       "    }\n",
       "\n",
       "    .dataframe tbody tr th {\n",
       "        vertical-align: top;\n",
       "    }\n",
       "\n",
       "    .dataframe thead th {\n",
       "        text-align: right;\n",
       "    }\n",
       "</style>\n",
       "<table border=\"1\" class=\"dataframe\">\n",
       "  <thead>\n",
       "    <tr style=\"text-align: right;\">\n",
       "      <th></th>\n",
       "      <th>Neuter_status</th>\n",
       "      <th>Aggression_owner</th>\n",
       "      <th>Aggression_cats</th>\n",
       "      <th>Shyness_novel</th>\n",
       "      <th>Shyness_strangers</th>\n",
       "      <th>Grooming</th>\n",
       "      <th>Breed_group_ABY</th>\n",
       "      <th>Breed_group_BEN</th>\n",
       "      <th>Breed_group_BRI</th>\n",
       "      <th>Breed_group_BUR</th>\n",
       "      <th>...</th>\n",
       "      <th>Breed_group_MCO</th>\n",
       "      <th>Breed_group_NFO</th>\n",
       "      <th>Breed_group_ORI</th>\n",
       "      <th>Breed_group_PER</th>\n",
       "      <th>Breed_group_RAG</th>\n",
       "      <th>Breed_group_RUS</th>\n",
       "      <th>Breed_group_SBI</th>\n",
       "      <th>Breed_group_SIB</th>\n",
       "      <th>Breed_group_TUV</th>\n",
       "      <th>Breed_group_other</th>\n",
       "    </tr>\n",
       "  </thead>\n",
       "  <tbody>\n",
       "    <tr>\n",
       "      <th>0</th>\n",
       "      <td>1</td>\n",
       "      <td>1</td>\n",
       "      <td>2</td>\n",
       "      <td>4</td>\n",
       "      <td>4</td>\n",
       "      <td>3</td>\n",
       "      <td>0</td>\n",
       "      <td>0</td>\n",
       "      <td>0</td>\n",
       "      <td>0</td>\n",
       "      <td>...</td>\n",
       "      <td>0</td>\n",
       "      <td>0</td>\n",
       "      <td>0</td>\n",
       "      <td>0</td>\n",
       "      <td>0</td>\n",
       "      <td>0</td>\n",
       "      <td>0</td>\n",
       "      <td>1</td>\n",
       "      <td>0</td>\n",
       "      <td>0</td>\n",
       "    </tr>\n",
       "    <tr>\n",
       "      <th>1</th>\n",
       "      <td>1</td>\n",
       "      <td>1</td>\n",
       "      <td>2</td>\n",
       "      <td>4</td>\n",
       "      <td>4</td>\n",
       "      <td>2</td>\n",
       "      <td>0</td>\n",
       "      <td>0</td>\n",
       "      <td>0</td>\n",
       "      <td>0</td>\n",
       "      <td>...</td>\n",
       "      <td>0</td>\n",
       "      <td>0</td>\n",
       "      <td>0</td>\n",
       "      <td>0</td>\n",
       "      <td>0</td>\n",
       "      <td>0</td>\n",
       "      <td>0</td>\n",
       "      <td>0</td>\n",
       "      <td>0</td>\n",
       "      <td>0</td>\n",
       "    </tr>\n",
       "    <tr>\n",
       "      <th>2</th>\n",
       "      <td>0</td>\n",
       "      <td>1</td>\n",
       "      <td>1</td>\n",
       "      <td>1</td>\n",
       "      <td>1</td>\n",
       "      <td>1</td>\n",
       "      <td>0</td>\n",
       "      <td>0</td>\n",
       "      <td>0</td>\n",
       "      <td>0</td>\n",
       "      <td>...</td>\n",
       "      <td>0</td>\n",
       "      <td>0</td>\n",
       "      <td>1</td>\n",
       "      <td>0</td>\n",
       "      <td>0</td>\n",
       "      <td>0</td>\n",
       "      <td>0</td>\n",
       "      <td>0</td>\n",
       "      <td>0</td>\n",
       "      <td>0</td>\n",
       "    </tr>\n",
       "    <tr>\n",
       "      <th>3</th>\n",
       "      <td>1</td>\n",
       "      <td>1</td>\n",
       "      <td>1</td>\n",
       "      <td>2</td>\n",
       "      <td>2</td>\n",
       "      <td>3</td>\n",
       "      <td>0</td>\n",
       "      <td>0</td>\n",
       "      <td>0</td>\n",
       "      <td>0</td>\n",
       "      <td>...</td>\n",
       "      <td>1</td>\n",
       "      <td>0</td>\n",
       "      <td>0</td>\n",
       "      <td>0</td>\n",
       "      <td>0</td>\n",
       "      <td>0</td>\n",
       "      <td>0</td>\n",
       "      <td>0</td>\n",
       "      <td>0</td>\n",
       "      <td>0</td>\n",
       "    </tr>\n",
       "    <tr>\n",
       "      <th>4</th>\n",
       "      <td>1</td>\n",
       "      <td>1</td>\n",
       "      <td>1</td>\n",
       "      <td>2</td>\n",
       "      <td>1</td>\n",
       "      <td>2</td>\n",
       "      <td>0</td>\n",
       "      <td>0</td>\n",
       "      <td>0</td>\n",
       "      <td>0</td>\n",
       "      <td>...</td>\n",
       "      <td>0</td>\n",
       "      <td>0</td>\n",
       "      <td>0</td>\n",
       "      <td>0</td>\n",
       "      <td>0</td>\n",
       "      <td>0</td>\n",
       "      <td>0</td>\n",
       "      <td>0</td>\n",
       "      <td>0</td>\n",
       "      <td>0</td>\n",
       "    </tr>\n",
       "    <tr>\n",
       "      <th>...</th>\n",
       "      <td>...</td>\n",
       "      <td>...</td>\n",
       "      <td>...</td>\n",
       "      <td>...</td>\n",
       "      <td>...</td>\n",
       "      <td>...</td>\n",
       "      <td>...</td>\n",
       "      <td>...</td>\n",
       "      <td>...</td>\n",
       "      <td>...</td>\n",
       "      <td>...</td>\n",
       "      <td>...</td>\n",
       "      <td>...</td>\n",
       "      <td>...</td>\n",
       "      <td>...</td>\n",
       "      <td>...</td>\n",
       "      <td>...</td>\n",
       "      <td>...</td>\n",
       "      <td>...</td>\n",
       "      <td>...</td>\n",
       "      <td>...</td>\n",
       "    </tr>\n",
       "    <tr>\n",
       "      <th>3960</th>\n",
       "      <td>1</td>\n",
       "      <td>1</td>\n",
       "      <td>3</td>\n",
       "      <td>1</td>\n",
       "      <td>1</td>\n",
       "      <td>2</td>\n",
       "      <td>0</td>\n",
       "      <td>0</td>\n",
       "      <td>0</td>\n",
       "      <td>0</td>\n",
       "      <td>...</td>\n",
       "      <td>0</td>\n",
       "      <td>0</td>\n",
       "      <td>0</td>\n",
       "      <td>0</td>\n",
       "      <td>0</td>\n",
       "      <td>0</td>\n",
       "      <td>0</td>\n",
       "      <td>0</td>\n",
       "      <td>1</td>\n",
       "      <td>0</td>\n",
       "    </tr>\n",
       "    <tr>\n",
       "      <th>3961</th>\n",
       "      <td>1</td>\n",
       "      <td>2</td>\n",
       "      <td>2</td>\n",
       "      <td>2</td>\n",
       "      <td>1</td>\n",
       "      <td>1</td>\n",
       "      <td>0</td>\n",
       "      <td>0</td>\n",
       "      <td>0</td>\n",
       "      <td>0</td>\n",
       "      <td>...</td>\n",
       "      <td>0</td>\n",
       "      <td>0</td>\n",
       "      <td>0</td>\n",
       "      <td>0</td>\n",
       "      <td>0</td>\n",
       "      <td>0</td>\n",
       "      <td>0</td>\n",
       "      <td>0</td>\n",
       "      <td>0</td>\n",
       "      <td>0</td>\n",
       "    </tr>\n",
       "    <tr>\n",
       "      <th>3962</th>\n",
       "      <td>1</td>\n",
       "      <td>1</td>\n",
       "      <td>1</td>\n",
       "      <td>3</td>\n",
       "      <td>4</td>\n",
       "      <td>1</td>\n",
       "      <td>0</td>\n",
       "      <td>0</td>\n",
       "      <td>0</td>\n",
       "      <td>0</td>\n",
       "      <td>...</td>\n",
       "      <td>0</td>\n",
       "      <td>0</td>\n",
       "      <td>0</td>\n",
       "      <td>0</td>\n",
       "      <td>0</td>\n",
       "      <td>0</td>\n",
       "      <td>0</td>\n",
       "      <td>1</td>\n",
       "      <td>0</td>\n",
       "      <td>0</td>\n",
       "    </tr>\n",
       "    <tr>\n",
       "      <th>3963</th>\n",
       "      <td>1</td>\n",
       "      <td>1</td>\n",
       "      <td>1</td>\n",
       "      <td>4</td>\n",
       "      <td>4</td>\n",
       "      <td>1</td>\n",
       "      <td>0</td>\n",
       "      <td>0</td>\n",
       "      <td>0</td>\n",
       "      <td>0</td>\n",
       "      <td>...</td>\n",
       "      <td>0</td>\n",
       "      <td>0</td>\n",
       "      <td>0</td>\n",
       "      <td>0</td>\n",
       "      <td>0</td>\n",
       "      <td>0</td>\n",
       "      <td>0</td>\n",
       "      <td>0</td>\n",
       "      <td>0</td>\n",
       "      <td>0</td>\n",
       "    </tr>\n",
       "    <tr>\n",
       "      <th>3964</th>\n",
       "      <td>1</td>\n",
       "      <td>1</td>\n",
       "      <td>2</td>\n",
       "      <td>1</td>\n",
       "      <td>1</td>\n",
       "      <td>2</td>\n",
       "      <td>0</td>\n",
       "      <td>0</td>\n",
       "      <td>0</td>\n",
       "      <td>0</td>\n",
       "      <td>...</td>\n",
       "      <td>0</td>\n",
       "      <td>0</td>\n",
       "      <td>0</td>\n",
       "      <td>0</td>\n",
       "      <td>1</td>\n",
       "      <td>0</td>\n",
       "      <td>0</td>\n",
       "      <td>0</td>\n",
       "      <td>0</td>\n",
       "      <td>0</td>\n",
       "    </tr>\n",
       "  </tbody>\n",
       "</table>\n",
       "<p>3965 rows × 25 columns</p>\n",
       "</div>"
      ],
      "text/plain": [
       "      Neuter_status  Aggression_owner  Aggression_cats  Shyness_novel  \\\n",
       "0                 1                 1                2              4   \n",
       "1                 1                 1                2              4   \n",
       "2                 0                 1                1              1   \n",
       "3                 1                 1                1              2   \n",
       "4                 1                 1                1              2   \n",
       "...             ...               ...              ...            ...   \n",
       "3960              1                 1                3              1   \n",
       "3961              1                 2                2              2   \n",
       "3962              1                 1                1              3   \n",
       "3963              1                 1                1              4   \n",
       "3964              1                 1                2              1   \n",
       "\n",
       "      Shyness_strangers  Grooming  Breed_group_ABY  Breed_group_BEN  \\\n",
       "0                     4         3                0                0   \n",
       "1                     4         2                0                0   \n",
       "2                     1         1                0                0   \n",
       "3                     2         3                0                0   \n",
       "4                     1         2                0                0   \n",
       "...                 ...       ...              ...              ...   \n",
       "3960                  1         2                0                0   \n",
       "3961                  1         1                0                0   \n",
       "3962                  4         1                0                0   \n",
       "3963                  4         1                0                0   \n",
       "3964                  1         2                0                0   \n",
       "\n",
       "      Breed_group_BRI  Breed_group_BUR  ...  Breed_group_MCO  Breed_group_NFO  \\\n",
       "0                   0                0  ...                0                0   \n",
       "1                   0                0  ...                0                0   \n",
       "2                   0                0  ...                0                0   \n",
       "3                   0                0  ...                1                0   \n",
       "4                   0                0  ...                0                0   \n",
       "...               ...              ...  ...              ...              ...   \n",
       "3960                0                0  ...                0                0   \n",
       "3961                0                0  ...                0                0   \n",
       "3962                0                0  ...                0                0   \n",
       "3963                0                0  ...                0                0   \n",
       "3964                0                0  ...                0                0   \n",
       "\n",
       "      Breed_group_ORI  Breed_group_PER  Breed_group_RAG  Breed_group_RUS  \\\n",
       "0                   0                0                0                0   \n",
       "1                   0                0                0                0   \n",
       "2                   1                0                0                0   \n",
       "3                   0                0                0                0   \n",
       "4                   0                0                0                0   \n",
       "...               ...              ...              ...              ...   \n",
       "3960                0                0                0                0   \n",
       "3961                0                0                0                0   \n",
       "3962                0                0                0                0   \n",
       "3963                0                0                0                0   \n",
       "3964                0                0                1                0   \n",
       "\n",
       "      Breed_group_SBI  Breed_group_SIB  Breed_group_TUV  Breed_group_other  \n",
       "0                   0                1                0                  0  \n",
       "1                   0                0                0                  0  \n",
       "2                   0                0                0                  0  \n",
       "3                   0                0                0                  0  \n",
       "4                   0                0                0                  0  \n",
       "...               ...              ...              ...                ...  \n",
       "3960                0                0                1                  0  \n",
       "3961                0                0                0                  0  \n",
       "3962                0                1                0                  0  \n",
       "3963                0                0                0                  0  \n",
       "3964                0                0                0                  0  \n",
       "\n",
       "[3965 rows x 25 columns]"
      ]
     },
     "execution_count": 12,
     "metadata": {},
     "output_type": "execute_result"
    }
   ],
   "source": [
    "X_train_encoded"
   ]
  },
  {
   "cell_type": "markdown",
   "id": "83911f9b",
   "metadata": {},
   "source": [
    "## Plain Jane"
   ]
  },
  {
   "cell_type": "code",
   "execution_count": 13,
   "id": "0f2ebb7b",
   "metadata": {},
   "outputs": [],
   "source": [
    "model = keras.Sequential([\n",
    "    keras.layers.Dense(64, activation='relu', input_shape=(len(X_train_encoded.columns),)),\n",
    "    keras.layers.Dense(64, activation='relu'),\n",
    "    keras.layers.Dense(1, activation='sigmoid')\n",
    "])"
   ]
  },
  {
   "cell_type": "code",
   "execution_count": 14,
   "id": "2aaefc0a",
   "metadata": {},
   "outputs": [],
   "source": [
    "def recall(y_true, y_pred):\n",
    "    true_positives = tf.keras.backend.sum(tf.keras.backend.round(tf.keras.backend.clip(y_true * y_pred, 0, 1)))\n",
    "    possible_positives = tf.keras.backend.sum(tf.keras.backend.round(tf.keras.backend.clip(y_true, 0, 1)))\n",
    "    recall = true_positives / (possible_positives + tf.keras.backend.epsilon())\n",
    "    return recall\n",
    "\n",
    "tf.keras.utils.get_custom_objects()['recall'] = recall"
   ]
  },
  {
   "cell_type": "code",
   "execution_count": 15,
   "id": "d370e07e",
   "metadata": {},
   "outputs": [],
   "source": [
    "model.compile(optimizer='adam', \n",
    "             loss='binary_crossentropy',\n",
    "             metrics=['accuracy', 'recall'])"
   ]
  },
  {
   "cell_type": "code",
   "execution_count": 16,
   "id": "02523520",
   "metadata": {},
   "outputs": [
    {
     "name": "stdout",
     "output_type": "stream",
     "text": [
      "Epoch 1/10\n",
      "124/124 [==============================] - 1s 941us/step - loss: 0.6306 - accuracy: 0.6701 - recall: 0.0478\n",
      "Epoch 2/10\n",
      "124/124 [==============================] - 0s 892us/step - loss: 0.6047 - accuracy: 0.6888 - recall: 0.1033\n",
      "Epoch 3/10\n",
      "124/124 [==============================] - 0s 884us/step - loss: 0.5947 - accuracy: 0.6948 - recall: 0.1883\n",
      "Epoch 4/10\n",
      "124/124 [==============================] - 0s 916us/step - loss: 0.5908 - accuracy: 0.6933 - recall: 0.1611\n",
      "Epoch 5/10\n",
      "124/124 [==============================] - 0s 884us/step - loss: 0.5862 - accuracy: 0.6943 - recall: 0.1877\n",
      "Epoch 6/10\n",
      "124/124 [==============================] - 0s 892us/step - loss: 0.5850 - accuracy: 0.6948 - recall: 0.2115\n",
      "Epoch 7/10\n",
      "124/124 [==============================] - 0s 884us/step - loss: 0.5838 - accuracy: 0.6979 - recall: 0.2196\n",
      "Epoch 8/10\n",
      "124/124 [==============================] - 0s 876us/step - loss: 0.5791 - accuracy: 0.7032 - recall: 0.2156\n",
      "Epoch 9/10\n",
      "124/124 [==============================] - 0s 868us/step - loss: 0.5778 - accuracy: 0.6989 - recall: 0.1982\n",
      "Epoch 10/10\n",
      "124/124 [==============================] - 0s 892us/step - loss: 0.5755 - accuracy: 0.7004 - recall: 0.2299\n"
     ]
    },
    {
     "data": {
      "text/plain": [
       "<keras.callbacks.History at 0x249951432e0>"
      ]
     },
     "execution_count": 16,
     "metadata": {},
     "output_type": "execute_result"
    }
   ],
   "source": [
    "model.fit(X_train_encoded, y_train, epochs=10, batch_size=32)"
   ]
  },
  {
   "cell_type": "code",
   "execution_count": 17,
   "id": "472c8352",
   "metadata": {},
   "outputs": [
    {
     "name": "stdout",
     "output_type": "stream",
     "text": [
      "54/54 [==============================] - 0s 715us/step - loss: 0.5896 - accuracy: 0.6812 - recall: 0.2342\n",
      "Test Accuracy: 0.681176483631134\n",
      "Test Loss: 0.5896172523498535\n",
      "Test Recall: 0.2341715693473816\n"
     ]
    }
   ],
   "source": [
    "test_loss, test_acc, test_recall = model.evaluate(X_test_encoded, y_test)\n",
    "print('Test Accuracy:', test_acc)\n",
    "print('Test Loss:', test_loss)\n",
    "print('Test Recall:', test_recall)"
   ]
  },
  {
   "cell_type": "code",
   "execution_count": 18,
   "id": "cb7c6f7e",
   "metadata": {},
   "outputs": [
    {
     "name": "stdout",
     "output_type": "stream",
     "text": [
      "54/54 [==============================] - 0s 621us/step\n"
     ]
    },
    {
     "name": "stderr",
     "output_type": "stream",
     "text": [
      "C:\\Users\\gwent\\AppData\\Local\\Temp\\ipykernel_4332\\1005917253.py:23: FutureWarning: The frame.append method is deprecated and will be removed from pandas in a future version. Use pandas.concat instead.\n",
      "  master_scores = master_scores.append(new_row, ignore_index=True)\n"
     ]
    },
    {
     "data": {
      "text/plain": [
       "array([[1025,  134],\n",
       "       [ 408,  133]], dtype=int64)"
      ]
     },
     "execution_count": 18,
     "metadata": {},
     "output_type": "execute_result"
    }
   ],
   "source": [
    "y_pred = model.predict(X_test_encoded)\n",
    "y_pred = np.round(y_pred).astype(int)\n",
    "\n",
    "cm = confusion_matrix(y_test, y_pred)\n",
    "# add_to_master(model_description, y_true, y_predicted, binary=True)\n",
    "add_to_master(\"1 hidden, 64 nodes per, adam\", y_test, y_pred)\n",
    "cm"
   ]
  },
  {
   "cell_type": "code",
   "execution_count": 19,
   "id": "5431d1f6",
   "metadata": {},
   "outputs": [
    {
     "data": {
      "text/html": [
       "<div>\n",
       "<style scoped>\n",
       "    .dataframe tbody tr th:only-of-type {\n",
       "        vertical-align: middle;\n",
       "    }\n",
       "\n",
       "    .dataframe tbody tr th {\n",
       "        vertical-align: top;\n",
       "    }\n",
       "\n",
       "    .dataframe thead th {\n",
       "        text-align: right;\n",
       "    }\n",
       "</style>\n",
       "<table border=\"1\" class=\"dataframe\">\n",
       "  <thead>\n",
       "    <tr style=\"text-align: right;\">\n",
       "      <th></th>\n",
       "      <th>Model</th>\n",
       "      <th>Recall</th>\n",
       "      <th>F1</th>\n",
       "      <th>Precision</th>\n",
       "      <th>Accuracy</th>\n",
       "    </tr>\n",
       "  </thead>\n",
       "  <tbody>\n",
       "    <tr>\n",
       "      <th>0</th>\n",
       "      <td>1 hidden, 64 nodes per, adam</td>\n",
       "      <td>0.246</td>\n",
       "      <td>0.329</td>\n",
       "      <td>0.498</td>\n",
       "      <td>0.681</td>\n",
       "    </tr>\n",
       "  </tbody>\n",
       "</table>\n",
       "</div>"
      ],
      "text/plain": [
       "                          Model  Recall     F1  Precision  Accuracy\n",
       "0  1 hidden, 64 nodes per, adam   0.246  0.329      0.498     0.681"
      ]
     },
     "execution_count": 19,
     "metadata": {},
     "output_type": "execute_result"
    }
   ],
   "source": [
    "master_scores"
   ]
  },
  {
   "cell_type": "markdown",
   "id": "cfd960fa",
   "metadata": {},
   "source": [
    "Not doing too hot, but also seems to be doing better than initial models in Cat-pstone 1. "
   ]
  },
  {
   "cell_type": "markdown",
   "id": "e659e48e",
   "metadata": {},
   "source": [
    "## Adagrad optimizer"
   ]
  },
  {
   "cell_type": "code",
   "execution_count": 20,
   "id": "c8b1639f",
   "metadata": {},
   "outputs": [],
   "source": [
    "model2 = keras.Sequential([\n",
    "    keras.layers.Dense(64, activation='relu', input_shape=(len(X_train_encoded.columns),)),\n",
    "    keras.layers.Dense(64, activation='relu'),\n",
    "    keras.layers.Dense(1, activation='sigmoid')\n",
    "])"
   ]
  },
  {
   "cell_type": "code",
   "execution_count": 21,
   "id": "6c14f69f",
   "metadata": {},
   "outputs": [],
   "source": [
    "# Adagrad better for when feataures vary in magnitude and frequency \n",
    "optimizer = tf.keras.optimizers.Adagrad(learning_rate=0.01)\n",
    "model2.compile(optimizer=optimizer, \n",
    "             loss='binary_crossentropy',\n",
    "             metrics=['accuracy', 'recall'])"
   ]
  },
  {
   "cell_type": "code",
   "execution_count": 22,
   "id": "2238ef2d",
   "metadata": {},
   "outputs": [
    {
     "name": "stdout",
     "output_type": "stream",
     "text": [
      "Epoch 1/10\n",
      "124/124 [==============================] - 0s 827us/step - loss: 0.6365 - accuracy: 0.6815 - recall: 0.0041\n",
      "Epoch 2/10\n",
      "124/124 [==============================] - 0s 835us/step - loss: 0.6206 - accuracy: 0.6815 - recall: 0.0260\n",
      "Epoch 3/10\n",
      "124/124 [==============================] - 0s 835us/step - loss: 0.6129 - accuracy: 0.6918 - recall: 0.0926\n",
      "Epoch 4/10\n",
      "124/124 [==============================] - 0s 843us/step - loss: 0.6080 - accuracy: 0.6928 - recall: 0.0864\n",
      "Epoch 5/10\n",
      "124/124 [==============================] - 0s 851us/step - loss: 0.6043 - accuracy: 0.6926 - recall: 0.1008\n",
      "Epoch 6/10\n",
      "124/124 [==============================] - 0s 860us/step - loss: 0.6009 - accuracy: 0.6938 - recall: 0.1180\n",
      "Epoch 7/10\n",
      "124/124 [==============================] - 0s 819us/step - loss: 0.5986 - accuracy: 0.6898 - recall: 0.1175\n",
      "Epoch 8/10\n",
      "124/124 [==============================] - 0s 851us/step - loss: 0.5969 - accuracy: 0.6926 - recall: 0.1205\n",
      "Epoch 9/10\n",
      "124/124 [==============================] - 0s 835us/step - loss: 0.5935 - accuracy: 0.6974 - recall: 0.1350\n",
      "Epoch 10/10\n",
      "124/124 [==============================] - 0s 835us/step - loss: 0.5934 - accuracy: 0.6926 - recall: 0.1320\n"
     ]
    },
    {
     "data": {
      "text/plain": [
       "<keras.callbacks.History at 0x2499771f8e0>"
      ]
     },
     "execution_count": 22,
     "metadata": {},
     "output_type": "execute_result"
    }
   ],
   "source": [
    "model2.fit(X_train_encoded, y_train, epochs=10, batch_size=32)"
   ]
  },
  {
   "cell_type": "code",
   "execution_count": 23,
   "id": "df69d4da",
   "metadata": {},
   "outputs": [
    {
     "name": "stdout",
     "output_type": "stream",
     "text": [
      "54/54 [==============================] - 0s 715us/step - loss: 0.5964 - accuracy: 0.6888 - recall: 0.1738\n",
      "Test Accuracy: 0.6888235211372375\n",
      "Test Loss: 0.596362829208374\n",
      "Test Recall: 0.1737835854291916\n"
     ]
    }
   ],
   "source": [
    "test_loss, test_acc, test_recall = model2.evaluate(X_test_encoded, y_test)\n",
    "print('Test Accuracy:', test_acc)\n",
    "print('Test Loss:', test_loss)\n",
    "print('Test Recall:', test_recall)"
   ]
  },
  {
   "cell_type": "code",
   "execution_count": 24,
   "id": "9aed1137",
   "metadata": {},
   "outputs": [
    {
     "name": "stdout",
     "output_type": "stream",
     "text": [
      "54/54 [==============================] - 0s 583us/step\n"
     ]
    },
    {
     "name": "stderr",
     "output_type": "stream",
     "text": [
      "C:\\Users\\gwent\\AppData\\Local\\Temp\\ipykernel_4332\\1005917253.py:23: FutureWarning: The frame.append method is deprecated and will be removed from pandas in a future version. Use pandas.concat instead.\n",
      "  master_scores = master_scores.append(new_row, ignore_index=True)\n"
     ]
    },
    {
     "data": {
      "text/plain": [
       "array([[1074,   85],\n",
       "       [ 444,   97]], dtype=int64)"
      ]
     },
     "execution_count": 24,
     "metadata": {},
     "output_type": "execute_result"
    }
   ],
   "source": [
    "y_pred = model2.predict(X_test_encoded)\n",
    "y_pred = np.round(y_pred).astype(int)\n",
    "\n",
    "cm = confusion_matrix(y_test, y_pred)\n",
    "add_to_master(\"1 hidden, 64 nodes per, adagrad\", y_test, y_pred)\n",
    "cm"
   ]
  },
  {
   "cell_type": "markdown",
   "id": "19631b6e",
   "metadata": {},
   "source": [
    "## Scaled with Plain Jane and Adagrad"
   ]
  },
  {
   "cell_type": "code",
   "execution_count": 25,
   "id": "60dcdda8",
   "metadata": {},
   "outputs": [
    {
     "data": {
      "text/html": [
       "<style>#sk-container-id-1 {color: black;background-color: white;}#sk-container-id-1 pre{padding: 0;}#sk-container-id-1 div.sk-toggleable {background-color: white;}#sk-container-id-1 label.sk-toggleable__label {cursor: pointer;display: block;width: 100%;margin-bottom: 0;padding: 0.3em;box-sizing: border-box;text-align: center;}#sk-container-id-1 label.sk-toggleable__label-arrow:before {content: \"▸\";float: left;margin-right: 0.25em;color: #696969;}#sk-container-id-1 label.sk-toggleable__label-arrow:hover:before {color: black;}#sk-container-id-1 div.sk-estimator:hover label.sk-toggleable__label-arrow:before {color: black;}#sk-container-id-1 div.sk-toggleable__content {max-height: 0;max-width: 0;overflow: hidden;text-align: left;background-color: #f0f8ff;}#sk-container-id-1 div.sk-toggleable__content pre {margin: 0.2em;color: black;border-radius: 0.25em;background-color: #f0f8ff;}#sk-container-id-1 input.sk-toggleable__control:checked~div.sk-toggleable__content {max-height: 200px;max-width: 100%;overflow: auto;}#sk-container-id-1 input.sk-toggleable__control:checked~label.sk-toggleable__label-arrow:before {content: \"▾\";}#sk-container-id-1 div.sk-estimator input.sk-toggleable__control:checked~label.sk-toggleable__label {background-color: #d4ebff;}#sk-container-id-1 div.sk-label input.sk-toggleable__control:checked~label.sk-toggleable__label {background-color: #d4ebff;}#sk-container-id-1 input.sk-hidden--visually {border: 0;clip: rect(1px 1px 1px 1px);clip: rect(1px, 1px, 1px, 1px);height: 1px;margin: -1px;overflow: hidden;padding: 0;position: absolute;width: 1px;}#sk-container-id-1 div.sk-estimator {font-family: monospace;background-color: #f0f8ff;border: 1px dotted black;border-radius: 0.25em;box-sizing: border-box;margin-bottom: 0.5em;}#sk-container-id-1 div.sk-estimator:hover {background-color: #d4ebff;}#sk-container-id-1 div.sk-parallel-item::after {content: \"\";width: 100%;border-bottom: 1px solid gray;flex-grow: 1;}#sk-container-id-1 div.sk-label:hover label.sk-toggleable__label {background-color: #d4ebff;}#sk-container-id-1 div.sk-serial::before {content: \"\";position: absolute;border-left: 1px solid gray;box-sizing: border-box;top: 0;bottom: 0;left: 50%;z-index: 0;}#sk-container-id-1 div.sk-serial {display: flex;flex-direction: column;align-items: center;background-color: white;padding-right: 0.2em;padding-left: 0.2em;position: relative;}#sk-container-id-1 div.sk-item {position: relative;z-index: 1;}#sk-container-id-1 div.sk-parallel {display: flex;align-items: stretch;justify-content: center;background-color: white;position: relative;}#sk-container-id-1 div.sk-item::before, #sk-container-id-1 div.sk-parallel-item::before {content: \"\";position: absolute;border-left: 1px solid gray;box-sizing: border-box;top: 0;bottom: 0;left: 50%;z-index: -1;}#sk-container-id-1 div.sk-parallel-item {display: flex;flex-direction: column;z-index: 1;position: relative;background-color: white;}#sk-container-id-1 div.sk-parallel-item:first-child::after {align-self: flex-end;width: 50%;}#sk-container-id-1 div.sk-parallel-item:last-child::after {align-self: flex-start;width: 50%;}#sk-container-id-1 div.sk-parallel-item:only-child::after {width: 0;}#sk-container-id-1 div.sk-dashed-wrapped {border: 1px dashed gray;margin: 0 0.4em 0.5em 0.4em;box-sizing: border-box;padding-bottom: 0.4em;background-color: white;}#sk-container-id-1 div.sk-label label {font-family: monospace;font-weight: bold;display: inline-block;line-height: 1.2em;}#sk-container-id-1 div.sk-label-container {text-align: center;}#sk-container-id-1 div.sk-container {/* jupyter's `normalize.less` sets `[hidden] { display: none; }` but bootstrap.min.css set `[hidden] { display: none !important; }` so we also need the `!important` here to be able to override the default hidden behavior on the sphinx rendered scikit-learn.org. See: https://github.com/scikit-learn/scikit-learn/issues/21755 */display: inline-block !important;position: relative;}#sk-container-id-1 div.sk-text-repr-fallback {display: none;}</style><div id=\"sk-container-id-1\" class=\"sk-top-container\"><div class=\"sk-text-repr-fallback\"><pre>StandardScaler()</pre><b>In a Jupyter environment, please rerun this cell to show the HTML representation or trust the notebook. <br />On GitHub, the HTML representation is unable to render, please try loading this page with nbviewer.org.</b></div><div class=\"sk-container\" hidden><div class=\"sk-item\"><div class=\"sk-estimator sk-toggleable\"><input class=\"sk-toggleable__control sk-hidden--visually\" id=\"sk-estimator-id-1\" type=\"checkbox\" checked><label for=\"sk-estimator-id-1\" class=\"sk-toggleable__label sk-toggleable__label-arrow\">StandardScaler</label><div class=\"sk-toggleable__content\"><pre>StandardScaler()</pre></div></div></div></div></div>"
      ],
      "text/plain": [
       "StandardScaler()"
      ]
     },
     "execution_count": 25,
     "metadata": {},
     "output_type": "execute_result"
    }
   ],
   "source": [
    "scaler = StandardScaler()\n",
    "scaler.fit(X_train_encoded)"
   ]
  },
  {
   "cell_type": "code",
   "execution_count": 26,
   "id": "0ef18545",
   "metadata": {},
   "outputs": [],
   "source": [
    "X_train_scaled_encoded = scaler.transform(X_train_encoded)\n",
    "X_test_scaled_encoded = scaler.transform(X_test_encoded)"
   ]
  },
  {
   "cell_type": "code",
   "execution_count": 27,
   "id": "bccddabe",
   "metadata": {},
   "outputs": [
    {
     "data": {
      "text/plain": [
       "(3965, 25)"
      ]
     },
     "execution_count": 27,
     "metadata": {},
     "output_type": "execute_result"
    }
   ],
   "source": [
    "X_train_scaled_encoded.shape"
   ]
  },
  {
   "cell_type": "code",
   "execution_count": 28,
   "id": "a18c4782",
   "metadata": {},
   "outputs": [
    {
     "name": "stdout",
     "output_type": "stream",
     "text": [
      "Epoch 1/10\n",
      "124/124 [==============================] - 0s 876us/step - loss: 0.6195 - accuracy: 0.6673 - recall: 0.0564\n",
      "Epoch 2/10\n",
      "124/124 [==============================] - 0s 884us/step - loss: 0.5916 - accuracy: 0.6898 - recall: 0.1390\n",
      "Epoch 3/10\n",
      "124/124 [==============================] - 0s 884us/step - loss: 0.5840 - accuracy: 0.6989 - recall: 0.2208\n",
      "Epoch 4/10\n",
      "124/124 [==============================] - 0s 892us/step - loss: 0.5804 - accuracy: 0.7004 - recall: 0.1852\n",
      "Epoch 5/10\n",
      "124/124 [==============================] - 0s 892us/step - loss: 0.5745 - accuracy: 0.7024 - recall: 0.2152\n",
      "Epoch 6/10\n",
      "124/124 [==============================] - 0s 908us/step - loss: 0.5735 - accuracy: 0.7044 - recall: 0.2289\n",
      "Epoch 7/10\n",
      "124/124 [==============================] - 0s 892us/step - loss: 0.5709 - accuracy: 0.7019 - recall: 0.2356\n",
      "Epoch 8/10\n",
      "124/124 [==============================] - 0s 908us/step - loss: 0.5669 - accuracy: 0.7062 - recall: 0.2498\n",
      "Epoch 9/10\n",
      "124/124 [==============================] - 0s 916us/step - loss: 0.5637 - accuracy: 0.7092 - recall: 0.2216\n",
      "Epoch 10/10\n",
      "124/124 [==============================] - 0s 916us/step - loss: 0.5615 - accuracy: 0.7107 - recall: 0.2563\n",
      "54/54 [==============================] - 0s 734us/step - loss: 0.5940 - accuracy: 0.6771 - recall: 0.2674\n",
      "Test Accuracy: 0.6770588159561157\n",
      "Test Loss: 0.5940172672271729\n",
      "Test Recall: 0.2673598825931549\n",
      "54/54 [==============================] - 0s 602us/step\n"
     ]
    },
    {
     "name": "stderr",
     "output_type": "stream",
     "text": [
      "C:\\Users\\gwent\\AppData\\Local\\Temp\\ipykernel_4332\\1005917253.py:23: FutureWarning: The frame.append method is deprecated and will be removed from pandas in a future version. Use pandas.concat instead.\n",
      "  master_scores = master_scores.append(new_row, ignore_index=True)\n"
     ]
    },
    {
     "data": {
      "text/plain": [
       "array([[998, 161],\n",
       "       [388, 153]], dtype=int64)"
      ]
     },
     "execution_count": 28,
     "metadata": {},
     "output_type": "execute_result"
    }
   ],
   "source": [
    "# Plain Jane + scaled\n",
    "model3 = keras.Sequential([\n",
    "    keras.layers.Dense(64, activation='relu', input_shape=(25,)),\n",
    "    keras.layers.Dense(64, activation='relu'),\n",
    "    keras.layers.Dense(1, activation='sigmoid')\n",
    "])\n",
    "\n",
    "model3.compile(optimizer='adam', \n",
    "             loss='binary_crossentropy',\n",
    "             metrics=['accuracy', 'recall'])\n",
    "\n",
    "model3.fit(X_train_scaled_encoded, y_train, epochs=10, batch_size=32)\n",
    "\n",
    "test_loss, test_acc, test_recall = model3.evaluate(X_test_scaled_encoded, y_test)\n",
    "print('Test Accuracy:', test_acc)\n",
    "print('Test Loss:', test_loss)\n",
    "print('Test Recall:', test_recall)\n",
    "\n",
    "y_pred = model3.predict(X_test_scaled_encoded)\n",
    "y_pred = np.round(y_pred).astype(int)\n",
    "\n",
    "cm = confusion_matrix(y_test, y_pred)\n",
    "add_to_master(\"1 hidden, 64 nodes per, adam, scaled\", y_test, y_pred)\n",
    "cm"
   ]
  },
  {
   "cell_type": "code",
   "execution_count": 29,
   "id": "424d9860",
   "metadata": {},
   "outputs": [
    {
     "name": "stdout",
     "output_type": "stream",
     "text": [
      "Epoch 1/10\n",
      "124/124 [==============================] - 0s 803us/step - loss: 0.6154 - accuracy: 0.6729 - recall: 0.0646\n",
      "Epoch 2/10\n",
      "124/124 [==============================] - 0s 827us/step - loss: 0.5928 - accuracy: 0.6888 - recall: 0.0752\n",
      "Epoch 3/10\n",
      "124/124 [==============================] - 0s 819us/step - loss: 0.5866 - accuracy: 0.6923 - recall: 0.1415\n",
      "Epoch 4/10\n",
      "124/124 [==============================] - 0s 819us/step - loss: 0.5834 - accuracy: 0.6921 - recall: 0.1377\n",
      "Epoch 5/10\n",
      "124/124 [==============================] - 0s 827us/step - loss: 0.5812 - accuracy: 0.6938 - recall: 0.1502\n",
      "Epoch 6/10\n",
      "124/124 [==============================] - 0s 851us/step - loss: 0.5793 - accuracy: 0.6948 - recall: 0.1661\n",
      "Epoch 7/10\n",
      "124/124 [==============================] - 0s 827us/step - loss: 0.5778 - accuracy: 0.6963 - recall: 0.1668\n",
      "Epoch 8/10\n",
      "124/124 [==============================] - 0s 819us/step - loss: 0.5766 - accuracy: 0.7009 - recall: 0.1844\n",
      "Epoch 9/10\n",
      "124/124 [==============================] - 0s 827us/step - loss: 0.5743 - accuracy: 0.6991 - recall: 0.1904\n",
      "Epoch 10/10\n",
      "124/124 [==============================] - 0s 811us/step - loss: 0.5744 - accuracy: 0.6994 - recall: 0.1839\n",
      "54/54 [==============================] - 0s 715us/step - loss: 0.5872 - accuracy: 0.6812 - recall: 0.1661\n",
      "Test Accuracy: 0.681176483631134\n",
      "Test Loss: 0.5872282981872559\n",
      "Test Recall: 0.16606800258159637\n",
      "54/54 [==============================] - 0s 602us/step\n"
     ]
    },
    {
     "name": "stderr",
     "output_type": "stream",
     "text": [
      "C:\\Users\\gwent\\AppData\\Local\\Temp\\ipykernel_4332\\1005917253.py:23: FutureWarning: The frame.append method is deprecated and will be removed from pandas in a future version. Use pandas.concat instead.\n",
      "  master_scores = master_scores.append(new_row, ignore_index=True)\n"
     ]
    },
    {
     "data": {
      "text/plain": [
       "array([[1063,   96],\n",
       "       [ 446,   95]], dtype=int64)"
      ]
     },
     "execution_count": 29,
     "metadata": {},
     "output_type": "execute_result"
    }
   ],
   "source": [
    "# adagrad + scaled \n",
    "model4 = keras.Sequential([\n",
    "    keras.layers.Dense(64, activation='relu', input_shape=(25,)),\n",
    "    keras.layers.Dense(64, activation='relu'),\n",
    "    keras.layers.Dense(1, activation='sigmoid')\n",
    "])\n",
    "\n",
    "# Adagrad better for when feataures vary in magnitude and frequency \n",
    "optimizer = tf.keras.optimizers.Adagrad(learning_rate=0.01)\n",
    "model4.compile(optimizer=optimizer, \n",
    "             loss='binary_crossentropy',\n",
    "             metrics=['accuracy', 'recall'])\n",
    "\n",
    "model4.fit(X_train_scaled_encoded, y_train, epochs=10, batch_size=32)\n",
    "\n",
    "test_loss, test_acc, test_recall = model4.evaluate(X_test_scaled_encoded, y_test)\n",
    "print('Test Accuracy:', test_acc)\n",
    "print('Test Loss:', test_loss)\n",
    "print('Test Recall:', test_recall)\n",
    "\n",
    "y_pred = model4.predict(X_test_scaled_encoded)\n",
    "y_pred = np.round(y_pred).astype(int)\n",
    "\n",
    "cm = confusion_matrix(y_test, y_pred)\n",
    "add_to_master(\"1 hidden, 64 nodes per, adagrad, scaled\", y_test, y_pred)\n",
    "cm"
   ]
  },
  {
   "cell_type": "code",
   "execution_count": 30,
   "id": "49bf0634",
   "metadata": {},
   "outputs": [
    {
     "data": {
      "text/html": [
       "<div>\n",
       "<style scoped>\n",
       "    .dataframe tbody tr th:only-of-type {\n",
       "        vertical-align: middle;\n",
       "    }\n",
       "\n",
       "    .dataframe tbody tr th {\n",
       "        vertical-align: top;\n",
       "    }\n",
       "\n",
       "    .dataframe thead th {\n",
       "        text-align: right;\n",
       "    }\n",
       "</style>\n",
       "<table border=\"1\" class=\"dataframe\">\n",
       "  <thead>\n",
       "    <tr style=\"text-align: right;\">\n",
       "      <th></th>\n",
       "      <th>Model</th>\n",
       "      <th>Recall</th>\n",
       "      <th>F1</th>\n",
       "      <th>Precision</th>\n",
       "      <th>Accuracy</th>\n",
       "    </tr>\n",
       "  </thead>\n",
       "  <tbody>\n",
       "    <tr>\n",
       "      <th>2</th>\n",
       "      <td>1 hidden, 64 nodes per, adam, scaled</td>\n",
       "      <td>0.283</td>\n",
       "      <td>0.358</td>\n",
       "      <td>0.487</td>\n",
       "      <td>0.677</td>\n",
       "    </tr>\n",
       "    <tr>\n",
       "      <th>0</th>\n",
       "      <td>1 hidden, 64 nodes per, adam</td>\n",
       "      <td>0.246</td>\n",
       "      <td>0.329</td>\n",
       "      <td>0.498</td>\n",
       "      <td>0.681</td>\n",
       "    </tr>\n",
       "    <tr>\n",
       "      <th>1</th>\n",
       "      <td>1 hidden, 64 nodes per, adagrad</td>\n",
       "      <td>0.179</td>\n",
       "      <td>0.268</td>\n",
       "      <td>0.533</td>\n",
       "      <td>0.689</td>\n",
       "    </tr>\n",
       "    <tr>\n",
       "      <th>3</th>\n",
       "      <td>1 hidden, 64 nodes per, adagrad, scaled</td>\n",
       "      <td>0.176</td>\n",
       "      <td>0.260</td>\n",
       "      <td>0.497</td>\n",
       "      <td>0.681</td>\n",
       "    </tr>\n",
       "  </tbody>\n",
       "</table>\n",
       "</div>"
      ],
      "text/plain": [
       "                                     Model  Recall     F1  Precision  Accuracy\n",
       "2     1 hidden, 64 nodes per, adam, scaled   0.283  0.358      0.487     0.677\n",
       "0             1 hidden, 64 nodes per, adam   0.246  0.329      0.498     0.681\n",
       "1          1 hidden, 64 nodes per, adagrad   0.179  0.268      0.533     0.689\n",
       "3  1 hidden, 64 nodes per, adagrad, scaled   0.176  0.260      0.497     0.681"
      ]
     },
     "execution_count": 30,
     "metadata": {},
     "output_type": "execute_result"
    }
   ],
   "source": [
    "master_scores.sort_values('Recall', ascending=False)"
   ]
  },
  {
   "cell_type": "code",
   "execution_count": 31,
   "id": "256366ac",
   "metadata": {},
   "outputs": [],
   "source": [
    "def create_mlp(nodes, optimizer, X_train):\n",
    "    # Define the model architecture\n",
    "    model = keras.Sequential([\n",
    "    keras.layers.Dense(nodes, activation='relu', input_shape=(X_train.shape[1],)),\n",
    "    keras.layers.Dense(nodes, activation='relu'),\n",
    "    keras.layers.Dense(1, activation='sigmoid')\n",
    "])\n",
    "\n",
    "    model.compile(optimizer=optimizer, \n",
    "             loss='binary_crossentropy',\n",
    "             metrics=['accuracy', 'recall'])\n",
    "    \n",
    "    return model"
   ]
  },
  {
   "cell_type": "code",
   "execution_count": 32,
   "id": "59ff7897",
   "metadata": {},
   "outputs": [],
   "source": [
    "model5 = create_mlp(100, 'adam', X_train_scaled_encoded)"
   ]
  },
  {
   "cell_type": "code",
   "execution_count": 33,
   "id": "db824e87",
   "metadata": {},
   "outputs": [
    {
     "name": "stdout",
     "output_type": "stream",
     "text": [
      "Epoch 1/10\n",
      "124/124 [==============================] - 0s 981us/step - loss: 0.6053 - accuracy: 0.6817 - recall: 0.1278\n",
      "Epoch 2/10\n",
      "124/124 [==============================] - 0s 997us/step - loss: 0.5872 - accuracy: 0.6946 - recall: 0.1965\n",
      "Epoch 3/10\n",
      "124/124 [==============================] - 0s 989us/step - loss: 0.5809 - accuracy: 0.6994 - recall: 0.2357\n",
      "Epoch 4/10\n",
      "124/124 [==============================] - 0s 989us/step - loss: 0.5777 - accuracy: 0.7009 - recall: 0.2034\n",
      "Epoch 5/10\n",
      "124/124 [==============================] - 0s 1ms/step - loss: 0.5718 - accuracy: 0.7077 - recall: 0.2370\n",
      "Epoch 6/10\n",
      "124/124 [==============================] - 0s 1ms/step - loss: 0.5718 - accuracy: 0.7072 - recall: 0.2567\n",
      "Epoch 7/10\n",
      "124/124 [==============================] - 0s 989us/step - loss: 0.5702 - accuracy: 0.7042 - recall: 0.2627\n",
      "Epoch 8/10\n",
      "124/124 [==============================] - 0s 997us/step - loss: 0.5652 - accuracy: 0.7125 - recall: 0.2643\n",
      "Epoch 9/10\n",
      "124/124 [==============================] - 0s 997us/step - loss: 0.5607 - accuracy: 0.7165 - recall: 0.2438\n",
      "Epoch 10/10\n",
      "124/124 [==============================] - 0s 997us/step - loss: 0.5591 - accuracy: 0.7122 - recall: 0.2782\n",
      "54/54 [==============================] - 0s 866us/step - loss: 0.5964 - accuracy: 0.6812 - recall: 0.2904\n",
      "Test Accuracy: 0.681176483631134\n",
      "Test Loss: 0.5964025855064392\n",
      "Test Recall: 0.29040753841400146\n",
      "54/54 [==============================] - 0s 640us/step\n"
     ]
    },
    {
     "name": "stderr",
     "output_type": "stream",
     "text": [
      "C:\\Users\\gwent\\AppData\\Local\\Temp\\ipykernel_4332\\1005917253.py:23: FutureWarning: The frame.append method is deprecated and will be removed from pandas in a future version. Use pandas.concat instead.\n",
      "  master_scores = master_scores.append(new_row, ignore_index=True)\n"
     ]
    },
    {
     "data": {
      "text/plain": [
       "array([[992, 167],\n",
       "       [375, 166]], dtype=int64)"
      ]
     },
     "execution_count": 33,
     "metadata": {},
     "output_type": "execute_result"
    }
   ],
   "source": [
    "model5.fit(X_train_scaled_encoded, y_train, epochs=10, batch_size=32)\n",
    "\n",
    "test_loss, test_acc, test_recall = model5.evaluate(X_test_scaled_encoded, y_test)\n",
    "print('Test Accuracy:', test_acc)\n",
    "print('Test Loss:', test_loss)\n",
    "print('Test Recall:', test_recall)\n",
    "\n",
    "y_pred = model5.predict(X_test_scaled_encoded)\n",
    "y_pred = np.round(y_pred).astype(int)\n",
    "\n",
    "cm = confusion_matrix(y_test, y_pred)\n",
    "add_to_master(\"1 hidden, 100 nodes, adam\", y_test, y_pred)\n",
    "cm"
   ]
  },
  {
   "cell_type": "code",
   "execution_count": 34,
   "id": "80c22910",
   "metadata": {},
   "outputs": [
    {
     "name": "stdout",
     "output_type": "stream",
     "text": [
      "Epoch 1/10\n",
      "124/124 [==============================] - 0s 835us/step - loss: 0.6253 - accuracy: 0.6797 - recall: 0.0208\n",
      "Epoch 2/10\n",
      "124/124 [==============================] - 0s 879us/step - loss: 0.5958 - accuracy: 0.6868 - recall: 0.0700\n",
      "Epoch 3/10\n",
      "124/124 [==============================] - 0s 860us/step - loss: 0.5888 - accuracy: 0.6910 - recall: 0.1674\n",
      "Epoch 4/10\n",
      "124/124 [==============================] - 0s 851us/step - loss: 0.5838 - accuracy: 0.6974 - recall: 0.1710\n",
      "Epoch 5/10\n",
      "124/124 [==============================] - 0s 868us/step - loss: 0.5805 - accuracy: 0.6963 - recall: 0.1854\n",
      "Epoch 6/10\n",
      "124/124 [==============================] - 0s 924us/step - loss: 0.5787 - accuracy: 0.6981 - recall: 0.2013\n",
      "Epoch 7/10\n",
      "124/124 [==============================] - 0s 876us/step - loss: 0.5765 - accuracy: 0.6981 - recall: 0.1945\n",
      "Epoch 8/10\n",
      "124/124 [==============================] - 0s 884us/step - loss: 0.5738 - accuracy: 0.7032 - recall: 0.2294\n",
      "Epoch 9/10\n",
      "124/124 [==============================] - 0s 876us/step - loss: 0.5713 - accuracy: 0.7044 - recall: 0.2077\n",
      "Epoch 10/10\n",
      "124/124 [==============================] - 0s 884us/step - loss: 0.5699 - accuracy: 0.7039 - recall: 0.2073\n",
      "54/54 [==============================] - 0s 734us/step - loss: 0.5876 - accuracy: 0.6806 - recall: 0.1842\n",
      "Test Accuracy: 0.6805882453918457\n",
      "Test Loss: 0.5876253843307495\n",
      "Test Recall: 0.18418197333812714\n",
      "54/54 [==============================] - 0s 602us/step\n"
     ]
    },
    {
     "name": "stderr",
     "output_type": "stream",
     "text": [
      "C:\\Users\\gwent\\AppData\\Local\\Temp\\ipykernel_4332\\1005917253.py:23: FutureWarning: The frame.append method is deprecated and will be removed from pandas in a future version. Use pandas.concat instead.\n",
      "  master_scores = master_scores.append(new_row, ignore_index=True)\n"
     ]
    },
    {
     "data": {
      "text/plain": [
       "array([[1052,  107],\n",
       "       [ 436,  105]], dtype=int64)"
      ]
     },
     "execution_count": 34,
     "metadata": {},
     "output_type": "execute_result"
    }
   ],
   "source": [
    "model6 = create_mlp(32, 'adam', X_train_scaled_encoded)\n",
    "model6.fit(X_train_scaled_encoded, y_train, epochs=10, batch_size=32)\n",
    "\n",
    "test_loss, test_acc, test_recall = model6.evaluate(X_test_scaled_encoded, y_test)\n",
    "print('Test Accuracy:', test_acc)\n",
    "print('Test Loss:', test_loss)\n",
    "print('Test Recall:', test_recall)\n",
    "\n",
    "y_pred = model6.predict(X_test_scaled_encoded)\n",
    "y_pred = np.round(y_pred).astype(int)\n",
    "\n",
    "cm = confusion_matrix(y_test, y_pred)\n",
    "add_to_master(\"1 hidden, 32 nodes, adam\", y_test, y_pred)\n",
    "cm"
   ]
  },
  {
   "cell_type": "code",
   "execution_count": 35,
   "id": "77fd69c4",
   "metadata": {},
   "outputs": [
    {
     "name": "stdout",
     "output_type": "stream",
     "text": [
      "Epoch 1/10\n",
      "124/124 [==============================] - 1s 1ms/step - loss: 0.6063 - accuracy: 0.6830 - recall: 0.1546\n",
      "Epoch 2/10\n",
      "124/124 [==============================] - 0s 1ms/step - loss: 0.5873 - accuracy: 0.6951 - recall: 0.2081\n",
      "Epoch 3/10\n",
      "124/124 [==============================] - 0s 1ms/step - loss: 0.5801 - accuracy: 0.6984 - recall: 0.2321\n",
      "Epoch 4/10\n",
      "124/124 [==============================] - 0s 1ms/step - loss: 0.5780 - accuracy: 0.7006 - recall: 0.2032\n",
      "Epoch 5/10\n",
      "124/124 [==============================] - 0s 1ms/step - loss: 0.5696 - accuracy: 0.7082 - recall: 0.2384\n",
      "Epoch 6/10\n",
      "124/124 [==============================] - 0s 1ms/step - loss: 0.5722 - accuracy: 0.7072 - recall: 0.2569\n",
      "Epoch 7/10\n",
      "124/124 [==============================] - 0s 1ms/step - loss: 0.5682 - accuracy: 0.7107 - recall: 0.2743\n",
      "Epoch 8/10\n",
      "124/124 [==============================] - 0s 1ms/step - loss: 0.5618 - accuracy: 0.7140 - recall: 0.2772\n",
      "Epoch 9/10\n",
      "124/124 [==============================] - 0s 1ms/step - loss: 0.5573 - accuracy: 0.7130 - recall: 0.2436\n",
      "Epoch 10/10\n",
      "124/124 [==============================] - 0s 1ms/step - loss: 0.5542 - accuracy: 0.7170 - recall: 0.2820\n",
      "54/54 [==============================] - 0s 809us/step - loss: 0.6014 - accuracy: 0.6659 - recall: 0.2598\n",
      "Test Accuracy: 0.6658823490142822\n",
      "Test Loss: 0.6013837456703186\n",
      "Test Recall: 0.2598111033439636\n",
      "54/54 [==============================] - 0s 696us/step\n"
     ]
    },
    {
     "name": "stderr",
     "output_type": "stream",
     "text": [
      "C:\\Users\\gwent\\AppData\\Local\\Temp\\ipykernel_4332\\1005917253.py:23: FutureWarning: The frame.append method is deprecated and will be removed from pandas in a future version. Use pandas.concat instead.\n",
      "  master_scores = master_scores.append(new_row, ignore_index=True)\n"
     ]
    },
    {
     "data": {
      "text/plain": [
       "array([[984, 175],\n",
       "       [393, 148]], dtype=int64)"
      ]
     },
     "execution_count": 35,
     "metadata": {},
     "output_type": "execute_result"
    }
   ],
   "source": [
    "model7 = create_mlp(250, 'adam', X_train_scaled_encoded)\n",
    "model7.fit(X_train_scaled_encoded, y_train, epochs=10, batch_size=32)\n",
    "\n",
    "test_loss, test_acc, test_recall = model7.evaluate(X_test_scaled_encoded, y_test)\n",
    "print('Test Accuracy:', test_acc)\n",
    "print('Test Loss:', test_loss)\n",
    "print('Test Recall:', test_recall)\n",
    "\n",
    "y_pred = model7.predict(X_test_scaled_encoded)\n",
    "y_pred = np.round(y_pred).astype(int)\n",
    "\n",
    "cm = confusion_matrix(y_test, y_pred)\n",
    "add_to_master(\"1 hidden, 250 nodes, adam\", y_test, y_pred)\n",
    "cm"
   ]
  },
  {
   "cell_type": "code",
   "execution_count": 36,
   "id": "4ac07e60",
   "metadata": {},
   "outputs": [
    {
     "name": "stdout",
     "output_type": "stream",
     "text": [
      "Epoch 1/10\n",
      "124/124 [==============================] - 1s 1ms/step - loss: 0.6081 - accuracy: 0.6837 - recall: 0.1785\n",
      "Epoch 2/10\n",
      "124/124 [==============================] - 0s 1ms/step - loss: 0.5880 - accuracy: 0.6946 - recall: 0.2097\n",
      "Epoch 3/10\n",
      "124/124 [==============================] - 0s 1ms/step - loss: 0.5795 - accuracy: 0.6989 - recall: 0.2284\n",
      "Epoch 4/10\n",
      "124/124 [==============================] - 0s 1ms/step - loss: 0.5771 - accuracy: 0.7026 - recall: 0.2071\n",
      "Epoch 5/10\n",
      "124/124 [==============================] - 0s 1ms/step - loss: 0.5687 - accuracy: 0.7107 - recall: 0.2436\n",
      "Epoch 6/10\n",
      "124/124 [==============================] - 0s 1ms/step - loss: 0.5706 - accuracy: 0.7077 - recall: 0.2559\n",
      "Epoch 7/10\n",
      "124/124 [==============================] - 0s 1ms/step - loss: 0.5671 - accuracy: 0.7087 - recall: 0.2751\n",
      "Epoch 8/10\n",
      "124/124 [==============================] - 0s 1ms/step - loss: 0.5613 - accuracy: 0.7117 - recall: 0.2688\n",
      "Epoch 9/10\n",
      "124/124 [==============================] - 0s 1ms/step - loss: 0.5555 - accuracy: 0.7135 - recall: 0.2482\n",
      "Epoch 10/10\n",
      "124/124 [==============================] - 0s 1ms/step - loss: 0.5521 - accuracy: 0.7228 - recall: 0.2973\n",
      "54/54 [==============================] - 0s 941us/step - loss: 0.6009 - accuracy: 0.6629 - recall: 0.2579\n",
      "Test Accuracy: 0.6629411578178406\n",
      "Test Loss: 0.6008824110031128\n",
      "Test Recall: 0.25794947147369385\n",
      "54/54 [==============================] - 0s 715us/step\n"
     ]
    },
    {
     "name": "stderr",
     "output_type": "stream",
     "text": [
      "C:\\Users\\gwent\\AppData\\Local\\Temp\\ipykernel_4332\\1005917253.py:23: FutureWarning: The frame.append method is deprecated and will be removed from pandas in a future version. Use pandas.concat instead.\n",
      "  master_scores = master_scores.append(new_row, ignore_index=True)\n"
     ]
    },
    {
     "data": {
      "text/plain": [
       "array([[980, 179],\n",
       "       [394, 147]], dtype=int64)"
      ]
     },
     "execution_count": 36,
     "metadata": {},
     "output_type": "execute_result"
    }
   ],
   "source": [
    "# definitely overfits\n",
    "model8 = create_mlp(300, 'adam', X_train_scaled_encoded)\n",
    "model8.fit(X_train_scaled_encoded, y_train, epochs=10, batch_size=32)\n",
    "\n",
    "test_loss, test_acc, test_recall = model8.evaluate(X_test_scaled_encoded, y_test)\n",
    "print('Test Accuracy:', test_acc)\n",
    "print('Test Loss:', test_loss)\n",
    "print('Test Recall:', test_recall)\n",
    "\n",
    "y_pred = model8.predict(X_test_scaled_encoded)\n",
    "y_pred = np.round(y_pred).astype(int)\n",
    "\n",
    "cm = confusion_matrix(y_test, y_pred)\n",
    "add_to_master(\"1 hidden, 300 nodes, adam\", y_test, y_pred)\n",
    "cm"
   ]
  },
  {
   "cell_type": "code",
   "execution_count": 37,
   "id": "08550f15",
   "metadata": {},
   "outputs": [
    {
     "data": {
      "text/html": [
       "<div>\n",
       "<style scoped>\n",
       "    .dataframe tbody tr th:only-of-type {\n",
       "        vertical-align: middle;\n",
       "    }\n",
       "\n",
       "    .dataframe tbody tr th {\n",
       "        vertical-align: top;\n",
       "    }\n",
       "\n",
       "    .dataframe thead th {\n",
       "        text-align: right;\n",
       "    }\n",
       "</style>\n",
       "<table border=\"1\" class=\"dataframe\">\n",
       "  <thead>\n",
       "    <tr style=\"text-align: right;\">\n",
       "      <th></th>\n",
       "      <th>Model</th>\n",
       "      <th>Recall</th>\n",
       "      <th>F1</th>\n",
       "      <th>Precision</th>\n",
       "      <th>Accuracy</th>\n",
       "    </tr>\n",
       "  </thead>\n",
       "  <tbody>\n",
       "    <tr>\n",
       "      <th>4</th>\n",
       "      <td>1 hidden, 100 nodes, adam</td>\n",
       "      <td>0.307</td>\n",
       "      <td>0.380</td>\n",
       "      <td>0.498</td>\n",
       "      <td>0.681</td>\n",
       "    </tr>\n",
       "    <tr>\n",
       "      <th>2</th>\n",
       "      <td>1 hidden, 64 nodes per, adam, scaled</td>\n",
       "      <td>0.283</td>\n",
       "      <td>0.358</td>\n",
       "      <td>0.487</td>\n",
       "      <td>0.677</td>\n",
       "    </tr>\n",
       "    <tr>\n",
       "      <th>6</th>\n",
       "      <td>1 hidden, 250 nodes, adam</td>\n",
       "      <td>0.274</td>\n",
       "      <td>0.343</td>\n",
       "      <td>0.458</td>\n",
       "      <td>0.666</td>\n",
       "    </tr>\n",
       "    <tr>\n",
       "      <th>7</th>\n",
       "      <td>1 hidden, 300 nodes, adam</td>\n",
       "      <td>0.272</td>\n",
       "      <td>0.339</td>\n",
       "      <td>0.451</td>\n",
       "      <td>0.663</td>\n",
       "    </tr>\n",
       "    <tr>\n",
       "      <th>0</th>\n",
       "      <td>1 hidden, 64 nodes per, adam</td>\n",
       "      <td>0.246</td>\n",
       "      <td>0.329</td>\n",
       "      <td>0.498</td>\n",
       "      <td>0.681</td>\n",
       "    </tr>\n",
       "    <tr>\n",
       "      <th>5</th>\n",
       "      <td>1 hidden, 32 nodes, adam</td>\n",
       "      <td>0.194</td>\n",
       "      <td>0.279</td>\n",
       "      <td>0.495</td>\n",
       "      <td>0.681</td>\n",
       "    </tr>\n",
       "    <tr>\n",
       "      <th>1</th>\n",
       "      <td>1 hidden, 64 nodes per, adagrad</td>\n",
       "      <td>0.179</td>\n",
       "      <td>0.268</td>\n",
       "      <td>0.533</td>\n",
       "      <td>0.689</td>\n",
       "    </tr>\n",
       "    <tr>\n",
       "      <th>3</th>\n",
       "      <td>1 hidden, 64 nodes per, adagrad, scaled</td>\n",
       "      <td>0.176</td>\n",
       "      <td>0.260</td>\n",
       "      <td>0.497</td>\n",
       "      <td>0.681</td>\n",
       "    </tr>\n",
       "  </tbody>\n",
       "</table>\n",
       "</div>"
      ],
      "text/plain": [
       "                                     Model  Recall     F1  Precision  Accuracy\n",
       "4                1 hidden, 100 nodes, adam   0.307  0.380      0.498     0.681\n",
       "2     1 hidden, 64 nodes per, adam, scaled   0.283  0.358      0.487     0.677\n",
       "6                1 hidden, 250 nodes, adam   0.274  0.343      0.458     0.666\n",
       "7                1 hidden, 300 nodes, adam   0.272  0.339      0.451     0.663\n",
       "0             1 hidden, 64 nodes per, adam   0.246  0.329      0.498     0.681\n",
       "5                 1 hidden, 32 nodes, adam   0.194  0.279      0.495     0.681\n",
       "1          1 hidden, 64 nodes per, adagrad   0.179  0.268      0.533     0.689\n",
       "3  1 hidden, 64 nodes per, adagrad, scaled   0.176  0.260      0.497     0.681"
      ]
     },
     "execution_count": 37,
     "metadata": {},
     "output_type": "execute_result"
    }
   ],
   "source": [
    "master_scores.sort_values('Recall', ascending=False)"
   ]
  },
  {
   "cell_type": "markdown",
   "id": "7feac994",
   "metadata": {},
   "source": [
    "Okay so we are pretty similar in performance to the logistic regression models from cat-pstone 1 on every metric except recall (and the part it plays in F1, of course). Let's see if over or undersampling with the top performing model architecture (model1). "
   ]
  },
  {
   "cell_type": "code",
   "execution_count": 38,
   "id": "07a5b843",
   "metadata": {},
   "outputs": [],
   "source": [
    "from imblearn.under_sampling import RandomUnderSampler\n",
    "from imblearn.over_sampling import RandomOverSampler"
   ]
  },
  {
   "cell_type": "code",
   "execution_count": 39,
   "id": "d12669cc",
   "metadata": {},
   "outputs": [],
   "source": [
    "rus = RandomUnderSampler()\n",
    "X_resampled_rus, y_resampled_rus = rus.fit_resample(X_train_scaled_encoded, y_train)\n",
    "\n",
    "ros = RandomOverSampler()\n",
    "X_resampled_ros, y_resampled_ros = ros.fit_resample(X_train_scaled_encoded, y_train)"
   ]
  },
  {
   "cell_type": "code",
   "execution_count": 40,
   "id": "9d053bcb",
   "metadata": {},
   "outputs": [
    {
     "name": "stdout",
     "output_type": "stream",
     "text": [
      "Epoch 1/10\n",
      "79/79 [==============================] - 0s 869us/step - loss: 0.6725 - accuracy: 0.5828 - recall: 0.5245\n",
      "Epoch 2/10\n",
      "79/79 [==============================] - 0s 895us/step - loss: 0.6499 - accuracy: 0.6335 - recall: 0.5914\n",
      "Epoch 3/10\n",
      "79/79 [==============================] - 0s 908us/step - loss: 0.6410 - accuracy: 0.6371 - recall: 0.6219\n",
      "Epoch 4/10\n",
      "79/79 [==============================] - 0s 882us/step - loss: 0.6350 - accuracy: 0.6434 - recall: 0.6260\n",
      "Epoch 5/10\n",
      "79/79 [==============================] - 0s 895us/step - loss: 0.6302 - accuracy: 0.6529 - recall: 0.6315\n",
      "Epoch 6/10\n",
      "79/79 [==============================] - 0s 895us/step - loss: 0.6263 - accuracy: 0.6529 - recall: 0.6697\n",
      "Epoch 7/10\n",
      "79/79 [==============================] - 0s 895us/step - loss: 0.6215 - accuracy: 0.6601 - recall: 0.6559\n",
      "Epoch 8/10\n",
      "79/79 [==============================] - 0s 921us/step - loss: 0.6164 - accuracy: 0.6620 - recall: 0.6663\n",
      "Epoch 9/10\n",
      "79/79 [==============================] - 0s 933us/step - loss: 0.6158 - accuracy: 0.6676 - recall: 0.6715\n",
      "Epoch 10/10\n",
      "79/79 [==============================] - 0s 908us/step - loss: 0.6125 - accuracy: 0.6704 - recall: 0.6682\n",
      "54/54 [==============================] - 0s 602us/step\n"
     ]
    },
    {
     "name": "stderr",
     "output_type": "stream",
     "text": [
      "C:\\Users\\gwent\\AppData\\Local\\Temp\\ipykernel_4332\\1005917253.py:23: FutureWarning: The frame.append method is deprecated and will be removed from pandas in a future version. Use pandas.concat instead.\n",
      "  master_scores = master_scores.append(new_row, ignore_index=True)\n"
     ]
    },
    {
     "data": {
      "text/plain": [
       "array([[727, 432],\n",
       "       [225, 316]], dtype=int64)"
      ]
     },
     "execution_count": 40,
     "metadata": {},
     "output_type": "execute_result"
    }
   ],
   "source": [
    "# RUS \n",
    "model9 = create_mlp(64, 'adam', X_train_scaled_encoded)\n",
    "model9.fit(X_resampled_rus, y_resampled_rus, epochs=10, batch_size=32)\n",
    "\n",
    "y_pred = model9.predict(X_test_scaled_encoded)\n",
    "y_pred = np.round(y_pred).astype(int)\n",
    "\n",
    "cm = confusion_matrix(y_test, y_pred)\n",
    "add_to_master(\"RUS 1 hidden, 64 nodes, adam\", y_test, y_pred)\n",
    "cm"
   ]
  },
  {
   "cell_type": "code",
   "execution_count": 41,
   "id": "07b25e05",
   "metadata": {},
   "outputs": [
    {
     "name": "stdout",
     "output_type": "stream",
     "text": [
      "Epoch 1/10\n",
      "169/169 [==============================] - 1s 849us/step - loss: 0.6713 - accuracy: 0.5882 - recall: 0.5808\n",
      "Epoch 2/10\n",
      "169/169 [==============================] - 0s 873us/step - loss: 0.6428 - accuracy: 0.6324 - recall: 0.6026\n",
      "Epoch 3/10\n",
      "169/169 [==============================] - 0s 879us/step - loss: 0.6347 - accuracy: 0.6443 - recall: 0.6371\n",
      "Epoch 4/10\n",
      "169/169 [==============================] - 0s 885us/step - loss: 0.6289 - accuracy: 0.6463 - recall: 0.6293\n",
      "Epoch 5/10\n",
      "169/169 [==============================] - 0s 873us/step - loss: 0.6205 - accuracy: 0.6567 - recall: 0.6435\n",
      "Epoch 6/10\n",
      "169/169 [==============================] - 0s 896us/step - loss: 0.6172 - accuracy: 0.6576 - recall: 0.6625\n",
      "Epoch 7/10\n",
      "169/169 [==============================] - 0s 926us/step - loss: 0.6133 - accuracy: 0.6624 - recall: 0.6593\n",
      "Epoch 8/10\n",
      "169/169 [==============================] - 0s 879us/step - loss: 0.6102 - accuracy: 0.6644 - recall: 0.6454\n",
      "Epoch 9/10\n",
      "169/169 [==============================] - 0s 879us/step - loss: 0.6050 - accuracy: 0.6709 - recall: 0.6704\n",
      "Epoch 10/10\n",
      "169/169 [==============================] - 0s 879us/step - loss: 0.6012 - accuracy: 0.6772 - recall: 0.6767\n",
      "54/54 [==============================] - 0s 602us/step\n"
     ]
    },
    {
     "name": "stderr",
     "output_type": "stream",
     "text": [
      "C:\\Users\\gwent\\AppData\\Local\\Temp\\ipykernel_4332\\1005917253.py:23: FutureWarning: The frame.append method is deprecated and will be removed from pandas in a future version. Use pandas.concat instead.\n",
      "  master_scores = master_scores.append(new_row, ignore_index=True)\n"
     ]
    },
    {
     "data": {
      "text/plain": [
       "array([[798, 361],\n",
       "       [261, 280]], dtype=int64)"
      ]
     },
     "execution_count": 41,
     "metadata": {},
     "output_type": "execute_result"
    }
   ],
   "source": [
    "# ROS \n",
    "model10 = create_mlp(64, 'adam', X_train_scaled_encoded)\n",
    "model10.fit(X_resampled_ros, y_resampled_ros, epochs=10, batch_size=32)\n",
    "\n",
    "y_pred = model10.predict(X_test_scaled_encoded)\n",
    "y_pred = np.round(y_pred).astype(int)\n",
    "\n",
    "cm = confusion_matrix(y_test, y_pred)\n",
    "add_to_master(\"ROS 1 hidden, 64 nodes, adam\", y_test, y_pred)\n",
    "cm"
   ]
  },
  {
   "cell_type": "code",
   "execution_count": 42,
   "id": "cedaf5b2",
   "metadata": {},
   "outputs": [
    {
     "data": {
      "text/html": [
       "<div>\n",
       "<style scoped>\n",
       "    .dataframe tbody tr th:only-of-type {\n",
       "        vertical-align: middle;\n",
       "    }\n",
       "\n",
       "    .dataframe tbody tr th {\n",
       "        vertical-align: top;\n",
       "    }\n",
       "\n",
       "    .dataframe thead th {\n",
       "        text-align: right;\n",
       "    }\n",
       "</style>\n",
       "<table border=\"1\" class=\"dataframe\">\n",
       "  <thead>\n",
       "    <tr style=\"text-align: right;\">\n",
       "      <th></th>\n",
       "      <th>Model</th>\n",
       "      <th>Recall</th>\n",
       "      <th>F1</th>\n",
       "      <th>Precision</th>\n",
       "      <th>Accuracy</th>\n",
       "    </tr>\n",
       "  </thead>\n",
       "  <tbody>\n",
       "    <tr>\n",
       "      <th>8</th>\n",
       "      <td>RUS 1 hidden, 64 nodes, adam</td>\n",
       "      <td>0.584</td>\n",
       "      <td>0.490</td>\n",
       "      <td>0.422</td>\n",
       "      <td>0.614</td>\n",
       "    </tr>\n",
       "    <tr>\n",
       "      <th>9</th>\n",
       "      <td>ROS 1 hidden, 64 nodes, adam</td>\n",
       "      <td>0.518</td>\n",
       "      <td>0.474</td>\n",
       "      <td>0.437</td>\n",
       "      <td>0.634</td>\n",
       "    </tr>\n",
       "    <tr>\n",
       "      <th>4</th>\n",
       "      <td>1 hidden, 100 nodes, adam</td>\n",
       "      <td>0.307</td>\n",
       "      <td>0.380</td>\n",
       "      <td>0.498</td>\n",
       "      <td>0.681</td>\n",
       "    </tr>\n",
       "    <tr>\n",
       "      <th>2</th>\n",
       "      <td>1 hidden, 64 nodes per, adam, scaled</td>\n",
       "      <td>0.283</td>\n",
       "      <td>0.358</td>\n",
       "      <td>0.487</td>\n",
       "      <td>0.677</td>\n",
       "    </tr>\n",
       "    <tr>\n",
       "      <th>6</th>\n",
       "      <td>1 hidden, 250 nodes, adam</td>\n",
       "      <td>0.274</td>\n",
       "      <td>0.343</td>\n",
       "      <td>0.458</td>\n",
       "      <td>0.666</td>\n",
       "    </tr>\n",
       "    <tr>\n",
       "      <th>7</th>\n",
       "      <td>1 hidden, 300 nodes, adam</td>\n",
       "      <td>0.272</td>\n",
       "      <td>0.339</td>\n",
       "      <td>0.451</td>\n",
       "      <td>0.663</td>\n",
       "    </tr>\n",
       "    <tr>\n",
       "      <th>0</th>\n",
       "      <td>1 hidden, 64 nodes per, adam</td>\n",
       "      <td>0.246</td>\n",
       "      <td>0.329</td>\n",
       "      <td>0.498</td>\n",
       "      <td>0.681</td>\n",
       "    </tr>\n",
       "    <tr>\n",
       "      <th>5</th>\n",
       "      <td>1 hidden, 32 nodes, adam</td>\n",
       "      <td>0.194</td>\n",
       "      <td>0.279</td>\n",
       "      <td>0.495</td>\n",
       "      <td>0.681</td>\n",
       "    </tr>\n",
       "    <tr>\n",
       "      <th>1</th>\n",
       "      <td>1 hidden, 64 nodes per, adagrad</td>\n",
       "      <td>0.179</td>\n",
       "      <td>0.268</td>\n",
       "      <td>0.533</td>\n",
       "      <td>0.689</td>\n",
       "    </tr>\n",
       "    <tr>\n",
       "      <th>3</th>\n",
       "      <td>1 hidden, 64 nodes per, adagrad, scaled</td>\n",
       "      <td>0.176</td>\n",
       "      <td>0.260</td>\n",
       "      <td>0.497</td>\n",
       "      <td>0.681</td>\n",
       "    </tr>\n",
       "  </tbody>\n",
       "</table>\n",
       "</div>"
      ],
      "text/plain": [
       "                                     Model  Recall     F1  Precision  Accuracy\n",
       "8             RUS 1 hidden, 64 nodes, adam   0.584  0.490      0.422     0.614\n",
       "9             ROS 1 hidden, 64 nodes, adam   0.518  0.474      0.437     0.634\n",
       "4                1 hidden, 100 nodes, adam   0.307  0.380      0.498     0.681\n",
       "2     1 hidden, 64 nodes per, adam, scaled   0.283  0.358      0.487     0.677\n",
       "6                1 hidden, 250 nodes, adam   0.274  0.343      0.458     0.666\n",
       "7                1 hidden, 300 nodes, adam   0.272  0.339      0.451     0.663\n",
       "0             1 hidden, 64 nodes per, adam   0.246  0.329      0.498     0.681\n",
       "5                 1 hidden, 32 nodes, adam   0.194  0.279      0.495     0.681\n",
       "1          1 hidden, 64 nodes per, adagrad   0.179  0.268      0.533     0.689\n",
       "3  1 hidden, 64 nodes per, adagrad, scaled   0.176  0.260      0.497     0.681"
      ]
     },
     "execution_count": 42,
     "metadata": {},
     "output_type": "execute_result"
    }
   ],
   "source": [
    "master_scores.sort_values('Recall', ascending=False)"
   ]
  },
  {
   "cell_type": "code",
   "execution_count": 43,
   "id": "49424eaa",
   "metadata": {},
   "outputs": [
    {
     "name": "stdout",
     "output_type": "stream",
     "text": [
      "Epoch 1/10\n",
      "101/101 [==============================] - 0s 967us/step - loss: 0.6761 - accuracy: 0.5796 - recall: 0.5713\n",
      "Epoch 2/10\n",
      "101/101 [==============================] - 0s 908us/step - loss: 0.6506 - accuracy: 0.6280 - recall: 0.5957\n",
      "Epoch 3/10\n",
      "101/101 [==============================] - 0s 888us/step - loss: 0.6446 - accuracy: 0.6307 - recall: 0.6235\n",
      "Epoch 4/10\n",
      "101/101 [==============================] - 0s 878us/step - loss: 0.6376 - accuracy: 0.6335 - recall: 0.6178\n",
      "Epoch 5/10\n",
      "101/101 [==============================] - 0s 878us/step - loss: 0.6336 - accuracy: 0.6450 - recall: 0.6200\n",
      "Epoch 6/10\n",
      "101/101 [==============================] - 0s 878us/step - loss: 0.6275 - accuracy: 0.6470 - recall: 0.6466\n",
      "Epoch 7/10\n",
      "101/101 [==============================] - 0s 908us/step - loss: 0.6240 - accuracy: 0.6561 - recall: 0.6452\n",
      "Epoch 8/10\n",
      "101/101 [==============================] - 0s 918us/step - loss: 0.6206 - accuracy: 0.6577 - recall: 0.6610\n",
      "Epoch 9/10\n",
      "101/101 [==============================] - 0s 908us/step - loss: 0.6205 - accuracy: 0.6589 - recall: 0.6492\n",
      "Epoch 10/10\n",
      "101/101 [==============================] - 0s 918us/step - loss: 0.6175 - accuracy: 0.6573 - recall: 0.6573\n",
      "54/54 [==============================] - 0s 602us/step\n"
     ]
    },
    {
     "name": "stderr",
     "output_type": "stream",
     "text": [
      "C:\\Users\\gwent\\AppData\\Local\\Temp\\ipykernel_4332\\1005917253.py:23: FutureWarning: The frame.append method is deprecated and will be removed from pandas in a future version. Use pandas.concat instead.\n",
      "  master_scores = master_scores.append(new_row, ignore_index=True)\n"
     ]
    },
    {
     "data": {
      "text/plain": [
       "array([[759, 400],\n",
       "       [251, 290]], dtype=int64)"
      ]
     },
     "execution_count": 43,
     "metadata": {},
     "output_type": "execute_result"
    }
   ],
   "source": [
    "# RUS \n",
    "model11 = create_mlp(64, 'adam', X_train_scaled_encoded)\n",
    "model11.fit(X_resampled_rus, y_resampled_rus, epochs=10, batch_size=25)\n",
    "\n",
    "y_pred = model11.predict(X_test_scaled_encoded)\n",
    "y_pred = np.round(y_pred).astype(int)\n",
    "\n",
    "cm = confusion_matrix(y_test, y_pred)\n",
    "add_to_master(\"RUS 1 hidden, 64 nodes, adam, batch 25\", y_test, y_pred)\n",
    "cm"
   ]
  },
  {
   "cell_type": "code",
   "execution_count": 44,
   "id": "e067d07b",
   "metadata": {},
   "outputs": [
    {
     "data": {
      "text/html": [
       "<div>\n",
       "<style scoped>\n",
       "    .dataframe tbody tr th:only-of-type {\n",
       "        vertical-align: middle;\n",
       "    }\n",
       "\n",
       "    .dataframe tbody tr th {\n",
       "        vertical-align: top;\n",
       "    }\n",
       "\n",
       "    .dataframe thead th {\n",
       "        text-align: right;\n",
       "    }\n",
       "</style>\n",
       "<table border=\"1\" class=\"dataframe\">\n",
       "  <thead>\n",
       "    <tr style=\"text-align: right;\">\n",
       "      <th></th>\n",
       "      <th>Model</th>\n",
       "      <th>Recall</th>\n",
       "      <th>F1</th>\n",
       "      <th>Precision</th>\n",
       "      <th>Accuracy</th>\n",
       "    </tr>\n",
       "  </thead>\n",
       "  <tbody>\n",
       "    <tr>\n",
       "      <th>8</th>\n",
       "      <td>RUS 1 hidden, 64 nodes, adam</td>\n",
       "      <td>0.584</td>\n",
       "      <td>0.490</td>\n",
       "      <td>0.422</td>\n",
       "      <td>0.614</td>\n",
       "    </tr>\n",
       "    <tr>\n",
       "      <th>10</th>\n",
       "      <td>RUS 1 hidden, 64 nodes, adam, batch 25</td>\n",
       "      <td>0.536</td>\n",
       "      <td>0.471</td>\n",
       "      <td>0.420</td>\n",
       "      <td>0.617</td>\n",
       "    </tr>\n",
       "    <tr>\n",
       "      <th>9</th>\n",
       "      <td>ROS 1 hidden, 64 nodes, adam</td>\n",
       "      <td>0.518</td>\n",
       "      <td>0.474</td>\n",
       "      <td>0.437</td>\n",
       "      <td>0.634</td>\n",
       "    </tr>\n",
       "    <tr>\n",
       "      <th>4</th>\n",
       "      <td>1 hidden, 100 nodes, adam</td>\n",
       "      <td>0.307</td>\n",
       "      <td>0.380</td>\n",
       "      <td>0.498</td>\n",
       "      <td>0.681</td>\n",
       "    </tr>\n",
       "    <tr>\n",
       "      <th>2</th>\n",
       "      <td>1 hidden, 64 nodes per, adam, scaled</td>\n",
       "      <td>0.283</td>\n",
       "      <td>0.358</td>\n",
       "      <td>0.487</td>\n",
       "      <td>0.677</td>\n",
       "    </tr>\n",
       "  </tbody>\n",
       "</table>\n",
       "</div>"
      ],
      "text/plain": [
       "                                     Model  Recall     F1  Precision  Accuracy\n",
       "8             RUS 1 hidden, 64 nodes, adam   0.584  0.490      0.422     0.614\n",
       "10  RUS 1 hidden, 64 nodes, adam, batch 25   0.536  0.471      0.420     0.617\n",
       "9             ROS 1 hidden, 64 nodes, adam   0.518  0.474      0.437     0.634\n",
       "4                1 hidden, 100 nodes, adam   0.307  0.380      0.498     0.681\n",
       "2     1 hidden, 64 nodes per, adam, scaled   0.283  0.358      0.487     0.677"
      ]
     },
     "execution_count": 44,
     "metadata": {},
     "output_type": "execute_result"
    }
   ],
   "source": [
    "master_scores.sort_values('Recall', ascending=False).head()"
   ]
  },
  {
   "cell_type": "markdown",
   "id": "8f65d66f",
   "metadata": {},
   "source": [
    "Well we've gotten it pretty close to the performance of the LR model. Is anything about it better? Run speed?"
   ]
  },
  {
   "cell_type": "code",
   "execution_count": 45,
   "id": "d56fb0ad",
   "metadata": {},
   "outputs": [
    {
     "name": "stdout",
     "output_type": "stream",
     "text": [
      "Epoch 1/10\n",
      "169/169 [==============================] - 0s 920us/step - loss: 0.5979 - accuracy: 0.6744 - recall: 0.6795\n",
      "Epoch 2/10\n",
      "169/169 [==============================] - 0s 885us/step - loss: 0.5936 - accuracy: 0.6807 - recall: 0.6889\n",
      "Epoch 3/10\n",
      "169/169 [==============================] - 0s 885us/step - loss: 0.5911 - accuracy: 0.6848 - recall: 0.7003\n",
      "Epoch 4/10\n",
      "169/169 [==============================] - 0s 890us/step - loss: 0.5890 - accuracy: 0.6831 - recall: 0.6854\n",
      "Epoch 5/10\n",
      "169/169 [==============================] - 0s 896us/step - loss: 0.5817 - accuracy: 0.6896 - recall: 0.6923\n",
      "Epoch 6/10\n",
      "169/169 [==============================] - 0s 885us/step - loss: 0.5802 - accuracy: 0.6890 - recall: 0.7093\n",
      "Epoch 7/10\n",
      "169/169 [==============================] - 0s 926us/step - loss: 0.5779 - accuracy: 0.6963 - recall: 0.7039\n",
      "Epoch 8/10\n",
      "169/169 [==============================] - 0s 890us/step - loss: 0.5757 - accuracy: 0.6989 - recall: 0.6993\n",
      "Epoch 9/10\n",
      "169/169 [==============================] - 0s 896us/step - loss: 0.5704 - accuracy: 0.7026 - recall: 0.7103\n",
      "Epoch 10/10\n",
      "169/169 [==============================] - 0s 885us/step - loss: 0.5674 - accuracy: 0.7020 - recall: 0.7143\n"
     ]
    },
    {
     "data": {
      "text/plain": [
       "1.5937635898590088"
      ]
     },
     "execution_count": 45,
     "metadata": {},
     "output_type": "execute_result"
    }
   ],
   "source": [
    "import time\n",
    "# training time \n",
    "start = time.time()\n",
    "model10.fit(X_resampled_ros, y_resampled_ros, epochs=10, batch_size=32)\n",
    "end = time.time()\n",
    "training_time = end - start\n",
    "training_time"
   ]
  },
  {
   "cell_type": "markdown",
   "id": "1f366407",
   "metadata": {},
   "source": [
    "# Comparing to a Logistic Regression\n",
    "In Cat-pstone 1 I had did not prune down the columns nearly as much. I want to see how it does with this new training set. "
   ]
  },
  {
   "cell_type": "code",
   "execution_count": 46,
   "id": "b1ed2112",
   "metadata": {},
   "outputs": [
    {
     "name": "stderr",
     "output_type": "stream",
     "text": [
      "C:\\Users\\gwent\\anaconda3\\envs\\wool_sucking_nn\\lib\\site-packages\\sklearn\\utils\\validation.py:1143: DataConversionWarning: A column-vector y was passed when a 1d array was expected. Please change the shape of y to (n_samples, ), for example using ravel().\n",
      "  y = column_or_1d(y, warn=True)\n",
      "C:\\Users\\gwent\\AppData\\Local\\Temp\\ipykernel_4332\\1005917253.py:23: FutureWarning: The frame.append method is deprecated and will be removed from pandas in a future version. Use pandas.concat instead.\n",
      "  master_scores = master_scores.append(new_row, ignore_index=True)\n",
      "C:\\Users\\gwent\\anaconda3\\envs\\wool_sucking_nn\\lib\\site-packages\\sklearn\\utils\\validation.py:1143: DataConversionWarning: A column-vector y was passed when a 1d array was expected. Please change the shape of y to (n_samples, ), for example using ravel().\n",
      "  y = column_or_1d(y, warn=True)\n",
      "C:\\Users\\gwent\\AppData\\Local\\Temp\\ipykernel_4332\\1005917253.py:23: FutureWarning: The frame.append method is deprecated and will be removed from pandas in a future version. Use pandas.concat instead.\n",
      "  master_scores = master_scores.append(new_row, ignore_index=True)\n"
     ]
    }
   ],
   "source": [
    "from sklearn.linear_model import LogisticRegression\n",
    "\n",
    "log_balanced = LogisticRegression(class_weight='balanced').fit(X_train_encoded, y_train)\n",
    "y_pred = log_balanced.predict(X_test_encoded)\n",
    "\n",
    "# add_to_master(model_description, y_true, y_predicted, binary=True)\n",
    "add_to_master(\"class_weight='balanced', Logistic Regression\", y_test, y_pred)\n",
    "\n",
    "log_balanced_scaled = LogisticRegression(class_weight='balanced').fit(X_train_scaled_encoded, y_train)\n",
    "y_pred = log_balanced_scaled.predict(X_test_scaled_encoded)\n",
    "\n",
    "# add_to_master(model_description, y_true, y_predicted, binary=True)\n",
    "add_to_master(\"class_weight='balanced', Logistic Regression, scaled\", y_test, y_pred);"
   ]
  },
  {
   "cell_type": "code",
   "execution_count": 47,
   "id": "e943d673",
   "metadata": {},
   "outputs": [
    {
     "data": {
      "text/html": [
       "<div>\n",
       "<style scoped>\n",
       "    .dataframe tbody tr th:only-of-type {\n",
       "        vertical-align: middle;\n",
       "    }\n",
       "\n",
       "    .dataframe tbody tr th {\n",
       "        vertical-align: top;\n",
       "    }\n",
       "\n",
       "    .dataframe thead th {\n",
       "        text-align: right;\n",
       "    }\n",
       "</style>\n",
       "<table border=\"1\" class=\"dataframe\">\n",
       "  <thead>\n",
       "    <tr style=\"text-align: right;\">\n",
       "      <th></th>\n",
       "      <th>Model</th>\n",
       "      <th>Recall</th>\n",
       "      <th>F1</th>\n",
       "      <th>Precision</th>\n",
       "      <th>Accuracy</th>\n",
       "    </tr>\n",
       "  </thead>\n",
       "  <tbody>\n",
       "    <tr>\n",
       "      <th>12</th>\n",
       "      <td>class_weight='balanced', Logistic Regression, ...</td>\n",
       "      <td>0.593</td>\n",
       "      <td>0.504</td>\n",
       "      <td>0.437</td>\n",
       "      <td>0.628</td>\n",
       "    </tr>\n",
       "    <tr>\n",
       "      <th>11</th>\n",
       "      <td>class_weight='balanced', Logistic Regression</td>\n",
       "      <td>0.588</td>\n",
       "      <td>0.502</td>\n",
       "      <td>0.438</td>\n",
       "      <td>0.629</td>\n",
       "    </tr>\n",
       "    <tr>\n",
       "      <th>8</th>\n",
       "      <td>RUS 1 hidden, 64 nodes, adam</td>\n",
       "      <td>0.584</td>\n",
       "      <td>0.490</td>\n",
       "      <td>0.422</td>\n",
       "      <td>0.614</td>\n",
       "    </tr>\n",
       "    <tr>\n",
       "      <th>10</th>\n",
       "      <td>RUS 1 hidden, 64 nodes, adam, batch 25</td>\n",
       "      <td>0.536</td>\n",
       "      <td>0.471</td>\n",
       "      <td>0.420</td>\n",
       "      <td>0.617</td>\n",
       "    </tr>\n",
       "    <tr>\n",
       "      <th>9</th>\n",
       "      <td>ROS 1 hidden, 64 nodes, adam</td>\n",
       "      <td>0.518</td>\n",
       "      <td>0.474</td>\n",
       "      <td>0.437</td>\n",
       "      <td>0.634</td>\n",
       "    </tr>\n",
       "  </tbody>\n",
       "</table>\n",
       "</div>"
      ],
      "text/plain": [
       "                                                Model  Recall     F1  \\\n",
       "12  class_weight='balanced', Logistic Regression, ...   0.593  0.504   \n",
       "11       class_weight='balanced', Logistic Regression   0.588  0.502   \n",
       "8                        RUS 1 hidden, 64 nodes, adam   0.584  0.490   \n",
       "10             RUS 1 hidden, 64 nodes, adam, batch 25   0.536  0.471   \n",
       "9                        ROS 1 hidden, 64 nodes, adam   0.518  0.474   \n",
       "\n",
       "    Precision  Accuracy  \n",
       "12      0.437     0.628  \n",
       "11      0.438     0.629  \n",
       "8       0.422     0.614  \n",
       "10      0.420     0.617  \n",
       "9       0.437     0.634  "
      ]
     },
     "execution_count": 47,
     "metadata": {},
     "output_type": "execute_result"
    }
   ],
   "source": [
    "# for reference, cat-pstone 1 model was 0.622, 0.519, 0.446, 0.635\n",
    "master_scores.sort_values('Recall', ascending=False).head()"
   ]
  },
  {
   "cell_type": "markdown",
   "id": "684a2b94",
   "metadata": {},
   "source": [
    "Given that this model does not perform as well as the cat-pstone 1 model (marginally), I want to see how my best performing model architecture does on the dataset I used with cat-pstone 1 (with a lot more columns!). "
   ]
  },
  {
   "cell_type": "code",
   "execution_count": 48,
   "id": "9bb3c180",
   "metadata": {},
   "outputs": [],
   "source": [
    "from sklearn.model_selection import train_test_split\n",
    "df = pd.read_csv('..\\Data\\cat_clean.csv')"
   ]
  },
  {
   "cell_type": "code",
   "execution_count": 49,
   "id": "03a0f0a5",
   "metadata": {},
   "outputs": [],
   "source": [
    "# binarize wool-sucking\n",
    "df_bin = df.copy()\n",
    "df_bin['ws_binary'] = df_bin['Wool_sucking'].replace([1, 2, 3, 4, 5, 6, 7], [1, 1, 1, 1, 1, 1, 1])\n",
    "df_bin.drop(columns='Wool_sucking', inplace=True)\n",
    "\n",
    "# Recode Behaviour_problem to binary\n",
    "df_bin['Behaviour_problem'].replace([1, 2, 3], [0, 1, 1], inplace=True)\n",
    "\n",
    "# encode breed group\n",
    "df_bin_encoded = pd.get_dummies(df_bin, columns=['Breed_group'])"
   ]
  },
  {
   "cell_type": "code",
   "execution_count": 50,
   "id": "f285b302",
   "metadata": {},
   "outputs": [
    {
     "data": {
      "text/plain": [
       "Index(['Age', 'Gender', 'Neuter_status', 'Weaning_age', 'Outdoors',\n",
       "       'Other_cats', 'Activity_level', 'Contact_people', 'Aggression_cats',\n",
       "       'Grooming', 'Behaviour_problem', 'Breed_group_ABY', 'Breed_group_BEN',\n",
       "       'Breed_group_BRI', 'Breed_group_BUR', 'Breed_group_CRX',\n",
       "       'Breed_group_DRX', 'Breed_group_EUR', 'Breed_group_HCS',\n",
       "       'Breed_group_KOR', 'Breed_group_MCO', 'Breed_group_NFO',\n",
       "       'Breed_group_ORI', 'Breed_group_PER', 'Breed_group_RAG',\n",
       "       'Breed_group_RUS', 'Breed_group_SBI', 'Breed_group_SIB',\n",
       "       'Breed_group_TUV', 'Breed_group_other', 'agg_shy',\n",
       "       'agg_aggress_people'],\n",
       "      dtype='object')"
      ]
     },
     "execution_count": 50,
     "metadata": {},
     "output_type": "execute_result"
    }
   ],
   "source": [
    "X = df_bin_encoded.drop(columns=['ws_binary'])\n",
    "y = df_bin_encoded['ws_binary']\n",
    "X_train, X_test, y_train, y_test = train_test_split(X, y, test_size=0.3, random_state=42,stratify=y)\n",
    "\n",
    "# making agg columns for training set \n",
    "X_train['agg_shy'] = (X_train['Shyness_novel'] + X_train['Shyness_strangers']) / 2\n",
    "X_train['agg_aggress_people'] = (X_train['Aggression_owner'] + X_train['Aggression_stranger']) / 2 \n",
    "X_train.drop(columns=['Shyness_novel', 'Shyness_strangers', 'Aggression_stranger', 'Aggression_owner'], inplace=True)\n",
    "X_train.columns\n",
    "\n",
    "# making agg columns for testing set\n",
    "X_test['agg_shy'] = (X_test['Shyness_novel'] + X_test['Shyness_strangers']) / 2\n",
    "X_test['agg_aggress_people'] = (X_test['Aggression_owner'] + X_test['Aggression_stranger']) / 2\n",
    "X_test.drop(columns=['Shyness_novel', 'Shyness_strangers', 'Aggression_stranger', 'Aggression_owner'], inplace=True)\n",
    "X_test.columns"
   ]
  },
  {
   "cell_type": "code",
   "execution_count": 51,
   "id": "26c767af",
   "metadata": {},
   "outputs": [
    {
     "name": "stdout",
     "output_type": "stream",
     "text": [
      "Epoch 1/10\n",
      "79/79 [==============================] - 0s 869us/step - loss: 0.6732 - accuracy: 0.5879 - recall: 0.5995\n",
      "Epoch 2/10\n",
      "79/79 [==============================] - 0s 908us/step - loss: 0.6317 - accuracy: 0.6378 - recall: 0.6481\n",
      "Epoch 3/10\n",
      "79/79 [==============================] - 0s 869us/step - loss: 0.6178 - accuracy: 0.6516 - recall: 0.6173\n",
      "Epoch 4/10\n",
      "79/79 [==============================] - 0s 869us/step - loss: 0.6058 - accuracy: 0.6631 - recall: 0.6513\n",
      "Epoch 5/10\n",
      "79/79 [==============================] - 0s 869us/step - loss: 0.5969 - accuracy: 0.6857 - recall: 0.6854\n",
      "Epoch 6/10\n",
      "79/79 [==============================] - 0s 882us/step - loss: 0.5890 - accuracy: 0.6789 - recall: 0.6733\n",
      "Epoch 7/10\n",
      "79/79 [==============================] - 0s 869us/step - loss: 0.5809 - accuracy: 0.6956 - recall: 0.6974\n",
      "Epoch 8/10\n",
      "79/79 [==============================] - 0s 882us/step - loss: 0.5713 - accuracy: 0.7019 - recall: 0.6942\n",
      "Epoch 9/10\n",
      "79/79 [==============================] - 0s 895us/step - loss: 0.5647 - accuracy: 0.7126 - recall: 0.7207\n",
      "Epoch 10/10\n",
      "79/79 [==============================] - 0s 895us/step - loss: 0.5566 - accuracy: 0.7189 - recall: 0.7198\n",
      "54/54 [==============================] - 0s 602us/step\n"
     ]
    },
    {
     "name": "stderr",
     "output_type": "stream",
     "text": [
      "C:\\Users\\gwent\\AppData\\Local\\Temp\\ipykernel_4332\\1005917253.py:23: FutureWarning: The frame.append method is deprecated and will be removed from pandas in a future version. Use pandas.concat instead.\n",
      "  master_scores = master_scores.append(new_row, ignore_index=True)\n"
     ]
    },
    {
     "data": {
      "text/plain": [
       "array([[619, 548],\n",
       "       [176, 366]], dtype=int64)"
      ]
     },
     "execution_count": 51,
     "metadata": {},
     "output_type": "execute_result"
    }
   ],
   "source": [
    "scaler = StandardScaler()\n",
    "scaler.fit(X_train)\n",
    "\n",
    "X_train_scaled_encoded = scaler.transform(X_train)\n",
    "X_test_scaled_encoded = scaler.transform(X_test)\n",
    "\n",
    "rus = RandomUnderSampler()\n",
    "X_resampled_rus, y_resampled_rus = rus.fit_resample(X_train_scaled_encoded, y_train)\n",
    "\n",
    "model12 = create_mlp(64, 'adam', X_resampled_rus)\n",
    "model12.fit(X_resampled_rus, y_resampled_rus, epochs=10, batch_size=32)\n",
    "\n",
    "y_pred = model12.predict(X_test_scaled_encoded)\n",
    "y_pred = np.round(y_pred).astype(int)\n",
    "\n",
    "cm = confusion_matrix(y_test, y_pred)\n",
    "add_to_master(\"old data rus adam 64\", y_test, y_pred)\n",
    "cm"
   ]
  },
  {
   "cell_type": "code",
   "execution_count": 52,
   "id": "662d7eb2",
   "metadata": {},
   "outputs": [
    {
     "data": {
      "text/html": [
       "<div>\n",
       "<style scoped>\n",
       "    .dataframe tbody tr th:only-of-type {\n",
       "        vertical-align: middle;\n",
       "    }\n",
       "\n",
       "    .dataframe tbody tr th {\n",
       "        vertical-align: top;\n",
       "    }\n",
       "\n",
       "    .dataframe thead th {\n",
       "        text-align: right;\n",
       "    }\n",
       "</style>\n",
       "<table border=\"1\" class=\"dataframe\">\n",
       "  <thead>\n",
       "    <tr style=\"text-align: right;\">\n",
       "      <th></th>\n",
       "      <th>Model</th>\n",
       "      <th>Recall</th>\n",
       "      <th>F1</th>\n",
       "      <th>Precision</th>\n",
       "      <th>Accuracy</th>\n",
       "    </tr>\n",
       "  </thead>\n",
       "  <tbody>\n",
       "    <tr>\n",
       "      <th>13</th>\n",
       "      <td>old data rus adam 64</td>\n",
       "      <td>0.675</td>\n",
       "      <td>0.503</td>\n",
       "      <td>0.400</td>\n",
       "      <td>0.576</td>\n",
       "    </tr>\n",
       "    <tr>\n",
       "      <th>12</th>\n",
       "      <td>class_weight='balanced', Logistic Regression, ...</td>\n",
       "      <td>0.593</td>\n",
       "      <td>0.504</td>\n",
       "      <td>0.437</td>\n",
       "      <td>0.628</td>\n",
       "    </tr>\n",
       "    <tr>\n",
       "      <th>11</th>\n",
       "      <td>class_weight='balanced', Logistic Regression</td>\n",
       "      <td>0.588</td>\n",
       "      <td>0.502</td>\n",
       "      <td>0.438</td>\n",
       "      <td>0.629</td>\n",
       "    </tr>\n",
       "    <tr>\n",
       "      <th>8</th>\n",
       "      <td>RUS 1 hidden, 64 nodes, adam</td>\n",
       "      <td>0.584</td>\n",
       "      <td>0.490</td>\n",
       "      <td>0.422</td>\n",
       "      <td>0.614</td>\n",
       "    </tr>\n",
       "    <tr>\n",
       "      <th>10</th>\n",
       "      <td>RUS 1 hidden, 64 nodes, adam, batch 25</td>\n",
       "      <td>0.536</td>\n",
       "      <td>0.471</td>\n",
       "      <td>0.420</td>\n",
       "      <td>0.617</td>\n",
       "    </tr>\n",
       "    <tr>\n",
       "      <th>9</th>\n",
       "      <td>ROS 1 hidden, 64 nodes, adam</td>\n",
       "      <td>0.518</td>\n",
       "      <td>0.474</td>\n",
       "      <td>0.437</td>\n",
       "      <td>0.634</td>\n",
       "    </tr>\n",
       "    <tr>\n",
       "      <th>4</th>\n",
       "      <td>1 hidden, 100 nodes, adam</td>\n",
       "      <td>0.307</td>\n",
       "      <td>0.380</td>\n",
       "      <td>0.498</td>\n",
       "      <td>0.681</td>\n",
       "    </tr>\n",
       "    <tr>\n",
       "      <th>2</th>\n",
       "      <td>1 hidden, 64 nodes per, adam, scaled</td>\n",
       "      <td>0.283</td>\n",
       "      <td>0.358</td>\n",
       "      <td>0.487</td>\n",
       "      <td>0.677</td>\n",
       "    </tr>\n",
       "    <tr>\n",
       "      <th>6</th>\n",
       "      <td>1 hidden, 250 nodes, adam</td>\n",
       "      <td>0.274</td>\n",
       "      <td>0.343</td>\n",
       "      <td>0.458</td>\n",
       "      <td>0.666</td>\n",
       "    </tr>\n",
       "    <tr>\n",
       "      <th>7</th>\n",
       "      <td>1 hidden, 300 nodes, adam</td>\n",
       "      <td>0.272</td>\n",
       "      <td>0.339</td>\n",
       "      <td>0.451</td>\n",
       "      <td>0.663</td>\n",
       "    </tr>\n",
       "    <tr>\n",
       "      <th>0</th>\n",
       "      <td>1 hidden, 64 nodes per, adam</td>\n",
       "      <td>0.246</td>\n",
       "      <td>0.329</td>\n",
       "      <td>0.498</td>\n",
       "      <td>0.681</td>\n",
       "    </tr>\n",
       "    <tr>\n",
       "      <th>5</th>\n",
       "      <td>1 hidden, 32 nodes, adam</td>\n",
       "      <td>0.194</td>\n",
       "      <td>0.279</td>\n",
       "      <td>0.495</td>\n",
       "      <td>0.681</td>\n",
       "    </tr>\n",
       "    <tr>\n",
       "      <th>1</th>\n",
       "      <td>1 hidden, 64 nodes per, adagrad</td>\n",
       "      <td>0.179</td>\n",
       "      <td>0.268</td>\n",
       "      <td>0.533</td>\n",
       "      <td>0.689</td>\n",
       "    </tr>\n",
       "    <tr>\n",
       "      <th>3</th>\n",
       "      <td>1 hidden, 64 nodes per, adagrad, scaled</td>\n",
       "      <td>0.176</td>\n",
       "      <td>0.260</td>\n",
       "      <td>0.497</td>\n",
       "      <td>0.681</td>\n",
       "    </tr>\n",
       "  </tbody>\n",
       "</table>\n",
       "</div>"
      ],
      "text/plain": [
       "                                                Model  Recall     F1  \\\n",
       "13                               old data rus adam 64   0.675  0.503   \n",
       "12  class_weight='balanced', Logistic Regression, ...   0.593  0.504   \n",
       "11       class_weight='balanced', Logistic Regression   0.588  0.502   \n",
       "8                        RUS 1 hidden, 64 nodes, adam   0.584  0.490   \n",
       "10             RUS 1 hidden, 64 nodes, adam, batch 25   0.536  0.471   \n",
       "9                        ROS 1 hidden, 64 nodes, adam   0.518  0.474   \n",
       "4                           1 hidden, 100 nodes, adam   0.307  0.380   \n",
       "2                1 hidden, 64 nodes per, adam, scaled   0.283  0.358   \n",
       "6                           1 hidden, 250 nodes, adam   0.274  0.343   \n",
       "7                           1 hidden, 300 nodes, adam   0.272  0.339   \n",
       "0                        1 hidden, 64 nodes per, adam   0.246  0.329   \n",
       "5                            1 hidden, 32 nodes, adam   0.194  0.279   \n",
       "1                     1 hidden, 64 nodes per, adagrad   0.179  0.268   \n",
       "3             1 hidden, 64 nodes per, adagrad, scaled   0.176  0.260   \n",
       "\n",
       "    Precision  Accuracy  \n",
       "13      0.400     0.576  \n",
       "12      0.437     0.628  \n",
       "11      0.438     0.629  \n",
       "8       0.422     0.614  \n",
       "10      0.420     0.617  \n",
       "9       0.437     0.634  \n",
       "4       0.498     0.681  \n",
       "2       0.487     0.677  \n",
       "6       0.458     0.666  \n",
       "7       0.451     0.663  \n",
       "0       0.498     0.681  \n",
       "5       0.495     0.681  \n",
       "1       0.533     0.689  \n",
       "3       0.497     0.681  "
      ]
     },
     "execution_count": 52,
     "metadata": {},
     "output_type": "execute_result"
    }
   ],
   "source": [
    "# for reference, cat-pstone 1 model was 0.622, 0.519, 0.446, 0.635\n",
    "# it really doesn't do any better than a weighted LR model, in either dataset\n",
    "master_scores.sort_values('Recall', ascending=False)"
   ]
  },
  {
   "cell_type": "code",
   "execution_count": null,
   "id": "2872fdcf",
   "metadata": {},
   "outputs": [],
   "source": []
  }
 ],
 "metadata": {
  "kernelspec": {
   "display_name": "Python 3 (ipykernel)",
   "language": "python",
   "name": "python3"
  },
  "language_info": {
   "codemirror_mode": {
    "name": "ipython",
    "version": 3
   },
   "file_extension": ".py",
   "mimetype": "text/x-python",
   "name": "python",
   "nbconvert_exporter": "python",
   "pygments_lexer": "ipython3",
   "version": "3.9.0"
  }
 },
 "nbformat": 4,
 "nbformat_minor": 5
}
