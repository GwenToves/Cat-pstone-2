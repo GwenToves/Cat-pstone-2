{
 "cells": [
  {
   "cell_type": "code",
   "execution_count": 1,
   "id": "a1fa7743",
   "metadata": {},
   "outputs": [],
   "source": [
    "# should already be activated, but just a reminder where ya are :)  \n",
    "# !conda activate wool_sucking_nn"
   ]
  },
  {
   "cell_type": "code",
   "execution_count": 1,
   "id": "d4af314f",
   "metadata": {},
   "outputs": [],
   "source": [
    "import pandas as pd\n",
    "import numpy as np\n",
    "import matplotlib.pyplot as plt\n",
    "import seaborn as sns\n",
    "from scipy import stats \n",
    "\n",
    "%matplotlib inline"
   ]
  },
  {
   "cell_type": "markdown",
   "id": "4d9485cd",
   "metadata": {},
   "source": [
    "# Table of Contents:\n",
    "* [1. Import Training and Testing Data](#1data)  \n",
    "    * [1.1 Import `master_scores` and `add_to_master`](#1.1master)  \n",
    "* [2. Tensorflow.Keras Pre-Processing](#2tfprep)  \n",
    "* [3. Modeling with Multilayer Perceptron (MLP)](#3model)  \n",
    "    * [3.1 Plain Jane MLP](#3.1plainjane)  \n",
    "    * [3.2 Adagrad optimizer](#3.2adagrad)  \n",
    "    * [3.3 Scale Standardization](#3.3scaling)  \n",
    "    * [3.4 Playing with # of Nodes](#3.4playing)  \n",
    "    * [3.5 Resampling to deal with class imbalance](#3.5resample)  \n",
    "    * [3.6 MLP without `Grooming` feature](#3.6dropgroom)  \n",
    "* [4. Model Evaluation](#4evaluation)  \n",
    "    * [4.1 Training and Prediction Time Compared to Logistic Regression](#4.1)  \n",
    "    * [4.2 Compare Classification MLP Performance Metrics to Log Reg](#4.2)  \n",
    "        * [4.2.1 Logistic Regression without `Grooming` feature](#4.2.1)  \n",
    "    * [4.3 MLP classification performance on old data (from cat-pstone 1)](#4.3)"
   ]
  },
  {
   "cell_type": "markdown",
   "id": "f4d5fa41",
   "metadata": {},
   "source": [
    "# <a id='1data'></a> 1. Import Training and Testing Data "
   ]
  },
  {
   "cell_type": "code",
   "execution_count": 2,
   "id": "12a43745",
   "metadata": {},
   "outputs": [],
   "source": [
    "# import data\n",
    "excel_file = pd.read_excel('..\\Data\\cleaned_and_split_data.xlsx', sheet_name=None)\n",
    "\n",
    "# Unpack the dataframes into separate variables\n",
    "X_train = excel_file['X_train']\n",
    "X_test = excel_file['X_test']\n",
    "y_train = excel_file['y_train']\n",
    "y_test = excel_file['y_test']"
   ]
  },
  {
   "cell_type": "code",
   "execution_count": 3,
   "id": "3f7a7f7d",
   "metadata": {},
   "outputs": [
    {
     "name": "stdout",
     "output_type": "stream",
     "text": [
      "(3965, 7)\n"
     ]
    },
    {
     "data": {
      "text/html": [
       "<div>\n",
       "<style scoped>\n",
       "    .dataframe tbody tr th:only-of-type {\n",
       "        vertical-align: middle;\n",
       "    }\n",
       "\n",
       "    .dataframe tbody tr th {\n",
       "        vertical-align: top;\n",
       "    }\n",
       "\n",
       "    .dataframe thead th {\n",
       "        text-align: right;\n",
       "    }\n",
       "</style>\n",
       "<table border=\"1\" class=\"dataframe\">\n",
       "  <thead>\n",
       "    <tr style=\"text-align: right;\">\n",
       "      <th></th>\n",
       "      <th>Neuter_status</th>\n",
       "      <th>Breed_group</th>\n",
       "      <th>Aggression_owner</th>\n",
       "      <th>Aggression_cats</th>\n",
       "      <th>Shyness_novel</th>\n",
       "      <th>Shyness_strangers</th>\n",
       "      <th>Grooming</th>\n",
       "    </tr>\n",
       "  </thead>\n",
       "  <tbody>\n",
       "    <tr>\n",
       "      <th>0</th>\n",
       "      <td>1</td>\n",
       "      <td>SIB</td>\n",
       "      <td>1</td>\n",
       "      <td>2</td>\n",
       "      <td>4</td>\n",
       "      <td>4</td>\n",
       "      <td>3</td>\n",
       "    </tr>\n",
       "    <tr>\n",
       "      <th>1</th>\n",
       "      <td>1</td>\n",
       "      <td>HCS</td>\n",
       "      <td>1</td>\n",
       "      <td>2</td>\n",
       "      <td>4</td>\n",
       "      <td>4</td>\n",
       "      <td>2</td>\n",
       "    </tr>\n",
       "    <tr>\n",
       "      <th>2</th>\n",
       "      <td>0</td>\n",
       "      <td>ORI</td>\n",
       "      <td>1</td>\n",
       "      <td>1</td>\n",
       "      <td>1</td>\n",
       "      <td>1</td>\n",
       "      <td>1</td>\n",
       "    </tr>\n",
       "    <tr>\n",
       "      <th>3</th>\n",
       "      <td>1</td>\n",
       "      <td>MCO</td>\n",
       "      <td>1</td>\n",
       "      <td>1</td>\n",
       "      <td>2</td>\n",
       "      <td>2</td>\n",
       "      <td>3</td>\n",
       "    </tr>\n",
       "    <tr>\n",
       "      <th>4</th>\n",
       "      <td>1</td>\n",
       "      <td>HCS</td>\n",
       "      <td>1</td>\n",
       "      <td>1</td>\n",
       "      <td>2</td>\n",
       "      <td>1</td>\n",
       "      <td>2</td>\n",
       "    </tr>\n",
       "  </tbody>\n",
       "</table>\n",
       "</div>"
      ],
      "text/plain": [
       "   Neuter_status Breed_group  Aggression_owner  Aggression_cats  \\\n",
       "0              1         SIB                 1                2   \n",
       "1              1         HCS                 1                2   \n",
       "2              0         ORI                 1                1   \n",
       "3              1         MCO                 1                1   \n",
       "4              1         HCS                 1                1   \n",
       "\n",
       "   Shyness_novel  Shyness_strangers  Grooming  \n",
       "0              4                  4         3  \n",
       "1              4                  4         2  \n",
       "2              1                  1         1  \n",
       "3              2                  2         3  \n",
       "4              2                  1         2  "
      ]
     },
     "execution_count": 3,
     "metadata": {},
     "output_type": "execute_result"
    }
   ],
   "source": [
    "print(X_train.shape)\n",
    "X_train.head()"
   ]
  },
  {
   "cell_type": "code",
   "execution_count": 4,
   "id": "7364d6d3",
   "metadata": {},
   "outputs": [
    {
     "name": "stdout",
     "output_type": "stream",
     "text": [
      "(1700, 7)\n"
     ]
    },
    {
     "data": {
      "text/html": [
       "<div>\n",
       "<style scoped>\n",
       "    .dataframe tbody tr th:only-of-type {\n",
       "        vertical-align: middle;\n",
       "    }\n",
       "\n",
       "    .dataframe tbody tr th {\n",
       "        vertical-align: top;\n",
       "    }\n",
       "\n",
       "    .dataframe thead th {\n",
       "        text-align: right;\n",
       "    }\n",
       "</style>\n",
       "<table border=\"1\" class=\"dataframe\">\n",
       "  <thead>\n",
       "    <tr style=\"text-align: right;\">\n",
       "      <th></th>\n",
       "      <th>Neuter_status</th>\n",
       "      <th>Breed_group</th>\n",
       "      <th>Aggression_owner</th>\n",
       "      <th>Aggression_cats</th>\n",
       "      <th>Shyness_novel</th>\n",
       "      <th>Shyness_strangers</th>\n",
       "      <th>Grooming</th>\n",
       "    </tr>\n",
       "  </thead>\n",
       "  <tbody>\n",
       "    <tr>\n",
       "      <th>0</th>\n",
       "      <td>1</td>\n",
       "      <td>SIB</td>\n",
       "      <td>1</td>\n",
       "      <td>3</td>\n",
       "      <td>3</td>\n",
       "      <td>1</td>\n",
       "      <td>1</td>\n",
       "    </tr>\n",
       "    <tr>\n",
       "      <th>1</th>\n",
       "      <td>1</td>\n",
       "      <td>MCO</td>\n",
       "      <td>1</td>\n",
       "      <td>1</td>\n",
       "      <td>2</td>\n",
       "      <td>1</td>\n",
       "      <td>1</td>\n",
       "    </tr>\n",
       "    <tr>\n",
       "      <th>2</th>\n",
       "      <td>1</td>\n",
       "      <td>RUS</td>\n",
       "      <td>1</td>\n",
       "      <td>1</td>\n",
       "      <td>4</td>\n",
       "      <td>4</td>\n",
       "      <td>1</td>\n",
       "    </tr>\n",
       "    <tr>\n",
       "      <th>3</th>\n",
       "      <td>0</td>\n",
       "      <td>EUR</td>\n",
       "      <td>2</td>\n",
       "      <td>2</td>\n",
       "      <td>2</td>\n",
       "      <td>2</td>\n",
       "      <td>1</td>\n",
       "    </tr>\n",
       "    <tr>\n",
       "      <th>4</th>\n",
       "      <td>1</td>\n",
       "      <td>NFO</td>\n",
       "      <td>1</td>\n",
       "      <td>2</td>\n",
       "      <td>3</td>\n",
       "      <td>2</td>\n",
       "      <td>1</td>\n",
       "    </tr>\n",
       "  </tbody>\n",
       "</table>\n",
       "</div>"
      ],
      "text/plain": [
       "   Neuter_status Breed_group  Aggression_owner  Aggression_cats  \\\n",
       "0              1         SIB                 1                3   \n",
       "1              1         MCO                 1                1   \n",
       "2              1         RUS                 1                1   \n",
       "3              0         EUR                 2                2   \n",
       "4              1         NFO                 1                2   \n",
       "\n",
       "   Shyness_novel  Shyness_strangers  Grooming  \n",
       "0              3                  1         1  \n",
       "1              2                  1         1  \n",
       "2              4                  4         1  \n",
       "3              2                  2         1  \n",
       "4              3                  2         1  "
      ]
     },
     "execution_count": 4,
     "metadata": {},
     "output_type": "execute_result"
    }
   ],
   "source": [
    "print(X_test.shape)\n",
    "X_test.head()"
   ]
  },
  {
   "cell_type": "code",
   "execution_count": 5,
   "id": "ee588efc",
   "metadata": {},
   "outputs": [
    {
     "name": "stdout",
     "output_type": "stream",
     "text": [
      "(3965, 1)\n"
     ]
    },
    {
     "data": {
      "text/html": [
       "<div>\n",
       "<style scoped>\n",
       "    .dataframe tbody tr th:only-of-type {\n",
       "        vertical-align: middle;\n",
       "    }\n",
       "\n",
       "    .dataframe tbody tr th {\n",
       "        vertical-align: top;\n",
       "    }\n",
       "\n",
       "    .dataframe thead th {\n",
       "        text-align: right;\n",
       "    }\n",
       "</style>\n",
       "<table border=\"1\" class=\"dataframe\">\n",
       "  <thead>\n",
       "    <tr style=\"text-align: right;\">\n",
       "      <th></th>\n",
       "      <th>Wool_sucking_binary</th>\n",
       "    </tr>\n",
       "  </thead>\n",
       "  <tbody>\n",
       "    <tr>\n",
       "      <th>0</th>\n",
       "      <td>0</td>\n",
       "    </tr>\n",
       "    <tr>\n",
       "      <th>1</th>\n",
       "      <td>0</td>\n",
       "    </tr>\n",
       "    <tr>\n",
       "      <th>2</th>\n",
       "      <td>0</td>\n",
       "    </tr>\n",
       "    <tr>\n",
       "      <th>3</th>\n",
       "      <td>0</td>\n",
       "    </tr>\n",
       "    <tr>\n",
       "      <th>4</th>\n",
       "      <td>0</td>\n",
       "    </tr>\n",
       "  </tbody>\n",
       "</table>\n",
       "</div>"
      ],
      "text/plain": [
       "   Wool_sucking_binary\n",
       "0                    0\n",
       "1                    0\n",
       "2                    0\n",
       "3                    0\n",
       "4                    0"
      ]
     },
     "execution_count": 5,
     "metadata": {},
     "output_type": "execute_result"
    }
   ],
   "source": [
    "print(y_train.shape)\n",
    "y_train.head()"
   ]
  },
  {
   "cell_type": "code",
   "execution_count": 6,
   "id": "71b7dd12",
   "metadata": {},
   "outputs": [
    {
     "name": "stdout",
     "output_type": "stream",
     "text": [
      "(1700, 1)\n"
     ]
    },
    {
     "data": {
      "text/html": [
       "<div>\n",
       "<style scoped>\n",
       "    .dataframe tbody tr th:only-of-type {\n",
       "        vertical-align: middle;\n",
       "    }\n",
       "\n",
       "    .dataframe tbody tr th {\n",
       "        vertical-align: top;\n",
       "    }\n",
       "\n",
       "    .dataframe thead th {\n",
       "        text-align: right;\n",
       "    }\n",
       "</style>\n",
       "<table border=\"1\" class=\"dataframe\">\n",
       "  <thead>\n",
       "    <tr style=\"text-align: right;\">\n",
       "      <th></th>\n",
       "      <th>Wool_sucking_binary</th>\n",
       "    </tr>\n",
       "  </thead>\n",
       "  <tbody>\n",
       "    <tr>\n",
       "      <th>0</th>\n",
       "      <td>1</td>\n",
       "    </tr>\n",
       "    <tr>\n",
       "      <th>1</th>\n",
       "      <td>1</td>\n",
       "    </tr>\n",
       "    <tr>\n",
       "      <th>2</th>\n",
       "      <td>1</td>\n",
       "    </tr>\n",
       "    <tr>\n",
       "      <th>3</th>\n",
       "      <td>0</td>\n",
       "    </tr>\n",
       "    <tr>\n",
       "      <th>4</th>\n",
       "      <td>1</td>\n",
       "    </tr>\n",
       "  </tbody>\n",
       "</table>\n",
       "</div>"
      ],
      "text/plain": [
       "   Wool_sucking_binary\n",
       "0                    1\n",
       "1                    1\n",
       "2                    1\n",
       "3                    0\n",
       "4                    1"
      ]
     },
     "execution_count": 6,
     "metadata": {},
     "output_type": "execute_result"
    }
   ],
   "source": [
    "print(y_test.shape)\n",
    "y_test.head()"
   ]
  },
  {
   "cell_type": "markdown",
   "id": "d53267c9",
   "metadata": {},
   "source": [
    "## <a id='1.1master'></a>1.1 Create `master_scores` and `add_to_master`"
   ]
  },
  {
   "cell_type": "code",
   "execution_count": 7,
   "id": "44abc6a0",
   "metadata": {},
   "outputs": [],
   "source": [
    "# dataframe for scores amongst models\n",
    "master_scores = pd.DataFrame(columns=['Model','Recall', 'F1', 'Precision', 'Accuracy'])"
   ]
  },
  {
   "cell_type": "code",
   "execution_count": 8,
   "id": "0be17a6c",
   "metadata": {},
   "outputs": [],
   "source": [
    "# add_to_master(model_description, y_true, y_predicted, binary=True)\n",
    "def add_to_master(model_description, y_test, y_pred, binary=True):\n",
    "    '''\n",
    "    Adds a new row to the running score DataFrame `master_scores` \n",
    "    and functions for adding both binary and multiclass scores. \n",
    "    '''\n",
    "    global master_scores\n",
    "    if binary == True:\n",
    "        # Evalution Metrics\n",
    "        accuracy = accuracy_score(y_test, y_pred)\n",
    "        precision = precision_score(y_test, y_pred)\n",
    "        recall = recall_score(y_test, y_pred)\n",
    "        f1 = f1_score(y_test, y_pred)\n",
    "\n",
    "        # add to master_scores\n",
    "        new_row = {\n",
    "            'Model': model_description,\n",
    "            'Recall': round(recall,3), \n",
    "            'F1': round(f1, 3), \n",
    "            'Precision': round(precision, 3), \n",
    "            'Accuracy': round(accuracy, 3)}\n",
    "        \n",
    "        master_scores = master_scores.append(new_row, ignore_index=True)   \n",
    "    \n",
    "    else:\n",
    "        accuracy = accuracy_score(y_test, y_pred)\n",
    "        precision = precision_score(y_test, y_pred, average='macro') # I chose macro since we have less of the sucklers \n",
    "        recall = recall_score(y_test, y_pred, average='macro')       # and I want their accuracy to be meaningful\n",
    "        f1 = f1_score(y_test, y_pred, average='macro')\n",
    "\n",
    "\n",
    "        # add to master_scores\n",
    "        new_row = {\n",
    "            'Model': model_description,\n",
    "            'Recall': round(recall,3), \n",
    "            'F1': round(f1, 3), \n",
    "            'Precision': round(precision, 3), \n",
    "            'Accuracy': round(accuracy, 3)}\n",
    "        master_scores = master_scores.append(new_row, ignore_index=True)\n",
    "    return master_scores"
   ]
  },
  {
   "cell_type": "markdown",
   "id": "a1ccdddd",
   "metadata": {},
   "source": [
    "# <a id='2tfprep'></a> 2. Prep for tensorflow.keras"
   ]
  },
  {
   "cell_type": "code",
   "execution_count": 9,
   "id": "6dda99af",
   "metadata": {},
   "outputs": [],
   "source": [
    "import tensorflow as tf\n",
    "from tensorflow import keras\n",
    "from sklearn.metrics import accuracy_score,precision_score, recall_score, f1_score, confusion_matrix, ConfusionMatrixDisplay\n",
    "from sklearn.preprocessing import StandardScaler\n",
    "# for reproducibility \n",
    "tf.random.set_seed(42)\n",
    "np.random.seed(42)"
   ]
  },
  {
   "cell_type": "code",
   "execution_count": 10,
   "id": "69c582e6",
   "metadata": {},
   "outputs": [],
   "source": [
    "# one-hot breed \n",
    "X_train_encoded = pd.get_dummies(X_train, columns=['Breed_group'])\n",
    "X_test_encoded = pd.get_dummies(X_test, columns=['Breed_group'])"
   ]
  },
  {
   "cell_type": "code",
   "execution_count": 11,
   "id": "79a5eb7d",
   "metadata": {},
   "outputs": [
    {
     "data": {
      "text/plain": [
       "(3965, 25)"
      ]
     },
     "execution_count": 11,
     "metadata": {},
     "output_type": "execute_result"
    }
   ],
   "source": [
    "X_train_encoded.shape"
   ]
  },
  {
   "cell_type": "markdown",
   "id": "f9f4f363",
   "metadata": {},
   "source": [
    "# <a id='3model'></a> 3. MLP Modeling"
   ]
  },
  {
   "cell_type": "markdown",
   "id": "83911f9b",
   "metadata": {},
   "source": [
    "## <a id='3.1plainjane'></a> 3.1 Plain Jane"
   ]
  },
  {
   "cell_type": "code",
   "execution_count": 12,
   "id": "0f2ebb7b",
   "metadata": {},
   "outputs": [],
   "source": [
    "model = keras.Sequential([\n",
    "    keras.layers.Dense(64, activation='relu', input_shape=(len(X_train_encoded.columns),)),\n",
    "    keras.layers.Dense(64, activation='relu'),\n",
    "    keras.layers.Dense(1, activation='sigmoid')\n",
    "])"
   ]
  },
  {
   "cell_type": "code",
   "execution_count": 13,
   "id": "2aaefc0a",
   "metadata": {},
   "outputs": [],
   "source": [
    "# for some reason this isn't built in and needs to be formally declared \n",
    "def recall(y_true, y_pred):\n",
    "    true_positives = tf.keras.backend.sum(tf.keras.backend.round(tf.keras.backend.clip(y_true * y_pred, 0, 1)))\n",
    "    possible_positives = tf.keras.backend.sum(tf.keras.backend.round(tf.keras.backend.clip(y_true, 0, 1)))\n",
    "    recall = true_positives / (possible_positives + tf.keras.backend.epsilon())\n",
    "    return recall\n",
    "\n",
    "tf.keras.utils.get_custom_objects()['recall'] = recall"
   ]
  },
  {
   "cell_type": "code",
   "execution_count": 14,
   "id": "d370e07e",
   "metadata": {},
   "outputs": [],
   "source": [
    "model.compile(optimizer='adam', \n",
    "             loss='binary_crossentropy',\n",
    "             metrics=['accuracy', 'recall'])"
   ]
  },
  {
   "cell_type": "code",
   "execution_count": 15,
   "id": "02523520",
   "metadata": {},
   "outputs": [
    {
     "name": "stdout",
     "output_type": "stream",
     "text": [
      "Epoch 1/10\n",
      "124/124 [==============================] - 1s 916us/step - loss: 0.6274 - accuracy: 0.6810 - recall: 0.0167\n",
      "Epoch 2/10\n",
      "124/124 [==============================] - 0s 924us/step - loss: 0.6019 - accuracy: 0.6830 - recall: 0.1234\n",
      "Epoch 3/10\n",
      "124/124 [==============================] - 0s 892us/step - loss: 0.5937 - accuracy: 0.6898 - recall: 0.1853\n",
      "Epoch 4/10\n",
      "124/124 [==============================] - 0s 933us/step - loss: 0.5893 - accuracy: 0.6941 - recall: 0.1681\n",
      "Epoch 5/10\n",
      "124/124 [==============================] - 0s 916us/step - loss: 0.5855 - accuracy: 0.6936 - recall: 0.1782\n",
      "Epoch 6/10\n",
      "124/124 [==============================] - 0s 916us/step - loss: 0.5843 - accuracy: 0.6931 - recall: 0.2082\n",
      "Epoch 7/10\n",
      "124/124 [==============================] - 0s 892us/step - loss: 0.5840 - accuracy: 0.6888 - recall: 0.2069\n",
      "Epoch 8/10\n",
      "124/124 [==============================] - 0s 900us/step - loss: 0.5787 - accuracy: 0.6956 - recall: 0.2021\n",
      "Epoch 9/10\n",
      "124/124 [==============================] - 0s 916us/step - loss: 0.5774 - accuracy: 0.6926 - recall: 0.1910\n",
      "Epoch 10/10\n",
      "124/124 [==============================] - 0s 884us/step - loss: 0.5747 - accuracy: 0.6976 - recall: 0.2222\n"
     ]
    },
    {
     "data": {
      "text/plain": [
       "<keras.callbacks.History at 0x177175bf7f0>"
      ]
     },
     "execution_count": 15,
     "metadata": {},
     "output_type": "execute_result"
    }
   ],
   "source": [
    "model.fit(X_train_encoded, y_train, epochs=10, batch_size=32)"
   ]
  },
  {
   "cell_type": "code",
   "execution_count": 16,
   "id": "472c8352",
   "metadata": {},
   "outputs": [
    {
     "name": "stdout",
     "output_type": "stream",
     "text": [
      "54/54 [==============================] - 0s 734us/step - loss: 0.5890 - accuracy: 0.6765 - recall: 0.2521\n",
      "Test Accuracy: 0.6764705777168274\n",
      "Test Loss: 0.58901447057724\n",
      "Test Recall: 0.25211796164512634\n"
     ]
    }
   ],
   "source": [
    "test_loss, test_acc, test_recall = model.evaluate(X_test_encoded, y_test)\n",
    "print('Test Accuracy:', test_acc)\n",
    "print('Test Loss:', test_loss)\n",
    "print('Test Recall:', test_recall)"
   ]
  },
  {
   "cell_type": "code",
   "execution_count": 17,
   "id": "cb7c6f7e",
   "metadata": {},
   "outputs": [
    {
     "name": "stdout",
     "output_type": "stream",
     "text": [
      "54/54 [==============================] - 0s 640us/step\n"
     ]
    },
    {
     "name": "stderr",
     "output_type": "stream",
     "text": [
      "C:\\Users\\gwent\\AppData\\Local\\Temp\\ipykernel_3948\\1005917253.py:23: FutureWarning: The frame.append method is deprecated and will be removed from pandas in a future version. Use pandas.concat instead.\n",
      "  master_scores = master_scores.append(new_row, ignore_index=True)\n"
     ]
    },
    {
     "data": {
      "text/plain": [
       "array([[1009,  150],\n",
       "       [ 400,  141]], dtype=int64)"
      ]
     },
     "execution_count": 17,
     "metadata": {},
     "output_type": "execute_result"
    }
   ],
   "source": [
    "y_pred = model.predict(X_test_encoded)\n",
    "y_pred = np.round(y_pred).astype(int)\n",
    "\n",
    "cm = confusion_matrix(y_test, y_pred)\n",
    "# add_to_master(model_description, y_true, y_predicted, binary=True)\n",
    "add_to_master(\"1 hidden, 64 nodes per, adam\", y_test, y_pred)\n",
    "cm"
   ]
  },
  {
   "cell_type": "code",
   "execution_count": 18,
   "id": "5431d1f6",
   "metadata": {},
   "outputs": [
    {
     "data": {
      "text/html": [
       "<div>\n",
       "<style scoped>\n",
       "    .dataframe tbody tr th:only-of-type {\n",
       "        vertical-align: middle;\n",
       "    }\n",
       "\n",
       "    .dataframe tbody tr th {\n",
       "        vertical-align: top;\n",
       "    }\n",
       "\n",
       "    .dataframe thead th {\n",
       "        text-align: right;\n",
       "    }\n",
       "</style>\n",
       "<table border=\"1\" class=\"dataframe\">\n",
       "  <thead>\n",
       "    <tr style=\"text-align: right;\">\n",
       "      <th></th>\n",
       "      <th>Model</th>\n",
       "      <th>Recall</th>\n",
       "      <th>F1</th>\n",
       "      <th>Precision</th>\n",
       "      <th>Accuracy</th>\n",
       "    </tr>\n",
       "  </thead>\n",
       "  <tbody>\n",
       "    <tr>\n",
       "      <th>0</th>\n",
       "      <td>1 hidden, 64 nodes per, adam</td>\n",
       "      <td>0.261</td>\n",
       "      <td>0.339</td>\n",
       "      <td>0.485</td>\n",
       "      <td>0.676</td>\n",
       "    </tr>\n",
       "  </tbody>\n",
       "</table>\n",
       "</div>"
      ],
      "text/plain": [
       "                          Model  Recall     F1  Precision  Accuracy\n",
       "0  1 hidden, 64 nodes per, adam   0.261  0.339      0.485     0.676"
      ]
     },
     "execution_count": 18,
     "metadata": {},
     "output_type": "execute_result"
    }
   ],
   "source": [
    "master_scores"
   ]
  },
  {
   "cell_type": "markdown",
   "id": "e659e48e",
   "metadata": {},
   "source": [
    "## <a id='3.2adagrad'></a> 3.2 Adagrad optimizer"
   ]
  },
  {
   "cell_type": "code",
   "execution_count": 19,
   "id": "c8b1639f",
   "metadata": {},
   "outputs": [],
   "source": [
    "model2 = keras.Sequential([\n",
    "    keras.layers.Dense(64, activation='relu', input_shape=(len(X_train_encoded.columns),)),\n",
    "    keras.layers.Dense(64, activation='relu'),\n",
    "    keras.layers.Dense(1, activation='sigmoid')\n",
    "])"
   ]
  },
  {
   "cell_type": "code",
   "execution_count": 20,
   "id": "6c14f69f",
   "metadata": {},
   "outputs": [],
   "source": [
    "# Adagrad better for when feataures vary in magnitude and frequency \n",
    "optimizer = tf.keras.optimizers.Adagrad(learning_rate=0.01)\n",
    "model2.compile(optimizer=optimizer, \n",
    "             loss='binary_crossentropy',\n",
    "             metrics=['accuracy', 'recall'])"
   ]
  },
  {
   "cell_type": "code",
   "execution_count": 21,
   "id": "2238ef2d",
   "metadata": {},
   "outputs": [
    {
     "name": "stdout",
     "output_type": "stream",
     "text": [
      "Epoch 1/10\n",
      "124/124 [==============================] - 0s 811us/step - loss: 0.6361 - accuracy: 0.6820 - recall: 0.0083\n",
      "Epoch 2/10\n",
      "124/124 [==============================] - 0s 843us/step - loss: 0.6233 - accuracy: 0.6817 - recall: 0.0035\n",
      "Epoch 3/10\n",
      "124/124 [==============================] - 0s 860us/step - loss: 0.6161 - accuracy: 0.6815 - recall: 0.0320\n",
      "Epoch 4/10\n",
      "124/124 [==============================] - 0s 843us/step - loss: 0.6114 - accuracy: 0.6837 - recall: 0.0421\n",
      "Epoch 5/10\n",
      "124/124 [==============================] - 0s 851us/step - loss: 0.6078 - accuracy: 0.6890 - recall: 0.0608\n",
      "Epoch 6/10\n",
      "124/124 [==============================] - 0s 843us/step - loss: 0.6044 - accuracy: 0.6880 - recall: 0.0912\n",
      "Epoch 7/10\n",
      "124/124 [==============================] - 0s 835us/step - loss: 0.6021 - accuracy: 0.6895 - recall: 0.0953\n",
      "Epoch 8/10\n",
      "124/124 [==============================] - 0s 851us/step - loss: 0.6001 - accuracy: 0.6875 - recall: 0.0954\n",
      "Epoch 9/10\n",
      "124/124 [==============================] - 0s 835us/step - loss: 0.5969 - accuracy: 0.6943 - recall: 0.1290\n",
      "Epoch 10/10\n",
      "124/124 [==============================] - 0s 851us/step - loss: 0.5964 - accuracy: 0.6928 - recall: 0.1288\n"
     ]
    },
    {
     "data": {
      "text/plain": [
       "<keras.callbacks.History at 0x17719ba5790>"
      ]
     },
     "execution_count": 21,
     "metadata": {},
     "output_type": "execute_result"
    }
   ],
   "source": [
    "model2.fit(X_train_encoded, y_train, epochs=10, batch_size=32)"
   ]
  },
  {
   "cell_type": "code",
   "execution_count": 22,
   "id": "df69d4da",
   "metadata": {},
   "outputs": [
    {
     "name": "stdout",
     "output_type": "stream",
     "text": [
      "54/54 [==============================] - 0s 828us/step - loss: 0.6008 - accuracy: 0.6865 - recall: 0.1558\n",
      "Test Accuracy: 0.6864705681800842\n",
      "Test Loss: 0.6008132696151733\n",
      "Test Recall: 0.15583264827728271\n"
     ]
    }
   ],
   "source": [
    "test_loss, test_acc, test_recall = model2.evaluate(X_test_encoded, y_test)\n",
    "print('Test Accuracy:', test_acc)\n",
    "print('Test Loss:', test_loss)\n",
    "print('Test Recall:', test_recall)"
   ]
  },
  {
   "cell_type": "code",
   "execution_count": 23,
   "id": "9aed1137",
   "metadata": {},
   "outputs": [
    {
     "name": "stdout",
     "output_type": "stream",
     "text": [
      "54/54 [==============================] - 0s 602us/step\n"
     ]
    },
    {
     "name": "stderr",
     "output_type": "stream",
     "text": [
      "C:\\Users\\gwent\\AppData\\Local\\Temp\\ipykernel_3948\\1005917253.py:23: FutureWarning: The frame.append method is deprecated and will be removed from pandas in a future version. Use pandas.concat instead.\n",
      "  master_scores = master_scores.append(new_row, ignore_index=True)\n"
     ]
    },
    {
     "data": {
      "text/plain": [
       "array([[1080,   79],\n",
       "       [ 454,   87]], dtype=int64)"
      ]
     },
     "execution_count": 23,
     "metadata": {},
     "output_type": "execute_result"
    }
   ],
   "source": [
    "y_pred = model2.predict(X_test_encoded)\n",
    "y_pred = np.round(y_pred).astype(int)\n",
    "\n",
    "cm = confusion_matrix(y_test, y_pred)\n",
    "add_to_master(\"1 hidden, 64 nodes per, adagrad\", y_test, y_pred)\n",
    "cm"
   ]
  },
  {
   "cell_type": "markdown",
   "id": "19631b6e",
   "metadata": {},
   "source": [
    "## <a id='3.3scaling'></a> 3.3 Does scaling help anything"
   ]
  },
  {
   "cell_type": "code",
   "execution_count": 24,
   "id": "60dcdda8",
   "metadata": {},
   "outputs": [
    {
     "data": {
      "text/html": [
       "<style>#sk-container-id-1 {color: black;background-color: white;}#sk-container-id-1 pre{padding: 0;}#sk-container-id-1 div.sk-toggleable {background-color: white;}#sk-container-id-1 label.sk-toggleable__label {cursor: pointer;display: block;width: 100%;margin-bottom: 0;padding: 0.3em;box-sizing: border-box;text-align: center;}#sk-container-id-1 label.sk-toggleable__label-arrow:before {content: \"▸\";float: left;margin-right: 0.25em;color: #696969;}#sk-container-id-1 label.sk-toggleable__label-arrow:hover:before {color: black;}#sk-container-id-1 div.sk-estimator:hover label.sk-toggleable__label-arrow:before {color: black;}#sk-container-id-1 div.sk-toggleable__content {max-height: 0;max-width: 0;overflow: hidden;text-align: left;background-color: #f0f8ff;}#sk-container-id-1 div.sk-toggleable__content pre {margin: 0.2em;color: black;border-radius: 0.25em;background-color: #f0f8ff;}#sk-container-id-1 input.sk-toggleable__control:checked~div.sk-toggleable__content {max-height: 200px;max-width: 100%;overflow: auto;}#sk-container-id-1 input.sk-toggleable__control:checked~label.sk-toggleable__label-arrow:before {content: \"▾\";}#sk-container-id-1 div.sk-estimator input.sk-toggleable__control:checked~label.sk-toggleable__label {background-color: #d4ebff;}#sk-container-id-1 div.sk-label input.sk-toggleable__control:checked~label.sk-toggleable__label {background-color: #d4ebff;}#sk-container-id-1 input.sk-hidden--visually {border: 0;clip: rect(1px 1px 1px 1px);clip: rect(1px, 1px, 1px, 1px);height: 1px;margin: -1px;overflow: hidden;padding: 0;position: absolute;width: 1px;}#sk-container-id-1 div.sk-estimator {font-family: monospace;background-color: #f0f8ff;border: 1px dotted black;border-radius: 0.25em;box-sizing: border-box;margin-bottom: 0.5em;}#sk-container-id-1 div.sk-estimator:hover {background-color: #d4ebff;}#sk-container-id-1 div.sk-parallel-item::after {content: \"\";width: 100%;border-bottom: 1px solid gray;flex-grow: 1;}#sk-container-id-1 div.sk-label:hover label.sk-toggleable__label {background-color: #d4ebff;}#sk-container-id-1 div.sk-serial::before {content: \"\";position: absolute;border-left: 1px solid gray;box-sizing: border-box;top: 0;bottom: 0;left: 50%;z-index: 0;}#sk-container-id-1 div.sk-serial {display: flex;flex-direction: column;align-items: center;background-color: white;padding-right: 0.2em;padding-left: 0.2em;position: relative;}#sk-container-id-1 div.sk-item {position: relative;z-index: 1;}#sk-container-id-1 div.sk-parallel {display: flex;align-items: stretch;justify-content: center;background-color: white;position: relative;}#sk-container-id-1 div.sk-item::before, #sk-container-id-1 div.sk-parallel-item::before {content: \"\";position: absolute;border-left: 1px solid gray;box-sizing: border-box;top: 0;bottom: 0;left: 50%;z-index: -1;}#sk-container-id-1 div.sk-parallel-item {display: flex;flex-direction: column;z-index: 1;position: relative;background-color: white;}#sk-container-id-1 div.sk-parallel-item:first-child::after {align-self: flex-end;width: 50%;}#sk-container-id-1 div.sk-parallel-item:last-child::after {align-self: flex-start;width: 50%;}#sk-container-id-1 div.sk-parallel-item:only-child::after {width: 0;}#sk-container-id-1 div.sk-dashed-wrapped {border: 1px dashed gray;margin: 0 0.4em 0.5em 0.4em;box-sizing: border-box;padding-bottom: 0.4em;background-color: white;}#sk-container-id-1 div.sk-label label {font-family: monospace;font-weight: bold;display: inline-block;line-height: 1.2em;}#sk-container-id-1 div.sk-label-container {text-align: center;}#sk-container-id-1 div.sk-container {/* jupyter's `normalize.less` sets `[hidden] { display: none; }` but bootstrap.min.css set `[hidden] { display: none !important; }` so we also need the `!important` here to be able to override the default hidden behavior on the sphinx rendered scikit-learn.org. See: https://github.com/scikit-learn/scikit-learn/issues/21755 */display: inline-block !important;position: relative;}#sk-container-id-1 div.sk-text-repr-fallback {display: none;}</style><div id=\"sk-container-id-1\" class=\"sk-top-container\"><div class=\"sk-text-repr-fallback\"><pre>StandardScaler()</pre><b>In a Jupyter environment, please rerun this cell to show the HTML representation or trust the notebook. <br />On GitHub, the HTML representation is unable to render, please try loading this page with nbviewer.org.</b></div><div class=\"sk-container\" hidden><div class=\"sk-item\"><div class=\"sk-estimator sk-toggleable\"><input class=\"sk-toggleable__control sk-hidden--visually\" id=\"sk-estimator-id-1\" type=\"checkbox\" checked><label for=\"sk-estimator-id-1\" class=\"sk-toggleable__label sk-toggleable__label-arrow\">StandardScaler</label><div class=\"sk-toggleable__content\"><pre>StandardScaler()</pre></div></div></div></div></div>"
      ],
      "text/plain": [
       "StandardScaler()"
      ]
     },
     "execution_count": 24,
     "metadata": {},
     "output_type": "execute_result"
    }
   ],
   "source": [
    "scaler = StandardScaler()\n",
    "scaler.fit(X_train_encoded)"
   ]
  },
  {
   "cell_type": "code",
   "execution_count": 25,
   "id": "0ef18545",
   "metadata": {},
   "outputs": [],
   "source": [
    "X_train_scaled_encoded = scaler.transform(X_train_encoded)\n",
    "X_test_scaled_encoded = scaler.transform(X_test_encoded)"
   ]
  },
  {
   "cell_type": "code",
   "execution_count": 26,
   "id": "bccddabe",
   "metadata": {},
   "outputs": [
    {
     "data": {
      "text/plain": [
       "(3965, 25)"
      ]
     },
     "execution_count": 26,
     "metadata": {},
     "output_type": "execute_result"
    }
   ],
   "source": [
    "X_train_scaled_encoded.shape"
   ]
  },
  {
   "cell_type": "code",
   "execution_count": 27,
   "id": "a18c4782",
   "metadata": {
    "scrolled": true
   },
   "outputs": [
    {
     "name": "stdout",
     "output_type": "stream",
     "text": [
      "Epoch 1/10\n",
      "124/124 [==============================] - 0s 884us/step - loss: 0.6128 - accuracy: 0.6840 - recall: 0.0859\n",
      "Epoch 2/10\n",
      "124/124 [==============================] - 0s 884us/step - loss: 0.5883 - accuracy: 0.6936 - recall: 0.1594\n",
      "Epoch 3/10\n",
      "124/124 [==============================] - 0s 916us/step - loss: 0.5827 - accuracy: 0.6968 - recall: 0.2115\n",
      "Epoch 4/10\n",
      "124/124 [==============================] - 0s 884us/step - loss: 0.5786 - accuracy: 0.7024 - recall: 0.1913\n",
      "Epoch 5/10\n",
      "124/124 [==============================] - 0s 892us/step - loss: 0.5737 - accuracy: 0.7006 - recall: 0.2146\n",
      "Epoch 6/10\n",
      "124/124 [==============================] - 0s 908us/step - loss: 0.5728 - accuracy: 0.7014 - recall: 0.2274\n",
      "Epoch 7/10\n",
      "124/124 [==============================] - 0s 876us/step - loss: 0.5709 - accuracy: 0.6996 - recall: 0.2279\n",
      "Epoch 8/10\n",
      "124/124 [==============================] - 0s 908us/step - loss: 0.5684 - accuracy: 0.7069 - recall: 0.2441\n",
      "Epoch 9/10\n",
      "124/124 [==============================] - 0s 884us/step - loss: 0.5658 - accuracy: 0.7077 - recall: 0.2191\n",
      "Epoch 10/10\n",
      "124/124 [==============================] - 0s 916us/step - loss: 0.5623 - accuracy: 0.7100 - recall: 0.2509\n",
      "54/54 [==============================] - 0s 753us/step - loss: 0.5922 - accuracy: 0.6788 - recall: 0.2703\n",
      "Test Accuracy: 0.6788235306739807\n",
      "Test Loss: 0.5922471284866333\n",
      "Test Recall: 0.27026820182800293\n",
      "54/54 [==============================] - 0s 583us/step\n"
     ]
    },
    {
     "name": "stderr",
     "output_type": "stream",
     "text": [
      "C:\\Users\\gwent\\AppData\\Local\\Temp\\ipykernel_3948\\1005917253.py:23: FutureWarning: The frame.append method is deprecated and will be removed from pandas in a future version. Use pandas.concat instead.\n",
      "  master_scores = master_scores.append(new_row, ignore_index=True)\n"
     ]
    },
    {
     "data": {
      "text/plain": [
       "array([[1001,  158],\n",
       "       [ 388,  153]], dtype=int64)"
      ]
     },
     "execution_count": 27,
     "metadata": {},
     "output_type": "execute_result"
    }
   ],
   "source": [
    "# Plain Jane + scaled\n",
    "model3 = keras.Sequential([\n",
    "    keras.layers.Dense(64, activation='relu', input_shape=(25,)),\n",
    "    keras.layers.Dense(64, activation='relu'),\n",
    "    keras.layers.Dense(1, activation='sigmoid')\n",
    "])\n",
    "\n",
    "model3.compile(optimizer='adam', \n",
    "             loss='binary_crossentropy',\n",
    "             metrics=['accuracy', 'recall'])\n",
    "\n",
    "model3.fit(X_train_scaled_encoded, y_train, epochs=10, batch_size=32)\n",
    "\n",
    "test_loss, test_acc, test_recall = model3.evaluate(X_test_scaled_encoded, y_test)\n",
    "print('Test Accuracy:', test_acc)\n",
    "print('Test Loss:', test_loss)\n",
    "print('Test Recall:', test_recall)\n",
    "\n",
    "y_pred = model3.predict(X_test_scaled_encoded)\n",
    "y_pred = np.round(y_pred).astype(int)\n",
    "\n",
    "cm = confusion_matrix(y_test, y_pred)\n",
    "add_to_master(\"1 hidden, 64 nodes per, adam, scaled\", y_test, y_pred)\n",
    "cm"
   ]
  },
  {
   "cell_type": "code",
   "execution_count": 28,
   "id": "424d9860",
   "metadata": {
    "scrolled": true
   },
   "outputs": [
    {
     "name": "stdout",
     "output_type": "stream",
     "text": [
      "Epoch 1/10\n",
      "124/124 [==============================] - 0s 803us/step - loss: 0.6285 - accuracy: 0.6643 - recall: 0.0468\n",
      "Epoch 2/10\n",
      "124/124 [==============================] - 0s 827us/step - loss: 0.6000 - accuracy: 0.6868 - recall: 0.0298\n",
      "Epoch 3/10\n",
      "124/124 [==============================] - 0s 916us/step - loss: 0.5925 - accuracy: 0.6921 - recall: 0.0925\n",
      "Epoch 4/10\n",
      "124/124 [==============================] - 0s 811us/step - loss: 0.5883 - accuracy: 0.6926 - recall: 0.1014\n",
      "Epoch 5/10\n",
      "124/124 [==============================] - 0s 843us/step - loss: 0.5856 - accuracy: 0.6903 - recall: 0.1195\n",
      "Epoch 6/10\n",
      "124/124 [==============================] - 0s 835us/step - loss: 0.5836 - accuracy: 0.6923 - recall: 0.1418\n",
      "Epoch 7/10\n",
      "124/124 [==============================] - 0s 860us/step - loss: 0.5819 - accuracy: 0.6933 - recall: 0.1508\n",
      "Epoch 8/10\n",
      "124/124 [==============================] - 0s 819us/step - loss: 0.5808 - accuracy: 0.6968 - recall: 0.1713\n",
      "Epoch 9/10\n",
      "124/124 [==============================] - 0s 860us/step - loss: 0.5789 - accuracy: 0.6966 - recall: 0.1697\n",
      "Epoch 10/10\n",
      "124/124 [==============================] - 0s 819us/step - loss: 0.5785 - accuracy: 0.6979 - recall: 0.1592\n",
      "54/54 [==============================] - 0s 753us/step - loss: 0.5863 - accuracy: 0.6776 - recall: 0.1540\n",
      "Test Accuracy: 0.677647054195404\n",
      "Test Loss: 0.5862738490104675\n",
      "Test Recall: 0.15395748615264893\n",
      "54/54 [==============================] - 0s 583us/step\n"
     ]
    },
    {
     "name": "stderr",
     "output_type": "stream",
     "text": [
      "C:\\Users\\gwent\\AppData\\Local\\Temp\\ipykernel_3948\\1005917253.py:23: FutureWarning: The frame.append method is deprecated and will be removed from pandas in a future version. Use pandas.concat instead.\n",
      "  master_scores = master_scores.append(new_row, ignore_index=True)\n"
     ]
    },
    {
     "data": {
      "text/plain": [
       "array([[1066,   93],\n",
       "       [ 455,   86]], dtype=int64)"
      ]
     },
     "execution_count": 28,
     "metadata": {},
     "output_type": "execute_result"
    }
   ],
   "source": [
    "# adagrad + scaled \n",
    "model4 = keras.Sequential([\n",
    "    keras.layers.Dense(64, activation='relu', input_shape=(25,)),\n",
    "    keras.layers.Dense(64, activation='relu'),\n",
    "    keras.layers.Dense(1, activation='sigmoid')\n",
    "])\n",
    "\n",
    "# Adagrad supposedly better for when feataures vary in magnitude and frequency \n",
    "optimizer = tf.keras.optimizers.Adagrad(learning_rate=0.01)\n",
    "model4.compile(optimizer=optimizer, \n",
    "             loss='binary_crossentropy',\n",
    "             metrics=['accuracy', 'recall'])\n",
    "\n",
    "model4.fit(X_train_scaled_encoded, y_train, epochs=10, batch_size=32)\n",
    "\n",
    "test_loss, test_acc, test_recall = model4.evaluate(X_test_scaled_encoded, y_test)\n",
    "print('Test Accuracy:', test_acc)\n",
    "print('Test Loss:', test_loss)\n",
    "print('Test Recall:', test_recall)\n",
    "\n",
    "y_pred = model4.predict(X_test_scaled_encoded)\n",
    "y_pred = np.round(y_pred).astype(int)\n",
    "\n",
    "cm = confusion_matrix(y_test, y_pred)\n",
    "add_to_master(\"1 hidden, 64 nodes per, adagrad, scaled\", y_test, y_pred)\n",
    "cm"
   ]
  },
  {
   "cell_type": "code",
   "execution_count": 29,
   "id": "49bf0634",
   "metadata": {},
   "outputs": [
    {
     "data": {
      "text/html": [
       "<div>\n",
       "<style scoped>\n",
       "    .dataframe tbody tr th:only-of-type {\n",
       "        vertical-align: middle;\n",
       "    }\n",
       "\n",
       "    .dataframe tbody tr th {\n",
       "        vertical-align: top;\n",
       "    }\n",
       "\n",
       "    .dataframe thead th {\n",
       "        text-align: right;\n",
       "    }\n",
       "</style>\n",
       "<table border=\"1\" class=\"dataframe\">\n",
       "  <thead>\n",
       "    <tr style=\"text-align: right;\">\n",
       "      <th></th>\n",
       "      <th>Model</th>\n",
       "      <th>Recall</th>\n",
       "      <th>F1</th>\n",
       "      <th>Precision</th>\n",
       "      <th>Accuracy</th>\n",
       "    </tr>\n",
       "  </thead>\n",
       "  <tbody>\n",
       "    <tr>\n",
       "      <th>2</th>\n",
       "      <td>1 hidden, 64 nodes per, adam, scaled</td>\n",
       "      <td>0.283</td>\n",
       "      <td>0.359</td>\n",
       "      <td>0.492</td>\n",
       "      <td>0.679</td>\n",
       "    </tr>\n",
       "    <tr>\n",
       "      <th>0</th>\n",
       "      <td>1 hidden, 64 nodes per, adam</td>\n",
       "      <td>0.261</td>\n",
       "      <td>0.339</td>\n",
       "      <td>0.485</td>\n",
       "      <td>0.676</td>\n",
       "    </tr>\n",
       "    <tr>\n",
       "      <th>1</th>\n",
       "      <td>1 hidden, 64 nodes per, adagrad</td>\n",
       "      <td>0.161</td>\n",
       "      <td>0.246</td>\n",
       "      <td>0.524</td>\n",
       "      <td>0.686</td>\n",
       "    </tr>\n",
       "    <tr>\n",
       "      <th>3</th>\n",
       "      <td>1 hidden, 64 nodes per, adagrad, scaled</td>\n",
       "      <td>0.159</td>\n",
       "      <td>0.239</td>\n",
       "      <td>0.480</td>\n",
       "      <td>0.678</td>\n",
       "    </tr>\n",
       "  </tbody>\n",
       "</table>\n",
       "</div>"
      ],
      "text/plain": [
       "                                     Model  Recall     F1  Precision  Accuracy\n",
       "2     1 hidden, 64 nodes per, adam, scaled   0.283  0.359      0.492     0.679\n",
       "0             1 hidden, 64 nodes per, adam   0.261  0.339      0.485     0.676\n",
       "1          1 hidden, 64 nodes per, adagrad   0.161  0.246      0.524     0.686\n",
       "3  1 hidden, 64 nodes per, adagrad, scaled   0.159  0.239      0.480     0.678"
      ]
     },
     "execution_count": 29,
     "metadata": {},
     "output_type": "execute_result"
    }
   ],
   "source": [
    "master_scores.sort_values('Recall', ascending=False)"
   ]
  },
  {
   "cell_type": "markdown",
   "id": "afadd75a",
   "metadata": {},
   "source": [
    "## <a id='3.4playing'></a> 3.4 Playing around with # of nodes "
   ]
  },
  {
   "cell_type": "code",
   "execution_count": 30,
   "id": "256366ac",
   "metadata": {},
   "outputs": [],
   "source": [
    "# let's just streamline this \n",
    "def create_mlp(nodes, optimizer, X_train):\n",
    "    # Define the model architecture\n",
    "    model = keras.Sequential([\n",
    "    keras.layers.Dense(nodes, activation='relu', input_shape=(X_train.shape[1],)),\n",
    "    keras.layers.Dense(nodes, activation='relu'),\n",
    "    keras.layers.Dense(1, activation='sigmoid')\n",
    "])\n",
    "\n",
    "    model.compile(optimizer=optimizer, \n",
    "             loss='binary_crossentropy',\n",
    "             metrics=['accuracy', 'recall'])\n",
    "    \n",
    "    return model"
   ]
  },
  {
   "cell_type": "code",
   "execution_count": 31,
   "id": "59ff7897",
   "metadata": {},
   "outputs": [],
   "source": [
    "model5 = create_mlp(100, 'adam', X_train_scaled_encoded)"
   ]
  },
  {
   "cell_type": "code",
   "execution_count": 32,
   "id": "db824e87",
   "metadata": {
    "scrolled": true
   },
   "outputs": [
    {
     "name": "stdout",
     "output_type": "stream",
     "text": [
      "Epoch 1/10\n",
      "124/124 [==============================] - 0s 973us/step - loss: 0.6070 - accuracy: 0.6812 - recall: 0.1127\n",
      "Epoch 2/10\n",
      "124/124 [==============================] - 0s 1ms/step - loss: 0.5877 - accuracy: 0.6941 - recall: 0.1794\n",
      "Epoch 3/10\n",
      "124/124 [==============================] - 0s 1ms/step - loss: 0.5802 - accuracy: 0.6999 - recall: 0.2285\n",
      "Epoch 4/10\n",
      "124/124 [==============================] - 0s 989us/step - loss: 0.5773 - accuracy: 0.7009 - recall: 0.2011\n",
      "Epoch 5/10\n",
      "124/124 [==============================] - 0s 1ms/step - loss: 0.5701 - accuracy: 0.7100 - recall: 0.2297\n",
      "Epoch 6/10\n",
      "124/124 [==============================] - 0s 1ms/step - loss: 0.5707 - accuracy: 0.7069 - recall: 0.2517\n",
      "Epoch 7/10\n",
      "124/124 [==============================] - 0s 989us/step - loss: 0.5680 - accuracy: 0.7087 - recall: 0.2771\n",
      "Epoch 8/10\n",
      "124/124 [==============================] - 0s 1ms/step - loss: 0.5636 - accuracy: 0.7112 - recall: 0.2656\n",
      "Epoch 9/10\n",
      "124/124 [==============================] - 0s 997us/step - loss: 0.5601 - accuracy: 0.7175 - recall: 0.2532\n",
      "Epoch 10/10\n",
      "124/124 [==============================] - 0s 1ms/step - loss: 0.5572 - accuracy: 0.7102 - recall: 0.2744\n",
      "54/54 [==============================] - 0s 790us/step - loss: 0.5968 - accuracy: 0.6659 - recall: 0.2667\n",
      "Test Accuracy: 0.6658823490142822\n",
      "Test Loss: 0.5967516303062439\n",
      "Test Recall: 0.266707181930542\n",
      "54/54 [==============================] - 0s 621us/step\n"
     ]
    },
    {
     "name": "stderr",
     "output_type": "stream",
     "text": [
      "C:\\Users\\gwent\\AppData\\Local\\Temp\\ipykernel_3948\\1005917253.py:23: FutureWarning: The frame.append method is deprecated and will be removed from pandas in a future version. Use pandas.concat instead.\n",
      "  master_scores = master_scores.append(new_row, ignore_index=True)\n"
     ]
    },
    {
     "data": {
      "text/plain": [
       "array([[981, 178],\n",
       "       [390, 151]], dtype=int64)"
      ]
     },
     "execution_count": 32,
     "metadata": {},
     "output_type": "execute_result"
    }
   ],
   "source": [
    "model5.fit(X_train_scaled_encoded, y_train, epochs=10, batch_size=32)\n",
    "\n",
    "test_loss, test_acc, test_recall = model5.evaluate(X_test_scaled_encoded, y_test)\n",
    "print('Test Accuracy:', test_acc)\n",
    "print('Test Loss:', test_loss)\n",
    "print('Test Recall:', test_recall)\n",
    "\n",
    "y_pred = model5.predict(X_test_scaled_encoded)\n",
    "y_pred = np.round(y_pred).astype(int)\n",
    "\n",
    "cm = confusion_matrix(y_test, y_pred)\n",
    "add_to_master(\"1 hidden, 100 nodes, adam\", y_test, y_pred)\n",
    "cm"
   ]
  },
  {
   "cell_type": "code",
   "execution_count": 33,
   "id": "80c22910",
   "metadata": {},
   "outputs": [
    {
     "name": "stdout",
     "output_type": "stream",
     "text": [
      "Epoch 1/10\n",
      "124/124 [==============================] - 0s 876us/step - loss: 0.6159 - accuracy: 0.6797 - recall: 0.0329\n",
      "Epoch 2/10\n",
      "124/124 [==============================] - 0s 868us/step - loss: 0.5922 - accuracy: 0.6893 - recall: 0.1233\n",
      "Epoch 3/10\n",
      "124/124 [==============================] - 0s 868us/step - loss: 0.5855 - accuracy: 0.6943 - recall: 0.1863\n",
      "Epoch 4/10\n",
      "124/124 [==============================] - 0s 860us/step - loss: 0.5808 - accuracy: 0.6941 - recall: 0.1571\n",
      "Epoch 5/10\n",
      "124/124 [==============================] - 0s 868us/step - loss: 0.5772 - accuracy: 0.7006 - recall: 0.1922\n",
      "Epoch 6/10\n",
      "124/124 [==============================] - 0s 908us/step - loss: 0.5755 - accuracy: 0.7029 - recall: 0.1993\n",
      "Epoch 7/10\n",
      "124/124 [==============================] - 0s 868us/step - loss: 0.5741 - accuracy: 0.7037 - recall: 0.2018\n",
      "Epoch 8/10\n",
      "124/124 [==============================] - 0s 892us/step - loss: 0.5716 - accuracy: 0.7029 - recall: 0.2168\n",
      "Epoch 9/10\n",
      "124/124 [==============================] - 0s 933us/step - loss: 0.5694 - accuracy: 0.7021 - recall: 0.1950\n",
      "Epoch 10/10\n",
      "124/124 [==============================] - 0s 860us/step - loss: 0.5675 - accuracy: 0.7047 - recall: 0.2166\n",
      "54/54 [==============================] - 0s 715us/step - loss: 0.5885 - accuracy: 0.6771 - recall: 0.2146\n",
      "Test Accuracy: 0.6770588159561157\n",
      "Test Loss: 0.5884933471679688\n",
      "Test Recall: 0.21458297967910767\n",
      "54/54 [==============================] - 0s 602us/step\n"
     ]
    },
    {
     "name": "stderr",
     "output_type": "stream",
     "text": [
      "C:\\Users\\gwent\\AppData\\Local\\Temp\\ipykernel_3948\\1005917253.py:23: FutureWarning: The frame.append method is deprecated and will be removed from pandas in a future version. Use pandas.concat instead.\n",
      "  master_scores = master_scores.append(new_row, ignore_index=True)\n"
     ]
    },
    {
     "data": {
      "text/plain": [
       "array([[1032,  127],\n",
       "       [ 422,  119]], dtype=int64)"
      ]
     },
     "execution_count": 33,
     "metadata": {},
     "output_type": "execute_result"
    }
   ],
   "source": [
    "model6 = create_mlp(32, 'adam', X_train_scaled_encoded)\n",
    "model6.fit(X_train_scaled_encoded, y_train, epochs=10, batch_size=32)\n",
    "\n",
    "test_loss, test_acc, test_recall = model6.evaluate(X_test_scaled_encoded, y_test)\n",
    "print('Test Accuracy:', test_acc)\n",
    "print('Test Loss:', test_loss)\n",
    "print('Test Recall:', test_recall)\n",
    "\n",
    "y_pred = model6.predict(X_test_scaled_encoded)\n",
    "y_pred = np.round(y_pred).astype(int)\n",
    "\n",
    "cm = confusion_matrix(y_test, y_pred)\n",
    "add_to_master(\"1 hidden, 32 nodes, adam\", y_test, y_pred)\n",
    "cm"
   ]
  },
  {
   "cell_type": "code",
   "execution_count": 34,
   "id": "77fd69c4",
   "metadata": {
    "scrolled": true
   },
   "outputs": [
    {
     "name": "stdout",
     "output_type": "stream",
     "text": [
      "Epoch 1/10\n",
      "124/124 [==============================] - 1s 1ms/step - loss: 0.6071 - accuracy: 0.6789 - recall: 0.1628\n",
      "Epoch 2/10\n",
      "124/124 [==============================] - 0s 1ms/step - loss: 0.5875 - accuracy: 0.6968 - recall: 0.2061\n",
      "Epoch 3/10\n",
      "124/124 [==============================] - 0s 1ms/step - loss: 0.5797 - accuracy: 0.7009 - recall: 0.2277\n",
      "Epoch 4/10\n",
      "124/124 [==============================] - 0s 1ms/step - loss: 0.5774 - accuracy: 0.7024 - recall: 0.2050\n",
      "Epoch 5/10\n",
      "124/124 [==============================] - 0s 1ms/step - loss: 0.5694 - accuracy: 0.7107 - recall: 0.2498\n",
      "Epoch 6/10\n",
      "124/124 [==============================] - 0s 1ms/step - loss: 0.5701 - accuracy: 0.7097 - recall: 0.2538\n",
      "Epoch 7/10\n",
      "124/124 [==============================] - 0s 1ms/step - loss: 0.5666 - accuracy: 0.7077 - recall: 0.2770\n",
      "Epoch 8/10\n",
      "124/124 [==============================] - 0s 1ms/step - loss: 0.5614 - accuracy: 0.7132 - recall: 0.2713\n",
      "Epoch 9/10\n",
      "124/124 [==============================] - 0s 1ms/step - loss: 0.5555 - accuracy: 0.7165 - recall: 0.2475\n",
      "Epoch 10/10\n",
      "124/124 [==============================] - 0s 1ms/step - loss: 0.5519 - accuracy: 0.7168 - recall: 0.2918\n",
      "54/54 [==============================] - 0s 866us/step - loss: 0.6012 - accuracy: 0.6712 - recall: 0.2568\n",
      "Test Accuracy: 0.6711764931678772\n",
      "Test Loss: 0.6011722087860107\n",
      "Test Recall: 0.25684380531311035\n",
      "54/54 [==============================] - 0s 677us/step\n"
     ]
    },
    {
     "name": "stderr",
     "output_type": "stream",
     "text": [
      "C:\\Users\\gwent\\AppData\\Local\\Temp\\ipykernel_3948\\1005917253.py:23: FutureWarning: The frame.append method is deprecated and will be removed from pandas in a future version. Use pandas.concat instead.\n",
      "  master_scores = master_scores.append(new_row, ignore_index=True)\n"
     ]
    },
    {
     "data": {
      "text/plain": [
       "array([[997, 162],\n",
       "       [397, 144]], dtype=int64)"
      ]
     },
     "execution_count": 34,
     "metadata": {},
     "output_type": "execute_result"
    }
   ],
   "source": [
    "model7 = create_mlp(250, 'adam', X_train_scaled_encoded)\n",
    "model7.fit(X_train_scaled_encoded, y_train, epochs=10, batch_size=32)\n",
    "\n",
    "test_loss, test_acc, test_recall = model7.evaluate(X_test_scaled_encoded, y_test)\n",
    "print('Test Accuracy:', test_acc)\n",
    "print('Test Loss:', test_loss)\n",
    "print('Test Recall:', test_recall)\n",
    "\n",
    "y_pred = model7.predict(X_test_scaled_encoded)\n",
    "y_pred = np.round(y_pred).astype(int)\n",
    "\n",
    "cm = confusion_matrix(y_test, y_pred)\n",
    "add_to_master(\"1 hidden, 250 nodes, adam\", y_test, y_pred)\n",
    "cm"
   ]
  },
  {
   "cell_type": "code",
   "execution_count": 35,
   "id": "4ac07e60",
   "metadata": {
    "scrolled": true
   },
   "outputs": [
    {
     "name": "stdout",
     "output_type": "stream",
     "text": [
      "Epoch 1/10\n",
      "124/124 [==============================] - 1s 1ms/step - loss: 0.6065 - accuracy: 0.6850 - recall: 0.1711\n",
      "Epoch 2/10\n",
      "124/124 [==============================] - 0s 1ms/step - loss: 0.5889 - accuracy: 0.6936 - recall: 0.2128\n",
      "Epoch 3/10\n",
      "124/124 [==============================] - 0s 1ms/step - loss: 0.5795 - accuracy: 0.7001 - recall: 0.2271\n",
      "Epoch 4/10\n",
      "124/124 [==============================] - 0s 1ms/step - loss: 0.5781 - accuracy: 0.7009 - recall: 0.2066\n",
      "Epoch 5/10\n",
      "124/124 [==============================] - 0s 1ms/step - loss: 0.5690 - accuracy: 0.7069 - recall: 0.2406\n",
      "Epoch 6/10\n",
      "124/124 [==============================] - 0s 1ms/step - loss: 0.5712 - accuracy: 0.7082 - recall: 0.2536\n",
      "Epoch 7/10\n",
      "124/124 [==============================] - 0s 1ms/step - loss: 0.5682 - accuracy: 0.7084 - recall: 0.2710\n",
      "Epoch 8/10\n",
      "124/124 [==============================] - 0s 1ms/step - loss: 0.5614 - accuracy: 0.7137 - recall: 0.2711\n",
      "Epoch 9/10\n",
      "124/124 [==============================] - 0s 1ms/step - loss: 0.5561 - accuracy: 0.7132 - recall: 0.2468\n",
      "Epoch 10/10\n",
      "124/124 [==============================] - 0s 1ms/step - loss: 0.5529 - accuracy: 0.7201 - recall: 0.2896\n",
      "54/54 [==============================] - 0s 866us/step - loss: 0.5996 - accuracy: 0.6747 - recall: 0.2639\n",
      "Test Accuracy: 0.6747058629989624\n",
      "Test Loss: 0.5995722413063049\n",
      "Test Recall: 0.2639347314834595\n",
      "54/54 [==============================] - 0s 696us/step\n"
     ]
    },
    {
     "name": "stderr",
     "output_type": "stream",
     "text": [
      "C:\\Users\\gwent\\AppData\\Local\\Temp\\ipykernel_3948\\1005917253.py:23: FutureWarning: The frame.append method is deprecated and will be removed from pandas in a future version. Use pandas.concat instead.\n",
      "  master_scores = master_scores.append(new_row, ignore_index=True)\n"
     ]
    },
    {
     "data": {
      "text/plain": [
       "array([[998, 161],\n",
       "       [392, 149]], dtype=int64)"
      ]
     },
     "execution_count": 35,
     "metadata": {},
     "output_type": "execute_result"
    }
   ],
   "source": [
    "# definitely overfits\n",
    "model8 = create_mlp(300, 'adam', X_train_scaled_encoded)\n",
    "model8.fit(X_train_scaled_encoded, y_train, epochs=10, batch_size=32)\n",
    "\n",
    "test_loss, test_acc, test_recall = model8.evaluate(X_test_scaled_encoded, y_test)\n",
    "print('Test Accuracy:', test_acc)\n",
    "print('Test Loss:', test_loss)\n",
    "print('Test Recall:', test_recall)\n",
    "\n",
    "y_pred = model8.predict(X_test_scaled_encoded)\n",
    "y_pred = np.round(y_pred).astype(int)\n",
    "\n",
    "cm = confusion_matrix(y_test, y_pred)\n",
    "add_to_master(\"1 hidden, 300 nodes, adam\", y_test, y_pred)\n",
    "cm"
   ]
  },
  {
   "cell_type": "code",
   "execution_count": 36,
   "id": "08550f15",
   "metadata": {
    "scrolled": true
   },
   "outputs": [
    {
     "data": {
      "text/html": [
       "<div>\n",
       "<style scoped>\n",
       "    .dataframe tbody tr th:only-of-type {\n",
       "        vertical-align: middle;\n",
       "    }\n",
       "\n",
       "    .dataframe tbody tr th {\n",
       "        vertical-align: top;\n",
       "    }\n",
       "\n",
       "    .dataframe thead th {\n",
       "        text-align: right;\n",
       "    }\n",
       "</style>\n",
       "<table border=\"1\" class=\"dataframe\">\n",
       "  <thead>\n",
       "    <tr style=\"text-align: right;\">\n",
       "      <th></th>\n",
       "      <th>Model</th>\n",
       "      <th>Recall</th>\n",
       "      <th>F1</th>\n",
       "      <th>Precision</th>\n",
       "      <th>Accuracy</th>\n",
       "    </tr>\n",
       "  </thead>\n",
       "  <tbody>\n",
       "    <tr>\n",
       "      <th>2</th>\n",
       "      <td>1 hidden, 64 nodes per, adam, scaled</td>\n",
       "      <td>0.283</td>\n",
       "      <td>0.359</td>\n",
       "      <td>0.492</td>\n",
       "      <td>0.679</td>\n",
       "    </tr>\n",
       "    <tr>\n",
       "      <th>4</th>\n",
       "      <td>1 hidden, 100 nodes, adam</td>\n",
       "      <td>0.279</td>\n",
       "      <td>0.347</td>\n",
       "      <td>0.459</td>\n",
       "      <td>0.666</td>\n",
       "    </tr>\n",
       "    <tr>\n",
       "      <th>7</th>\n",
       "      <td>1 hidden, 300 nodes, adam</td>\n",
       "      <td>0.275</td>\n",
       "      <td>0.350</td>\n",
       "      <td>0.481</td>\n",
       "      <td>0.675</td>\n",
       "    </tr>\n",
       "    <tr>\n",
       "      <th>6</th>\n",
       "      <td>1 hidden, 250 nodes, adam</td>\n",
       "      <td>0.266</td>\n",
       "      <td>0.340</td>\n",
       "      <td>0.471</td>\n",
       "      <td>0.671</td>\n",
       "    </tr>\n",
       "    <tr>\n",
       "      <th>0</th>\n",
       "      <td>1 hidden, 64 nodes per, adam</td>\n",
       "      <td>0.261</td>\n",
       "      <td>0.339</td>\n",
       "      <td>0.485</td>\n",
       "      <td>0.676</td>\n",
       "    </tr>\n",
       "    <tr>\n",
       "      <th>5</th>\n",
       "      <td>1 hidden, 32 nodes, adam</td>\n",
       "      <td>0.220</td>\n",
       "      <td>0.302</td>\n",
       "      <td>0.484</td>\n",
       "      <td>0.677</td>\n",
       "    </tr>\n",
       "    <tr>\n",
       "      <th>1</th>\n",
       "      <td>1 hidden, 64 nodes per, adagrad</td>\n",
       "      <td>0.161</td>\n",
       "      <td>0.246</td>\n",
       "      <td>0.524</td>\n",
       "      <td>0.686</td>\n",
       "    </tr>\n",
       "    <tr>\n",
       "      <th>3</th>\n",
       "      <td>1 hidden, 64 nodes per, adagrad, scaled</td>\n",
       "      <td>0.159</td>\n",
       "      <td>0.239</td>\n",
       "      <td>0.480</td>\n",
       "      <td>0.678</td>\n",
       "    </tr>\n",
       "  </tbody>\n",
       "</table>\n",
       "</div>"
      ],
      "text/plain": [
       "                                     Model  Recall     F1  Precision  Accuracy\n",
       "2     1 hidden, 64 nodes per, adam, scaled   0.283  0.359      0.492     0.679\n",
       "4                1 hidden, 100 nodes, adam   0.279  0.347      0.459     0.666\n",
       "7                1 hidden, 300 nodes, adam   0.275  0.350      0.481     0.675\n",
       "6                1 hidden, 250 nodes, adam   0.266  0.340      0.471     0.671\n",
       "0             1 hidden, 64 nodes per, adam   0.261  0.339      0.485     0.676\n",
       "5                 1 hidden, 32 nodes, adam   0.220  0.302      0.484     0.677\n",
       "1          1 hidden, 64 nodes per, adagrad   0.161  0.246      0.524     0.686\n",
       "3  1 hidden, 64 nodes per, adagrad, scaled   0.159  0.239      0.480     0.678"
      ]
     },
     "execution_count": 36,
     "metadata": {},
     "output_type": "execute_result"
    }
   ],
   "source": [
    "master_scores.sort_values('Recall', ascending=False)"
   ]
  },
  {
   "cell_type": "markdown",
   "id": "1d127250",
   "metadata": {},
   "source": [
    "## <a id='3.5resample'></a> 3.5 Resampling"
   ]
  },
  {
   "cell_type": "markdown",
   "id": "7feac994",
   "metadata": {},
   "source": [
    "Okay so we are pretty similar in performance to the logistic regression models from cat-pstone 1 on every metric except recall (and the part it plays in F1, of course). Let's see if over or undersampling with the top performing model architecture (model1). "
   ]
  },
  {
   "cell_type": "code",
   "execution_count": 37,
   "id": "07a5b843",
   "metadata": {},
   "outputs": [],
   "source": [
    "# in my experience these guys do better than something like SMOTE \n",
    "from imblearn.under_sampling import RandomUnderSampler\n",
    "from imblearn.over_sampling import RandomOverSampler"
   ]
  },
  {
   "cell_type": "code",
   "execution_count": 38,
   "id": "5b5044ae",
   "metadata": {},
   "outputs": [
    {
     "data": {
      "text/plain": [
       "(3965, 25)"
      ]
     },
     "execution_count": 38,
     "metadata": {},
     "output_type": "execute_result"
    }
   ],
   "source": [
    "X_train_scaled_encoded.shape"
   ]
  },
  {
   "cell_type": "code",
   "execution_count": 39,
   "id": "a3c4ea8e",
   "metadata": {},
   "outputs": [],
   "source": [
    "rus = RandomUnderSampler()\n",
    "X_resampled_rus, y_resampled_rus = rus.fit_resample(X_train_scaled_encoded, y_train)\n",
    "\n",
    "ros = RandomOverSampler()\n",
    "X_resampled_ros, y_resampled_ros = ros.fit_resample(X_train_scaled_encoded, y_train)"
   ]
  },
  {
   "cell_type": "code",
   "execution_count": 40,
   "id": "a2d287c6",
   "metadata": {},
   "outputs": [
    {
     "name": "stdout",
     "output_type": "stream",
     "text": [
      "Epoch 1/10\n",
      "79/79 [==============================] - 0s 895us/step - loss: 0.6790 - accuracy: 0.5721 - recall: 0.5945\n",
      "Epoch 2/10\n",
      "79/79 [==============================] - 0s 895us/step - loss: 0.6530 - accuracy: 0.6181 - recall: 0.6264\n",
      "Epoch 3/10\n",
      "79/79 [==============================] - 0s 895us/step - loss: 0.6446 - accuracy: 0.6236 - recall: 0.6434\n",
      "Epoch 4/10\n",
      "79/79 [==============================] - 0s 895us/step - loss: 0.6390 - accuracy: 0.6311 - recall: 0.6307\n",
      "Epoch 5/10\n",
      "79/79 [==============================] - 0s 895us/step - loss: 0.6353 - accuracy: 0.6442 - recall: 0.6366\n",
      "Epoch 6/10\n",
      "79/79 [==============================] - 0s 908us/step - loss: 0.6307 - accuracy: 0.6403 - recall: 0.6530\n",
      "Epoch 7/10\n",
      "79/79 [==============================] - 0s 959us/step - loss: 0.6253 - accuracy: 0.6510 - recall: 0.6420\n",
      "Epoch 8/10\n",
      "79/79 [==============================] - 0s 946us/step - loss: 0.6215 - accuracy: 0.6613 - recall: 0.6719\n",
      "Epoch 9/10\n",
      "79/79 [==============================] - 0s 921us/step - loss: 0.6209 - accuracy: 0.6565 - recall: 0.6555\n",
      "Epoch 10/10\n",
      "79/79 [==============================] - 0s 895us/step - loss: 0.6175 - accuracy: 0.6601 - recall: 0.6716\n",
      "54/54 [==============================] - 0s 621us/step\n"
     ]
    },
    {
     "name": "stderr",
     "output_type": "stream",
     "text": [
      "C:\\Users\\gwent\\AppData\\Local\\Temp\\ipykernel_3948\\1005917253.py:23: FutureWarning: The frame.append method is deprecated and will be removed from pandas in a future version. Use pandas.concat instead.\n",
      "  master_scores = master_scores.append(new_row, ignore_index=True)\n"
     ]
    },
    {
     "data": {
      "text/plain": [
       "Text(0.5, 1.0, 'Tuned MLP')"
      ]
     },
     "execution_count": 40,
     "metadata": {},
     "output_type": "execute_result"
    },
    {
     "data": {
      "image/png": "[encoded data removed]",
      "text/plain": [
       "<Figure size 640x480 with 1 Axes>"
      ]
     },
     "metadata": {},
     "output_type": "display_data"
    }
   ],
   "source": [
    "# RUS \n",
    "model9 = create_mlp(64, 'adam', X_train_scaled_encoded)\n",
    "model9.fit(X_resampled_rus, y_resampled_rus, epochs=10, batch_size=32)\n",
    "\n",
    "y_pred = model9.predict(X_test_scaled_encoded)\n",
    "y_pred = np.round(y_pred).astype(int)\n",
    "\n",
    "cm = confusion_matrix(y_test, y_pred)\n",
    "add_to_master(\"RUS 1 hidden, 64 nodes, adam\", y_test, y_pred)\n",
    "disp = ConfusionMatrixDisplay(confusion_matrix=cm, display_labels=['Non-suckers', 'Suckers'])\n",
    "disp.plot(colorbar=False, cmap='PuBu')\n",
    "plt.title('Tuned MLP')"
   ]
  },
  {
   "cell_type": "code",
   "execution_count": 41,
   "id": "bf60768f",
   "metadata": {},
   "outputs": [
    {
     "name": "stdout",
     "output_type": "stream",
     "text": [
      "Epoch 1/10\n",
      "169/169 [==============================] - 0s 885us/step - loss: 0.6613 - accuracy: 0.6106 - recall: 0.5759\n",
      "Epoch 2/10\n",
      "169/169 [==============================] - 0s 891us/step - loss: 0.6427 - accuracy: 0.6328 - recall: 0.6085\n",
      "Epoch 3/10\n",
      "169/169 [==============================] - 0s 902us/step - loss: 0.6360 - accuracy: 0.6450 - recall: 0.6392\n",
      "Epoch 4/10\n",
      "169/169 [==============================] - 0s 902us/step - loss: 0.6299 - accuracy: 0.6495 - recall: 0.6388\n",
      "Epoch 5/10\n",
      "169/169 [==============================] - 0s 891us/step - loss: 0.6213 - accuracy: 0.6607 - recall: 0.6497\n",
      "Epoch 6/10\n",
      "169/169 [==============================] - 0s 885us/step - loss: 0.6178 - accuracy: 0.6661 - recall: 0.6772\n",
      "Epoch 7/10\n",
      "169/169 [==============================] - 0s 885us/step - loss: 0.6140 - accuracy: 0.6613 - recall: 0.6622\n",
      "Epoch 8/10\n",
      "169/169 [==============================] - 0s 896us/step - loss: 0.6105 - accuracy: 0.6630 - recall: 0.6506\n",
      "Epoch 9/10\n",
      "169/169 [==============================] - 0s 873us/step - loss: 0.6055 - accuracy: 0.6667 - recall: 0.6708\n",
      "Epoch 10/10\n",
      "169/169 [==============================] - 0s 879us/step - loss: 0.6012 - accuracy: 0.6718 - recall: 0.6797\n",
      "54/54 [==============================] - 0s 583us/step\n"
     ]
    },
    {
     "name": "stderr",
     "output_type": "stream",
     "text": [
      "C:\\Users\\gwent\\AppData\\Local\\Temp\\ipykernel_3948\\1005917253.py:23: FutureWarning: The frame.append method is deprecated and will be removed from pandas in a future version. Use pandas.concat instead.\n",
      "  master_scores = master_scores.append(new_row, ignore_index=True)\n"
     ]
    },
    {
     "data": {
      "text/plain": [
       "array([[831, 328],\n",
       "       [284, 257]], dtype=int64)"
      ]
     },
     "execution_count": 41,
     "metadata": {},
     "output_type": "execute_result"
    }
   ],
   "source": [
    "# ROS \n",
    "model10 = create_mlp(64, 'adam', X_train_scaled_encoded)\n",
    "model10.fit(X_resampled_ros, y_resampled_ros, epochs=10, batch_size=32)\n",
    "\n",
    "y_pred = model10.predict(X_test_scaled_encoded)\n",
    "y_pred = np.round(y_pred).astype(int)\n",
    "\n",
    "cm = confusion_matrix(y_test, y_pred)\n",
    "add_to_master(\"ROS 1 hidden, 64 nodes, adam\", y_test, y_pred)\n",
    "cm"
   ]
  },
  {
   "cell_type": "code",
   "execution_count": 42,
   "id": "ee074722",
   "metadata": {},
   "outputs": [
    {
     "name": "stdout",
     "output_type": "stream",
     "text": [
      "Epoch 1/10\n",
      "101/101 [==============================] - 0s 858us/step - loss: 0.6822 - accuracy: 0.5681 - recall: 0.6165\n",
      "Epoch 2/10\n",
      "101/101 [==============================] - 0s 868us/step - loss: 0.6503 - accuracy: 0.6268 - recall: 0.6296\n",
      "Epoch 3/10\n",
      "101/101 [==============================] - 0s 898us/step - loss: 0.6431 - accuracy: 0.6284 - recall: 0.6488\n",
      "Epoch 4/10\n",
      "101/101 [==============================] - 0s 878us/step - loss: 0.6372 - accuracy: 0.6351 - recall: 0.6319\n",
      "Epoch 5/10\n",
      "101/101 [==============================] - 0s 888us/step - loss: 0.6338 - accuracy: 0.6446 - recall: 0.6368\n",
      "Epoch 6/10\n",
      "101/101 [==============================] - 0s 878us/step - loss: 0.6280 - accuracy: 0.6525 - recall: 0.6666\n",
      "Epoch 7/10\n",
      "101/101 [==============================] - 0s 868us/step - loss: 0.6252 - accuracy: 0.6498 - recall: 0.6498\n",
      "Epoch 8/10\n",
      "101/101 [==============================] - 0s 858us/step - loss: 0.6214 - accuracy: 0.6640 - recall: 0.6766\n",
      "Epoch 9/10\n",
      "101/101 [==============================] - 0s 888us/step - loss: 0.6204 - accuracy: 0.6656 - recall: 0.6667\n",
      "Epoch 10/10\n",
      "101/101 [==============================] - 0s 868us/step - loss: 0.6170 - accuracy: 0.6609 - recall: 0.6664\n",
      "54/54 [==============================] - 0s 583us/step\n"
     ]
    },
    {
     "name": "stderr",
     "output_type": "stream",
     "text": [
      "C:\\Users\\gwent\\AppData\\Local\\Temp\\ipykernel_3948\\1005917253.py:23: FutureWarning: The frame.append method is deprecated and will be removed from pandas in a future version. Use pandas.concat instead.\n",
      "  master_scores = master_scores.append(new_row, ignore_index=True)\n"
     ]
    },
    {
     "data": {
      "text/plain": [
       "array([[736, 423],\n",
       "       [238, 303]], dtype=int64)"
      ]
     },
     "execution_count": 42,
     "metadata": {},
     "output_type": "execute_result"
    }
   ],
   "source": [
    "# RUS \n",
    "model11 = create_mlp(64, 'adam', X_train_scaled_encoded)\n",
    "model11.fit(X_resampled_rus, y_resampled_rus, epochs=10, batch_size=25)\n",
    "\n",
    "y_pred = model11.predict(X_test_scaled_encoded)\n",
    "y_pred = np.round(y_pred).astype(int)\n",
    "\n",
    "cm = confusion_matrix(y_test, y_pred)\n",
    "add_to_master(\"RUS, adam, batch 25\", y_test, y_pred)\n",
    "cm"
   ]
  },
  {
   "cell_type": "code",
   "execution_count": 43,
   "id": "98559e77",
   "metadata": {},
   "outputs": [
    {
     "data": {
      "text/plain": [
       "(3965, 1)"
      ]
     },
     "execution_count": 43,
     "metadata": {},
     "output_type": "execute_result"
    }
   ],
   "source": [
    "y_train.shape"
   ]
  },
  {
   "cell_type": "markdown",
   "id": "cea69c26",
   "metadata": {},
   "source": [
    "## <a id='3.6dropgroom'></a> 3.6 out of curiosity, does MLP still perform well with grooming dropped?\n",
    "I only bring this up because a little birdy told me the kennels are short-staffed and recording # of hairball incidents adds to much time to the rounds. "
   ]
  },
  {
   "cell_type": "code",
   "execution_count": 44,
   "id": "90852399",
   "metadata": {},
   "outputs": [
    {
     "name": "stdout",
     "output_type": "stream",
     "text": [
      "(3965, 6)\n",
      "(1700, 6)\n",
      "(3965, 24)\n",
      "(1700, 24)\n",
      "(3965, 25)\n",
      "(1700, 25)\n"
     ]
    }
   ],
   "source": [
    "X_train_no_groom = X_train.drop(columns=['Grooming'])\n",
    "X_test_no_groom = X_test.drop(columns=['Grooming'])\n",
    "\n",
    "print(X_train_no_groom.shape)\n",
    "print(X_test_no_groom.shape)\n",
    "\n",
    "# one-hot breed \n",
    "X_train_encoded_no_groom = pd.get_dummies(X_train_no_groom, columns=['Breed_group'])\n",
    "X_test_encoded_no_groom = pd.get_dummies(X_test_no_groom, columns=['Breed_group'])\n",
    "\n",
    "print(X_train_encoded_no_groom.shape)\n",
    "print(X_test_encoded_no_groom.shape)\n",
    "\n",
    "scaler = StandardScaler()\n",
    "scaler.fit(X_train_encoded)\n",
    "X_train_scaled_encoded_ng = scaler.transform(X_train_encoded)\n",
    "X_test_scaled_encoded_ng = scaler.transform(X_test_encoded)\n",
    "\n",
    "print(X_train_scaled_encoded_ng.shape)\n",
    "print(X_test_scaled_encoded_ng.shape)\n",
    "\n",
    "rus = RandomUnderSampler()\n",
    "X_resampled_rus_ng, y_resampled_rus_ng = rus.fit_resample(X_train_scaled_encoded, y_train)"
   ]
  },
  {
   "cell_type": "code",
   "execution_count": 45,
   "id": "582504c0",
   "metadata": {},
   "outputs": [
    {
     "name": "stdout",
     "output_type": "stream",
     "text": [
      "(3965, 25)\n",
      "(2524, 25)\n",
      "(3965, 25)\n"
     ]
    }
   ],
   "source": [
    "print(X_train_scaled_encoded_ng.shape)\n",
    "print(X_resampled_rus_ng.shape)\n",
    "print(X_train_scaled_encoded.shape)"
   ]
  },
  {
   "cell_type": "code",
   "execution_count": 46,
   "id": "1cff7735",
   "metadata": {},
   "outputs": [
    {
     "name": "stdout",
     "output_type": "stream",
     "text": [
      "Epoch 1/10\n",
      "79/79 [==============================] - 0s 844us/step - loss: 0.6720 - accuracy: 0.5947 - recall: 0.6089\n",
      "Epoch 2/10\n",
      "79/79 [==============================] - 0s 870us/step - loss: 0.6530 - accuracy: 0.6173 - recall: 0.6350\n",
      "Epoch 3/10\n",
      "79/79 [==============================] - 0s 882us/step - loss: 0.6471 - accuracy: 0.6288 - recall: 0.6417\n",
      "Epoch 4/10\n",
      "79/79 [==============================] - 0s 882us/step - loss: 0.6437 - accuracy: 0.6240 - recall: 0.6287\n",
      "Epoch 5/10\n",
      "79/79 [==============================] - 0s 895us/step - loss: 0.6409 - accuracy: 0.6406 - recall: 0.6423\n",
      "Epoch 6/10\n",
      "79/79 [==============================] - 0s 870us/step - loss: 0.6370 - accuracy: 0.6331 - recall: 0.6611\n",
      "Epoch 7/10\n",
      "79/79 [==============================] - 0s 870us/step - loss: 0.6339 - accuracy: 0.6426 - recall: 0.6334\n",
      "Epoch 8/10\n",
      "79/79 [==============================] - 0s 895us/step - loss: 0.6298 - accuracy: 0.6414 - recall: 0.6446\n",
      "Epoch 9/10\n",
      "79/79 [==============================] - 0s 895us/step - loss: 0.6302 - accuracy: 0.6430 - recall: 0.6314\n",
      "Epoch 10/10\n",
      "79/79 [==============================] - 0s 908us/step - loss: 0.6251 - accuracy: 0.6482 - recall: 0.6657\n",
      "54/54 [==============================] - 0s 583us/step\n"
     ]
    },
    {
     "name": "stderr",
     "output_type": "stream",
     "text": [
      "C:\\Users\\gwent\\AppData\\Local\\Temp\\ipykernel_3948\\1005917253.py:23: FutureWarning: The frame.append method is deprecated and will be removed from pandas in a future version. Use pandas.concat instead.\n",
      "  master_scores = master_scores.append(new_row, ignore_index=True)\n"
     ]
    },
    {
     "data": {
      "text/plain": [
       "Text(0.5, 1.0, 'MLP, No Grooming')"
      ]
     },
     "execution_count": 46,
     "metadata": {},
     "output_type": "execute_result"
    },
    {
     "data": {
      "image/png": "[encoded data removed]",
      "text/plain": [
       "<Figure size 640x480 with 1 Axes>"
      ]
     },
     "metadata": {},
     "output_type": "display_data"
    }
   ],
   "source": [
    "# RUS 64 adam scaled no grooming\n",
    "model11 = create_mlp(64, 'adam', X_resampled_rus_ng)\n",
    "model11.fit(X_resampled_rus_ng, y_resampled_rus_ng, epochs=10, batch_size=32)\n",
    "\n",
    "y_pred = model11.predict(X_test_scaled_encoded_ng)\n",
    "y_pred = np.round(y_pred).astype(int)\n",
    "\n",
    "cm = confusion_matrix(y_test, y_pred)\n",
    "add_to_master(\"no groom, RUS, 64, adam\", y_test, y_pred)\n",
    "\n",
    "disp = ConfusionMatrixDisplay(confusion_matrix=cm, display_labels=['Non-suckers', 'Suckers'])\n",
    "disp.plot(colorbar=False, cmap='PuBu')\n",
    "plt.title('MLP, No Grooming')"
   ]
  },
  {
   "cell_type": "code",
   "execution_count": 47,
   "id": "3b86763e",
   "metadata": {},
   "outputs": [
    {
     "data": {
      "text/html": [
       "<div>\n",
       "<style scoped>\n",
       "    .dataframe tbody tr th:only-of-type {\n",
       "        vertical-align: middle;\n",
       "    }\n",
       "\n",
       "    .dataframe tbody tr th {\n",
       "        vertical-align: top;\n",
       "    }\n",
       "\n",
       "    .dataframe thead th {\n",
       "        text-align: right;\n",
       "    }\n",
       "</style>\n",
       "<table border=\"1\" class=\"dataframe\">\n",
       "  <thead>\n",
       "    <tr style=\"text-align: right;\">\n",
       "      <th></th>\n",
       "      <th>Model</th>\n",
       "      <th>Recall</th>\n",
       "      <th>F1</th>\n",
       "      <th>Precision</th>\n",
       "      <th>Accuracy</th>\n",
       "    </tr>\n",
       "  </thead>\n",
       "  <tbody>\n",
       "    <tr>\n",
       "      <th>8</th>\n",
       "      <td>RUS 1 hidden, 64 nodes, adam</td>\n",
       "      <td>0.590</td>\n",
       "      <td>0.496</td>\n",
       "      <td>0.429</td>\n",
       "      <td>0.619</td>\n",
       "    </tr>\n",
       "    <tr>\n",
       "      <th>11</th>\n",
       "      <td>no groom, RUS, 64, adam</td>\n",
       "      <td>0.584</td>\n",
       "      <td>0.504</td>\n",
       "      <td>0.443</td>\n",
       "      <td>0.634</td>\n",
       "    </tr>\n",
       "    <tr>\n",
       "      <th>10</th>\n",
       "      <td>RUS, adam, batch 25</td>\n",
       "      <td>0.560</td>\n",
       "      <td>0.478</td>\n",
       "      <td>0.417</td>\n",
       "      <td>0.611</td>\n",
       "    </tr>\n",
       "    <tr>\n",
       "      <th>9</th>\n",
       "      <td>ROS 1 hidden, 64 nodes, adam</td>\n",
       "      <td>0.475</td>\n",
       "      <td>0.456</td>\n",
       "      <td>0.439</td>\n",
       "      <td>0.640</td>\n",
       "    </tr>\n",
       "    <tr>\n",
       "      <th>2</th>\n",
       "      <td>1 hidden, 64 nodes per, adam, scaled</td>\n",
       "      <td>0.283</td>\n",
       "      <td>0.359</td>\n",
       "      <td>0.492</td>\n",
       "      <td>0.679</td>\n",
       "    </tr>\n",
       "  </tbody>\n",
       "</table>\n",
       "</div>"
      ],
      "text/plain": [
       "                                   Model  Recall     F1  Precision  Accuracy\n",
       "8           RUS 1 hidden, 64 nodes, adam   0.590  0.496      0.429     0.619\n",
       "11               no groom, RUS, 64, adam   0.584  0.504      0.443     0.634\n",
       "10                   RUS, adam, batch 25   0.560  0.478      0.417     0.611\n",
       "9           ROS 1 hidden, 64 nodes, adam   0.475  0.456      0.439     0.640\n",
       "2   1 hidden, 64 nodes per, adam, scaled   0.283  0.359      0.492     0.679"
      ]
     },
     "execution_count": 47,
     "metadata": {},
     "output_type": "execute_result"
    }
   ],
   "source": [
    "master_scores.sort_values('Recall', ascending=False).head()"
   ]
  },
  {
   "cell_type": "markdown",
   "id": "3293f445",
   "metadata": {},
   "source": [
    "# <a id='4evaluation'></a> 4. Model evaluation "
   ]
  },
  {
   "cell_type": "markdown",
   "id": "9fc6135a",
   "metadata": {},
   "source": [
    "## <a id='4.1'></a> 4.1 Training and Prediction Time "
   ]
  },
  {
   "cell_type": "code",
   "execution_count": 48,
   "id": "4976187b",
   "metadata": {},
   "outputs": [
    {
     "name": "stdout",
     "output_type": "stream",
     "text": [
      "Epoch 1/10\n",
      "169/169 [==============================] - 0s 896us/step - loss: 0.5969 - accuracy: 0.6724 - recall: 0.6720\n",
      "Epoch 2/10\n",
      "169/169 [==============================] - 0s 891us/step - loss: 0.5929 - accuracy: 0.6787 - recall: 0.6871\n",
      "Epoch 3/10\n",
      "169/169 [==============================] - 0s 896us/step - loss: 0.5913 - accuracy: 0.6883 - recall: 0.7062\n",
      "Epoch 4/10\n",
      "169/169 [==============================] - 0s 902us/step - loss: 0.5880 - accuracy: 0.6848 - recall: 0.6884\n",
      "Epoch 5/10\n",
      "169/169 [==============================] - 0s 896us/step - loss: 0.5805 - accuracy: 0.6876 - recall: 0.6954\n",
      "Epoch 6/10\n",
      "169/169 [==============================] - 0s 902us/step - loss: 0.5800 - accuracy: 0.6935 - recall: 0.7110\n",
      "Epoch 7/10\n",
      "169/169 [==============================] - 0s 896us/step - loss: 0.5772 - accuracy: 0.6937 - recall: 0.7105\n",
      "Epoch 8/10\n",
      "169/169 [==============================] - 0s 896us/step - loss: 0.5748 - accuracy: 0.6968 - recall: 0.6940\n",
      "Epoch 9/10\n",
      "169/169 [==============================] - 0s 896us/step - loss: 0.5698 - accuracy: 0.6942 - recall: 0.7067\n",
      "Epoch 10/10\n",
      "169/169 [==============================] - 0s 896us/step - loss: 0.5654 - accuracy: 0.7029 - recall: 0.7200\n",
      "54/54 [==============================] - 0s 583us/step\n"
     ]
    }
   ],
   "source": [
    "import time\n",
    "# training time \n",
    "start = time.time()\n",
    "model10.fit(X_resampled_ros, y_resampled_ros, epochs=10, batch_size=32)\n",
    "end = time.time()\n",
    "training_time = end - start\n",
    "\n",
    "p_start = time.time()\n",
    "y_pred = model10.predict(X_test_encoded)\n",
    "p_end = time.time()\n",
    "predict_time = p_end - p_start"
   ]
  },
  {
   "cell_type": "markdown",
   "id": "0269bf91",
   "metadata": {},
   "source": [
    "## <a id='4.2'></a> 4.2 Comparing to a Logistic Regression\n",
    "In Cat-pstone 1 I had did not prune down the columns nearly as much. I want to see how it does with this new training set. "
   ]
  },
  {
   "cell_type": "code",
   "execution_count": 49,
   "id": "b35e1a01",
   "metadata": {},
   "outputs": [
    {
     "name": "stderr",
     "output_type": "stream",
     "text": [
      "C:\\Users\\gwent\\AppData\\Local\\Temp\\ipykernel_3948\\1005917253.py:23: FutureWarning: The frame.append method is deprecated and will be removed from pandas in a future version. Use pandas.concat instead.\n",
      "  master_scores = master_scores.append(new_row, ignore_index=True)\n"
     ]
    },
    {
     "data": {
      "text/plain": [
       "Text(0.5, 1.0, \"Logistic Regression, class_weight='balanced'\")"
      ]
     },
     "execution_count": 49,
     "metadata": {},
     "output_type": "execute_result"
    },
    {
     "data": {
      "image/png": "[encoded data removed]",
      "text/plain": [
       "<Figure size 640x480 with 1 Axes>"
      ]
     },
     "metadata": {},
     "output_type": "display_data"
    }
   ],
   "source": [
    "from sklearn.linear_model import LogisticRegression\n",
    "\n",
    "# fit model, + training time \n",
    "t_start = time.time()\n",
    "log_balanced = LogisticRegression(class_weight='balanced').fit(X_train_encoded, (y_train.values.reshape(-1)))\n",
    "t_end = time.time()\n",
    "log_training = t_end - t_start\n",
    "\n",
    "# predict w model, + prediction time \n",
    "p_start = time.time()\n",
    "y_pred = log_balanced.predict(X_test_encoded)\n",
    "p_end = time.time()\n",
    "log_predict = p_end - p_start \n",
    "\n",
    "# add_to_master(model_description, y_true, y_predicted, binary=True)\n",
    "add_to_master(\"class_weight='balanced', LogReg\", y_test, y_pred)\n",
    "\n",
    "cm = confusion_matrix(y_test, y_pred)\n",
    "disp = ConfusionMatrixDisplay(confusion_matrix=cm, display_labels=['Non-suckers', 'Suckers'])\n",
    "disp.plot(colorbar=False, cmap='PuBu')\n",
    "plt.title(\"Logistic Regression, class_weight='balanced'\")"
   ]
  },
  {
   "cell_type": "code",
   "execution_count": 50,
   "id": "ceb01be9",
   "metadata": {},
   "outputs": [
    {
     "name": "stderr",
     "output_type": "stream",
     "text": [
      "C:\\Users\\gwent\\AppData\\Local\\Temp\\ipykernel_3948\\1005917253.py:23: FutureWarning: The frame.append method is deprecated and will be removed from pandas in a future version. Use pandas.concat instead.\n",
      "  master_scores = master_scores.append(new_row, ignore_index=True)\n"
     ]
    }
   ],
   "source": [
    "# scaled and logistic regression\n",
    "log_balanced_scaled = LogisticRegression(class_weight='balanced').fit(X_train_scaled_encoded, (y_train.values.reshape(-1)))\n",
    "y_pred = log_balanced_scaled.predict(X_test_scaled_encoded)\n",
    "\n",
    "# add_to_master(model_description, y_true, y_predicted, binary=True)\n",
    "add_to_master(\"class_weight='balanced', LogReg, scaled\", y_test, y_pred);"
   ]
  },
  {
   "cell_type": "code",
   "execution_count": 51,
   "id": "938b851a",
   "metadata": {},
   "outputs": [
    {
     "name": "stdout",
     "output_type": "stream",
     "text": [
      "MLP training time: 1.5938448905944824 \n",
      "MLP predict time: 0.13165664672851562 \n",
      "Logistic Regression training time: 0.019948244094848633 \n",
      "Logistic Regression predict time: 0.0019948482513427734\n",
      "MLP is 79.9 times slower at training than logistic regression. \n",
      "MLP is 66.0 times slower at predicting than logistic regression.\n"
     ]
    }
   ],
   "source": [
    "print(f\"MLP training time: {training_time} \\nMLP predict time: {predict_time} \\nLogistic Regression training time: {log_training} \\nLogistic Regression predict time: {log_predict}\")\n",
    "train_ratio = round(training_time / log_training, 1)\n",
    "predict_ratio = round(predict_time / log_predict, 1)\n",
    "print(f\"MLP is {train_ratio} times slower at training than logistic regression. \\nMLP is {predict_ratio} times slower at predicting than logistic regression.\" )\n",
    "# AND I didn't even include the time spent doing a random undersampling for the MLP, which logistic reg didn't need "
   ]
  },
  {
   "cell_type": "markdown",
   "id": "8c0e9d42",
   "metadata": {},
   "source": [
    "### <a id='4.2.1'></a> 4.2.1 Logistic Regression No Grooming"
   ]
  },
  {
   "cell_type": "code",
   "execution_count": 52,
   "id": "aa2edf55",
   "metadata": {},
   "outputs": [
    {
     "name": "stderr",
     "output_type": "stream",
     "text": [
      "C:\\Users\\gwent\\anaconda3\\envs\\wool_sucking_nn\\lib\\site-packages\\sklearn\\utils\\validation.py:1143: DataConversionWarning: A column-vector y was passed when a 1d array was expected. Please change the shape of y to (n_samples, ), for example using ravel().\n",
      "  y = column_or_1d(y, warn=True)\n",
      "C:\\Users\\gwent\\AppData\\Local\\Temp\\ipykernel_3948\\1005917253.py:23: FutureWarning: The frame.append method is deprecated and will be removed from pandas in a future version. Use pandas.concat instead.\n",
      "  master_scores = master_scores.append(new_row, ignore_index=True)\n"
     ]
    },
    {
     "data": {
      "text/plain": [
       "Text(0.5, 1.0, 'Logistic Regression, No Grooming')"
      ]
     },
     "execution_count": 52,
     "metadata": {},
     "output_type": "execute_result"
    },
    {
     "data": {
      "image/png": "[encoded data removed]",
      "text/plain": [
       "<Figure size 640x480 with 1 Axes>"
      ]
     },
     "metadata": {},
     "output_type": "display_data"
    }
   ],
   "source": [
    "# no grooming logistic regression \n",
    "log_no_groom = LogisticRegression(class_weight='balanced').fit(X_train_scaled_encoded_ng, y_train)\n",
    "y_pred = log_no_groom.predict(X_test_scaled_encoded_ng)\n",
    "\n",
    "add_to_master('log reg no grooming', y_test, y_pred)\n",
    "\n",
    "cm = confusion_matrix(y_test, y_pred)\n",
    "disp = ConfusionMatrixDisplay(confusion_matrix=cm, display_labels=['Non-suckers', 'Suckers'])\n",
    "disp.plot(colorbar=False, cmap='PuBu')\n",
    "plt.title(\"Logistic Regression, No Grooming\")"
   ]
  },
  {
   "cell_type": "code",
   "execution_count": 53,
   "id": "4f6c10d0",
   "metadata": {},
   "outputs": [
    {
     "data": {
      "text/html": [
       "<div>\n",
       "<style scoped>\n",
       "    .dataframe tbody tr th:only-of-type {\n",
       "        vertical-align: middle;\n",
       "    }\n",
       "\n",
       "    .dataframe tbody tr th {\n",
       "        vertical-align: top;\n",
       "    }\n",
       "\n",
       "    .dataframe thead th {\n",
       "        text-align: right;\n",
       "    }\n",
       "</style>\n",
       "<table border=\"1\" class=\"dataframe\">\n",
       "  <thead>\n",
       "    <tr style=\"text-align: right;\">\n",
       "      <th></th>\n",
       "      <th>Model</th>\n",
       "      <th>Recall</th>\n",
       "      <th>F1</th>\n",
       "      <th>Precision</th>\n",
       "      <th>Accuracy</th>\n",
       "    </tr>\n",
       "  </thead>\n",
       "  <tbody>\n",
       "    <tr>\n",
       "      <th>13</th>\n",
       "      <td>class_weight='balanced', LogReg, scaled</td>\n",
       "      <td>0.593</td>\n",
       "      <td>0.504</td>\n",
       "      <td>0.437</td>\n",
       "      <td>0.628</td>\n",
       "    </tr>\n",
       "    <tr>\n",
       "      <th>14</th>\n",
       "      <td>log reg no grooming</td>\n",
       "      <td>0.593</td>\n",
       "      <td>0.504</td>\n",
       "      <td>0.437</td>\n",
       "      <td>0.628</td>\n",
       "    </tr>\n",
       "    <tr>\n",
       "      <th>8</th>\n",
       "      <td>RUS 1 hidden, 64 nodes, adam</td>\n",
       "      <td>0.590</td>\n",
       "      <td>0.496</td>\n",
       "      <td>0.429</td>\n",
       "      <td>0.619</td>\n",
       "    </tr>\n",
       "    <tr>\n",
       "      <th>12</th>\n",
       "      <td>class_weight='balanced', LogReg</td>\n",
       "      <td>0.588</td>\n",
       "      <td>0.502</td>\n",
       "      <td>0.438</td>\n",
       "      <td>0.629</td>\n",
       "    </tr>\n",
       "    <tr>\n",
       "      <th>11</th>\n",
       "      <td>no groom, RUS, 64, adam</td>\n",
       "      <td>0.584</td>\n",
       "      <td>0.504</td>\n",
       "      <td>0.443</td>\n",
       "      <td>0.634</td>\n",
       "    </tr>\n",
       "    <tr>\n",
       "      <th>10</th>\n",
       "      <td>RUS, adam, batch 25</td>\n",
       "      <td>0.560</td>\n",
       "      <td>0.478</td>\n",
       "      <td>0.417</td>\n",
       "      <td>0.611</td>\n",
       "    </tr>\n",
       "    <tr>\n",
       "      <th>9</th>\n",
       "      <td>ROS 1 hidden, 64 nodes, adam</td>\n",
       "      <td>0.475</td>\n",
       "      <td>0.456</td>\n",
       "      <td>0.439</td>\n",
       "      <td>0.640</td>\n",
       "    </tr>\n",
       "    <tr>\n",
       "      <th>2</th>\n",
       "      <td>1 hidden, 64 nodes per, adam, scaled</td>\n",
       "      <td>0.283</td>\n",
       "      <td>0.359</td>\n",
       "      <td>0.492</td>\n",
       "      <td>0.679</td>\n",
       "    </tr>\n",
       "    <tr>\n",
       "      <th>4</th>\n",
       "      <td>1 hidden, 100 nodes, adam</td>\n",
       "      <td>0.279</td>\n",
       "      <td>0.347</td>\n",
       "      <td>0.459</td>\n",
       "      <td>0.666</td>\n",
       "    </tr>\n",
       "    <tr>\n",
       "      <th>7</th>\n",
       "      <td>1 hidden, 300 nodes, adam</td>\n",
       "      <td>0.275</td>\n",
       "      <td>0.350</td>\n",
       "      <td>0.481</td>\n",
       "      <td>0.675</td>\n",
       "    </tr>\n",
       "  </tbody>\n",
       "</table>\n",
       "</div>"
      ],
      "text/plain": [
       "                                      Model  Recall     F1  Precision  \\\n",
       "13  class_weight='balanced', LogReg, scaled   0.593  0.504      0.437   \n",
       "14                      log reg no grooming   0.593  0.504      0.437   \n",
       "8              RUS 1 hidden, 64 nodes, adam   0.590  0.496      0.429   \n",
       "12          class_weight='balanced', LogReg   0.588  0.502      0.438   \n",
       "11                  no groom, RUS, 64, adam   0.584  0.504      0.443   \n",
       "10                      RUS, adam, batch 25   0.560  0.478      0.417   \n",
       "9              ROS 1 hidden, 64 nodes, adam   0.475  0.456      0.439   \n",
       "2      1 hidden, 64 nodes per, adam, scaled   0.283  0.359      0.492   \n",
       "4                 1 hidden, 100 nodes, adam   0.279  0.347      0.459   \n",
       "7                 1 hidden, 300 nodes, adam   0.275  0.350      0.481   \n",
       "\n",
       "    Accuracy  \n",
       "13     0.628  \n",
       "14     0.628  \n",
       "8      0.619  \n",
       "12     0.629  \n",
       "11     0.634  \n",
       "10     0.611  \n",
       "9      0.640  \n",
       "2      0.679  \n",
       "4      0.666  \n",
       "7      0.675  "
      ]
     },
     "execution_count": 53,
     "metadata": {},
     "output_type": "execute_result"
    }
   ],
   "source": [
    "# for reference, cat-pstone 1 model was 0.622, 0.519, 0.446, 0.635\n",
    "master_scores.sort_values('Recall', ascending=False).head(10)"
   ]
  },
  {
   "cell_type": "markdown",
   "id": "a3ccd183",
   "metadata": {},
   "source": [
    "## <a id='4.3'></a>4.3 Old data MLP "
   ]
  },
  {
   "cell_type": "code",
   "execution_count": 54,
   "id": "e3a4f3d7",
   "metadata": {},
   "outputs": [],
   "source": [
    "from sklearn.model_selection import train_test_split\n",
    "df = pd.read_csv('..\\Data\\cat_clean.csv')"
   ]
  },
  {
   "cell_type": "code",
   "execution_count": 55,
   "id": "5f5707c1",
   "metadata": {},
   "outputs": [],
   "source": [
    "# binarize wool-sucking\n",
    "df_bin = df.copy()\n",
    "df_bin['ws_binary'] = df_bin['Wool_sucking'].replace([1, 2, 3, 4, 5, 6, 7], [1, 1, 1, 1, 1, 1, 1])\n",
    "df_bin.drop(columns='Wool_sucking', inplace=True)\n",
    "\n",
    "# Recode Behaviour_problem to binary\n",
    "df_bin['Behaviour_problem'].replace([1, 2, 3], [0, 1, 1], inplace=True)\n",
    "\n",
    "# encode breed group\n",
    "df_bin_encoded = pd.get_dummies(df_bin, columns=['Breed_group'])"
   ]
  },
  {
   "cell_type": "code",
   "execution_count": 56,
   "id": "0c7272b7",
   "metadata": {},
   "outputs": [
    {
     "data": {
      "text/plain": [
       "Index(['Age', 'Gender', 'Neuter_status', 'Weaning_age', 'Outdoors',\n",
       "       'Other_cats', 'Activity_level', 'Contact_people', 'Aggression_cats',\n",
       "       'Grooming', 'Behaviour_problem', 'Breed_group_ABY', 'Breed_group_BEN',\n",
       "       'Breed_group_BRI', 'Breed_group_BUR', 'Breed_group_CRX',\n",
       "       'Breed_group_DRX', 'Breed_group_EUR', 'Breed_group_HCS',\n",
       "       'Breed_group_KOR', 'Breed_group_MCO', 'Breed_group_NFO',\n",
       "       'Breed_group_ORI', 'Breed_group_PER', 'Breed_group_RAG',\n",
       "       'Breed_group_RUS', 'Breed_group_SBI', 'Breed_group_SIB',\n",
       "       'Breed_group_TUV', 'Breed_group_other', 'agg_shy',\n",
       "       'agg_aggress_people'],\n",
       "      dtype='object')"
      ]
     },
     "execution_count": 56,
     "metadata": {},
     "output_type": "execute_result"
    }
   ],
   "source": [
    "X = df_bin_encoded.drop(columns=['ws_binary'])\n",
    "y = df_bin_encoded['ws_binary']\n",
    "X_train, X_test, y_train, y_test = train_test_split(X, y, test_size=0.3, random_state=42,stratify=y)\n",
    "\n",
    "# making agg columns for training set \n",
    "X_train['agg_shy'] = (X_train['Shyness_novel'] + X_train['Shyness_strangers']) / 2\n",
    "X_train['agg_aggress_people'] = (X_train['Aggression_owner'] + X_train['Aggression_stranger']) / 2 \n",
    "X_train.drop(columns=['Shyness_novel', 'Shyness_strangers', 'Aggression_stranger', 'Aggression_owner'], inplace=True)\n",
    "X_train.columns\n",
    "\n",
    "# making agg columns for testing set\n",
    "X_test['agg_shy'] = (X_test['Shyness_novel'] + X_test['Shyness_strangers']) / 2\n",
    "X_test['agg_aggress_people'] = (X_test['Aggression_owner'] + X_test['Aggression_stranger']) / 2\n",
    "X_test.drop(columns=['Shyness_novel', 'Shyness_strangers', 'Aggression_stranger', 'Aggression_owner'], inplace=True)\n",
    "X_test.columns"
   ]
  },
  {
   "cell_type": "code",
   "execution_count": 57,
   "id": "7dc3d2e9",
   "metadata": {},
   "outputs": [
    {
     "name": "stdout",
     "output_type": "stream",
     "text": [
      "Epoch 1/10\n",
      "79/79 [==============================] - 0s 857us/step - loss: 0.6725 - accuracy: 0.5823 - recall: 0.6261\n",
      "Epoch 2/10\n",
      "79/79 [==============================] - 0s 882us/step - loss: 0.6342 - accuracy: 0.6441 - recall: 0.6807\n",
      "Epoch 3/10\n",
      "79/79 [==============================] - 0s 882us/step - loss: 0.6201 - accuracy: 0.6576 - recall: 0.6550\n",
      "Epoch 4/10\n",
      "79/79 [==============================] - 0s 895us/step - loss: 0.6104 - accuracy: 0.6675 - recall: 0.6804\n",
      "Epoch 5/10\n",
      "79/79 [==============================] - 0s 882us/step - loss: 0.6011 - accuracy: 0.6778 - recall: 0.6882\n",
      "Epoch 6/10\n",
      "79/79 [==============================] - 0s 882us/step - loss: 0.5932 - accuracy: 0.6746 - recall: 0.6785\n",
      "Epoch 7/10\n",
      "79/79 [==============================] - 0s 882us/step - loss: 0.5860 - accuracy: 0.6940 - recall: 0.7042\n",
      "Epoch 8/10\n",
      "79/79 [==============================] - 0s 985us/step - loss: 0.5759 - accuracy: 0.6952 - recall: 0.6963\n",
      "Epoch 9/10\n",
      "79/79 [==============================] - 0s 908us/step - loss: 0.5704 - accuracy: 0.7027 - recall: 0.7097\n",
      "Epoch 10/10\n",
      "79/79 [==============================] - 0s 882us/step - loss: 0.5621 - accuracy: 0.7063 - recall: 0.7081\n",
      "54/54 [==============================] - 0s 602us/step\n"
     ]
    },
    {
     "name": "stderr",
     "output_type": "stream",
     "text": [
      "C:\\Users\\gwent\\AppData\\Local\\Temp\\ipykernel_3948\\1005917253.py:23: FutureWarning: The frame.append method is deprecated and will be removed from pandas in a future version. Use pandas.concat instead.\n",
      "  master_scores = master_scores.append(new_row, ignore_index=True)\n"
     ]
    },
    {
     "data": {
      "text/plain": [
       "array([[650, 517],\n",
       "       [169, 373]], dtype=int64)"
      ]
     },
     "execution_count": 57,
     "metadata": {},
     "output_type": "execute_result"
    }
   ],
   "source": [
    "scaler = StandardScaler()\n",
    "scaler.fit(X_train)\n",
    "\n",
    "X_train_scaled_encoded = scaler.transform(X_train)\n",
    "X_test_scaled_encoded = scaler.transform(X_test)\n",
    "\n",
    "rus = RandomUnderSampler()\n",
    "X_resampled_rus, y_resampled_rus = rus.fit_resample(X_train_scaled_encoded, y_train)\n",
    "\n",
    "model12 = create_mlp(64, 'adam', X_resampled_rus)\n",
    "model12.fit(X_resampled_rus, y_resampled_rus, epochs=10, batch_size=32)\n",
    "\n",
    "y_pred = model12.predict(X_test_scaled_encoded)\n",
    "y_pred = np.round(y_pred).astype(int)\n",
    "\n",
    "cm = confusion_matrix(y_test, y_pred)\n",
    "add_to_master(\"old data rus adam 64\", y_test, y_pred)\n",
    "cm"
   ]
  },
  {
   "cell_type": "code",
   "execution_count": 58,
   "id": "d8178a86",
   "metadata": {},
   "outputs": [
    {
     "data": {
      "text/html": [
       "<div>\n",
       "<style scoped>\n",
       "    .dataframe tbody tr th:only-of-type {\n",
       "        vertical-align: middle;\n",
       "    }\n",
       "\n",
       "    .dataframe tbody tr th {\n",
       "        vertical-align: top;\n",
       "    }\n",
       "\n",
       "    .dataframe thead th {\n",
       "        text-align: right;\n",
       "    }\n",
       "</style>\n",
       "<table border=\"1\" class=\"dataframe\">\n",
       "  <thead>\n",
       "    <tr style=\"text-align: right;\">\n",
       "      <th></th>\n",
       "      <th>Model</th>\n",
       "      <th>Recall</th>\n",
       "      <th>F1</th>\n",
       "      <th>Precision</th>\n",
       "      <th>Accuracy</th>\n",
       "    </tr>\n",
       "  </thead>\n",
       "  <tbody>\n",
       "    <tr>\n",
       "      <th>15</th>\n",
       "      <td>old data rus adam 64</td>\n",
       "      <td>0.688</td>\n",
       "      <td>0.521</td>\n",
       "      <td>0.419</td>\n",
       "      <td>0.599</td>\n",
       "    </tr>\n",
       "    <tr>\n",
       "      <th>13</th>\n",
       "      <td>class_weight='balanced', LogReg, scaled</td>\n",
       "      <td>0.593</td>\n",
       "      <td>0.504</td>\n",
       "      <td>0.437</td>\n",
       "      <td>0.628</td>\n",
       "    </tr>\n",
       "    <tr>\n",
       "      <th>14</th>\n",
       "      <td>log reg no grooming</td>\n",
       "      <td>0.593</td>\n",
       "      <td>0.504</td>\n",
       "      <td>0.437</td>\n",
       "      <td>0.628</td>\n",
       "    </tr>\n",
       "    <tr>\n",
       "      <th>8</th>\n",
       "      <td>RUS 1 hidden, 64 nodes, adam</td>\n",
       "      <td>0.590</td>\n",
       "      <td>0.496</td>\n",
       "      <td>0.429</td>\n",
       "      <td>0.619</td>\n",
       "    </tr>\n",
       "    <tr>\n",
       "      <th>12</th>\n",
       "      <td>class_weight='balanced', LogReg</td>\n",
       "      <td>0.588</td>\n",
       "      <td>0.502</td>\n",
       "      <td>0.438</td>\n",
       "      <td>0.629</td>\n",
       "    </tr>\n",
       "    <tr>\n",
       "      <th>11</th>\n",
       "      <td>no groom, RUS, 64, adam</td>\n",
       "      <td>0.584</td>\n",
       "      <td>0.504</td>\n",
       "      <td>0.443</td>\n",
       "      <td>0.634</td>\n",
       "    </tr>\n",
       "    <tr>\n",
       "      <th>10</th>\n",
       "      <td>RUS, adam, batch 25</td>\n",
       "      <td>0.560</td>\n",
       "      <td>0.478</td>\n",
       "      <td>0.417</td>\n",
       "      <td>0.611</td>\n",
       "    </tr>\n",
       "    <tr>\n",
       "      <th>9</th>\n",
       "      <td>ROS 1 hidden, 64 nodes, adam</td>\n",
       "      <td>0.475</td>\n",
       "      <td>0.456</td>\n",
       "      <td>0.439</td>\n",
       "      <td>0.640</td>\n",
       "    </tr>\n",
       "    <tr>\n",
       "      <th>2</th>\n",
       "      <td>1 hidden, 64 nodes per, adam, scaled</td>\n",
       "      <td>0.283</td>\n",
       "      <td>0.359</td>\n",
       "      <td>0.492</td>\n",
       "      <td>0.679</td>\n",
       "    </tr>\n",
       "    <tr>\n",
       "      <th>4</th>\n",
       "      <td>1 hidden, 100 nodes, adam</td>\n",
       "      <td>0.279</td>\n",
       "      <td>0.347</td>\n",
       "      <td>0.459</td>\n",
       "      <td>0.666</td>\n",
       "    </tr>\n",
       "    <tr>\n",
       "      <th>7</th>\n",
       "      <td>1 hidden, 300 nodes, adam</td>\n",
       "      <td>0.275</td>\n",
       "      <td>0.350</td>\n",
       "      <td>0.481</td>\n",
       "      <td>0.675</td>\n",
       "    </tr>\n",
       "    <tr>\n",
       "      <th>6</th>\n",
       "      <td>1 hidden, 250 nodes, adam</td>\n",
       "      <td>0.266</td>\n",
       "      <td>0.340</td>\n",
       "      <td>0.471</td>\n",
       "      <td>0.671</td>\n",
       "    </tr>\n",
       "    <tr>\n",
       "      <th>0</th>\n",
       "      <td>1 hidden, 64 nodes per, adam</td>\n",
       "      <td>0.261</td>\n",
       "      <td>0.339</td>\n",
       "      <td>0.485</td>\n",
       "      <td>0.676</td>\n",
       "    </tr>\n",
       "    <tr>\n",
       "      <th>5</th>\n",
       "      <td>1 hidden, 32 nodes, adam</td>\n",
       "      <td>0.220</td>\n",
       "      <td>0.302</td>\n",
       "      <td>0.484</td>\n",
       "      <td>0.677</td>\n",
       "    </tr>\n",
       "    <tr>\n",
       "      <th>1</th>\n",
       "      <td>1 hidden, 64 nodes per, adagrad</td>\n",
       "      <td>0.161</td>\n",
       "      <td>0.246</td>\n",
       "      <td>0.524</td>\n",
       "      <td>0.686</td>\n",
       "    </tr>\n",
       "    <tr>\n",
       "      <th>3</th>\n",
       "      <td>1 hidden, 64 nodes per, adagrad, scaled</td>\n",
       "      <td>0.159</td>\n",
       "      <td>0.239</td>\n",
       "      <td>0.480</td>\n",
       "      <td>0.678</td>\n",
       "    </tr>\n",
       "  </tbody>\n",
       "</table>\n",
       "</div>"
      ],
      "text/plain": [
       "                                      Model  Recall     F1  Precision  \\\n",
       "15                     old data rus adam 64   0.688  0.521      0.419   \n",
       "13  class_weight='balanced', LogReg, scaled   0.593  0.504      0.437   \n",
       "14                      log reg no grooming   0.593  0.504      0.437   \n",
       "8              RUS 1 hidden, 64 nodes, adam   0.590  0.496      0.429   \n",
       "12          class_weight='balanced', LogReg   0.588  0.502      0.438   \n",
       "11                  no groom, RUS, 64, adam   0.584  0.504      0.443   \n",
       "10                      RUS, adam, batch 25   0.560  0.478      0.417   \n",
       "9              ROS 1 hidden, 64 nodes, adam   0.475  0.456      0.439   \n",
       "2      1 hidden, 64 nodes per, adam, scaled   0.283  0.359      0.492   \n",
       "4                 1 hidden, 100 nodes, adam   0.279  0.347      0.459   \n",
       "7                 1 hidden, 300 nodes, adam   0.275  0.350      0.481   \n",
       "6                 1 hidden, 250 nodes, adam   0.266  0.340      0.471   \n",
       "0              1 hidden, 64 nodes per, adam   0.261  0.339      0.485   \n",
       "5                  1 hidden, 32 nodes, adam   0.220  0.302      0.484   \n",
       "1           1 hidden, 64 nodes per, adagrad   0.161  0.246      0.524   \n",
       "3   1 hidden, 64 nodes per, adagrad, scaled   0.159  0.239      0.480   \n",
       "\n",
       "    Accuracy  \n",
       "15     0.599  \n",
       "13     0.628  \n",
       "14     0.628  \n",
       "8      0.619  \n",
       "12     0.629  \n",
       "11     0.634  \n",
       "10     0.611  \n",
       "9      0.640  \n",
       "2      0.679  \n",
       "4      0.666  \n",
       "7      0.675  \n",
       "6      0.671  \n",
       "0      0.676  \n",
       "5      0.677  \n",
       "1      0.686  \n",
       "3      0.678  "
      ]
     },
     "execution_count": 58,
     "metadata": {},
     "output_type": "execute_result"
    }
   ],
   "source": [
    "# for reference, cat-pstone 1 model was 0.622, 0.519, 0.446, 0.635\n",
    "# it really doesn't do any better than a weighted LR model, in either dataset\n",
    "master_scores.sort_values(['Recall', 'Accuracy'], ascending=False)"
   ]
  }
 ],
 "metadata": {
  "kernelspec": {
   "display_name": "Python 3 (ipykernel)",
   "language": "python",
   "name": "python3"
  },
  "language_info": {
   "codemirror_mode": {
    "name": "ipython",
    "version": 3
   },
   "file_extension": ".py",
   "mimetype": "text/x-python",
   "name": "python",
   "nbconvert_exporter": "python",
   "pygments_lexer": "ipython3",
   "version": "3.9.0"
  }
 },
 "nbformat": 4,
 "nbformat_minor": 5
}
