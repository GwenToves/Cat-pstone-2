{
 "cells": [
  {
   "cell_type": "code",
   "execution_count": 1,
   "id": "a1fa7743",
   "metadata": {},
   "outputs": [],
   "source": [
    "# should already be activated, but just a reminder where ya are :)  \n",
    "# !conda activate wool_sucking_nn"
   ]
  },
  {
   "cell_type": "code",
   "execution_count": 1,
   "id": "d4af314f",
   "metadata": {},
   "outputs": [],
   "source": [
    "import pandas as pd\n",
    "import numpy as np\n",
    "import matplotlib.pyplot as plt\n",
    "import seaborn as sns\n",
    "from scipy import stats \n",
    "\n",
    "%matplotlib inline"
   ]
  },
  {
   "cell_type": "code",
   "execution_count": 2,
   "id": "12a43745",
   "metadata": {},
   "outputs": [],
   "source": [
    "# import data\n",
    "excel_file = pd.read_excel('..\\Data\\cleaned_and_split_data.xlsx', sheet_name=None)\n",
    "\n",
    "# Unpack the dataframes into separate variables\n",
    "X_train = excel_file['X_train']\n",
    "X_test = excel_file['X_test']\n",
    "y_train = excel_file['y_train']\n",
    "y_test = excel_file['y_test']"
   ]
  },
  {
   "cell_type": "code",
   "execution_count": 4,
   "id": "3f7a7f7d",
   "metadata": {},
   "outputs": [
    {
     "name": "stdout",
     "output_type": "stream",
     "text": [
      "(3965, 7)\n"
     ]
    },
    {
     "data": {
      "text/html": [
       "<div>\n",
       "<style scoped>\n",
       "    .dataframe tbody tr th:only-of-type {\n",
       "        vertical-align: middle;\n",
       "    }\n",
       "\n",
       "    .dataframe tbody tr th {\n",
       "        vertical-align: top;\n",
       "    }\n",
       "\n",
       "    .dataframe thead th {\n",
       "        text-align: right;\n",
       "    }\n",
       "</style>\n",
       "<table border=\"1\" class=\"dataframe\">\n",
       "  <thead>\n",
       "    <tr style=\"text-align: right;\">\n",
       "      <th></th>\n",
       "      <th>Neuter_status</th>\n",
       "      <th>Breed_group</th>\n",
       "      <th>Aggression_owner</th>\n",
       "      <th>Aggression_cats</th>\n",
       "      <th>Shyness_novel</th>\n",
       "      <th>Shyness_strangers</th>\n",
       "      <th>Grooming</th>\n",
       "    </tr>\n",
       "  </thead>\n",
       "  <tbody>\n",
       "    <tr>\n",
       "      <th>0</th>\n",
       "      <td>1</td>\n",
       "      <td>SIB</td>\n",
       "      <td>1</td>\n",
       "      <td>2</td>\n",
       "      <td>4</td>\n",
       "      <td>4</td>\n",
       "      <td>3</td>\n",
       "    </tr>\n",
       "    <tr>\n",
       "      <th>1</th>\n",
       "      <td>1</td>\n",
       "      <td>HCS</td>\n",
       "      <td>1</td>\n",
       "      <td>2</td>\n",
       "      <td>4</td>\n",
       "      <td>4</td>\n",
       "      <td>2</td>\n",
       "    </tr>\n",
       "    <tr>\n",
       "      <th>2</th>\n",
       "      <td>0</td>\n",
       "      <td>ORI</td>\n",
       "      <td>1</td>\n",
       "      <td>1</td>\n",
       "      <td>1</td>\n",
       "      <td>1</td>\n",
       "      <td>1</td>\n",
       "    </tr>\n",
       "    <tr>\n",
       "      <th>3</th>\n",
       "      <td>1</td>\n",
       "      <td>MCO</td>\n",
       "      <td>1</td>\n",
       "      <td>1</td>\n",
       "      <td>2</td>\n",
       "      <td>2</td>\n",
       "      <td>3</td>\n",
       "    </tr>\n",
       "    <tr>\n",
       "      <th>4</th>\n",
       "      <td>1</td>\n",
       "      <td>HCS</td>\n",
       "      <td>1</td>\n",
       "      <td>1</td>\n",
       "      <td>2</td>\n",
       "      <td>1</td>\n",
       "      <td>2</td>\n",
       "    </tr>\n",
       "  </tbody>\n",
       "</table>\n",
       "</div>"
      ],
      "text/plain": [
       "   Neuter_status Breed_group  Aggression_owner  Aggression_cats  \\\n",
       "0              1         SIB                 1                2   \n",
       "1              1         HCS                 1                2   \n",
       "2              0         ORI                 1                1   \n",
       "3              1         MCO                 1                1   \n",
       "4              1         HCS                 1                1   \n",
       "\n",
       "   Shyness_novel  Shyness_strangers  Grooming  \n",
       "0              4                  4         3  \n",
       "1              4                  4         2  \n",
       "2              1                  1         1  \n",
       "3              2                  2         3  \n",
       "4              2                  1         2  "
      ]
     },
     "execution_count": 4,
     "metadata": {},
     "output_type": "execute_result"
    }
   ],
   "source": [
    "print(X_train.shape)\n",
    "X_train.head()"
   ]
  },
  {
   "cell_type": "code",
   "execution_count": 5,
   "id": "7364d6d3",
   "metadata": {},
   "outputs": [
    {
     "name": "stdout",
     "output_type": "stream",
     "text": [
      "(1700, 7)\n"
     ]
    },
    {
     "data": {
      "text/html": [
       "<div>\n",
       "<style scoped>\n",
       "    .dataframe tbody tr th:only-of-type {\n",
       "        vertical-align: middle;\n",
       "    }\n",
       "\n",
       "    .dataframe tbody tr th {\n",
       "        vertical-align: top;\n",
       "    }\n",
       "\n",
       "    .dataframe thead th {\n",
       "        text-align: right;\n",
       "    }\n",
       "</style>\n",
       "<table border=\"1\" class=\"dataframe\">\n",
       "  <thead>\n",
       "    <tr style=\"text-align: right;\">\n",
       "      <th></th>\n",
       "      <th>Neuter_status</th>\n",
       "      <th>Breed_group</th>\n",
       "      <th>Aggression_owner</th>\n",
       "      <th>Aggression_cats</th>\n",
       "      <th>Shyness_novel</th>\n",
       "      <th>Shyness_strangers</th>\n",
       "      <th>Grooming</th>\n",
       "    </tr>\n",
       "  </thead>\n",
       "  <tbody>\n",
       "    <tr>\n",
       "      <th>0</th>\n",
       "      <td>1</td>\n",
       "      <td>SIB</td>\n",
       "      <td>1</td>\n",
       "      <td>3</td>\n",
       "      <td>3</td>\n",
       "      <td>1</td>\n",
       "      <td>1</td>\n",
       "    </tr>\n",
       "    <tr>\n",
       "      <th>1</th>\n",
       "      <td>1</td>\n",
       "      <td>MCO</td>\n",
       "      <td>1</td>\n",
       "      <td>1</td>\n",
       "      <td>2</td>\n",
       "      <td>1</td>\n",
       "      <td>1</td>\n",
       "    </tr>\n",
       "    <tr>\n",
       "      <th>2</th>\n",
       "      <td>1</td>\n",
       "      <td>RUS</td>\n",
       "      <td>1</td>\n",
       "      <td>1</td>\n",
       "      <td>4</td>\n",
       "      <td>4</td>\n",
       "      <td>1</td>\n",
       "    </tr>\n",
       "    <tr>\n",
       "      <th>3</th>\n",
       "      <td>0</td>\n",
       "      <td>EUR</td>\n",
       "      <td>2</td>\n",
       "      <td>2</td>\n",
       "      <td>2</td>\n",
       "      <td>2</td>\n",
       "      <td>1</td>\n",
       "    </tr>\n",
       "    <tr>\n",
       "      <th>4</th>\n",
       "      <td>1</td>\n",
       "      <td>NFO</td>\n",
       "      <td>1</td>\n",
       "      <td>2</td>\n",
       "      <td>3</td>\n",
       "      <td>2</td>\n",
       "      <td>1</td>\n",
       "    </tr>\n",
       "  </tbody>\n",
       "</table>\n",
       "</div>"
      ],
      "text/plain": [
       "   Neuter_status Breed_group  Aggression_owner  Aggression_cats  \\\n",
       "0              1         SIB                 1                3   \n",
       "1              1         MCO                 1                1   \n",
       "2              1         RUS                 1                1   \n",
       "3              0         EUR                 2                2   \n",
       "4              1         NFO                 1                2   \n",
       "\n",
       "   Shyness_novel  Shyness_strangers  Grooming  \n",
       "0              3                  1         1  \n",
       "1              2                  1         1  \n",
       "2              4                  4         1  \n",
       "3              2                  2         1  \n",
       "4              3                  2         1  "
      ]
     },
     "execution_count": 5,
     "metadata": {},
     "output_type": "execute_result"
    }
   ],
   "source": [
    "print(X_test.shape)\n",
    "X_test.head()"
   ]
  },
  {
   "cell_type": "code",
   "execution_count": 6,
   "id": "ee588efc",
   "metadata": {},
   "outputs": [
    {
     "name": "stdout",
     "output_type": "stream",
     "text": [
      "(3965, 1)\n"
     ]
    },
    {
     "data": {
      "text/html": [
       "<div>\n",
       "<style scoped>\n",
       "    .dataframe tbody tr th:only-of-type {\n",
       "        vertical-align: middle;\n",
       "    }\n",
       "\n",
       "    .dataframe tbody tr th {\n",
       "        vertical-align: top;\n",
       "    }\n",
       "\n",
       "    .dataframe thead th {\n",
       "        text-align: right;\n",
       "    }\n",
       "</style>\n",
       "<table border=\"1\" class=\"dataframe\">\n",
       "  <thead>\n",
       "    <tr style=\"text-align: right;\">\n",
       "      <th></th>\n",
       "      <th>Wool_sucking_binary</th>\n",
       "    </tr>\n",
       "  </thead>\n",
       "  <tbody>\n",
       "    <tr>\n",
       "      <th>0</th>\n",
       "      <td>0</td>\n",
       "    </tr>\n",
       "    <tr>\n",
       "      <th>1</th>\n",
       "      <td>0</td>\n",
       "    </tr>\n",
       "    <tr>\n",
       "      <th>2</th>\n",
       "      <td>0</td>\n",
       "    </tr>\n",
       "    <tr>\n",
       "      <th>3</th>\n",
       "      <td>0</td>\n",
       "    </tr>\n",
       "    <tr>\n",
       "      <th>4</th>\n",
       "      <td>0</td>\n",
       "    </tr>\n",
       "  </tbody>\n",
       "</table>\n",
       "</div>"
      ],
      "text/plain": [
       "   Wool_sucking_binary\n",
       "0                    0\n",
       "1                    0\n",
       "2                    0\n",
       "3                    0\n",
       "4                    0"
      ]
     },
     "execution_count": 6,
     "metadata": {},
     "output_type": "execute_result"
    }
   ],
   "source": [
    "print(y_train.shape)\n",
    "y_train.head()"
   ]
  },
  {
   "cell_type": "code",
   "execution_count": 7,
   "id": "71b7dd12",
   "metadata": {},
   "outputs": [
    {
     "name": "stdout",
     "output_type": "stream",
     "text": [
      "(1700, 1)\n"
     ]
    },
    {
     "data": {
      "text/html": [
       "<div>\n",
       "<style scoped>\n",
       "    .dataframe tbody tr th:only-of-type {\n",
       "        vertical-align: middle;\n",
       "    }\n",
       "\n",
       "    .dataframe tbody tr th {\n",
       "        vertical-align: top;\n",
       "    }\n",
       "\n",
       "    .dataframe thead th {\n",
       "        text-align: right;\n",
       "    }\n",
       "</style>\n",
       "<table border=\"1\" class=\"dataframe\">\n",
       "  <thead>\n",
       "    <tr style=\"text-align: right;\">\n",
       "      <th></th>\n",
       "      <th>Wool_sucking_binary</th>\n",
       "    </tr>\n",
       "  </thead>\n",
       "  <tbody>\n",
       "    <tr>\n",
       "      <th>0</th>\n",
       "      <td>1</td>\n",
       "    </tr>\n",
       "    <tr>\n",
       "      <th>1</th>\n",
       "      <td>1</td>\n",
       "    </tr>\n",
       "    <tr>\n",
       "      <th>2</th>\n",
       "      <td>1</td>\n",
       "    </tr>\n",
       "    <tr>\n",
       "      <th>3</th>\n",
       "      <td>0</td>\n",
       "    </tr>\n",
       "    <tr>\n",
       "      <th>4</th>\n",
       "      <td>1</td>\n",
       "    </tr>\n",
       "  </tbody>\n",
       "</table>\n",
       "</div>"
      ],
      "text/plain": [
       "   Wool_sucking_binary\n",
       "0                    1\n",
       "1                    1\n",
       "2                    1\n",
       "3                    0\n",
       "4                    1"
      ]
     },
     "execution_count": 7,
     "metadata": {},
     "output_type": "execute_result"
    }
   ],
   "source": [
    "print(y_test.shape)\n",
    "y_test.head()"
   ]
  },
  {
   "cell_type": "markdown",
   "id": "d53267c9",
   "metadata": {},
   "source": [
    "## To record model metrics"
   ]
  },
  {
   "cell_type": "code",
   "execution_count": 3,
   "id": "44abc6a0",
   "metadata": {},
   "outputs": [],
   "source": [
    "# dataframe for scores amongst models\n",
    "master_scores = pd.DataFrame(columns=['Model','Recall', 'F1', 'Precision', 'Accuracy'])"
   ]
  },
  {
   "cell_type": "code",
   "execution_count": 4,
   "id": "0be17a6c",
   "metadata": {},
   "outputs": [],
   "source": [
    "# add_to_master(model_description, y_true, y_predicted, binary=True)\n",
    "def add_to_master(model_description, y_test, y_pred, binary=True):\n",
    "    '''\n",
    "    Adds a new row to the running score DataFrame `master_scores` \n",
    "    and functions for adding both binary and multiclass scores. \n",
    "    '''\n",
    "    global master_scores\n",
    "    if binary == True:\n",
    "        # Evalution Metrics\n",
    "        accuracy = accuracy_score(y_test, y_pred)\n",
    "        precision = precision_score(y_test, y_pred)\n",
    "        recall = recall_score(y_test, y_pred)\n",
    "        f1 = f1_score(y_test, y_pred)\n",
    "\n",
    "        # add to master_scores\n",
    "        new_row = {\n",
    "            'Model': model_description,\n",
    "            'Recall': round(recall,3), \n",
    "            'F1': round(f1, 3), \n",
    "            'Precision': round(precision, 3), \n",
    "            'Accuracy': round(accuracy, 3)}\n",
    "        \n",
    "        master_scores = master_scores.append(new_row, ignore_index=True)   \n",
    "    \n",
    "    else:\n",
    "        accuracy = accuracy_score(y_test, y_pred)\n",
    "        precision = precision_score(y_test, y_pred, average='macro') # I chose macro since we have less of the sucklers \n",
    "        recall = recall_score(y_test, y_pred, average='macro')       # and I want their accuracy to be meaningful\n",
    "        f1 = f1_score(y_test, y_pred, average='macro')\n",
    "\n",
    "\n",
    "        # add to master_scores\n",
    "        new_row = {\n",
    "            'Model': model_description,\n",
    "            'Recall': round(recall,3), \n",
    "            'F1': round(f1, 3), \n",
    "            'Precision': round(precision, 3), \n",
    "            'Accuracy': round(accuracy, 3)}\n",
    "        master_scores = master_scores.append(new_row, ignore_index=True)\n",
    "    return master_scores"
   ]
  },
  {
   "cell_type": "markdown",
   "id": "a1ccdddd",
   "metadata": {},
   "source": [
    "# Prep for tensorflow.keras"
   ]
  },
  {
   "cell_type": "code",
   "execution_count": 5,
   "id": "6dda99af",
   "metadata": {},
   "outputs": [],
   "source": [
    "import tensorflow as tf\n",
    "from tensorflow import keras\n",
    "from sklearn.metrics import accuracy_score,precision_score, recall_score, f1_score, confusion_matrix\n",
    "from sklearn.preprocessing import StandardScaler\n",
    "# for reproducibility \n",
    "tf.random.set_seed(42)\n",
    "np.random.seed(42)"
   ]
  },
  {
   "cell_type": "code",
   "execution_count": 6,
   "id": "69c582e6",
   "metadata": {},
   "outputs": [],
   "source": [
    "# one-hot breed \n",
    "X_train_encoded = pd.get_dummies(X_train, columns=['Breed_group'])\n",
    "X_test_encoded = pd.get_dummies(X_test, columns=['Breed_group'])"
   ]
  },
  {
   "cell_type": "code",
   "execution_count": 8,
   "id": "79a5eb7d",
   "metadata": {},
   "outputs": [
    {
     "data": {
      "text/plain": [
       "(3965, 25)"
      ]
     },
     "execution_count": 8,
     "metadata": {},
     "output_type": "execute_result"
    }
   ],
   "source": [
    "X_train_encoded.shape"
   ]
  },
  {
   "cell_type": "markdown",
   "id": "83911f9b",
   "metadata": {},
   "source": [
    "## Plain Jane"
   ]
  },
  {
   "cell_type": "code",
   "execution_count": 9,
   "id": "0f2ebb7b",
   "metadata": {},
   "outputs": [],
   "source": [
    "model = keras.Sequential([\n",
    "    keras.layers.Dense(64, activation='relu', input_shape=(len(X_train_encoded.columns),)),\n",
    "    keras.layers.Dense(64, activation='relu'),\n",
    "    keras.layers.Dense(1, activation='sigmoid')\n",
    "])"
   ]
  },
  {
   "cell_type": "code",
   "execution_count": 10,
   "id": "2aaefc0a",
   "metadata": {},
   "outputs": [],
   "source": [
    "def recall(y_true, y_pred):\n",
    "    true_positives = tf.keras.backend.sum(tf.keras.backend.round(tf.keras.backend.clip(y_true * y_pred, 0, 1)))\n",
    "    possible_positives = tf.keras.backend.sum(tf.keras.backend.round(tf.keras.backend.clip(y_true, 0, 1)))\n",
    "    recall = true_positives / (possible_positives + tf.keras.backend.epsilon())\n",
    "    return recall\n",
    "\n",
    "tf.keras.utils.get_custom_objects()['recall'] = recall"
   ]
  },
  {
   "cell_type": "code",
   "execution_count": 11,
   "id": "d370e07e",
   "metadata": {},
   "outputs": [],
   "source": [
    "model.compile(optimizer='adam', \n",
    "             loss='binary_crossentropy',\n",
    "             metrics=['accuracy', 'recall'])"
   ]
  },
  {
   "cell_type": "code",
   "execution_count": 12,
   "id": "02523520",
   "metadata": {},
   "outputs": [
    {
     "name": "stdout",
     "output_type": "stream",
     "text": [
      "Epoch 1/10\n",
      "124/124 [==============================] - 1s 932us/step - loss: 0.6265 - accuracy: 0.6815 - recall: 0.0133\n",
      "Epoch 2/10\n",
      "124/124 [==============================] - 0s 941us/step - loss: 0.6032 - accuracy: 0.6870 - recall: 0.1315\n",
      "Epoch 3/10\n",
      "124/124 [==============================] - 0s 932us/step - loss: 0.5939 - accuracy: 0.6921 - recall: 0.1803\n",
      "Epoch 4/10\n",
      "124/124 [==============================] - 0s 965us/step - loss: 0.5902 - accuracy: 0.6941 - recall: 0.1556\n",
      "Epoch 5/10\n",
      "124/124 [==============================] - 0s 949us/step - loss: 0.5852 - accuracy: 0.6951 - recall: 0.1767\n",
      "Epoch 6/10\n",
      "124/124 [==============================] - 0s 945us/step - loss: 0.5843 - accuracy: 0.6941 - recall: 0.2047\n",
      "Epoch 7/10\n",
      "124/124 [==============================] - 0s 957us/step - loss: 0.5823 - accuracy: 0.6936 - recall: 0.2127\n",
      "Epoch 8/10\n",
      "124/124 [==============================] - 0s 957us/step - loss: 0.5775 - accuracy: 0.6981 - recall: 0.2054\n",
      "Epoch 9/10\n",
      "124/124 [==============================] - 0s 916us/step - loss: 0.5759 - accuracy: 0.6971 - recall: 0.2029\n",
      "Epoch 10/10\n",
      "124/124 [==============================] - 0s 916us/step - loss: 0.5732 - accuracy: 0.6984 - recall: 0.2309\n"
     ]
    },
    {
     "data": {
      "text/plain": [
       "<keras.callbacks.History at 0x1c329e1cfd0>"
      ]
     },
     "execution_count": 12,
     "metadata": {},
     "output_type": "execute_result"
    }
   ],
   "source": [
    "model.fit(X_train_encoded, y_train, epochs=10, batch_size=32)"
   ]
  },
  {
   "cell_type": "code",
   "execution_count": 13,
   "id": "472c8352",
   "metadata": {},
   "outputs": [
    {
     "name": "stdout",
     "output_type": "stream",
     "text": [
      "54/54 [==============================] - 0s 734us/step - loss: 0.5869 - accuracy: 0.6824 - recall: 0.2525\n",
      "Test Accuracy: 0.6823529601097107\n",
      "Test Loss: 0.5868842601776123\n",
      "Test Recall: 0.2525482475757599\n"
     ]
    }
   ],
   "source": [
    "test_loss, test_acc, test_recall = model.evaluate(X_test_encoded, y_test)\n",
    "print('Test Accuracy:', test_acc)\n",
    "print('Test Loss:', test_loss)\n",
    "print('Test Recall:', test_recall)"
   ]
  },
  {
   "cell_type": "code",
   "execution_count": 14,
   "id": "cb7c6f7e",
   "metadata": {},
   "outputs": [
    {
     "name": "stdout",
     "output_type": "stream",
     "text": [
      "54/54 [==============================] - 0s 659us/step\n"
     ]
    },
    {
     "name": "stderr",
     "output_type": "stream",
     "text": [
      "C:\\Users\\gwent\\AppData\\Local\\Temp\\ipykernel_19588\\1005917253.py:23: FutureWarning: The frame.append method is deprecated and will be removed from pandas in a future version. Use pandas.concat instead.\n",
      "  master_scores = master_scores.append(new_row, ignore_index=True)\n"
     ]
    },
    {
     "data": {
      "text/plain": [
       "array([[1019,  140],\n",
       "       [ 400,  141]], dtype=int64)"
      ]
     },
     "execution_count": 14,
     "metadata": {},
     "output_type": "execute_result"
    }
   ],
   "source": [
    "y_pred = model.predict(X_test_encoded)\n",
    "y_pred = np.round(y_pred).astype(int)\n",
    "\n",
    "cm = confusion_matrix(y_test, y_pred)\n",
    "# add_to_master(model_description, y_true, y_predicted, binary=True)\n",
    "add_to_master(\"1 hidden, 64 nodes per, adam\", y_test, y_pred)\n",
    "cm"
   ]
  },
  {
   "cell_type": "code",
   "execution_count": 15,
   "id": "5431d1f6",
   "metadata": {},
   "outputs": [
    {
     "data": {
      "text/html": [
       "<div>\n",
       "<style scoped>\n",
       "    .dataframe tbody tr th:only-of-type {\n",
       "        vertical-align: middle;\n",
       "    }\n",
       "\n",
       "    .dataframe tbody tr th {\n",
       "        vertical-align: top;\n",
       "    }\n",
       "\n",
       "    .dataframe thead th {\n",
       "        text-align: right;\n",
       "    }\n",
       "</style>\n",
       "<table border=\"1\" class=\"dataframe\">\n",
       "  <thead>\n",
       "    <tr style=\"text-align: right;\">\n",
       "      <th></th>\n",
       "      <th>Model</th>\n",
       "      <th>Recall</th>\n",
       "      <th>F1</th>\n",
       "      <th>Precision</th>\n",
       "      <th>Accuracy</th>\n",
       "    </tr>\n",
       "  </thead>\n",
       "  <tbody>\n",
       "    <tr>\n",
       "      <th>0</th>\n",
       "      <td>1 hidden, 64 nodes per, adam</td>\n",
       "      <td>0.261</td>\n",
       "      <td>0.343</td>\n",
       "      <td>0.502</td>\n",
       "      <td>0.682</td>\n",
       "    </tr>\n",
       "  </tbody>\n",
       "</table>\n",
       "</div>"
      ],
      "text/plain": [
       "                          Model  Recall     F1  Precision  Accuracy\n",
       "0  1 hidden, 64 nodes per, adam   0.261  0.343      0.502     0.682"
      ]
     },
     "execution_count": 15,
     "metadata": {},
     "output_type": "execute_result"
    }
   ],
   "source": [
    "master_scores"
   ]
  },
  {
   "cell_type": "markdown",
   "id": "cfd960fa",
   "metadata": {},
   "source": [
    "Not doing too hot, but also seems to be doing better than initial models in Cat-pstone 1. "
   ]
  },
  {
   "cell_type": "markdown",
   "id": "e659e48e",
   "metadata": {},
   "source": [
    "## Adagrad optimizer"
   ]
  },
  {
   "cell_type": "code",
   "execution_count": 16,
   "id": "c8b1639f",
   "metadata": {},
   "outputs": [],
   "source": [
    "model2 = keras.Sequential([\n",
    "    keras.layers.Dense(64, activation='relu', input_shape=(len(X_train_encoded.columns),)),\n",
    "    keras.layers.Dense(64, activation='relu'),\n",
    "    keras.layers.Dense(1, activation='sigmoid')\n",
    "])"
   ]
  },
  {
   "cell_type": "code",
   "execution_count": 17,
   "id": "6c14f69f",
   "metadata": {},
   "outputs": [],
   "source": [
    "# Adagrad better for when feataures vary in magnitude and frequency \n",
    "optimizer = tf.keras.optimizers.Adagrad(learning_rate=0.01)\n",
    "model2.compile(optimizer=optimizer, \n",
    "             loss='binary_crossentropy',\n",
    "             metrics=['accuracy', 'recall'])"
   ]
  },
  {
   "cell_type": "code",
   "execution_count": 18,
   "id": "2238ef2d",
   "metadata": {},
   "outputs": [
    {
     "name": "stdout",
     "output_type": "stream",
     "text": [
      "Epoch 1/10\n",
      "124/124 [==============================] - 0s 957us/step - loss: 0.6313 - accuracy: 0.6787 - recall: 0.0244\n",
      "Epoch 2/10\n",
      "124/124 [==============================] - 0s 916us/step - loss: 0.6187 - accuracy: 0.6827 - recall: 0.0158\n",
      "Epoch 3/10\n",
      "124/124 [==============================] - 0s 973us/step - loss: 0.6118 - accuracy: 0.6842 - recall: 0.0573\n",
      "Epoch 4/10\n",
      "124/124 [==============================] - 0s 957us/step - loss: 0.6075 - accuracy: 0.6845 - recall: 0.0582\n",
      "Epoch 5/10\n",
      "124/124 [==============================] - 0s 908us/step - loss: 0.6040 - accuracy: 0.6860 - recall: 0.0803\n",
      "Epoch 6/10\n",
      "124/124 [==============================] - 0s 900us/step - loss: 0.6007 - accuracy: 0.6873 - recall: 0.1213\n",
      "Epoch 7/10\n",
      "124/124 [==============================] - 0s 859us/step - loss: 0.5986 - accuracy: 0.6908 - recall: 0.1207\n",
      "Epoch 8/10\n",
      "124/124 [==============================] - 0s 868us/step - loss: 0.5969 - accuracy: 0.6878 - recall: 0.1275\n",
      "Epoch 9/10\n",
      "124/124 [==============================] - 0s 859us/step - loss: 0.5941 - accuracy: 0.6880 - recall: 0.1392\n",
      "Epoch 10/10\n",
      "124/124 [==============================] - 0s 868us/step - loss: 0.5937 - accuracy: 0.6875 - recall: 0.1472\n"
     ]
    },
    {
     "data": {
      "text/plain": [
       "<keras.callbacks.History at 0x1c32c3f6940>"
      ]
     },
     "execution_count": 18,
     "metadata": {},
     "output_type": "execute_result"
    }
   ],
   "source": [
    "model2.fit(X_train_encoded, y_train, epochs=10, batch_size=32)"
   ]
  },
  {
   "cell_type": "code",
   "execution_count": 19,
   "id": "df69d4da",
   "metadata": {},
   "outputs": [
    {
     "name": "stdout",
     "output_type": "stream",
     "text": [
      "54/54 [==============================] - 0s 753us/step - loss: 0.5976 - accuracy: 0.6818 - recall: 0.1763\n",
      "Test Accuracy: 0.6817647218704224\n",
      "Test Loss: 0.5975832939147949\n",
      "Test Recall: 0.1762544810771942\n"
     ]
    }
   ],
   "source": [
    "test_loss, test_acc, test_recall = model2.evaluate(X_test_encoded, y_test)\n",
    "print('Test Accuracy:', test_acc)\n",
    "print('Test Loss:', test_loss)\n",
    "print('Test Recall:', test_recall)"
   ]
  },
  {
   "cell_type": "code",
   "execution_count": 20,
   "id": "9aed1137",
   "metadata": {},
   "outputs": [
    {
     "name": "stdout",
     "output_type": "stream",
     "text": [
      "54/54 [==============================] - 0s 640us/step\n"
     ]
    },
    {
     "name": "stderr",
     "output_type": "stream",
     "text": [
      "C:\\Users\\gwent\\AppData\\Local\\Temp\\ipykernel_19588\\1005917253.py:23: FutureWarning: The frame.append method is deprecated and will be removed from pandas in a future version. Use pandas.concat instead.\n",
      "  master_scores = master_scores.append(new_row, ignore_index=True)\n"
     ]
    },
    {
     "data": {
      "text/plain": [
       "array([[1061,   98],\n",
       "       [ 443,   98]], dtype=int64)"
      ]
     },
     "execution_count": 20,
     "metadata": {},
     "output_type": "execute_result"
    }
   ],
   "source": [
    "y_pred = model2.predict(X_test_encoded)\n",
    "y_pred = np.round(y_pred).astype(int)\n",
    "\n",
    "cm = confusion_matrix(y_test, y_pred)\n",
    "add_to_master(\"1 hidden, 64 nodes per, adagrad\", y_test, y_pred)\n",
    "cm"
   ]
  },
  {
   "cell_type": "markdown",
   "id": "19631b6e",
   "metadata": {},
   "source": [
    "## Scaled with Plain Jane and Adagrad"
   ]
  },
  {
   "cell_type": "code",
   "execution_count": 21,
   "id": "60dcdda8",
   "metadata": {},
   "outputs": [
    {
     "data": {
      "text/html": [
       "<style>#sk-container-id-1 {color: black;background-color: white;}#sk-container-id-1 pre{padding: 0;}#sk-container-id-1 div.sk-toggleable {background-color: white;}#sk-container-id-1 label.sk-toggleable__label {cursor: pointer;display: block;width: 100%;margin-bottom: 0;padding: 0.3em;box-sizing: border-box;text-align: center;}#sk-container-id-1 label.sk-toggleable__label-arrow:before {content: \"▸\";float: left;margin-right: 0.25em;color: #696969;}#sk-container-id-1 label.sk-toggleable__label-arrow:hover:before {color: black;}#sk-container-id-1 div.sk-estimator:hover label.sk-toggleable__label-arrow:before {color: black;}#sk-container-id-1 div.sk-toggleable__content {max-height: 0;max-width: 0;overflow: hidden;text-align: left;background-color: #f0f8ff;}#sk-container-id-1 div.sk-toggleable__content pre {margin: 0.2em;color: black;border-radius: 0.25em;background-color: #f0f8ff;}#sk-container-id-1 input.sk-toggleable__control:checked~div.sk-toggleable__content {max-height: 200px;max-width: 100%;overflow: auto;}#sk-container-id-1 input.sk-toggleable__control:checked~label.sk-toggleable__label-arrow:before {content: \"▾\";}#sk-container-id-1 div.sk-estimator input.sk-toggleable__control:checked~label.sk-toggleable__label {background-color: #d4ebff;}#sk-container-id-1 div.sk-label input.sk-toggleable__control:checked~label.sk-toggleable__label {background-color: #d4ebff;}#sk-container-id-1 input.sk-hidden--visually {border: 0;clip: rect(1px 1px 1px 1px);clip: rect(1px, 1px, 1px, 1px);height: 1px;margin: -1px;overflow: hidden;padding: 0;position: absolute;width: 1px;}#sk-container-id-1 div.sk-estimator {font-family: monospace;background-color: #f0f8ff;border: 1px dotted black;border-radius: 0.25em;box-sizing: border-box;margin-bottom: 0.5em;}#sk-container-id-1 div.sk-estimator:hover {background-color: #d4ebff;}#sk-container-id-1 div.sk-parallel-item::after {content: \"\";width: 100%;border-bottom: 1px solid gray;flex-grow: 1;}#sk-container-id-1 div.sk-label:hover label.sk-toggleable__label {background-color: #d4ebff;}#sk-container-id-1 div.sk-serial::before {content: \"\";position: absolute;border-left: 1px solid gray;box-sizing: border-box;top: 0;bottom: 0;left: 50%;z-index: 0;}#sk-container-id-1 div.sk-serial {display: flex;flex-direction: column;align-items: center;background-color: white;padding-right: 0.2em;padding-left: 0.2em;position: relative;}#sk-container-id-1 div.sk-item {position: relative;z-index: 1;}#sk-container-id-1 div.sk-parallel {display: flex;align-items: stretch;justify-content: center;background-color: white;position: relative;}#sk-container-id-1 div.sk-item::before, #sk-container-id-1 div.sk-parallel-item::before {content: \"\";position: absolute;border-left: 1px solid gray;box-sizing: border-box;top: 0;bottom: 0;left: 50%;z-index: -1;}#sk-container-id-1 div.sk-parallel-item {display: flex;flex-direction: column;z-index: 1;position: relative;background-color: white;}#sk-container-id-1 div.sk-parallel-item:first-child::after {align-self: flex-end;width: 50%;}#sk-container-id-1 div.sk-parallel-item:last-child::after {align-self: flex-start;width: 50%;}#sk-container-id-1 div.sk-parallel-item:only-child::after {width: 0;}#sk-container-id-1 div.sk-dashed-wrapped {border: 1px dashed gray;margin: 0 0.4em 0.5em 0.4em;box-sizing: border-box;padding-bottom: 0.4em;background-color: white;}#sk-container-id-1 div.sk-label label {font-family: monospace;font-weight: bold;display: inline-block;line-height: 1.2em;}#sk-container-id-1 div.sk-label-container {text-align: center;}#sk-container-id-1 div.sk-container {/* jupyter's `normalize.less` sets `[hidden] { display: none; }` but bootstrap.min.css set `[hidden] { display: none !important; }` so we also need the `!important` here to be able to override the default hidden behavior on the sphinx rendered scikit-learn.org. See: https://github.com/scikit-learn/scikit-learn/issues/21755 */display: inline-block !important;position: relative;}#sk-container-id-1 div.sk-text-repr-fallback {display: none;}</style><div id=\"sk-container-id-1\" class=\"sk-top-container\"><div class=\"sk-text-repr-fallback\"><pre>StandardScaler()</pre><b>In a Jupyter environment, please rerun this cell to show the HTML representation or trust the notebook. <br />On GitHub, the HTML representation is unable to render, please try loading this page with nbviewer.org.</b></div><div class=\"sk-container\" hidden><div class=\"sk-item\"><div class=\"sk-estimator sk-toggleable\"><input class=\"sk-toggleable__control sk-hidden--visually\" id=\"sk-estimator-id-1\" type=\"checkbox\" checked><label for=\"sk-estimator-id-1\" class=\"sk-toggleable__label sk-toggleable__label-arrow\">StandardScaler</label><div class=\"sk-toggleable__content\"><pre>StandardScaler()</pre></div></div></div></div></div>"
      ],
      "text/plain": [
       "StandardScaler()"
      ]
     },
     "execution_count": 21,
     "metadata": {},
     "output_type": "execute_result"
    }
   ],
   "source": [
    "scaler = StandardScaler()\n",
    "scaler.fit(X_train_encoded)"
   ]
  },
  {
   "cell_type": "code",
   "execution_count": 22,
   "id": "0ef18545",
   "metadata": {},
   "outputs": [],
   "source": [
    "X_train_scaled_encoded = scaler.transform(X_train_encoded)\n",
    "X_test_scaled_encoded = scaler.transform(X_test_encoded)"
   ]
  },
  {
   "cell_type": "code",
   "execution_count": 23,
   "id": "bccddabe",
   "metadata": {},
   "outputs": [
    {
     "data": {
      "text/plain": [
       "(3965, 25)"
      ]
     },
     "execution_count": 23,
     "metadata": {},
     "output_type": "execute_result"
    }
   ],
   "source": [
    "X_train_scaled_encoded.shape"
   ]
  },
  {
   "cell_type": "code",
   "execution_count": 24,
   "id": "a18c4782",
   "metadata": {
    "scrolled": true
   },
   "outputs": [
    {
     "name": "stdout",
     "output_type": "stream",
     "text": [
      "Epoch 1/10\n",
      "124/124 [==============================] - 0s 900us/step - loss: 0.6084 - accuracy: 0.6782 - recall: 0.1150\n",
      "Epoch 2/10\n",
      "124/124 [==============================] - 0s 925us/step - loss: 0.5878 - accuracy: 0.6910 - recall: 0.1646\n",
      "Epoch 3/10\n",
      "124/124 [==============================] - 0s 932us/step - loss: 0.5825 - accuracy: 0.6984 - recall: 0.2363\n",
      "Epoch 4/10\n",
      "124/124 [==============================] - 0s 941us/step - loss: 0.5791 - accuracy: 0.7026 - recall: 0.1833\n",
      "Epoch 5/10\n",
      "124/124 [==============================] - 0s 924us/step - loss: 0.5742 - accuracy: 0.7029 - recall: 0.2126\n",
      "Epoch 6/10\n",
      "124/124 [==============================] - 0s 957us/step - loss: 0.5732 - accuracy: 0.7011 - recall: 0.2244\n",
      "Epoch 7/10\n",
      "124/124 [==============================] - 0s 941us/step - loss: 0.5715 - accuracy: 0.7026 - recall: 0.2265\n",
      "Epoch 8/10\n",
      "124/124 [==============================] - 0s 932us/step - loss: 0.5676 - accuracy: 0.7142 - recall: 0.2564\n",
      "Epoch 9/10\n",
      "124/124 [==============================] - 0s 949us/step - loss: 0.5649 - accuracy: 0.7082 - recall: 0.2185\n",
      "Epoch 10/10\n",
      "124/124 [==============================] - 0s 981us/step - loss: 0.5622 - accuracy: 0.7150 - recall: 0.2663\n",
      "54/54 [==============================] - 0s 753us/step - loss: 0.5943 - accuracy: 0.6865 - recall: 0.2543\n",
      "Test Accuracy: 0.6864705681800842\n",
      "Test Loss: 0.5942938327789307\n",
      "Test Recall: 0.25432345271110535\n",
      "54/54 [==============================] - 0s 640us/step\n"
     ]
    },
    {
     "name": "stderr",
     "output_type": "stream",
     "text": [
      "C:\\Users\\gwent\\AppData\\Local\\Temp\\ipykernel_19588\\1005917253.py:23: FutureWarning: The frame.append method is deprecated and will be removed from pandas in a future version. Use pandas.concat instead.\n",
      "  master_scores = master_scores.append(new_row, ignore_index=True)\n"
     ]
    },
    {
     "data": {
      "text/plain": [
       "array([[1021,  138],\n",
       "       [ 395,  146]], dtype=int64)"
      ]
     },
     "execution_count": 24,
     "metadata": {},
     "output_type": "execute_result"
    }
   ],
   "source": [
    "# Plain Jane + scaled\n",
    "model3 = keras.Sequential([\n",
    "    keras.layers.Dense(64, activation='relu', input_shape=(25,)),\n",
    "    keras.layers.Dense(64, activation='relu'),\n",
    "    keras.layers.Dense(1, activation='sigmoid')\n",
    "])\n",
    "\n",
    "model3.compile(optimizer='adam', \n",
    "             loss='binary_crossentropy',\n",
    "             metrics=['accuracy', 'recall'])\n",
    "\n",
    "model3.fit(X_train_scaled_encoded, y_train, epochs=10, batch_size=32)\n",
    "\n",
    "test_loss, test_acc, test_recall = model3.evaluate(X_test_scaled_encoded, y_test)\n",
    "print('Test Accuracy:', test_acc)\n",
    "print('Test Loss:', test_loss)\n",
    "print('Test Recall:', test_recall)\n",
    "\n",
    "y_pred = model3.predict(X_test_scaled_encoded)\n",
    "y_pred = np.round(y_pred).astype(int)\n",
    "\n",
    "cm = confusion_matrix(y_test, y_pred)\n",
    "add_to_master(\"1 hidden, 64 nodes per, adam, scaled\", y_test, y_pred)\n",
    "cm"
   ]
  },
  {
   "cell_type": "code",
   "execution_count": 25,
   "id": "424d9860",
   "metadata": {
    "scrolled": true
   },
   "outputs": [
    {
     "name": "stdout",
     "output_type": "stream",
     "text": [
      "Epoch 1/10\n",
      "124/124 [==============================] - 0s 851us/step - loss: 0.6276 - accuracy: 0.6734 - recall: 0.0936\n",
      "Epoch 2/10\n",
      "124/124 [==============================] - 0s 868us/step - loss: 0.6014 - accuracy: 0.6873 - recall: 0.1033\n",
      "Epoch 3/10\n",
      "124/124 [==============================] - 0s 868us/step - loss: 0.5932 - accuracy: 0.6923 - recall: 0.1547\n",
      "Epoch 4/10\n",
      "124/124 [==============================] - 0s 892us/step - loss: 0.5888 - accuracy: 0.6905 - recall: 0.1493\n",
      "Epoch 5/10\n",
      "124/124 [==============================] - 0s 859us/step - loss: 0.5859 - accuracy: 0.6961 - recall: 0.1655\n",
      "Epoch 6/10\n",
      "124/124 [==============================] - 0s 876us/step - loss: 0.5837 - accuracy: 0.6981 - recall: 0.1805\n",
      "Epoch 7/10\n",
      "124/124 [==============================] - 0s 876us/step - loss: 0.5819 - accuracy: 0.6968 - recall: 0.1753\n",
      "Epoch 8/10\n",
      "124/124 [==============================] - 0s 876us/step - loss: 0.5806 - accuracy: 0.7009 - recall: 0.1982\n",
      "Epoch 9/10\n",
      "124/124 [==============================] - 0s 868us/step - loss: 0.5784 - accuracy: 0.6991 - recall: 0.1956\n",
      "Epoch 10/10\n",
      "124/124 [==============================] - 0s 876us/step - loss: 0.5781 - accuracy: 0.7034 - recall: 0.1935\n",
      "54/54 [==============================] - 0s 753us/step - loss: 0.5873 - accuracy: 0.6753 - recall: 0.1620\n",
      "Test Accuracy: 0.6752941012382507\n",
      "Test Loss: 0.5873281359672546\n",
      "Test Recall: 0.16203825175762177\n",
      "54/54 [==============================] - 0s 621us/step\n"
     ]
    },
    {
     "name": "stderr",
     "output_type": "stream",
     "text": [
      "C:\\Users\\gwent\\AppData\\Local\\Temp\\ipykernel_19588\\1005917253.py:23: FutureWarning: The frame.append method is deprecated and will be removed from pandas in a future version. Use pandas.concat instead.\n",
      "  master_scores = master_scores.append(new_row, ignore_index=True)\n"
     ]
    },
    {
     "data": {
      "text/plain": [
       "array([[1054,  105],\n",
       "       [ 447,   94]], dtype=int64)"
      ]
     },
     "execution_count": 25,
     "metadata": {},
     "output_type": "execute_result"
    }
   ],
   "source": [
    "# adagrad + scaled \n",
    "model4 = keras.Sequential([\n",
    "    keras.layers.Dense(64, activation='relu', input_shape=(25,)),\n",
    "    keras.layers.Dense(64, activation='relu'),\n",
    "    keras.layers.Dense(1, activation='sigmoid')\n",
    "])\n",
    "\n",
    "# Adagrad better for when feataures vary in magnitude and frequency \n",
    "optimizer = tf.keras.optimizers.Adagrad(learning_rate=0.01)\n",
    "model4.compile(optimizer=optimizer, \n",
    "             loss='binary_crossentropy',\n",
    "             metrics=['accuracy', 'recall'])\n",
    "\n",
    "model4.fit(X_train_scaled_encoded, y_train, epochs=10, batch_size=32)\n",
    "\n",
    "test_loss, test_acc, test_recall = model4.evaluate(X_test_scaled_encoded, y_test)\n",
    "print('Test Accuracy:', test_acc)\n",
    "print('Test Loss:', test_loss)\n",
    "print('Test Recall:', test_recall)\n",
    "\n",
    "y_pred = model4.predict(X_test_scaled_encoded)\n",
    "y_pred = np.round(y_pred).astype(int)\n",
    "\n",
    "cm = confusion_matrix(y_test, y_pred)\n",
    "add_to_master(\"1 hidden, 64 nodes per, adagrad, scaled\", y_test, y_pred)\n",
    "cm"
   ]
  },
  {
   "cell_type": "code",
   "execution_count": 26,
   "id": "49bf0634",
   "metadata": {},
   "outputs": [
    {
     "data": {
      "text/html": [
       "<div>\n",
       "<style scoped>\n",
       "    .dataframe tbody tr th:only-of-type {\n",
       "        vertical-align: middle;\n",
       "    }\n",
       "\n",
       "    .dataframe tbody tr th {\n",
       "        vertical-align: top;\n",
       "    }\n",
       "\n",
       "    .dataframe thead th {\n",
       "        text-align: right;\n",
       "    }\n",
       "</style>\n",
       "<table border=\"1\" class=\"dataframe\">\n",
       "  <thead>\n",
       "    <tr style=\"text-align: right;\">\n",
       "      <th></th>\n",
       "      <th>Model</th>\n",
       "      <th>Recall</th>\n",
       "      <th>F1</th>\n",
       "      <th>Precision</th>\n",
       "      <th>Accuracy</th>\n",
       "    </tr>\n",
       "  </thead>\n",
       "  <tbody>\n",
       "    <tr>\n",
       "      <th>2</th>\n",
       "      <td>1 hidden, 64 nodes per, adam, scaled</td>\n",
       "      <td>0.270</td>\n",
       "      <td>0.354</td>\n",
       "      <td>0.514</td>\n",
       "      <td>0.686</td>\n",
       "    </tr>\n",
       "    <tr>\n",
       "      <th>0</th>\n",
       "      <td>1 hidden, 64 nodes per, adam</td>\n",
       "      <td>0.261</td>\n",
       "      <td>0.343</td>\n",
       "      <td>0.502</td>\n",
       "      <td>0.682</td>\n",
       "    </tr>\n",
       "    <tr>\n",
       "      <th>1</th>\n",
       "      <td>1 hidden, 64 nodes per, adagrad</td>\n",
       "      <td>0.181</td>\n",
       "      <td>0.266</td>\n",
       "      <td>0.500</td>\n",
       "      <td>0.682</td>\n",
       "    </tr>\n",
       "    <tr>\n",
       "      <th>3</th>\n",
       "      <td>1 hidden, 64 nodes per, adagrad, scaled</td>\n",
       "      <td>0.174</td>\n",
       "      <td>0.254</td>\n",
       "      <td>0.472</td>\n",
       "      <td>0.675</td>\n",
       "    </tr>\n",
       "  </tbody>\n",
       "</table>\n",
       "</div>"
      ],
      "text/plain": [
       "                                     Model  Recall     F1  Precision  Accuracy\n",
       "2     1 hidden, 64 nodes per, adam, scaled   0.270  0.354      0.514     0.686\n",
       "0             1 hidden, 64 nodes per, adam   0.261  0.343      0.502     0.682\n",
       "1          1 hidden, 64 nodes per, adagrad   0.181  0.266      0.500     0.682\n",
       "3  1 hidden, 64 nodes per, adagrad, scaled   0.174  0.254      0.472     0.675"
      ]
     },
     "execution_count": 26,
     "metadata": {},
     "output_type": "execute_result"
    }
   ],
   "source": [
    "master_scores.sort_values('Recall', ascending=False)"
   ]
  },
  {
   "cell_type": "code",
   "execution_count": 27,
   "id": "256366ac",
   "metadata": {},
   "outputs": [],
   "source": [
    "def create_mlp(nodes, optimizer, X_train):\n",
    "    # Define the model architecture\n",
    "    model = keras.Sequential([\n",
    "    keras.layers.Dense(nodes, activation='relu', input_shape=(X_train.shape[1],)),\n",
    "    keras.layers.Dense(nodes, activation='relu'),\n",
    "    keras.layers.Dense(1, activation='sigmoid')\n",
    "])\n",
    "\n",
    "    model.compile(optimizer=optimizer, \n",
    "             loss='binary_crossentropy',\n",
    "             metrics=['accuracy', 'recall'])\n",
    "    \n",
    "    return model"
   ]
  },
  {
   "cell_type": "code",
   "execution_count": 28,
   "id": "59ff7897",
   "metadata": {},
   "outputs": [],
   "source": [
    "model5 = create_mlp(100, 'adam', X_train_scaled_encoded)"
   ]
  },
  {
   "cell_type": "code",
   "execution_count": 30,
   "id": "db824e87",
   "metadata": {
    "scrolled": true
   },
   "outputs": [
    {
     "name": "stdout",
     "output_type": "stream",
     "text": [
      "Epoch 1/10\n",
      "124/124 [==============================] - 1s 1ms/step - loss: 0.6141 - accuracy: 0.6709 - recall: 0.0954\n",
      "Epoch 2/10\n",
      "124/124 [==============================] - 0s 1ms/step - loss: 0.5865 - accuracy: 0.6963 - recall: 0.1866\n",
      "Epoch 3/10\n",
      "124/124 [==============================] - 0s 1ms/step - loss: 0.5801 - accuracy: 0.6976 - recall: 0.2339\n",
      "Epoch 4/10\n",
      "124/124 [==============================] - 0s 1ms/step - loss: 0.5754 - accuracy: 0.7019 - recall: 0.1976\n",
      "Epoch 5/10\n",
      "124/124 [==============================] - 0s 1ms/step - loss: 0.5699 - accuracy: 0.7067 - recall: 0.2429\n",
      "Epoch 6/10\n",
      "124/124 [==============================] - 0s 1ms/step - loss: 0.5699 - accuracy: 0.7110 - recall: 0.2607\n",
      "Epoch 7/10\n",
      "124/124 [==============================] - 0s 1ms/step - loss: 0.5672 - accuracy: 0.7082 - recall: 0.2752\n",
      "Epoch 8/10\n",
      "124/124 [==============================] - 0s 1ms/step - loss: 0.5631 - accuracy: 0.7163 - recall: 0.2719\n",
      "Epoch 9/10\n",
      "124/124 [==============================] - 0s 1ms/step - loss: 0.5591 - accuracy: 0.7153 - recall: 0.2585\n",
      "Epoch 10/10\n",
      "124/124 [==============================] - 0s 1ms/step - loss: 0.5554 - accuracy: 0.7148 - recall: 0.2826\n",
      "54/54 [==============================] - 0s 1ms/step - loss: 0.6004 - accuracy: 0.6659 - recall: 0.2633\n",
      "Test Accuracy: 0.6658823490142822\n",
      "Test Loss: 0.6003613471984863\n",
      "Test Recall: 0.2633213698863983\n",
      "54/54 [==============================] - 0s 715us/step\n"
     ]
    },
    {
     "name": "stderr",
     "output_type": "stream",
     "text": [
      "C:\\Users\\gwent\\AppData\\Local\\Temp\\ipykernel_19588\\1005917253.py:23: FutureWarning: The frame.append method is deprecated and will be removed from pandas in a future version. Use pandas.concat instead.\n",
      "  master_scores = master_scores.append(new_row, ignore_index=True)\n"
     ]
    },
    {
     "data": {
      "text/plain": [
       "array([[984, 175],\n",
       "       [393, 148]], dtype=int64)"
      ]
     },
     "execution_count": 30,
     "metadata": {},
     "output_type": "execute_result"
    }
   ],
   "source": [
    "model5.fit(X_train_scaled_encoded, y_train, epochs=10, batch_size=32)\n",
    "\n",
    "test_loss, test_acc, test_recall = model5.evaluate(X_test_scaled_encoded, y_test)\n",
    "print('Test Accuracy:', test_acc)\n",
    "print('Test Loss:', test_loss)\n",
    "print('Test Recall:', test_recall)\n",
    "\n",
    "y_pred = model5.predict(X_test_scaled_encoded)\n",
    "y_pred = np.round(y_pred).astype(int)\n",
    "\n",
    "cm = confusion_matrix(y_test, y_pred)\n",
    "add_to_master(\"1 hidden, 100 nodes, adam\", y_test, y_pred)\n",
    "cm"
   ]
  },
  {
   "cell_type": "code",
   "execution_count": 31,
   "id": "80c22910",
   "metadata": {},
   "outputs": [
    {
     "name": "stdout",
     "output_type": "stream",
     "text": [
      "Epoch 1/10\n",
      "124/124 [==============================] - 0s 989us/step - loss: 0.6270 - accuracy: 0.6593 - recall: 0.0858\n",
      "Epoch 2/10\n",
      "124/124 [==============================] - 0s 908us/step - loss: 0.5947 - accuracy: 0.6880 - recall: 0.0846\n",
      "Epoch 3/10\n",
      "124/124 [==============================] - 0s 908us/step - loss: 0.5894 - accuracy: 0.6943 - recall: 0.1676\n",
      "Epoch 4/10\n",
      "124/124 [==============================] - 0s 892us/step - loss: 0.5842 - accuracy: 0.6933 - recall: 0.1562\n",
      "Epoch 5/10\n",
      "124/124 [==============================] - 0s 923us/step - loss: 0.5800 - accuracy: 0.7006 - recall: 0.1970\n",
      "Epoch 6/10\n",
      "124/124 [==============================] - 0s 932us/step - loss: 0.5778 - accuracy: 0.6974 - recall: 0.2139\n",
      "Epoch 7/10\n",
      "124/124 [==============================] - 0s 884us/step - loss: 0.5759 - accuracy: 0.6986 - recall: 0.2190\n",
      "Epoch 8/10\n",
      "124/124 [==============================] - 0s 900us/step - loss: 0.5732 - accuracy: 0.7011 - recall: 0.2235\n",
      "Epoch 9/10\n",
      "124/124 [==============================] - 0s 908us/step - loss: 0.5710 - accuracy: 0.7009 - recall: 0.2063\n",
      "Epoch 10/10\n",
      "124/124 [==============================] - 0s 1ms/step - loss: 0.5691 - accuracy: 0.7039 - recall: 0.2296\n",
      "54/54 [==============================] - 0s 772us/step - loss: 0.5915 - accuracy: 0.6735 - recall: 0.2202\n",
      "Test Accuracy: 0.6735293865203857\n",
      "Test Loss: 0.591519296169281\n",
      "Test Recall: 0.22015108168125153\n",
      "54/54 [==============================] - 0s 1ms/step\n"
     ]
    },
    {
     "name": "stderr",
     "output_type": "stream",
     "text": [
      "C:\\Users\\gwent\\AppData\\Local\\Temp\\ipykernel_19588\\1005917253.py:23: FutureWarning: The frame.append method is deprecated and will be removed from pandas in a future version. Use pandas.concat instead.\n",
      "  master_scores = master_scores.append(new_row, ignore_index=True)\n"
     ]
    },
    {
     "data": {
      "text/plain": [
       "array([[1019,  140],\n",
       "       [ 415,  126]], dtype=int64)"
      ]
     },
     "execution_count": 31,
     "metadata": {},
     "output_type": "execute_result"
    }
   ],
   "source": [
    "model6 = create_mlp(32, 'adam', X_train_scaled_encoded)\n",
    "model6.fit(X_train_scaled_encoded, y_train, epochs=10, batch_size=32)\n",
    "\n",
    "test_loss, test_acc, test_recall = model6.evaluate(X_test_scaled_encoded, y_test)\n",
    "print('Test Accuracy:', test_acc)\n",
    "print('Test Loss:', test_loss)\n",
    "print('Test Recall:', test_recall)\n",
    "\n",
    "y_pred = model6.predict(X_test_scaled_encoded)\n",
    "y_pred = np.round(y_pred).astype(int)\n",
    "\n",
    "cm = confusion_matrix(y_test, y_pred)\n",
    "add_to_master(\"1 hidden, 32 nodes, adam\", y_test, y_pred)\n",
    "cm"
   ]
  },
  {
   "cell_type": "code",
   "execution_count": 32,
   "id": "77fd69c4",
   "metadata": {
    "scrolled": true
   },
   "outputs": [
    {
     "name": "stdout",
     "output_type": "stream",
     "text": [
      "Epoch 1/10\n",
      "124/124 [==============================] - 1s 1ms/step - loss: 0.6082 - accuracy: 0.6827 - recall: 0.1674\n",
      "Epoch 2/10\n",
      "124/124 [==============================] - 0s 1ms/step - loss: 0.5884 - accuracy: 0.6958 - recall: 0.2142\n",
      "Epoch 3/10\n",
      "124/124 [==============================] - 0s 1ms/step - loss: 0.5803 - accuracy: 0.6991 - recall: 0.2312\n",
      "Epoch 4/10\n",
      "124/124 [==============================] - 0s 1ms/step - loss: 0.5783 - accuracy: 0.7016 - recall: 0.2066\n",
      "Epoch 5/10\n",
      "124/124 [==============================] - 0s 1ms/step - loss: 0.5693 - accuracy: 0.7100 - recall: 0.2474\n",
      "Epoch 6/10\n",
      "124/124 [==============================] - 0s 1ms/step - loss: 0.5703 - accuracy: 0.7082 - recall: 0.2598\n",
      "Epoch 7/10\n",
      "124/124 [==============================] - 0s 1ms/step - loss: 0.5672 - accuracy: 0.7084 - recall: 0.2736\n",
      "Epoch 8/10\n",
      "124/124 [==============================] - 0s 1ms/step - loss: 0.5609 - accuracy: 0.7137 - recall: 0.2802\n",
      "Epoch 9/10\n",
      "124/124 [==============================] - 0s 1ms/step - loss: 0.5555 - accuracy: 0.7145 - recall: 0.2473\n",
      "Epoch 10/10\n",
      "124/124 [==============================] - 0s 1ms/step - loss: 0.5527 - accuracy: 0.7160 - recall: 0.3004\n",
      "54/54 [==============================] - 0s 891us/step - loss: 0.6037 - accuracy: 0.6747 - recall: 0.2816\n",
      "Test Accuracy: 0.6747058629989624\n",
      "Test Loss: 0.6036999225616455\n",
      "Test Recall: 0.28162601590156555\n",
      "54/54 [==============================] - 0s 696us/step\n"
     ]
    },
    {
     "name": "stderr",
     "output_type": "stream",
     "text": [
      "C:\\Users\\gwent\\AppData\\Local\\Temp\\ipykernel_19588\\1005917253.py:23: FutureWarning: The frame.append method is deprecated and will be removed from pandas in a future version. Use pandas.concat instead.\n",
      "  master_scores = master_scores.append(new_row, ignore_index=True)\n"
     ]
    },
    {
     "data": {
      "text/plain": [
       "array([[986, 173],\n",
       "       [380, 161]], dtype=int64)"
      ]
     },
     "execution_count": 32,
     "metadata": {},
     "output_type": "execute_result"
    }
   ],
   "source": [
    "model7 = create_mlp(250, 'adam', X_train_scaled_encoded)\n",
    "model7.fit(X_train_scaled_encoded, y_train, epochs=10, batch_size=32)\n",
    "\n",
    "test_loss, test_acc, test_recall = model7.evaluate(X_test_scaled_encoded, y_test)\n",
    "print('Test Accuracy:', test_acc)\n",
    "print('Test Loss:', test_loss)\n",
    "print('Test Recall:', test_recall)\n",
    "\n",
    "y_pred = model7.predict(X_test_scaled_encoded)\n",
    "y_pred = np.round(y_pred).astype(int)\n",
    "\n",
    "cm = confusion_matrix(y_test, y_pred)\n",
    "add_to_master(\"1 hidden, 250 nodes, adam\", y_test, y_pred)\n",
    "cm"
   ]
  },
  {
   "cell_type": "code",
   "execution_count": 33,
   "id": "4ac07e60",
   "metadata": {
    "scrolled": true
   },
   "outputs": [
    {
     "name": "stdout",
     "output_type": "stream",
     "text": [
      "Epoch 1/10\n",
      "124/124 [==============================] - 0s 1ms/step - loss: 0.6090 - accuracy: 0.6817 - recall: 0.1648\n",
      "Epoch 2/10\n",
      "124/124 [==============================] - 0s 1ms/step - loss: 0.5882 - accuracy: 0.6963 - recall: 0.2078\n",
      "Epoch 3/10\n",
      "124/124 [==============================] - 0s 1ms/step - loss: 0.5797 - accuracy: 0.6968 - recall: 0.2331\n",
      "Epoch 4/10\n",
      "124/124 [==============================] - 0s 1ms/step - loss: 0.5777 - accuracy: 0.6994 - recall: 0.2063\n",
      "Epoch 5/10\n",
      "124/124 [==============================] - 0s 1ms/step - loss: 0.5691 - accuracy: 0.7105 - recall: 0.2526\n",
      "Epoch 6/10\n",
      "124/124 [==============================] - 0s 1ms/step - loss: 0.5713 - accuracy: 0.7042 - recall: 0.2523\n",
      "Epoch 7/10\n",
      "124/124 [==============================] - 0s 1ms/step - loss: 0.5680 - accuracy: 0.7082 - recall: 0.2702\n",
      "Epoch 8/10\n",
      "124/124 [==============================] - 0s 1ms/step - loss: 0.5621 - accuracy: 0.7122 - recall: 0.2652\n",
      "Epoch 9/10\n",
      "124/124 [==============================] - 0s 1ms/step - loss: 0.5561 - accuracy: 0.7125 - recall: 0.2426\n",
      "Epoch 10/10\n",
      "124/124 [==============================] - 0s 1ms/step - loss: 0.5530 - accuracy: 0.7195 - recall: 0.2912\n",
      "54/54 [==============================] - 0s 903us/step - loss: 0.5986 - accuracy: 0.6788 - recall: 0.2660\n",
      "Test Accuracy: 0.6788235306739807\n",
      "Test Loss: 0.598560094833374\n",
      "Test Recall: 0.26604267954826355\n",
      "54/54 [==============================] - 0s 715us/step\n"
     ]
    },
    {
     "name": "stderr",
     "output_type": "stream",
     "text": [
      "C:\\Users\\gwent\\AppData\\Local\\Temp\\ipykernel_19588\\1005917253.py:23: FutureWarning: The frame.append method is deprecated and will be removed from pandas in a future version. Use pandas.concat instead.\n",
      "  master_scores = master_scores.append(new_row, ignore_index=True)\n"
     ]
    },
    {
     "data": {
      "text/plain": [
       "array([[1004,  155],\n",
       "       [ 391,  150]], dtype=int64)"
      ]
     },
     "execution_count": 33,
     "metadata": {},
     "output_type": "execute_result"
    }
   ],
   "source": [
    "# definitely overfits\n",
    "model8 = create_mlp(300, 'adam', X_train_scaled_encoded)\n",
    "model8.fit(X_train_scaled_encoded, y_train, epochs=10, batch_size=32)\n",
    "\n",
    "test_loss, test_acc, test_recall = model8.evaluate(X_test_scaled_encoded, y_test)\n",
    "print('Test Accuracy:', test_acc)\n",
    "print('Test Loss:', test_loss)\n",
    "print('Test Recall:', test_recall)\n",
    "\n",
    "y_pred = model8.predict(X_test_scaled_encoded)\n",
    "y_pred = np.round(y_pred).astype(int)\n",
    "\n",
    "cm = confusion_matrix(y_test, y_pred)\n",
    "add_to_master(\"1 hidden, 300 nodes, adam\", y_test, y_pred)\n",
    "cm"
   ]
  },
  {
   "cell_type": "code",
   "execution_count": 34,
   "id": "08550f15",
   "metadata": {
    "scrolled": true
   },
   "outputs": [
    {
     "data": {
      "text/html": [
       "<div>\n",
       "<style scoped>\n",
       "    .dataframe tbody tr th:only-of-type {\n",
       "        vertical-align: middle;\n",
       "    }\n",
       "\n",
       "    .dataframe tbody tr th {\n",
       "        vertical-align: top;\n",
       "    }\n",
       "\n",
       "    .dataframe thead th {\n",
       "        text-align: right;\n",
       "    }\n",
       "</style>\n",
       "<table border=\"1\" class=\"dataframe\">\n",
       "  <thead>\n",
       "    <tr style=\"text-align: right;\">\n",
       "      <th></th>\n",
       "      <th>Model</th>\n",
       "      <th>Recall</th>\n",
       "      <th>F1</th>\n",
       "      <th>Precision</th>\n",
       "      <th>Accuracy</th>\n",
       "    </tr>\n",
       "  </thead>\n",
       "  <tbody>\n",
       "    <tr>\n",
       "      <th>6</th>\n",
       "      <td>1 hidden, 250 nodes, adam</td>\n",
       "      <td>0.298</td>\n",
       "      <td>0.368</td>\n",
       "      <td>0.482</td>\n",
       "      <td>0.675</td>\n",
       "    </tr>\n",
       "    <tr>\n",
       "      <th>7</th>\n",
       "      <td>1 hidden, 300 nodes, adam</td>\n",
       "      <td>0.277</td>\n",
       "      <td>0.355</td>\n",
       "      <td>0.492</td>\n",
       "      <td>0.679</td>\n",
       "    </tr>\n",
       "    <tr>\n",
       "      <th>4</th>\n",
       "      <td>1 hidden, 100 nodes, adam</td>\n",
       "      <td>0.274</td>\n",
       "      <td>0.343</td>\n",
       "      <td>0.458</td>\n",
       "      <td>0.666</td>\n",
       "    </tr>\n",
       "    <tr>\n",
       "      <th>2</th>\n",
       "      <td>1 hidden, 64 nodes per, adam, scaled</td>\n",
       "      <td>0.270</td>\n",
       "      <td>0.354</td>\n",
       "      <td>0.514</td>\n",
       "      <td>0.686</td>\n",
       "    </tr>\n",
       "    <tr>\n",
       "      <th>0</th>\n",
       "      <td>1 hidden, 64 nodes per, adam</td>\n",
       "      <td>0.261</td>\n",
       "      <td>0.343</td>\n",
       "      <td>0.502</td>\n",
       "      <td>0.682</td>\n",
       "    </tr>\n",
       "    <tr>\n",
       "      <th>5</th>\n",
       "      <td>1 hidden, 32 nodes, adam</td>\n",
       "      <td>0.233</td>\n",
       "      <td>0.312</td>\n",
       "      <td>0.474</td>\n",
       "      <td>0.674</td>\n",
       "    </tr>\n",
       "    <tr>\n",
       "      <th>1</th>\n",
       "      <td>1 hidden, 64 nodes per, adagrad</td>\n",
       "      <td>0.181</td>\n",
       "      <td>0.266</td>\n",
       "      <td>0.500</td>\n",
       "      <td>0.682</td>\n",
       "    </tr>\n",
       "    <tr>\n",
       "      <th>3</th>\n",
       "      <td>1 hidden, 64 nodes per, adagrad, scaled</td>\n",
       "      <td>0.174</td>\n",
       "      <td>0.254</td>\n",
       "      <td>0.472</td>\n",
       "      <td>0.675</td>\n",
       "    </tr>\n",
       "  </tbody>\n",
       "</table>\n",
       "</div>"
      ],
      "text/plain": [
       "                                     Model  Recall     F1  Precision  Accuracy\n",
       "6                1 hidden, 250 nodes, adam   0.298  0.368      0.482     0.675\n",
       "7                1 hidden, 300 nodes, adam   0.277  0.355      0.492     0.679\n",
       "4                1 hidden, 100 nodes, adam   0.274  0.343      0.458     0.666\n",
       "2     1 hidden, 64 nodes per, adam, scaled   0.270  0.354      0.514     0.686\n",
       "0             1 hidden, 64 nodes per, adam   0.261  0.343      0.502     0.682\n",
       "5                 1 hidden, 32 nodes, adam   0.233  0.312      0.474     0.674\n",
       "1          1 hidden, 64 nodes per, adagrad   0.181  0.266      0.500     0.682\n",
       "3  1 hidden, 64 nodes per, adagrad, scaled   0.174  0.254      0.472     0.675"
      ]
     },
     "execution_count": 34,
     "metadata": {},
     "output_type": "execute_result"
    }
   ],
   "source": [
    "master_scores.sort_values('Recall', ascending=False)"
   ]
  },
  {
   "cell_type": "markdown",
   "id": "7feac994",
   "metadata": {},
   "source": [
    "Okay so we are pretty similar in performance to the logistic regression models from cat-pstone 1 on every metric except recall (and the part it plays in F1, of course). Let's see if over or undersampling with the top performing model architecture (model1). "
   ]
  },
  {
   "cell_type": "code",
   "execution_count": 35,
   "id": "07a5b843",
   "metadata": {},
   "outputs": [],
   "source": [
    "from imblearn.under_sampling import RandomUnderSampler\n",
    "from imblearn.over_sampling import RandomOverSampler"
   ]
  },
  {
   "cell_type": "code",
   "execution_count": 36,
   "id": "c4d14da7",
   "metadata": {},
   "outputs": [
    {
     "data": {
      "text/plain": [
       "(3965, 25)"
      ]
     },
     "execution_count": 36,
     "metadata": {},
     "output_type": "execute_result"
    }
   ],
   "source": [
    "X_train_scaled_encoded.shape"
   ]
  },
  {
   "cell_type": "code",
   "execution_count": 37,
   "id": "a3c4ea8e",
   "metadata": {},
   "outputs": [],
   "source": [
    "rus = RandomUnderSampler()\n",
    "X_resampled_rus, y_resampled_rus = rus.fit_resample(X_train_scaled_encoded, y_train)\n",
    "\n",
    "ros = RandomOverSampler()\n",
    "X_resampled_ros, y_resampled_ros = ros.fit_resample(X_train_scaled_encoded, y_train)"
   ]
  },
  {
   "cell_type": "code",
   "execution_count": 38,
   "id": "a2d287c6",
   "metadata": {},
   "outputs": [
    {
     "name": "stdout",
     "output_type": "stream",
     "text": [
      "Epoch 1/10\n",
      "79/79 [==============================] - 0s 908us/step - loss: 0.6752 - accuracy: 0.5860 - recall: 0.5806\n",
      "Epoch 2/10\n",
      "79/79 [==============================] - 0s 908us/step - loss: 0.6497 - accuracy: 0.6228 - recall: 0.6084\n",
      "Epoch 3/10\n",
      "79/79 [==============================] - 0s 921us/step - loss: 0.6425 - accuracy: 0.6343 - recall: 0.6528\n",
      "Epoch 4/10\n",
      "79/79 [==============================] - 0s 921us/step - loss: 0.6359 - accuracy: 0.6371 - recall: 0.6382\n",
      "Epoch 5/10\n",
      "79/79 [==============================] - 0s 921us/step - loss: 0.6322 - accuracy: 0.6438 - recall: 0.6356\n",
      "Epoch 6/10\n",
      "79/79 [==============================] - 0s 921us/step - loss: 0.6284 - accuracy: 0.6545 - recall: 0.6800\n",
      "Epoch 7/10\n",
      "79/79 [==============================] - 0s 933us/step - loss: 0.6232 - accuracy: 0.6529 - recall: 0.6482\n",
      "Epoch 8/10\n",
      "79/79 [==============================] - 0s 946us/step - loss: 0.6188 - accuracy: 0.6636 - recall: 0.6866\n",
      "Epoch 9/10\n",
      "79/79 [==============================] - 0s 1ms/step - loss: 0.6182 - accuracy: 0.6589 - recall: 0.6622\n",
      "Epoch 10/10\n",
      "79/79 [==============================] - 0s 977us/step - loss: 0.6145 - accuracy: 0.6628 - recall: 0.6698\n",
      "54/54 [==============================] - 0s 659us/step\n"
     ]
    },
    {
     "name": "stderr",
     "output_type": "stream",
     "text": [
      "C:\\Users\\gwent\\AppData\\Local\\Temp\\ipykernel_19588\\1005917253.py:23: FutureWarning: The frame.append method is deprecated and will be removed from pandas in a future version. Use pandas.concat instead.\n",
      "  master_scores = master_scores.append(new_row, ignore_index=True)\n"
     ]
    },
    {
     "data": {
      "text/plain": [
       "array([[722, 437],\n",
       "       [217, 324]], dtype=int64)"
      ]
     },
     "execution_count": 38,
     "metadata": {},
     "output_type": "execute_result"
    }
   ],
   "source": [
    "# RUS \n",
    "model9 = create_mlp(64, 'adam', X_train_scaled_encoded)\n",
    "model9.fit(X_resampled_rus, y_resampled_rus, epochs=10, batch_size=32)\n",
    "\n",
    "y_pred = model9.predict(X_test_scaled_encoded)\n",
    "y_pred = np.round(y_pred).astype(int)\n",
    "\n",
    "cm = confusion_matrix(y_test, y_pred)\n",
    "add_to_master(\"RUS 1 hidden, 64 nodes, adam\", y_test, y_pred)\n",
    "cm"
   ]
  },
  {
   "cell_type": "code",
   "execution_count": 39,
   "id": "bf60768f",
   "metadata": {},
   "outputs": [
    {
     "name": "stdout",
     "output_type": "stream",
     "text": [
      "Epoch 1/10\n",
      "169/169 [==============================] - 0s 885us/step - loss: 0.6656 - accuracy: 0.5982 - recall: 0.5904\n",
      "Epoch 2/10\n",
      "169/169 [==============================] - 0s 908us/step - loss: 0.6437 - accuracy: 0.6343 - recall: 0.6210\n",
      "Epoch 3/10\n",
      "169/169 [==============================] - 0s 926us/step - loss: 0.6367 - accuracy: 0.6411 - recall: 0.6393\n",
      "Epoch 4/10\n",
      "169/169 [==============================] - 0s 938us/step - loss: 0.6302 - accuracy: 0.6482 - recall: 0.6408\n",
      "Epoch 5/10\n",
      "169/169 [==============================] - 0s 914us/step - loss: 0.6214 - accuracy: 0.6539 - recall: 0.6399\n",
      "Epoch 6/10\n",
      "169/169 [==============================] - 0s 968us/step - loss: 0.6183 - accuracy: 0.6583 - recall: 0.6615\n",
      "Epoch 7/10\n",
      "169/169 [==============================] - 0s 1ms/step - loss: 0.6141 - accuracy: 0.6539 - recall: 0.6499\n",
      "Epoch 8/10\n",
      "169/169 [==============================] - 0s 944us/step - loss: 0.6099 - accuracy: 0.6643 - recall: 0.6497\n",
      "Epoch 9/10\n",
      "169/169 [==============================] - 0s 914us/step - loss: 0.6058 - accuracy: 0.6676 - recall: 0.6669\n",
      "Epoch 10/10\n",
      "169/169 [==============================] - 0s 914us/step - loss: 0.6015 - accuracy: 0.6693 - recall: 0.6774\n",
      "54/54 [==============================] - 0s 621us/step\n"
     ]
    },
    {
     "name": "stderr",
     "output_type": "stream",
     "text": [
      "C:\\Users\\gwent\\AppData\\Local\\Temp\\ipykernel_19588\\1005917253.py:23: FutureWarning: The frame.append method is deprecated and will be removed from pandas in a future version. Use pandas.concat instead.\n",
      "  master_scores = master_scores.append(new_row, ignore_index=True)\n"
     ]
    },
    {
     "data": {
      "text/plain": [
       "array([[785, 374],\n",
       "       [258, 283]], dtype=int64)"
      ]
     },
     "execution_count": 39,
     "metadata": {},
     "output_type": "execute_result"
    }
   ],
   "source": [
    "# ROS \n",
    "model10 = create_mlp(64, 'adam', X_train_scaled_encoded)\n",
    "model10.fit(X_resampled_ros, y_resampled_ros, epochs=10, batch_size=32)\n",
    "\n",
    "y_pred = model10.predict(X_test_scaled_encoded)\n",
    "y_pred = np.round(y_pred).astype(int)\n",
    "\n",
    "cm = confusion_matrix(y_test, y_pred)\n",
    "add_to_master(\"ROS 1 hidden, 64 nodes, adam\", y_test, y_pred)\n",
    "cm"
   ]
  },
  {
   "cell_type": "code",
   "execution_count": 40,
   "id": "ee074722",
   "metadata": {},
   "outputs": [
    {
     "name": "stdout",
     "output_type": "stream",
     "text": [
      "Epoch 1/10\n",
      "101/101 [==============================] - 0s 947us/step - loss: 0.6770 - accuracy: 0.5899 - recall: 0.5762\n",
      "Epoch 2/10\n",
      "101/101 [==============================] - 0s 967us/step - loss: 0.6512 - accuracy: 0.6244 - recall: 0.6237\n",
      "Epoch 3/10\n",
      "101/101 [==============================] - 0s 928us/step - loss: 0.6442 - accuracy: 0.6331 - recall: 0.6398\n",
      "Epoch 4/10\n",
      "101/101 [==============================] - 0s 918us/step - loss: 0.6375 - accuracy: 0.6426 - recall: 0.6361\n",
      "Epoch 5/10\n",
      "101/101 [==============================] - 0s 908us/step - loss: 0.6335 - accuracy: 0.6506 - recall: 0.6458\n",
      "Epoch 6/10\n",
      "101/101 [==============================] - 0s 928us/step - loss: 0.6271 - accuracy: 0.6494 - recall: 0.6464\n",
      "Epoch 7/10\n",
      "101/101 [==============================] - 0s 937us/step - loss: 0.6241 - accuracy: 0.6565 - recall: 0.6579\n",
      "Epoch 8/10\n",
      "101/101 [==============================] - 0s 918us/step - loss: 0.6192 - accuracy: 0.6609 - recall: 0.6550\n",
      "Epoch 9/10\n",
      "101/101 [==============================] - 0s 928us/step - loss: 0.6193 - accuracy: 0.6565 - recall: 0.6452\n",
      "Epoch 10/10\n",
      "101/101 [==============================] - 0s 918us/step - loss: 0.6137 - accuracy: 0.6577 - recall: 0.6547\n",
      "54/54 [==============================] - 0s 621us/step\n"
     ]
    },
    {
     "name": "stderr",
     "output_type": "stream",
     "text": [
      "C:\\Users\\gwent\\AppData\\Local\\Temp\\ipykernel_19588\\1005917253.py:23: FutureWarning: The frame.append method is deprecated and will be removed from pandas in a future version. Use pandas.concat instead.\n",
      "  master_scores = master_scores.append(new_row, ignore_index=True)\n"
     ]
    },
    {
     "data": {
      "text/plain": [
       "array([[742, 417],\n",
       "       [240, 301]], dtype=int64)"
      ]
     },
     "execution_count": 40,
     "metadata": {},
     "output_type": "execute_result"
    }
   ],
   "source": [
    "# RUS \n",
    "model11 = create_mlp(64, 'adam', X_train_scaled_encoded)\n",
    "model11.fit(X_resampled_rus, y_resampled_rus, epochs=10, batch_size=25)\n",
    "\n",
    "y_pred = model11.predict(X_test_scaled_encoded)\n",
    "y_pred = np.round(y_pred).astype(int)\n",
    "\n",
    "cm = confusion_matrix(y_test, y_pred)\n",
    "add_to_master(\"RUS, adam, batch 25\", y_test, y_pred)\n",
    "cm"
   ]
  },
  {
   "cell_type": "code",
   "execution_count": 42,
   "id": "54c1c351",
   "metadata": {},
   "outputs": [
    {
     "data": {
      "text/plain": [
       "(3965, 1)"
      ]
     },
     "execution_count": 42,
     "metadata": {},
     "output_type": "execute_result"
    }
   ],
   "source": [
    "y_train.shape"
   ]
  },
  {
   "cell_type": "markdown",
   "id": "61b523c2",
   "metadata": {},
   "source": [
    "## out of curiosity, does MLP still predict closely to logistic regression with grooming dropped?"
   ]
  },
  {
   "cell_type": "code",
   "execution_count": 44,
   "id": "90852399",
   "metadata": {},
   "outputs": [
    {
     "name": "stdout",
     "output_type": "stream",
     "text": [
      "(3965, 6)\n",
      "(1700, 6)\n",
      "(3965, 24)\n",
      "(1700, 24)\n",
      "(3965, 25)\n",
      "(1700, 25)\n"
     ]
    }
   ],
   "source": [
    "X_train_no_groom = X_train.drop(columns=['Grooming'])\n",
    "X_test_no_groom = X_test.drop(columns=['Grooming'])\n",
    "\n",
    "print(X_train_no_groom.shape)\n",
    "print(X_test_no_groom.shape)\n",
    "\n",
    "# one-hot breed \n",
    "X_train_encoded_no_groom = pd.get_dummies(X_train_no_groom, columns=['Breed_group'])\n",
    "X_test_encoded_no_groom = pd.get_dummies(X_test_no_groom, columns=['Breed_group'])\n",
    "\n",
    "print(X_train_encoded_no_groom.shape)\n",
    "print(X_test_encoded_no_groom.shape)\n",
    "\n",
    "scaler = StandardScaler()\n",
    "scaler.fit(X_train_encoded)\n",
    "X_train_scaled_encoded_ng = scaler.transform(X_train_encoded)\n",
    "X_test_scaled_encoded_ng = scaler.transform(X_test_encoded)\n",
    "\n",
    "print(X_train_scaled_encoded_ng.shape)\n",
    "print(X_test_scaled_encoded_ng.shape)\n",
    "\n",
    "rus = RandomUnderSampler()\n",
    "X_resampled_rus_ng, y_resampled_rus_ng = rus.fit_resample(X_train_scaled_encoded, y_train)"
   ]
  },
  {
   "cell_type": "code",
   "execution_count": 45,
   "id": "4d2c6f4c",
   "metadata": {},
   "outputs": [
    {
     "name": "stdout",
     "output_type": "stream",
     "text": [
      "(3965, 25)\n",
      "(2524, 25)\n",
      "(3965, 25)\n"
     ]
    }
   ],
   "source": [
    "print(X_train_scaled_encoded_ng.shape)\n",
    "print(X_resampled_rus_ng.shape)\n",
    "print(X_train_scaled_encoded.shape)"
   ]
  },
  {
   "cell_type": "code",
   "execution_count": 46,
   "id": "1cff7735",
   "metadata": {},
   "outputs": [
    {
     "name": "stdout",
     "output_type": "stream",
     "text": [
      "Epoch 1/10\n",
      "79/79 [==============================] - 0s 895us/step - loss: 0.6794 - accuracy: 0.5836 - recall: 0.6108\n",
      "Epoch 2/10\n",
      "79/79 [==============================] - 0s 946us/step - loss: 0.6560 - accuracy: 0.6090 - recall: 0.6237\n",
      "Epoch 3/10\n",
      "79/79 [==============================] - 0s 933us/step - loss: 0.6499 - accuracy: 0.6268 - recall: 0.6349\n",
      "Epoch 4/10\n",
      "79/79 [==============================] - 0s 921us/step - loss: 0.6457 - accuracy: 0.6288 - recall: 0.6319\n",
      "Epoch 5/10\n",
      "79/79 [==============================] - 0s 933us/step - loss: 0.6410 - accuracy: 0.6367 - recall: 0.6397\n",
      "Epoch 6/10\n",
      "79/79 [==============================] - 0s 933us/step - loss: 0.6375 - accuracy: 0.6383 - recall: 0.6510\n",
      "Epoch 7/10\n",
      "79/79 [==============================] - 0s 921us/step - loss: 0.6335 - accuracy: 0.6359 - recall: 0.6273\n",
      "Epoch 8/10\n",
      "79/79 [==============================] - 0s 933us/step - loss: 0.6298 - accuracy: 0.6426 - recall: 0.6493\n",
      "Epoch 9/10\n",
      "79/79 [==============================] - 0s 972us/step - loss: 0.6307 - accuracy: 0.6462 - recall: 0.6325\n",
      "Epoch 10/10\n",
      "79/79 [==============================] - 0s 921us/step - loss: 0.6250 - accuracy: 0.6521 - recall: 0.6596\n",
      "54/54 [==============================] - 0s 640us/step\n"
     ]
    },
    {
     "name": "stderr",
     "output_type": "stream",
     "text": [
      "C:\\Users\\gwent\\AppData\\Local\\Temp\\ipykernel_19588\\1005917253.py:23: FutureWarning: The frame.append method is deprecated and will be removed from pandas in a future version. Use pandas.concat instead.\n",
      "  master_scores = master_scores.append(new_row, ignore_index=True)\n"
     ]
    },
    {
     "data": {
      "text/plain": [
       "array([[747, 412],\n",
       "       [216, 325]], dtype=int64)"
      ]
     },
     "execution_count": 46,
     "metadata": {},
     "output_type": "execute_result"
    }
   ],
   "source": [
    "# RUS 64 adam scaled no grooming\n",
    "model11 = create_mlp(64, 'adam', X_resampled_rus_ng)\n",
    "model11.fit(X_resampled_rus_ng, y_resampled_rus_ng, epochs=10, batch_size=32)\n",
    "\n",
    "y_pred = model11.predict(X_test_scaled_encoded_ng)\n",
    "y_pred = np.round(y_pred).astype(int)\n",
    "\n",
    "cm = confusion_matrix(y_test, y_pred)\n",
    "add_to_master(\"no groom, RUS, 64, adam\", y_test, y_pred)\n",
    "cm"
   ]
  },
  {
   "cell_type": "code",
   "execution_count": 47,
   "id": "3b86763e",
   "metadata": {},
   "outputs": [
    {
     "data": {
      "text/html": [
       "<div>\n",
       "<style scoped>\n",
       "    .dataframe tbody tr th:only-of-type {\n",
       "        vertical-align: middle;\n",
       "    }\n",
       "\n",
       "    .dataframe tbody tr th {\n",
       "        vertical-align: top;\n",
       "    }\n",
       "\n",
       "    .dataframe thead th {\n",
       "        text-align: right;\n",
       "    }\n",
       "</style>\n",
       "<table border=\"1\" class=\"dataframe\">\n",
       "  <thead>\n",
       "    <tr style=\"text-align: right;\">\n",
       "      <th></th>\n",
       "      <th>Model</th>\n",
       "      <th>Recall</th>\n",
       "      <th>F1</th>\n",
       "      <th>Precision</th>\n",
       "      <th>Accuracy</th>\n",
       "    </tr>\n",
       "  </thead>\n",
       "  <tbody>\n",
       "    <tr>\n",
       "      <th>11</th>\n",
       "      <td>no groom, RUS, 64, adam</td>\n",
       "      <td>0.601</td>\n",
       "      <td>0.509</td>\n",
       "      <td>0.441</td>\n",
       "      <td>0.631</td>\n",
       "    </tr>\n",
       "    <tr>\n",
       "      <th>8</th>\n",
       "      <td>RUS 1 hidden, 64 nodes, adam</td>\n",
       "      <td>0.599</td>\n",
       "      <td>0.498</td>\n",
       "      <td>0.426</td>\n",
       "      <td>0.615</td>\n",
       "    </tr>\n",
       "    <tr>\n",
       "      <th>10</th>\n",
       "      <td>RUS, adam, batch 25</td>\n",
       "      <td>0.556</td>\n",
       "      <td>0.478</td>\n",
       "      <td>0.419</td>\n",
       "      <td>0.614</td>\n",
       "    </tr>\n",
       "    <tr>\n",
       "      <th>9</th>\n",
       "      <td>ROS 1 hidden, 64 nodes, adam</td>\n",
       "      <td>0.523</td>\n",
       "      <td>0.472</td>\n",
       "      <td>0.431</td>\n",
       "      <td>0.628</td>\n",
       "    </tr>\n",
       "    <tr>\n",
       "      <th>6</th>\n",
       "      <td>1 hidden, 250 nodes, adam</td>\n",
       "      <td>0.298</td>\n",
       "      <td>0.368</td>\n",
       "      <td>0.482</td>\n",
       "      <td>0.675</td>\n",
       "    </tr>\n",
       "  </tbody>\n",
       "</table>\n",
       "</div>"
      ],
      "text/plain": [
       "                           Model  Recall     F1  Precision  Accuracy\n",
       "11       no groom, RUS, 64, adam   0.601  0.509      0.441     0.631\n",
       "8   RUS 1 hidden, 64 nodes, adam   0.599  0.498      0.426     0.615\n",
       "10           RUS, adam, batch 25   0.556  0.478      0.419     0.614\n",
       "9   ROS 1 hidden, 64 nodes, adam   0.523  0.472      0.431     0.628\n",
       "6      1 hidden, 250 nodes, adam   0.298  0.368      0.482     0.675"
      ]
     },
     "execution_count": 47,
     "metadata": {},
     "output_type": "execute_result"
    }
   ],
   "source": [
    "master_scores.sort_values('Recall', ascending=False).head()"
   ]
  },
  {
   "cell_type": "code",
   "execution_count": 48,
   "id": "4976187b",
   "metadata": {},
   "outputs": [
    {
     "name": "stdout",
     "output_type": "stream",
     "text": [
      "Epoch 1/10\n",
      "169/169 [==============================] - 0s 926us/step - loss: 0.5968 - accuracy: 0.6726 - recall: 0.6762\n",
      "Epoch 2/10\n",
      "169/169 [==============================] - 0s 932us/step - loss: 0.5929 - accuracy: 0.6765 - recall: 0.6864\n",
      "Epoch 3/10\n",
      "169/169 [==============================] - 0s 920us/step - loss: 0.5912 - accuracy: 0.6829 - recall: 0.6990\n",
      "Epoch 4/10\n",
      "169/169 [==============================] - 0s 932us/step - loss: 0.5881 - accuracy: 0.6811 - recall: 0.6870\n",
      "Epoch 5/10\n",
      "169/169 [==============================] - 0s 920us/step - loss: 0.5797 - accuracy: 0.6926 - recall: 0.7016\n",
      "Epoch 6/10\n",
      "169/169 [==============================] - 0s 938us/step - loss: 0.5791 - accuracy: 0.6907 - recall: 0.7088\n",
      "Epoch 7/10\n",
      "169/169 [==============================] - 0s 938us/step - loss: 0.5758 - accuracy: 0.6894 - recall: 0.6979\n",
      "Epoch 8/10\n",
      "169/169 [==============================] - 0s 1ms/step - loss: 0.5727 - accuracy: 0.6948 - recall: 0.7014\n",
      "Epoch 9/10\n",
      "169/169 [==============================] - 0s 1ms/step - loss: 0.5687 - accuracy: 0.6974 - recall: 0.7098\n",
      "Epoch 10/10\n",
      "169/169 [==============================] - 0s 991us/step - loss: 0.5660 - accuracy: 0.6990 - recall: 0.7195\n",
      "54/54 [==============================] - 0s 621us/step\n"
     ]
    }
   ],
   "source": [
    "import time\n",
    "# training time \n",
    "start = time.time()\n",
    "model10.fit(X_resampled_ros, y_resampled_ros, epochs=10, batch_size=32)\n",
    "end = time.time()\n",
    "training_time = end - start\n",
    "\n",
    "p_start = time.time()\n",
    "y_pred = model10.predict(X_test_encoded)\n",
    "p_end = time.time()\n",
    "predict_time = p_end - p_start"
   ]
  },
  {
   "cell_type": "markdown",
   "id": "0269bf91",
   "metadata": {},
   "source": [
    "# Comparing to a Logistic Regression\n",
    "In Cat-pstone 1 I had did not prune down the columns nearly as much. I want to see how it does with this new training set. "
   ]
  },
  {
   "cell_type": "code",
   "execution_count": 49,
   "id": "b35e1a01",
   "metadata": {},
   "outputs": [
    {
     "name": "stderr",
     "output_type": "stream",
     "text": [
      "C:\\Users\\gwent\\AppData\\Local\\Temp\\ipykernel_19588\\1005917253.py:23: FutureWarning: The frame.append method is deprecated and will be removed from pandas in a future version. Use pandas.concat instead.\n",
      "  master_scores = master_scores.append(new_row, ignore_index=True)\n"
     ]
    },
    {
     "data": {
      "text/html": [
       "<div>\n",
       "<style scoped>\n",
       "    .dataframe tbody tr th:only-of-type {\n",
       "        vertical-align: middle;\n",
       "    }\n",
       "\n",
       "    .dataframe tbody tr th {\n",
       "        vertical-align: top;\n",
       "    }\n",
       "\n",
       "    .dataframe thead th {\n",
       "        text-align: right;\n",
       "    }\n",
       "</style>\n",
       "<table border=\"1\" class=\"dataframe\">\n",
       "  <thead>\n",
       "    <tr style=\"text-align: right;\">\n",
       "      <th></th>\n",
       "      <th>Model</th>\n",
       "      <th>Recall</th>\n",
       "      <th>F1</th>\n",
       "      <th>Precision</th>\n",
       "      <th>Accuracy</th>\n",
       "    </tr>\n",
       "  </thead>\n",
       "  <tbody>\n",
       "    <tr>\n",
       "      <th>0</th>\n",
       "      <td>1 hidden, 64 nodes per, adam</td>\n",
       "      <td>0.261</td>\n",
       "      <td>0.343</td>\n",
       "      <td>0.502</td>\n",
       "      <td>0.682</td>\n",
       "    </tr>\n",
       "    <tr>\n",
       "      <th>1</th>\n",
       "      <td>1 hidden, 64 nodes per, adagrad</td>\n",
       "      <td>0.181</td>\n",
       "      <td>0.266</td>\n",
       "      <td>0.500</td>\n",
       "      <td>0.682</td>\n",
       "    </tr>\n",
       "    <tr>\n",
       "      <th>2</th>\n",
       "      <td>1 hidden, 64 nodes per, adam, scaled</td>\n",
       "      <td>0.270</td>\n",
       "      <td>0.354</td>\n",
       "      <td>0.514</td>\n",
       "      <td>0.686</td>\n",
       "    </tr>\n",
       "    <tr>\n",
       "      <th>3</th>\n",
       "      <td>1 hidden, 64 nodes per, adagrad, scaled</td>\n",
       "      <td>0.174</td>\n",
       "      <td>0.254</td>\n",
       "      <td>0.472</td>\n",
       "      <td>0.675</td>\n",
       "    </tr>\n",
       "    <tr>\n",
       "      <th>4</th>\n",
       "      <td>1 hidden, 100 nodes, adam</td>\n",
       "      <td>0.274</td>\n",
       "      <td>0.343</td>\n",
       "      <td>0.458</td>\n",
       "      <td>0.666</td>\n",
       "    </tr>\n",
       "    <tr>\n",
       "      <th>5</th>\n",
       "      <td>1 hidden, 32 nodes, adam</td>\n",
       "      <td>0.233</td>\n",
       "      <td>0.312</td>\n",
       "      <td>0.474</td>\n",
       "      <td>0.674</td>\n",
       "    </tr>\n",
       "    <tr>\n",
       "      <th>6</th>\n",
       "      <td>1 hidden, 250 nodes, adam</td>\n",
       "      <td>0.298</td>\n",
       "      <td>0.368</td>\n",
       "      <td>0.482</td>\n",
       "      <td>0.675</td>\n",
       "    </tr>\n",
       "    <tr>\n",
       "      <th>7</th>\n",
       "      <td>1 hidden, 300 nodes, adam</td>\n",
       "      <td>0.277</td>\n",
       "      <td>0.355</td>\n",
       "      <td>0.492</td>\n",
       "      <td>0.679</td>\n",
       "    </tr>\n",
       "    <tr>\n",
       "      <th>8</th>\n",
       "      <td>RUS 1 hidden, 64 nodes, adam</td>\n",
       "      <td>0.599</td>\n",
       "      <td>0.498</td>\n",
       "      <td>0.426</td>\n",
       "      <td>0.615</td>\n",
       "    </tr>\n",
       "    <tr>\n",
       "      <th>9</th>\n",
       "      <td>ROS 1 hidden, 64 nodes, adam</td>\n",
       "      <td>0.523</td>\n",
       "      <td>0.472</td>\n",
       "      <td>0.431</td>\n",
       "      <td>0.628</td>\n",
       "    </tr>\n",
       "    <tr>\n",
       "      <th>10</th>\n",
       "      <td>RUS, adam, batch 25</td>\n",
       "      <td>0.556</td>\n",
       "      <td>0.478</td>\n",
       "      <td>0.419</td>\n",
       "      <td>0.614</td>\n",
       "    </tr>\n",
       "    <tr>\n",
       "      <th>11</th>\n",
       "      <td>no groom, RUS, 64, adam</td>\n",
       "      <td>0.601</td>\n",
       "      <td>0.509</td>\n",
       "      <td>0.441</td>\n",
       "      <td>0.631</td>\n",
       "    </tr>\n",
       "    <tr>\n",
       "      <th>12</th>\n",
       "      <td>class_weight='balanced', LogReg</td>\n",
       "      <td>0.588</td>\n",
       "      <td>0.502</td>\n",
       "      <td>0.438</td>\n",
       "      <td>0.629</td>\n",
       "    </tr>\n",
       "  </tbody>\n",
       "</table>\n",
       "</div>"
      ],
      "text/plain": [
       "                                      Model  Recall     F1  Precision  \\\n",
       "0              1 hidden, 64 nodes per, adam   0.261  0.343      0.502   \n",
       "1           1 hidden, 64 nodes per, adagrad   0.181  0.266      0.500   \n",
       "2      1 hidden, 64 nodes per, adam, scaled   0.270  0.354      0.514   \n",
       "3   1 hidden, 64 nodes per, adagrad, scaled   0.174  0.254      0.472   \n",
       "4                 1 hidden, 100 nodes, adam   0.274  0.343      0.458   \n",
       "5                  1 hidden, 32 nodes, adam   0.233  0.312      0.474   \n",
       "6                 1 hidden, 250 nodes, adam   0.298  0.368      0.482   \n",
       "7                 1 hidden, 300 nodes, adam   0.277  0.355      0.492   \n",
       "8              RUS 1 hidden, 64 nodes, adam   0.599  0.498      0.426   \n",
       "9              ROS 1 hidden, 64 nodes, adam   0.523  0.472      0.431   \n",
       "10                      RUS, adam, batch 25   0.556  0.478      0.419   \n",
       "11                  no groom, RUS, 64, adam   0.601  0.509      0.441   \n",
       "12          class_weight='balanced', LogReg   0.588  0.502      0.438   \n",
       "\n",
       "    Accuracy  \n",
       "0      0.682  \n",
       "1      0.682  \n",
       "2      0.686  \n",
       "3      0.675  \n",
       "4      0.666  \n",
       "5      0.674  \n",
       "6      0.675  \n",
       "7      0.679  \n",
       "8      0.615  \n",
       "9      0.628  \n",
       "10     0.614  \n",
       "11     0.631  \n",
       "12     0.629  "
      ]
     },
     "execution_count": 49,
     "metadata": {},
     "output_type": "execute_result"
    }
   ],
   "source": [
    "from sklearn.linear_model import LogisticRegression\n",
    "\n",
    "# fit model, + training time \n",
    "t_start = time.time()\n",
    "log_balanced = LogisticRegression(class_weight='balanced').fit(X_train_encoded, (y_train.values.reshape(-1)))\n",
    "t_end = time.time()\n",
    "log_training = t_end - t_start\n",
    "\n",
    "# predict w model, + prediction time \n",
    "p_start = time.time()\n",
    "y_pred = log_balanced.predict(X_test_encoded)\n",
    "p_end = time.time()\n",
    "log_predict = p_end - p_start \n",
    "\n",
    "# add_to_master(model_description, y_true, y_predicted, binary=True)\n",
    "add_to_master(\"class_weight='balanced', LogReg\", y_test, y_pred)"
   ]
  },
  {
   "cell_type": "code",
   "execution_count": 50,
   "id": "ceb01be9",
   "metadata": {},
   "outputs": [
    {
     "name": "stderr",
     "output_type": "stream",
     "text": [
      "C:\\Users\\gwent\\anaconda3\\envs\\wool_sucking_nn\\lib\\site-packages\\sklearn\\base.py:439: UserWarning: X does not have valid feature names, but LogisticRegression was fitted with feature names\n",
      "  warnings.warn(\n",
      "C:\\Users\\gwent\\AppData\\Local\\Temp\\ipykernel_19588\\1005917253.py:23: FutureWarning: The frame.append method is deprecated and will be removed from pandas in a future version. Use pandas.concat instead.\n",
      "  master_scores = master_scores.append(new_row, ignore_index=True)\n"
     ]
    }
   ],
   "source": [
    "# scaled and logistic regression\n",
    "log_balanced_scaled = LogisticRegression(class_weight='balanced').fit(X_train_encoded, (y_train.values.reshape(-1)))\n",
    "y_pred = log_balanced_scaled.predict(X_test_scaled_encoded)\n",
    "\n",
    "# add_to_master(model_description, y_true, y_predicted, binary=True)\n",
    "add_to_master(\"class_weight='balanced', LogReg, scaled\", y_test, y_pred);"
   ]
  },
  {
   "cell_type": "code",
   "execution_count": 51,
   "id": "cb776519",
   "metadata": {},
   "outputs": [
    {
     "name": "stderr",
     "output_type": "stream",
     "text": [
      "C:\\Users\\gwent\\anaconda3\\envs\\wool_sucking_nn\\lib\\site-packages\\sklearn\\utils\\validation.py:1143: DataConversionWarning: A column-vector y was passed when a 1d array was expected. Please change the shape of y to (n_samples, ), for example using ravel().\n",
      "  y = column_or_1d(y, warn=True)\n",
      "C:\\Users\\gwent\\AppData\\Local\\Temp\\ipykernel_19588\\1005917253.py:23: FutureWarning: The frame.append method is deprecated and will be removed from pandas in a future version. Use pandas.concat instead.\n",
      "  master_scores = master_scores.append(new_row, ignore_index=True)\n"
     ]
    },
    {
     "data": {
      "text/html": [
       "<div>\n",
       "<style scoped>\n",
       "    .dataframe tbody tr th:only-of-type {\n",
       "        vertical-align: middle;\n",
       "    }\n",
       "\n",
       "    .dataframe tbody tr th {\n",
       "        vertical-align: top;\n",
       "    }\n",
       "\n",
       "    .dataframe thead th {\n",
       "        text-align: right;\n",
       "    }\n",
       "</style>\n",
       "<table border=\"1\" class=\"dataframe\">\n",
       "  <thead>\n",
       "    <tr style=\"text-align: right;\">\n",
       "      <th></th>\n",
       "      <th>Model</th>\n",
       "      <th>Recall</th>\n",
       "      <th>F1</th>\n",
       "      <th>Precision</th>\n",
       "      <th>Accuracy</th>\n",
       "    </tr>\n",
       "  </thead>\n",
       "  <tbody>\n",
       "    <tr>\n",
       "      <th>0</th>\n",
       "      <td>1 hidden, 64 nodes per, adam</td>\n",
       "      <td>0.261</td>\n",
       "      <td>0.343</td>\n",
       "      <td>0.502</td>\n",
       "      <td>0.682</td>\n",
       "    </tr>\n",
       "    <tr>\n",
       "      <th>1</th>\n",
       "      <td>1 hidden, 64 nodes per, adagrad</td>\n",
       "      <td>0.181</td>\n",
       "      <td>0.266</td>\n",
       "      <td>0.500</td>\n",
       "      <td>0.682</td>\n",
       "    </tr>\n",
       "    <tr>\n",
       "      <th>2</th>\n",
       "      <td>1 hidden, 64 nodes per, adam, scaled</td>\n",
       "      <td>0.270</td>\n",
       "      <td>0.354</td>\n",
       "      <td>0.514</td>\n",
       "      <td>0.686</td>\n",
       "    </tr>\n",
       "    <tr>\n",
       "      <th>3</th>\n",
       "      <td>1 hidden, 64 nodes per, adagrad, scaled</td>\n",
       "      <td>0.174</td>\n",
       "      <td>0.254</td>\n",
       "      <td>0.472</td>\n",
       "      <td>0.675</td>\n",
       "    </tr>\n",
       "    <tr>\n",
       "      <th>4</th>\n",
       "      <td>1 hidden, 100 nodes, adam</td>\n",
       "      <td>0.274</td>\n",
       "      <td>0.343</td>\n",
       "      <td>0.458</td>\n",
       "      <td>0.666</td>\n",
       "    </tr>\n",
       "    <tr>\n",
       "      <th>5</th>\n",
       "      <td>1 hidden, 32 nodes, adam</td>\n",
       "      <td>0.233</td>\n",
       "      <td>0.312</td>\n",
       "      <td>0.474</td>\n",
       "      <td>0.674</td>\n",
       "    </tr>\n",
       "    <tr>\n",
       "      <th>6</th>\n",
       "      <td>1 hidden, 250 nodes, adam</td>\n",
       "      <td>0.298</td>\n",
       "      <td>0.368</td>\n",
       "      <td>0.482</td>\n",
       "      <td>0.675</td>\n",
       "    </tr>\n",
       "    <tr>\n",
       "      <th>7</th>\n",
       "      <td>1 hidden, 300 nodes, adam</td>\n",
       "      <td>0.277</td>\n",
       "      <td>0.355</td>\n",
       "      <td>0.492</td>\n",
       "      <td>0.679</td>\n",
       "    </tr>\n",
       "    <tr>\n",
       "      <th>8</th>\n",
       "      <td>RUS 1 hidden, 64 nodes, adam</td>\n",
       "      <td>0.599</td>\n",
       "      <td>0.498</td>\n",
       "      <td>0.426</td>\n",
       "      <td>0.615</td>\n",
       "    </tr>\n",
       "    <tr>\n",
       "      <th>9</th>\n",
       "      <td>ROS 1 hidden, 64 nodes, adam</td>\n",
       "      <td>0.523</td>\n",
       "      <td>0.472</td>\n",
       "      <td>0.431</td>\n",
       "      <td>0.628</td>\n",
       "    </tr>\n",
       "    <tr>\n",
       "      <th>10</th>\n",
       "      <td>RUS, adam, batch 25</td>\n",
       "      <td>0.556</td>\n",
       "      <td>0.478</td>\n",
       "      <td>0.419</td>\n",
       "      <td>0.614</td>\n",
       "    </tr>\n",
       "    <tr>\n",
       "      <th>11</th>\n",
       "      <td>no groom, RUS, 64, adam</td>\n",
       "      <td>0.601</td>\n",
       "      <td>0.509</td>\n",
       "      <td>0.441</td>\n",
       "      <td>0.631</td>\n",
       "    </tr>\n",
       "    <tr>\n",
       "      <th>12</th>\n",
       "      <td>class_weight='balanced', LogReg</td>\n",
       "      <td>0.588</td>\n",
       "      <td>0.502</td>\n",
       "      <td>0.438</td>\n",
       "      <td>0.629</td>\n",
       "    </tr>\n",
       "    <tr>\n",
       "      <th>13</th>\n",
       "      <td>class_weight='balanced', LogReg, scaled</td>\n",
       "      <td>0.261</td>\n",
       "      <td>0.318</td>\n",
       "      <td>0.409</td>\n",
       "      <td>0.645</td>\n",
       "    </tr>\n",
       "    <tr>\n",
       "      <th>14</th>\n",
       "      <td>log reg no grooming</td>\n",
       "      <td>0.593</td>\n",
       "      <td>0.504</td>\n",
       "      <td>0.437</td>\n",
       "      <td>0.628</td>\n",
       "    </tr>\n",
       "  </tbody>\n",
       "</table>\n",
       "</div>"
      ],
      "text/plain": [
       "                                      Model  Recall     F1  Precision  \\\n",
       "0              1 hidden, 64 nodes per, adam   0.261  0.343      0.502   \n",
       "1           1 hidden, 64 nodes per, adagrad   0.181  0.266      0.500   \n",
       "2      1 hidden, 64 nodes per, adam, scaled   0.270  0.354      0.514   \n",
       "3   1 hidden, 64 nodes per, adagrad, scaled   0.174  0.254      0.472   \n",
       "4                 1 hidden, 100 nodes, adam   0.274  0.343      0.458   \n",
       "5                  1 hidden, 32 nodes, adam   0.233  0.312      0.474   \n",
       "6                 1 hidden, 250 nodes, adam   0.298  0.368      0.482   \n",
       "7                 1 hidden, 300 nodes, adam   0.277  0.355      0.492   \n",
       "8              RUS 1 hidden, 64 nodes, adam   0.599  0.498      0.426   \n",
       "9              ROS 1 hidden, 64 nodes, adam   0.523  0.472      0.431   \n",
       "10                      RUS, adam, batch 25   0.556  0.478      0.419   \n",
       "11                  no groom, RUS, 64, adam   0.601  0.509      0.441   \n",
       "12          class_weight='balanced', LogReg   0.588  0.502      0.438   \n",
       "13  class_weight='balanced', LogReg, scaled   0.261  0.318      0.409   \n",
       "14                      log reg no grooming   0.593  0.504      0.437   \n",
       "\n",
       "    Accuracy  \n",
       "0      0.682  \n",
       "1      0.682  \n",
       "2      0.686  \n",
       "3      0.675  \n",
       "4      0.666  \n",
       "5      0.674  \n",
       "6      0.675  \n",
       "7      0.679  \n",
       "8      0.615  \n",
       "9      0.628  \n",
       "10     0.614  \n",
       "11     0.631  \n",
       "12     0.629  \n",
       "13     0.645  \n",
       "14     0.628  "
      ]
     },
     "execution_count": 51,
     "metadata": {},
     "output_type": "execute_result"
    }
   ],
   "source": [
    "# no grooming logistic regression \n",
    "log_no_groom = LogisticRegression(class_weight='balanced').fit(X_train_scaled_encoded_ng, y_train)\n",
    "y_pred = log_no_groom.predict(X_test_scaled_encoded_ng)\n",
    "\n",
    "add_to_master('log reg no grooming', y_test, y_pred)"
   ]
  },
  {
   "cell_type": "code",
   "execution_count": 52,
   "id": "3b1b5adf",
   "metadata": {},
   "outputs": [
    {
     "name": "stdout",
     "output_type": "stream",
     "text": [
      "MLP training time: 1.6904628276824951 \n",
      "MLP predict time: 0.14970064163208008 \n",
      "Logistic Regression training time: 0.020906686782836914 \n",
      "Logistic Regression predict time: 0.0009975433349609375\n",
      "MLP is 80.9 times slower at training than logistic regression. \n",
      "MLP is 150.1 times slower at predicting than logistic regression.\n"
     ]
    }
   ],
   "source": [
    "print(f\"MLP training time: {training_time} \\nMLP predict time: {predict_time} \\nLogistic Regression training time: {log_training} \\nLogistic Regression predict time: {log_predict}\")\n",
    "train_ratio = round(training_time / log_training, 1)\n",
    "predict_ratio = round(predict_time / log_predict, 1)\n",
    "print(f\"MLP is {train_ratio} times slower at training than logistic regression. \\nMLP is {predict_ratio} times slower at predicting than logistic regression.\" )\n",
    "# AND I didn't even include the time spent doing a random undersampling for the MLP, which logistic reg didn't need "
   ]
  },
  {
   "cell_type": "code",
   "execution_count": 53,
   "id": "4f6c10d0",
   "metadata": {},
   "outputs": [
    {
     "data": {
      "text/html": [
       "<div>\n",
       "<style scoped>\n",
       "    .dataframe tbody tr th:only-of-type {\n",
       "        vertical-align: middle;\n",
       "    }\n",
       "\n",
       "    .dataframe tbody tr th {\n",
       "        vertical-align: top;\n",
       "    }\n",
       "\n",
       "    .dataframe thead th {\n",
       "        text-align: right;\n",
       "    }\n",
       "</style>\n",
       "<table border=\"1\" class=\"dataframe\">\n",
       "  <thead>\n",
       "    <tr style=\"text-align: right;\">\n",
       "      <th></th>\n",
       "      <th>Model</th>\n",
       "      <th>Recall</th>\n",
       "      <th>F1</th>\n",
       "      <th>Precision</th>\n",
       "      <th>Accuracy</th>\n",
       "    </tr>\n",
       "  </thead>\n",
       "  <tbody>\n",
       "    <tr>\n",
       "      <th>11</th>\n",
       "      <td>no groom, RUS, 64, adam</td>\n",
       "      <td>0.601</td>\n",
       "      <td>0.509</td>\n",
       "      <td>0.441</td>\n",
       "      <td>0.631</td>\n",
       "    </tr>\n",
       "    <tr>\n",
       "      <th>8</th>\n",
       "      <td>RUS 1 hidden, 64 nodes, adam</td>\n",
       "      <td>0.599</td>\n",
       "      <td>0.498</td>\n",
       "      <td>0.426</td>\n",
       "      <td>0.615</td>\n",
       "    </tr>\n",
       "    <tr>\n",
       "      <th>14</th>\n",
       "      <td>log reg no grooming</td>\n",
       "      <td>0.593</td>\n",
       "      <td>0.504</td>\n",
       "      <td>0.437</td>\n",
       "      <td>0.628</td>\n",
       "    </tr>\n",
       "    <tr>\n",
       "      <th>12</th>\n",
       "      <td>class_weight='balanced', LogReg</td>\n",
       "      <td>0.588</td>\n",
       "      <td>0.502</td>\n",
       "      <td>0.438</td>\n",
       "      <td>0.629</td>\n",
       "    </tr>\n",
       "    <tr>\n",
       "      <th>10</th>\n",
       "      <td>RUS, adam, batch 25</td>\n",
       "      <td>0.556</td>\n",
       "      <td>0.478</td>\n",
       "      <td>0.419</td>\n",
       "      <td>0.614</td>\n",
       "    </tr>\n",
       "  </tbody>\n",
       "</table>\n",
       "</div>"
      ],
      "text/plain": [
       "                              Model  Recall     F1  Precision  Accuracy\n",
       "11          no groom, RUS, 64, adam   0.601  0.509      0.441     0.631\n",
       "8      RUS 1 hidden, 64 nodes, adam   0.599  0.498      0.426     0.615\n",
       "14              log reg no grooming   0.593  0.504      0.437     0.628\n",
       "12  class_weight='balanced', LogReg   0.588  0.502      0.438     0.629\n",
       "10              RUS, adam, batch 25   0.556  0.478      0.419     0.614"
      ]
     },
     "execution_count": 53,
     "metadata": {},
     "output_type": "execute_result"
    }
   ],
   "source": [
    "# for reference, cat-pstone 1 model was 0.622, 0.519, 0.446, 0.635\n",
    "master_scores.sort_values('Recall', ascending=False).head()"
   ]
  },
  {
   "cell_type": "markdown",
   "id": "55d7b017",
   "metadata": {},
   "source": [
    "Given that this model does not perform as well as the cat-pstone 1 model (marginally), I want to see how my best performing model architecture does on the dataset I used with cat-pstone 1 (with a lot more columns!). "
   ]
  },
  {
   "cell_type": "code",
   "execution_count": 54,
   "id": "e3a4f3d7",
   "metadata": {},
   "outputs": [],
   "source": [
    "from sklearn.model_selection import train_test_split\n",
    "df = pd.read_csv('..\\Data\\cat_clean.csv')"
   ]
  },
  {
   "cell_type": "code",
   "execution_count": 55,
   "id": "5f5707c1",
   "metadata": {},
   "outputs": [],
   "source": [
    "# binarize wool-sucking\n",
    "df_bin = df.copy()\n",
    "df_bin['ws_binary'] = df_bin['Wool_sucking'].replace([1, 2, 3, 4, 5, 6, 7], [1, 1, 1, 1, 1, 1, 1])\n",
    "df_bin.drop(columns='Wool_sucking', inplace=True)\n",
    "\n",
    "# Recode Behaviour_problem to binary\n",
    "df_bin['Behaviour_problem'].replace([1, 2, 3], [0, 1, 1], inplace=True)\n",
    "\n",
    "# encode breed group\n",
    "df_bin_encoded = pd.get_dummies(df_bin, columns=['Breed_group'])"
   ]
  },
  {
   "cell_type": "code",
   "execution_count": 56,
   "id": "0c7272b7",
   "metadata": {},
   "outputs": [
    {
     "data": {
      "text/plain": [
       "Index(['Age', 'Gender', 'Neuter_status', 'Weaning_age', 'Outdoors',\n",
       "       'Other_cats', 'Activity_level', 'Contact_people', 'Aggression_cats',\n",
       "       'Grooming', 'Behaviour_problem', 'Breed_group_ABY', 'Breed_group_BEN',\n",
       "       'Breed_group_BRI', 'Breed_group_BUR', 'Breed_group_CRX',\n",
       "       'Breed_group_DRX', 'Breed_group_EUR', 'Breed_group_HCS',\n",
       "       'Breed_group_KOR', 'Breed_group_MCO', 'Breed_group_NFO',\n",
       "       'Breed_group_ORI', 'Breed_group_PER', 'Breed_group_RAG',\n",
       "       'Breed_group_RUS', 'Breed_group_SBI', 'Breed_group_SIB',\n",
       "       'Breed_group_TUV', 'Breed_group_other', 'agg_shy',\n",
       "       'agg_aggress_people'],\n",
       "      dtype='object')"
      ]
     },
     "execution_count": 56,
     "metadata": {},
     "output_type": "execute_result"
    }
   ],
   "source": [
    "X = df_bin_encoded.drop(columns=['ws_binary'])\n",
    "y = df_bin_encoded['ws_binary']\n",
    "X_train, X_test, y_train, y_test = train_test_split(X, y, test_size=0.3, random_state=42,stratify=y)\n",
    "\n",
    "# making agg columns for training set \n",
    "X_train['agg_shy'] = (X_train['Shyness_novel'] + X_train['Shyness_strangers']) / 2\n",
    "X_train['agg_aggress_people'] = (X_train['Aggression_owner'] + X_train['Aggression_stranger']) / 2 \n",
    "X_train.drop(columns=['Shyness_novel', 'Shyness_strangers', 'Aggression_stranger', 'Aggression_owner'], inplace=True)\n",
    "X_train.columns\n",
    "\n",
    "# making agg columns for testing set\n",
    "X_test['agg_shy'] = (X_test['Shyness_novel'] + X_test['Shyness_strangers']) / 2\n",
    "X_test['agg_aggress_people'] = (X_test['Aggression_owner'] + X_test['Aggression_stranger']) / 2\n",
    "X_test.drop(columns=['Shyness_novel', 'Shyness_strangers', 'Aggression_stranger', 'Aggression_owner'], inplace=True)\n",
    "X_test.columns"
   ]
  },
  {
   "cell_type": "code",
   "execution_count": 57,
   "id": "7dc3d2e9",
   "metadata": {},
   "outputs": [
    {
     "name": "stdout",
     "output_type": "stream",
     "text": [
      "Epoch 1/10\n",
      "79/79 [==============================] - 1s 940us/step - loss: 0.6668 - accuracy: 0.6077 - recall: 0.5778\n",
      "Epoch 2/10\n",
      "79/79 [==============================] - 0s 921us/step - loss: 0.6353 - accuracy: 0.6481 - recall: 0.6415\n",
      "Epoch 3/10\n",
      "79/79 [==============================] - 0s 921us/step - loss: 0.6200 - accuracy: 0.6591 - recall: 0.6373\n",
      "Epoch 4/10\n",
      "79/79 [==============================] - 0s 946us/step - loss: 0.6087 - accuracy: 0.6706 - recall: 0.6760\n",
      "Epoch 5/10\n",
      "79/79 [==============================] - 0s 921us/step - loss: 0.6001 - accuracy: 0.6785 - recall: 0.6718\n",
      "Epoch 6/10\n",
      "79/79 [==============================] - 0s 908us/step - loss: 0.5901 - accuracy: 0.6821 - recall: 0.6683\n",
      "Epoch 7/10\n",
      "79/79 [==============================] - 0s 921us/step - loss: 0.5831 - accuracy: 0.6952 - recall: 0.6997\n",
      "Epoch 8/10\n",
      "79/79 [==============================] - 0s 1ms/step - loss: 0.5722 - accuracy: 0.6971 - recall: 0.6967\n",
      "Epoch 9/10\n",
      "79/79 [==============================] - 0s 921us/step - loss: 0.5652 - accuracy: 0.7070 - recall: 0.7144\n",
      "Epoch 10/10\n",
      "79/79 [==============================] - 0s 921us/step - loss: 0.5575 - accuracy: 0.7154 - recall: 0.7195\n",
      "54/54 [==============================] - 0s 621us/step\n"
     ]
    },
    {
     "name": "stderr",
     "output_type": "stream",
     "text": [
      "C:\\Users\\gwent\\AppData\\Local\\Temp\\ipykernel_19588\\1005917253.py:23: FutureWarning: The frame.append method is deprecated and will be removed from pandas in a future version. Use pandas.concat instead.\n",
      "  master_scores = master_scores.append(new_row, ignore_index=True)\n"
     ]
    },
    {
     "data": {
      "text/plain": [
       "array([[623, 544],\n",
       "       [184, 358]], dtype=int64)"
      ]
     },
     "execution_count": 57,
     "metadata": {},
     "output_type": "execute_result"
    }
   ],
   "source": [
    "scaler = StandardScaler()\n",
    "scaler.fit(X_train)\n",
    "\n",
    "X_train_scaled_encoded = scaler.transform(X_train)\n",
    "X_test_scaled_encoded = scaler.transform(X_test)\n",
    "\n",
    "rus = RandomUnderSampler()\n",
    "X_resampled_rus, y_resampled_rus = rus.fit_resample(X_train_scaled_encoded, y_train)\n",
    "\n",
    "model12 = create_mlp(64, 'adam', X_resampled_rus)\n",
    "model12.fit(X_resampled_rus, y_resampled_rus, epochs=10, batch_size=32)\n",
    "\n",
    "y_pred = model12.predict(X_test_scaled_encoded)\n",
    "y_pred = np.round(y_pred).astype(int)\n",
    "\n",
    "cm = confusion_matrix(y_test, y_pred)\n",
    "add_to_master(\"old data rus adam 64\", y_test, y_pred)\n",
    "cm"
   ]
  },
  {
   "cell_type": "code",
   "execution_count": 58,
   "id": "d8178a86",
   "metadata": {},
   "outputs": [
    {
     "data": {
      "text/html": [
       "<div>\n",
       "<style scoped>\n",
       "    .dataframe tbody tr th:only-of-type {\n",
       "        vertical-align: middle;\n",
       "    }\n",
       "\n",
       "    .dataframe tbody tr th {\n",
       "        vertical-align: top;\n",
       "    }\n",
       "\n",
       "    .dataframe thead th {\n",
       "        text-align: right;\n",
       "    }\n",
       "</style>\n",
       "<table border=\"1\" class=\"dataframe\">\n",
       "  <thead>\n",
       "    <tr style=\"text-align: right;\">\n",
       "      <th></th>\n",
       "      <th>Model</th>\n",
       "      <th>Recall</th>\n",
       "      <th>F1</th>\n",
       "      <th>Precision</th>\n",
       "      <th>Accuracy</th>\n",
       "    </tr>\n",
       "  </thead>\n",
       "  <tbody>\n",
       "    <tr>\n",
       "      <th>15</th>\n",
       "      <td>old data rus adam 64</td>\n",
       "      <td>0.661</td>\n",
       "      <td>0.496</td>\n",
       "      <td>0.397</td>\n",
       "      <td>0.574</td>\n",
       "    </tr>\n",
       "    <tr>\n",
       "      <th>11</th>\n",
       "      <td>no groom, RUS, 64, adam</td>\n",
       "      <td>0.601</td>\n",
       "      <td>0.509</td>\n",
       "      <td>0.441</td>\n",
       "      <td>0.631</td>\n",
       "    </tr>\n",
       "    <tr>\n",
       "      <th>8</th>\n",
       "      <td>RUS 1 hidden, 64 nodes, adam</td>\n",
       "      <td>0.599</td>\n",
       "      <td>0.498</td>\n",
       "      <td>0.426</td>\n",
       "      <td>0.615</td>\n",
       "    </tr>\n",
       "    <tr>\n",
       "      <th>14</th>\n",
       "      <td>log reg no grooming</td>\n",
       "      <td>0.593</td>\n",
       "      <td>0.504</td>\n",
       "      <td>0.437</td>\n",
       "      <td>0.628</td>\n",
       "    </tr>\n",
       "    <tr>\n",
       "      <th>12</th>\n",
       "      <td>class_weight='balanced', LogReg</td>\n",
       "      <td>0.588</td>\n",
       "      <td>0.502</td>\n",
       "      <td>0.438</td>\n",
       "      <td>0.629</td>\n",
       "    </tr>\n",
       "    <tr>\n",
       "      <th>10</th>\n",
       "      <td>RUS, adam, batch 25</td>\n",
       "      <td>0.556</td>\n",
       "      <td>0.478</td>\n",
       "      <td>0.419</td>\n",
       "      <td>0.614</td>\n",
       "    </tr>\n",
       "    <tr>\n",
       "      <th>9</th>\n",
       "      <td>ROS 1 hidden, 64 nodes, adam</td>\n",
       "      <td>0.523</td>\n",
       "      <td>0.472</td>\n",
       "      <td>0.431</td>\n",
       "      <td>0.628</td>\n",
       "    </tr>\n",
       "    <tr>\n",
       "      <th>6</th>\n",
       "      <td>1 hidden, 250 nodes, adam</td>\n",
       "      <td>0.298</td>\n",
       "      <td>0.368</td>\n",
       "      <td>0.482</td>\n",
       "      <td>0.675</td>\n",
       "    </tr>\n",
       "    <tr>\n",
       "      <th>7</th>\n",
       "      <td>1 hidden, 300 nodes, adam</td>\n",
       "      <td>0.277</td>\n",
       "      <td>0.355</td>\n",
       "      <td>0.492</td>\n",
       "      <td>0.679</td>\n",
       "    </tr>\n",
       "    <tr>\n",
       "      <th>4</th>\n",
       "      <td>1 hidden, 100 nodes, adam</td>\n",
       "      <td>0.274</td>\n",
       "      <td>0.343</td>\n",
       "      <td>0.458</td>\n",
       "      <td>0.666</td>\n",
       "    </tr>\n",
       "    <tr>\n",
       "      <th>2</th>\n",
       "      <td>1 hidden, 64 nodes per, adam, scaled</td>\n",
       "      <td>0.270</td>\n",
       "      <td>0.354</td>\n",
       "      <td>0.514</td>\n",
       "      <td>0.686</td>\n",
       "    </tr>\n",
       "    <tr>\n",
       "      <th>0</th>\n",
       "      <td>1 hidden, 64 nodes per, adam</td>\n",
       "      <td>0.261</td>\n",
       "      <td>0.343</td>\n",
       "      <td>0.502</td>\n",
       "      <td>0.682</td>\n",
       "    </tr>\n",
       "    <tr>\n",
       "      <th>13</th>\n",
       "      <td>class_weight='balanced', LogReg, scaled</td>\n",
       "      <td>0.261</td>\n",
       "      <td>0.318</td>\n",
       "      <td>0.409</td>\n",
       "      <td>0.645</td>\n",
       "    </tr>\n",
       "    <tr>\n",
       "      <th>5</th>\n",
       "      <td>1 hidden, 32 nodes, adam</td>\n",
       "      <td>0.233</td>\n",
       "      <td>0.312</td>\n",
       "      <td>0.474</td>\n",
       "      <td>0.674</td>\n",
       "    </tr>\n",
       "    <tr>\n",
       "      <th>1</th>\n",
       "      <td>1 hidden, 64 nodes per, adagrad</td>\n",
       "      <td>0.181</td>\n",
       "      <td>0.266</td>\n",
       "      <td>0.500</td>\n",
       "      <td>0.682</td>\n",
       "    </tr>\n",
       "    <tr>\n",
       "      <th>3</th>\n",
       "      <td>1 hidden, 64 nodes per, adagrad, scaled</td>\n",
       "      <td>0.174</td>\n",
       "      <td>0.254</td>\n",
       "      <td>0.472</td>\n",
       "      <td>0.675</td>\n",
       "    </tr>\n",
       "  </tbody>\n",
       "</table>\n",
       "</div>"
      ],
      "text/plain": [
       "                                      Model  Recall     F1  Precision  \\\n",
       "15                     old data rus adam 64   0.661  0.496      0.397   \n",
       "11                  no groom, RUS, 64, adam   0.601  0.509      0.441   \n",
       "8              RUS 1 hidden, 64 nodes, adam   0.599  0.498      0.426   \n",
       "14                      log reg no grooming   0.593  0.504      0.437   \n",
       "12          class_weight='balanced', LogReg   0.588  0.502      0.438   \n",
       "10                      RUS, adam, batch 25   0.556  0.478      0.419   \n",
       "9              ROS 1 hidden, 64 nodes, adam   0.523  0.472      0.431   \n",
       "6                 1 hidden, 250 nodes, adam   0.298  0.368      0.482   \n",
       "7                 1 hidden, 300 nodes, adam   0.277  0.355      0.492   \n",
       "4                 1 hidden, 100 nodes, adam   0.274  0.343      0.458   \n",
       "2      1 hidden, 64 nodes per, adam, scaled   0.270  0.354      0.514   \n",
       "0              1 hidden, 64 nodes per, adam   0.261  0.343      0.502   \n",
       "13  class_weight='balanced', LogReg, scaled   0.261  0.318      0.409   \n",
       "5                  1 hidden, 32 nodes, adam   0.233  0.312      0.474   \n",
       "1           1 hidden, 64 nodes per, adagrad   0.181  0.266      0.500   \n",
       "3   1 hidden, 64 nodes per, adagrad, scaled   0.174  0.254      0.472   \n",
       "\n",
       "    Accuracy  \n",
       "15     0.574  \n",
       "11     0.631  \n",
       "8      0.615  \n",
       "14     0.628  \n",
       "12     0.629  \n",
       "10     0.614  \n",
       "9      0.628  \n",
       "6      0.675  \n",
       "7      0.679  \n",
       "4      0.666  \n",
       "2      0.686  \n",
       "0      0.682  \n",
       "13     0.645  \n",
       "5      0.674  \n",
       "1      0.682  \n",
       "3      0.675  "
      ]
     },
     "execution_count": 58,
     "metadata": {},
     "output_type": "execute_result"
    }
   ],
   "source": [
    "# for reference, cat-pstone 1 model was 0.622, 0.519, 0.446, 0.635\n",
    "# it really doesn't do any better than a weighted LR model, in either dataset\n",
    "master_scores.sort_values('Recall', ascending=False)"
   ]
  }
 ],
 "metadata": {
  "kernelspec": {
   "display_name": "Python 3 (ipykernel)",
   "language": "python",
   "name": "python3"
  },
  "language_info": {
   "codemirror_mode": {
    "name": "ipython",
    "version": 3
   },
   "file_extension": ".py",
   "mimetype": "text/x-python",
   "name": "python",
   "nbconvert_exporter": "python",
   "pygments_lexer": "ipython3",
   "version": "3.9.0"
  }
 },
 "nbformat": 4,
 "nbformat_minor": 5
}
