{
 "cells": [
  {
   "cell_type": "code",
   "execution_count": 1,
   "id": "a1fa7743",
   "metadata": {},
   "outputs": [],
   "source": [
    "# should already be activated, but just a reminder where ya are :)  \n",
    "# !conda activate wool_sucking_nn"
   ]
  },
  {
   "cell_type": "code",
   "execution_count": 2,
   "id": "d4af314f",
   "metadata": {},
   "outputs": [],
   "source": [
    "import pandas as pd\n",
    "import numpy as np\n",
    "import matplotlib.pyplot as plt\n",
    "import seaborn as sns\n",
    "from scipy import stats \n",
    "\n",
    "%matplotlib inline"
   ]
  },
  {
   "cell_type": "code",
   "execution_count": 3,
   "id": "12a43745",
   "metadata": {},
   "outputs": [],
   "source": [
    "# import data\n",
    "excel_file = pd.read_excel('..\\Data\\cleaned_and_split_data.xlsx', sheet_name=None)\n",
    "\n",
    "# Unpack the dataframes into separate variables\n",
    "X_train = excel_file['X_train']\n",
    "X_test = excel_file['X_test']\n",
    "y_train = excel_file['y_train']\n",
    "y_test = excel_file['y_test']"
   ]
  },
  {
   "cell_type": "code",
   "execution_count": 4,
   "id": "3f7a7f7d",
   "metadata": {},
   "outputs": [
    {
     "name": "stdout",
     "output_type": "stream",
     "text": [
      "(3965, 7)\n"
     ]
    },
    {
     "data": {
      "text/html": [
       "<div>\n",
       "<style scoped>\n",
       "    .dataframe tbody tr th:only-of-type {\n",
       "        vertical-align: middle;\n",
       "    }\n",
       "\n",
       "    .dataframe tbody tr th {\n",
       "        vertical-align: top;\n",
       "    }\n",
       "\n",
       "    .dataframe thead th {\n",
       "        text-align: right;\n",
       "    }\n",
       "</style>\n",
       "<table border=\"1\" class=\"dataframe\">\n",
       "  <thead>\n",
       "    <tr style=\"text-align: right;\">\n",
       "      <th></th>\n",
       "      <th>Neuter_status</th>\n",
       "      <th>Breed_group</th>\n",
       "      <th>Aggression_owner</th>\n",
       "      <th>Aggression_cats</th>\n",
       "      <th>Shyness_novel</th>\n",
       "      <th>Shyness_strangers</th>\n",
       "      <th>Grooming</th>\n",
       "    </tr>\n",
       "  </thead>\n",
       "  <tbody>\n",
       "    <tr>\n",
       "      <th>0</th>\n",
       "      <td>1</td>\n",
       "      <td>SIB</td>\n",
       "      <td>1</td>\n",
       "      <td>2</td>\n",
       "      <td>4</td>\n",
       "      <td>4</td>\n",
       "      <td>3</td>\n",
       "    </tr>\n",
       "    <tr>\n",
       "      <th>1</th>\n",
       "      <td>1</td>\n",
       "      <td>HCS</td>\n",
       "      <td>1</td>\n",
       "      <td>2</td>\n",
       "      <td>4</td>\n",
       "      <td>4</td>\n",
       "      <td>2</td>\n",
       "    </tr>\n",
       "    <tr>\n",
       "      <th>2</th>\n",
       "      <td>0</td>\n",
       "      <td>ORI</td>\n",
       "      <td>1</td>\n",
       "      <td>1</td>\n",
       "      <td>1</td>\n",
       "      <td>1</td>\n",
       "      <td>1</td>\n",
       "    </tr>\n",
       "    <tr>\n",
       "      <th>3</th>\n",
       "      <td>1</td>\n",
       "      <td>MCO</td>\n",
       "      <td>1</td>\n",
       "      <td>1</td>\n",
       "      <td>2</td>\n",
       "      <td>2</td>\n",
       "      <td>3</td>\n",
       "    </tr>\n",
       "    <tr>\n",
       "      <th>4</th>\n",
       "      <td>1</td>\n",
       "      <td>HCS</td>\n",
       "      <td>1</td>\n",
       "      <td>1</td>\n",
       "      <td>2</td>\n",
       "      <td>1</td>\n",
       "      <td>2</td>\n",
       "    </tr>\n",
       "  </tbody>\n",
       "</table>\n",
       "</div>"
      ],
      "text/plain": [
       "   Neuter_status Breed_group  Aggression_owner  Aggression_cats  \\\n",
       "0              1         SIB                 1                2   \n",
       "1              1         HCS                 1                2   \n",
       "2              0         ORI                 1                1   \n",
       "3              1         MCO                 1                1   \n",
       "4              1         HCS                 1                1   \n",
       "\n",
       "   Shyness_novel  Shyness_strangers  Grooming  \n",
       "0              4                  4         3  \n",
       "1              4                  4         2  \n",
       "2              1                  1         1  \n",
       "3              2                  2         3  \n",
       "4              2                  1         2  "
      ]
     },
     "execution_count": 4,
     "metadata": {},
     "output_type": "execute_result"
    }
   ],
   "source": [
    "print(X_train.shape)\n",
    "X_train.head()"
   ]
  },
  {
   "cell_type": "code",
   "execution_count": 5,
   "id": "7364d6d3",
   "metadata": {},
   "outputs": [
    {
     "name": "stdout",
     "output_type": "stream",
     "text": [
      "(1700, 7)\n"
     ]
    },
    {
     "data": {
      "text/html": [
       "<div>\n",
       "<style scoped>\n",
       "    .dataframe tbody tr th:only-of-type {\n",
       "        vertical-align: middle;\n",
       "    }\n",
       "\n",
       "    .dataframe tbody tr th {\n",
       "        vertical-align: top;\n",
       "    }\n",
       "\n",
       "    .dataframe thead th {\n",
       "        text-align: right;\n",
       "    }\n",
       "</style>\n",
       "<table border=\"1\" class=\"dataframe\">\n",
       "  <thead>\n",
       "    <tr style=\"text-align: right;\">\n",
       "      <th></th>\n",
       "      <th>Neuter_status</th>\n",
       "      <th>Breed_group</th>\n",
       "      <th>Aggression_owner</th>\n",
       "      <th>Aggression_cats</th>\n",
       "      <th>Shyness_novel</th>\n",
       "      <th>Shyness_strangers</th>\n",
       "      <th>Grooming</th>\n",
       "    </tr>\n",
       "  </thead>\n",
       "  <tbody>\n",
       "    <tr>\n",
       "      <th>0</th>\n",
       "      <td>1</td>\n",
       "      <td>SIB</td>\n",
       "      <td>1</td>\n",
       "      <td>3</td>\n",
       "      <td>3</td>\n",
       "      <td>1</td>\n",
       "      <td>1</td>\n",
       "    </tr>\n",
       "    <tr>\n",
       "      <th>1</th>\n",
       "      <td>1</td>\n",
       "      <td>MCO</td>\n",
       "      <td>1</td>\n",
       "      <td>1</td>\n",
       "      <td>2</td>\n",
       "      <td>1</td>\n",
       "      <td>1</td>\n",
       "    </tr>\n",
       "    <tr>\n",
       "      <th>2</th>\n",
       "      <td>1</td>\n",
       "      <td>RUS</td>\n",
       "      <td>1</td>\n",
       "      <td>1</td>\n",
       "      <td>4</td>\n",
       "      <td>4</td>\n",
       "      <td>1</td>\n",
       "    </tr>\n",
       "    <tr>\n",
       "      <th>3</th>\n",
       "      <td>0</td>\n",
       "      <td>EUR</td>\n",
       "      <td>2</td>\n",
       "      <td>2</td>\n",
       "      <td>2</td>\n",
       "      <td>2</td>\n",
       "      <td>1</td>\n",
       "    </tr>\n",
       "    <tr>\n",
       "      <th>4</th>\n",
       "      <td>1</td>\n",
       "      <td>NFO</td>\n",
       "      <td>1</td>\n",
       "      <td>2</td>\n",
       "      <td>3</td>\n",
       "      <td>2</td>\n",
       "      <td>1</td>\n",
       "    </tr>\n",
       "  </tbody>\n",
       "</table>\n",
       "</div>"
      ],
      "text/plain": [
       "   Neuter_status Breed_group  Aggression_owner  Aggression_cats  \\\n",
       "0              1         SIB                 1                3   \n",
       "1              1         MCO                 1                1   \n",
       "2              1         RUS                 1                1   \n",
       "3              0         EUR                 2                2   \n",
       "4              1         NFO                 1                2   \n",
       "\n",
       "   Shyness_novel  Shyness_strangers  Grooming  \n",
       "0              3                  1         1  \n",
       "1              2                  1         1  \n",
       "2              4                  4         1  \n",
       "3              2                  2         1  \n",
       "4              3                  2         1  "
      ]
     },
     "execution_count": 5,
     "metadata": {},
     "output_type": "execute_result"
    }
   ],
   "source": [
    "print(X_test.shape)\n",
    "X_test.head()"
   ]
  },
  {
   "cell_type": "code",
   "execution_count": 6,
   "id": "ee588efc",
   "metadata": {},
   "outputs": [
    {
     "name": "stdout",
     "output_type": "stream",
     "text": [
      "(3965, 1)\n"
     ]
    },
    {
     "data": {
      "text/html": [
       "<div>\n",
       "<style scoped>\n",
       "    .dataframe tbody tr th:only-of-type {\n",
       "        vertical-align: middle;\n",
       "    }\n",
       "\n",
       "    .dataframe tbody tr th {\n",
       "        vertical-align: top;\n",
       "    }\n",
       "\n",
       "    .dataframe thead th {\n",
       "        text-align: right;\n",
       "    }\n",
       "</style>\n",
       "<table border=\"1\" class=\"dataframe\">\n",
       "  <thead>\n",
       "    <tr style=\"text-align: right;\">\n",
       "      <th></th>\n",
       "      <th>Wool_sucking_binary</th>\n",
       "    </tr>\n",
       "  </thead>\n",
       "  <tbody>\n",
       "    <tr>\n",
       "      <th>0</th>\n",
       "      <td>0</td>\n",
       "    </tr>\n",
       "    <tr>\n",
       "      <th>1</th>\n",
       "      <td>0</td>\n",
       "    </tr>\n",
       "    <tr>\n",
       "      <th>2</th>\n",
       "      <td>0</td>\n",
       "    </tr>\n",
       "    <tr>\n",
       "      <th>3</th>\n",
       "      <td>0</td>\n",
       "    </tr>\n",
       "    <tr>\n",
       "      <th>4</th>\n",
       "      <td>0</td>\n",
       "    </tr>\n",
       "  </tbody>\n",
       "</table>\n",
       "</div>"
      ],
      "text/plain": [
       "   Wool_sucking_binary\n",
       "0                    0\n",
       "1                    0\n",
       "2                    0\n",
       "3                    0\n",
       "4                    0"
      ]
     },
     "execution_count": 6,
     "metadata": {},
     "output_type": "execute_result"
    }
   ],
   "source": [
    "print(y_train.shape)\n",
    "y_train.head()"
   ]
  },
  {
   "cell_type": "code",
   "execution_count": 7,
   "id": "71b7dd12",
   "metadata": {},
   "outputs": [
    {
     "name": "stdout",
     "output_type": "stream",
     "text": [
      "(1700, 1)\n"
     ]
    },
    {
     "data": {
      "text/html": [
       "<div>\n",
       "<style scoped>\n",
       "    .dataframe tbody tr th:only-of-type {\n",
       "        vertical-align: middle;\n",
       "    }\n",
       "\n",
       "    .dataframe tbody tr th {\n",
       "        vertical-align: top;\n",
       "    }\n",
       "\n",
       "    .dataframe thead th {\n",
       "        text-align: right;\n",
       "    }\n",
       "</style>\n",
       "<table border=\"1\" class=\"dataframe\">\n",
       "  <thead>\n",
       "    <tr style=\"text-align: right;\">\n",
       "      <th></th>\n",
       "      <th>Wool_sucking_binary</th>\n",
       "    </tr>\n",
       "  </thead>\n",
       "  <tbody>\n",
       "    <tr>\n",
       "      <th>0</th>\n",
       "      <td>1</td>\n",
       "    </tr>\n",
       "    <tr>\n",
       "      <th>1</th>\n",
       "      <td>1</td>\n",
       "    </tr>\n",
       "    <tr>\n",
       "      <th>2</th>\n",
       "      <td>1</td>\n",
       "    </tr>\n",
       "    <tr>\n",
       "      <th>3</th>\n",
       "      <td>0</td>\n",
       "    </tr>\n",
       "    <tr>\n",
       "      <th>4</th>\n",
       "      <td>1</td>\n",
       "    </tr>\n",
       "  </tbody>\n",
       "</table>\n",
       "</div>"
      ],
      "text/plain": [
       "   Wool_sucking_binary\n",
       "0                    1\n",
       "1                    1\n",
       "2                    1\n",
       "3                    0\n",
       "4                    1"
      ]
     },
     "execution_count": 7,
     "metadata": {},
     "output_type": "execute_result"
    }
   ],
   "source": [
    "print(y_test.shape)\n",
    "y_test.head()"
   ]
  },
  {
   "cell_type": "markdown",
   "id": "d53267c9",
   "metadata": {},
   "source": [
    "## To record model metrics"
   ]
  },
  {
   "cell_type": "code",
   "execution_count": 8,
   "id": "44abc6a0",
   "metadata": {},
   "outputs": [],
   "source": [
    "# dataframe for scores amongst models\n",
    "master_scores = pd.DataFrame(columns=['Model','Recall', 'F1', 'Precision', 'Accuracy'])"
   ]
  },
  {
   "cell_type": "code",
   "execution_count": 9,
   "id": "0be17a6c",
   "metadata": {},
   "outputs": [],
   "source": [
    "# add_to_master(model_description, y_true, y_predicted, binary=True)\n",
    "def add_to_master(model_description, y_test, y_pred, binary=True):\n",
    "    '''\n",
    "    Adds a new row to the running score DataFrame `master_scores` \n",
    "    and functions for adding both binary and multiclass scores. \n",
    "    '''\n",
    "    global master_scores\n",
    "    if binary == True:\n",
    "        # Evalution Metrics\n",
    "        accuracy = accuracy_score(y_test, y_pred)\n",
    "        precision = precision_score(y_test, y_pred)\n",
    "        recall = recall_score(y_test, y_pred)\n",
    "        f1 = f1_score(y_test, y_pred)\n",
    "\n",
    "        # add to master_scores\n",
    "        new_row = {\n",
    "            'Model': model_description,\n",
    "            'Recall': round(recall,3), \n",
    "            'F1': round(f1, 3), \n",
    "            'Precision': round(precision, 3), \n",
    "            'Accuracy': round(accuracy, 3)}\n",
    "        \n",
    "        master_scores = master_scores.append(new_row, ignore_index=True)   \n",
    "    \n",
    "    else:\n",
    "        accuracy = accuracy_score(y_test, y_pred)\n",
    "        precision = precision_score(y_test, y_pred, average='macro') # I chose macro since we have less of the sucklers \n",
    "        recall = recall_score(y_test, y_pred, average='macro')       # and I want their accuracy to be meaningful\n",
    "        f1 = f1_score(y_test, y_pred, average='macro')\n",
    "\n",
    "\n",
    "        # add to master_scores\n",
    "        new_row = {\n",
    "            'Model': model_description,\n",
    "            'Recall': round(recall,3), \n",
    "            'F1': round(f1, 3), \n",
    "            'Precision': round(precision, 3), \n",
    "            'Accuracy': round(accuracy, 3)}\n",
    "        master_scores = master_scores.append(new_row, ignore_index=True)\n",
    "    return master_scores"
   ]
  },
  {
   "cell_type": "markdown",
   "id": "a1ccdddd",
   "metadata": {},
   "source": [
    "# Prep for tensorflow.keras"
   ]
  },
  {
   "cell_type": "code",
   "execution_count": 10,
   "id": "6dda99af",
   "metadata": {},
   "outputs": [],
   "source": [
    "import tensorflow as tf\n",
    "from tensorflow import keras\n",
    "from sklearn.metrics import accuracy_score,precision_score, recall_score, f1_score, confusion_matrix\n",
    "from sklearn.preprocessing import StandardScaler\n",
    "# for reproducibility \n",
    "tf.random.set_seed(42)\n",
    "np.random.seed(42)"
   ]
  },
  {
   "cell_type": "code",
   "execution_count": 11,
   "id": "69c582e6",
   "metadata": {},
   "outputs": [],
   "source": [
    "# one-hot breed \n",
    "X_train_encoded = pd.get_dummies(X_train, columns=['Breed_group'])\n",
    "X_test_encoded = pd.get_dummies(X_test, columns=['Breed_group'])"
   ]
  },
  {
   "cell_type": "code",
   "execution_count": 12,
   "id": "79a5eb7d",
   "metadata": {},
   "outputs": [
    {
     "data": {
      "text/html": [
       "<div>\n",
       "<style scoped>\n",
       "    .dataframe tbody tr th:only-of-type {\n",
       "        vertical-align: middle;\n",
       "    }\n",
       "\n",
       "    .dataframe tbody tr th {\n",
       "        vertical-align: top;\n",
       "    }\n",
       "\n",
       "    .dataframe thead th {\n",
       "        text-align: right;\n",
       "    }\n",
       "</style>\n",
       "<table border=\"1\" class=\"dataframe\">\n",
       "  <thead>\n",
       "    <tr style=\"text-align: right;\">\n",
       "      <th></th>\n",
       "      <th>Neuter_status</th>\n",
       "      <th>Aggression_owner</th>\n",
       "      <th>Aggression_cats</th>\n",
       "      <th>Shyness_novel</th>\n",
       "      <th>Shyness_strangers</th>\n",
       "      <th>Grooming</th>\n",
       "      <th>Breed_group_ABY</th>\n",
       "      <th>Breed_group_BEN</th>\n",
       "      <th>Breed_group_BRI</th>\n",
       "      <th>Breed_group_BUR</th>\n",
       "      <th>...</th>\n",
       "      <th>Breed_group_MCO</th>\n",
       "      <th>Breed_group_NFO</th>\n",
       "      <th>Breed_group_ORI</th>\n",
       "      <th>Breed_group_PER</th>\n",
       "      <th>Breed_group_RAG</th>\n",
       "      <th>Breed_group_RUS</th>\n",
       "      <th>Breed_group_SBI</th>\n",
       "      <th>Breed_group_SIB</th>\n",
       "      <th>Breed_group_TUV</th>\n",
       "      <th>Breed_group_other</th>\n",
       "    </tr>\n",
       "  </thead>\n",
       "  <tbody>\n",
       "    <tr>\n",
       "      <th>0</th>\n",
       "      <td>1</td>\n",
       "      <td>1</td>\n",
       "      <td>2</td>\n",
       "      <td>4</td>\n",
       "      <td>4</td>\n",
       "      <td>3</td>\n",
       "      <td>0</td>\n",
       "      <td>0</td>\n",
       "      <td>0</td>\n",
       "      <td>0</td>\n",
       "      <td>...</td>\n",
       "      <td>0</td>\n",
       "      <td>0</td>\n",
       "      <td>0</td>\n",
       "      <td>0</td>\n",
       "      <td>0</td>\n",
       "      <td>0</td>\n",
       "      <td>0</td>\n",
       "      <td>1</td>\n",
       "      <td>0</td>\n",
       "      <td>0</td>\n",
       "    </tr>\n",
       "    <tr>\n",
       "      <th>1</th>\n",
       "      <td>1</td>\n",
       "      <td>1</td>\n",
       "      <td>2</td>\n",
       "      <td>4</td>\n",
       "      <td>4</td>\n",
       "      <td>2</td>\n",
       "      <td>0</td>\n",
       "      <td>0</td>\n",
       "      <td>0</td>\n",
       "      <td>0</td>\n",
       "      <td>...</td>\n",
       "      <td>0</td>\n",
       "      <td>0</td>\n",
       "      <td>0</td>\n",
       "      <td>0</td>\n",
       "      <td>0</td>\n",
       "      <td>0</td>\n",
       "      <td>0</td>\n",
       "      <td>0</td>\n",
       "      <td>0</td>\n",
       "      <td>0</td>\n",
       "    </tr>\n",
       "    <tr>\n",
       "      <th>2</th>\n",
       "      <td>0</td>\n",
       "      <td>1</td>\n",
       "      <td>1</td>\n",
       "      <td>1</td>\n",
       "      <td>1</td>\n",
       "      <td>1</td>\n",
       "      <td>0</td>\n",
       "      <td>0</td>\n",
       "      <td>0</td>\n",
       "      <td>0</td>\n",
       "      <td>...</td>\n",
       "      <td>0</td>\n",
       "      <td>0</td>\n",
       "      <td>1</td>\n",
       "      <td>0</td>\n",
       "      <td>0</td>\n",
       "      <td>0</td>\n",
       "      <td>0</td>\n",
       "      <td>0</td>\n",
       "      <td>0</td>\n",
       "      <td>0</td>\n",
       "    </tr>\n",
       "    <tr>\n",
       "      <th>3</th>\n",
       "      <td>1</td>\n",
       "      <td>1</td>\n",
       "      <td>1</td>\n",
       "      <td>2</td>\n",
       "      <td>2</td>\n",
       "      <td>3</td>\n",
       "      <td>0</td>\n",
       "      <td>0</td>\n",
       "      <td>0</td>\n",
       "      <td>0</td>\n",
       "      <td>...</td>\n",
       "      <td>1</td>\n",
       "      <td>0</td>\n",
       "      <td>0</td>\n",
       "      <td>0</td>\n",
       "      <td>0</td>\n",
       "      <td>0</td>\n",
       "      <td>0</td>\n",
       "      <td>0</td>\n",
       "      <td>0</td>\n",
       "      <td>0</td>\n",
       "    </tr>\n",
       "    <tr>\n",
       "      <th>4</th>\n",
       "      <td>1</td>\n",
       "      <td>1</td>\n",
       "      <td>1</td>\n",
       "      <td>2</td>\n",
       "      <td>1</td>\n",
       "      <td>2</td>\n",
       "      <td>0</td>\n",
       "      <td>0</td>\n",
       "      <td>0</td>\n",
       "      <td>0</td>\n",
       "      <td>...</td>\n",
       "      <td>0</td>\n",
       "      <td>0</td>\n",
       "      <td>0</td>\n",
       "      <td>0</td>\n",
       "      <td>0</td>\n",
       "      <td>0</td>\n",
       "      <td>0</td>\n",
       "      <td>0</td>\n",
       "      <td>0</td>\n",
       "      <td>0</td>\n",
       "    </tr>\n",
       "    <tr>\n",
       "      <th>...</th>\n",
       "      <td>...</td>\n",
       "      <td>...</td>\n",
       "      <td>...</td>\n",
       "      <td>...</td>\n",
       "      <td>...</td>\n",
       "      <td>...</td>\n",
       "      <td>...</td>\n",
       "      <td>...</td>\n",
       "      <td>...</td>\n",
       "      <td>...</td>\n",
       "      <td>...</td>\n",
       "      <td>...</td>\n",
       "      <td>...</td>\n",
       "      <td>...</td>\n",
       "      <td>...</td>\n",
       "      <td>...</td>\n",
       "      <td>...</td>\n",
       "      <td>...</td>\n",
       "      <td>...</td>\n",
       "      <td>...</td>\n",
       "      <td>...</td>\n",
       "    </tr>\n",
       "    <tr>\n",
       "      <th>3960</th>\n",
       "      <td>1</td>\n",
       "      <td>1</td>\n",
       "      <td>3</td>\n",
       "      <td>1</td>\n",
       "      <td>1</td>\n",
       "      <td>2</td>\n",
       "      <td>0</td>\n",
       "      <td>0</td>\n",
       "      <td>0</td>\n",
       "      <td>0</td>\n",
       "      <td>...</td>\n",
       "      <td>0</td>\n",
       "      <td>0</td>\n",
       "      <td>0</td>\n",
       "      <td>0</td>\n",
       "      <td>0</td>\n",
       "      <td>0</td>\n",
       "      <td>0</td>\n",
       "      <td>0</td>\n",
       "      <td>1</td>\n",
       "      <td>0</td>\n",
       "    </tr>\n",
       "    <tr>\n",
       "      <th>3961</th>\n",
       "      <td>1</td>\n",
       "      <td>2</td>\n",
       "      <td>2</td>\n",
       "      <td>2</td>\n",
       "      <td>1</td>\n",
       "      <td>1</td>\n",
       "      <td>0</td>\n",
       "      <td>0</td>\n",
       "      <td>0</td>\n",
       "      <td>0</td>\n",
       "      <td>...</td>\n",
       "      <td>0</td>\n",
       "      <td>0</td>\n",
       "      <td>0</td>\n",
       "      <td>0</td>\n",
       "      <td>0</td>\n",
       "      <td>0</td>\n",
       "      <td>0</td>\n",
       "      <td>0</td>\n",
       "      <td>0</td>\n",
       "      <td>0</td>\n",
       "    </tr>\n",
       "    <tr>\n",
       "      <th>3962</th>\n",
       "      <td>1</td>\n",
       "      <td>1</td>\n",
       "      <td>1</td>\n",
       "      <td>3</td>\n",
       "      <td>4</td>\n",
       "      <td>1</td>\n",
       "      <td>0</td>\n",
       "      <td>0</td>\n",
       "      <td>0</td>\n",
       "      <td>0</td>\n",
       "      <td>...</td>\n",
       "      <td>0</td>\n",
       "      <td>0</td>\n",
       "      <td>0</td>\n",
       "      <td>0</td>\n",
       "      <td>0</td>\n",
       "      <td>0</td>\n",
       "      <td>0</td>\n",
       "      <td>1</td>\n",
       "      <td>0</td>\n",
       "      <td>0</td>\n",
       "    </tr>\n",
       "    <tr>\n",
       "      <th>3963</th>\n",
       "      <td>1</td>\n",
       "      <td>1</td>\n",
       "      <td>1</td>\n",
       "      <td>4</td>\n",
       "      <td>4</td>\n",
       "      <td>1</td>\n",
       "      <td>0</td>\n",
       "      <td>0</td>\n",
       "      <td>0</td>\n",
       "      <td>0</td>\n",
       "      <td>...</td>\n",
       "      <td>0</td>\n",
       "      <td>0</td>\n",
       "      <td>0</td>\n",
       "      <td>0</td>\n",
       "      <td>0</td>\n",
       "      <td>0</td>\n",
       "      <td>0</td>\n",
       "      <td>0</td>\n",
       "      <td>0</td>\n",
       "      <td>0</td>\n",
       "    </tr>\n",
       "    <tr>\n",
       "      <th>3964</th>\n",
       "      <td>1</td>\n",
       "      <td>1</td>\n",
       "      <td>2</td>\n",
       "      <td>1</td>\n",
       "      <td>1</td>\n",
       "      <td>2</td>\n",
       "      <td>0</td>\n",
       "      <td>0</td>\n",
       "      <td>0</td>\n",
       "      <td>0</td>\n",
       "      <td>...</td>\n",
       "      <td>0</td>\n",
       "      <td>0</td>\n",
       "      <td>0</td>\n",
       "      <td>0</td>\n",
       "      <td>1</td>\n",
       "      <td>0</td>\n",
       "      <td>0</td>\n",
       "      <td>0</td>\n",
       "      <td>0</td>\n",
       "      <td>0</td>\n",
       "    </tr>\n",
       "  </tbody>\n",
       "</table>\n",
       "<p>3965 rows × 25 columns</p>\n",
       "</div>"
      ],
      "text/plain": [
       "      Neuter_status  Aggression_owner  Aggression_cats  Shyness_novel  \\\n",
       "0                 1                 1                2              4   \n",
       "1                 1                 1                2              4   \n",
       "2                 0                 1                1              1   \n",
       "3                 1                 1                1              2   \n",
       "4                 1                 1                1              2   \n",
       "...             ...               ...              ...            ...   \n",
       "3960              1                 1                3              1   \n",
       "3961              1                 2                2              2   \n",
       "3962              1                 1                1              3   \n",
       "3963              1                 1                1              4   \n",
       "3964              1                 1                2              1   \n",
       "\n",
       "      Shyness_strangers  Grooming  Breed_group_ABY  Breed_group_BEN  \\\n",
       "0                     4         3                0                0   \n",
       "1                     4         2                0                0   \n",
       "2                     1         1                0                0   \n",
       "3                     2         3                0                0   \n",
       "4                     1         2                0                0   \n",
       "...                 ...       ...              ...              ...   \n",
       "3960                  1         2                0                0   \n",
       "3961                  1         1                0                0   \n",
       "3962                  4         1                0                0   \n",
       "3963                  4         1                0                0   \n",
       "3964                  1         2                0                0   \n",
       "\n",
       "      Breed_group_BRI  Breed_group_BUR  ...  Breed_group_MCO  Breed_group_NFO  \\\n",
       "0                   0                0  ...                0                0   \n",
       "1                   0                0  ...                0                0   \n",
       "2                   0                0  ...                0                0   \n",
       "3                   0                0  ...                1                0   \n",
       "4                   0                0  ...                0                0   \n",
       "...               ...              ...  ...              ...              ...   \n",
       "3960                0                0  ...                0                0   \n",
       "3961                0                0  ...                0                0   \n",
       "3962                0                0  ...                0                0   \n",
       "3963                0                0  ...                0                0   \n",
       "3964                0                0  ...                0                0   \n",
       "\n",
       "      Breed_group_ORI  Breed_group_PER  Breed_group_RAG  Breed_group_RUS  \\\n",
       "0                   0                0                0                0   \n",
       "1                   0                0                0                0   \n",
       "2                   1                0                0                0   \n",
       "3                   0                0                0                0   \n",
       "4                   0                0                0                0   \n",
       "...               ...              ...              ...              ...   \n",
       "3960                0                0                0                0   \n",
       "3961                0                0                0                0   \n",
       "3962                0                0                0                0   \n",
       "3963                0                0                0                0   \n",
       "3964                0                0                1                0   \n",
       "\n",
       "      Breed_group_SBI  Breed_group_SIB  Breed_group_TUV  Breed_group_other  \n",
       "0                   0                1                0                  0  \n",
       "1                   0                0                0                  0  \n",
       "2                   0                0                0                  0  \n",
       "3                   0                0                0                  0  \n",
       "4                   0                0                0                  0  \n",
       "...               ...              ...              ...                ...  \n",
       "3960                0                0                1                  0  \n",
       "3961                0                0                0                  0  \n",
       "3962                0                1                0                  0  \n",
       "3963                0                0                0                  0  \n",
       "3964                0                0                0                  0  \n",
       "\n",
       "[3965 rows x 25 columns]"
      ]
     },
     "execution_count": 12,
     "metadata": {},
     "output_type": "execute_result"
    }
   ],
   "source": [
    "X_train_encoded"
   ]
  },
  {
   "cell_type": "markdown",
   "id": "83911f9b",
   "metadata": {},
   "source": [
    "## Plain Jane"
   ]
  },
  {
   "cell_type": "code",
   "execution_count": 13,
   "id": "0f2ebb7b",
   "metadata": {},
   "outputs": [],
   "source": [
    "model = keras.Sequential([\n",
    "    keras.layers.Dense(64, activation='relu', input_shape=(len(X_train_encoded.columns),)),\n",
    "    keras.layers.Dense(64, activation='relu'),\n",
    "    keras.layers.Dense(1, activation='sigmoid')\n",
    "])"
   ]
  },
  {
   "cell_type": "code",
   "execution_count": 14,
   "id": "2aaefc0a",
   "metadata": {},
   "outputs": [],
   "source": [
    "def recall(y_true, y_pred):\n",
    "    true_positives = tf.keras.backend.sum(tf.keras.backend.round(tf.keras.backend.clip(y_true * y_pred, 0, 1)))\n",
    "    possible_positives = tf.keras.backend.sum(tf.keras.backend.round(tf.keras.backend.clip(y_true, 0, 1)))\n",
    "    recall = true_positives / (possible_positives + tf.keras.backend.epsilon())\n",
    "    return recall\n",
    "\n",
    "tf.keras.utils.get_custom_objects()['recall'] = recall"
   ]
  },
  {
   "cell_type": "code",
   "execution_count": 15,
   "id": "d370e07e",
   "metadata": {},
   "outputs": [],
   "source": [
    "model.compile(optimizer='adam', \n",
    "             loss='binary_crossentropy',\n",
    "             metrics=['accuracy', 'recall'])"
   ]
  },
  {
   "cell_type": "code",
   "execution_count": 16,
   "id": "02523520",
   "metadata": {},
   "outputs": [
    {
     "name": "stdout",
     "output_type": "stream",
     "text": [
      "Epoch 1/10\n",
      "124/124 [==============================] - 1s 900us/step - loss: 0.6245 - accuracy: 0.6835 - recall: 0.0334\n",
      "Epoch 2/10\n",
      "124/124 [==============================] - 0s 900us/step - loss: 0.6061 - accuracy: 0.6827 - recall: 0.1261\n",
      "Epoch 3/10\n",
      "124/124 [==============================] - 0s 892us/step - loss: 0.5977 - accuracy: 0.6885 - recall: 0.1762\n",
      "Epoch 4/10\n",
      "124/124 [==============================] - 0s 884us/step - loss: 0.5927 - accuracy: 0.6916 - recall: 0.1534\n",
      "Epoch 5/10\n",
      "124/124 [==============================] - 0s 900us/step - loss: 0.5880 - accuracy: 0.6913 - recall: 0.1845\n",
      "Epoch 6/10\n",
      "124/124 [==============================] - 0s 916us/step - loss: 0.5868 - accuracy: 0.6926 - recall: 0.2057\n",
      "Epoch 7/10\n",
      "124/124 [==============================] - 0s 924us/step - loss: 0.5858 - accuracy: 0.6981 - recall: 0.2210\n",
      "Epoch 8/10\n",
      "124/124 [==============================] - 0s 892us/step - loss: 0.5798 - accuracy: 0.6971 - recall: 0.2013\n",
      "Epoch 9/10\n",
      "124/124 [==============================] - 0s 884us/step - loss: 0.5797 - accuracy: 0.6971 - recall: 0.1949\n",
      "Epoch 10/10\n",
      "124/124 [==============================] - 0s 876us/step - loss: 0.5767 - accuracy: 0.6968 - recall: 0.2334\n"
     ]
    },
    {
     "data": {
      "text/plain": [
       "<keras.callbacks.History at 0x1fa7e9e30a0>"
      ]
     },
     "execution_count": 16,
     "metadata": {},
     "output_type": "execute_result"
    }
   ],
   "source": [
    "model.fit(X_train_encoded, y_train, epochs=10, batch_size=32)"
   ]
  },
  {
   "cell_type": "code",
   "execution_count": 17,
   "id": "472c8352",
   "metadata": {},
   "outputs": [
    {
     "name": "stdout",
     "output_type": "stream",
     "text": [
      "54/54 [==============================] - 0s 734us/step - loss: 0.5863 - accuracy: 0.6924 - recall: 0.2179\n",
      "Test Accuracy: 0.6923529505729675\n",
      "Test Loss: 0.5862632989883423\n",
      "Test Recall: 0.21787841618061066\n"
     ]
    }
   ],
   "source": [
    "test_loss, test_acc, test_recall = model.evaluate(X_test_encoded, y_test)\n",
    "print('Test Accuracy:', test_acc)\n",
    "print('Test Loss:', test_loss)\n",
    "print('Test Recall:', test_recall)"
   ]
  },
  {
   "cell_type": "code",
   "execution_count": 18,
   "id": "cb7c6f7e",
   "metadata": {},
   "outputs": [
    {
     "name": "stdout",
     "output_type": "stream",
     "text": [
      "54/54 [==============================] - 0s 621us/step\n"
     ]
    },
    {
     "name": "stderr",
     "output_type": "stream",
     "text": [
      "C:\\Users\\gwent\\AppData\\Local\\Temp\\ipykernel_4284\\1005917253.py:23: FutureWarning: The frame.append method is deprecated and will be removed from pandas in a future version. Use pandas.concat instead.\n",
      "  master_scores = master_scores.append(new_row, ignore_index=True)\n"
     ]
    },
    {
     "data": {
      "text/plain": [
       "array([[1055,  104],\n",
       "       [ 419,  122]], dtype=int64)"
      ]
     },
     "execution_count": 18,
     "metadata": {},
     "output_type": "execute_result"
    }
   ],
   "source": [
    "y_pred = model.predict(X_test_encoded)\n",
    "y_pred = np.round(y_pred).astype(int)\n",
    "\n",
    "cm = confusion_matrix(y_test, y_pred)\n",
    "# add_to_master(model_description, y_true, y_predicted, binary=True)\n",
    "add_to_master(\"1 hidden, 64 nodes per, adam\", y_test, y_pred)\n",
    "cm"
   ]
  },
  {
   "cell_type": "code",
   "execution_count": 19,
   "id": "5431d1f6",
   "metadata": {},
   "outputs": [
    {
     "data": {
      "text/html": [
       "<div>\n",
       "<style scoped>\n",
       "    .dataframe tbody tr th:only-of-type {\n",
       "        vertical-align: middle;\n",
       "    }\n",
       "\n",
       "    .dataframe tbody tr th {\n",
       "        vertical-align: top;\n",
       "    }\n",
       "\n",
       "    .dataframe thead th {\n",
       "        text-align: right;\n",
       "    }\n",
       "</style>\n",
       "<table border=\"1\" class=\"dataframe\">\n",
       "  <thead>\n",
       "    <tr style=\"text-align: right;\">\n",
       "      <th></th>\n",
       "      <th>Model</th>\n",
       "      <th>Recall</th>\n",
       "      <th>F1</th>\n",
       "      <th>Precision</th>\n",
       "      <th>Accuracy</th>\n",
       "    </tr>\n",
       "  </thead>\n",
       "  <tbody>\n",
       "    <tr>\n",
       "      <th>0</th>\n",
       "      <td>1 hidden, 64 nodes per, adam</td>\n",
       "      <td>0.226</td>\n",
       "      <td>0.318</td>\n",
       "      <td>0.54</td>\n",
       "      <td>0.692</td>\n",
       "    </tr>\n",
       "  </tbody>\n",
       "</table>\n",
       "</div>"
      ],
      "text/plain": [
       "                          Model  Recall     F1  Precision  Accuracy\n",
       "0  1 hidden, 64 nodes per, adam   0.226  0.318       0.54     0.692"
      ]
     },
     "execution_count": 19,
     "metadata": {},
     "output_type": "execute_result"
    }
   ],
   "source": [
    "master_scores"
   ]
  },
  {
   "cell_type": "markdown",
   "id": "cfd960fa",
   "metadata": {},
   "source": [
    "Not doing too hot, but also seems to be doing better than initial models in Cat-pstone 1. "
   ]
  },
  {
   "cell_type": "markdown",
   "id": "e659e48e",
   "metadata": {},
   "source": [
    "## Adagrad optimizer"
   ]
  },
  {
   "cell_type": "code",
   "execution_count": 20,
   "id": "c8b1639f",
   "metadata": {},
   "outputs": [],
   "source": [
    "model2 = keras.Sequential([\n",
    "    keras.layers.Dense(64, activation='relu', input_shape=(len(X_train_encoded.columns),)),\n",
    "    keras.layers.Dense(64, activation='relu'),\n",
    "    keras.layers.Dense(1, activation='sigmoid')\n",
    "])"
   ]
  },
  {
   "cell_type": "code",
   "execution_count": 21,
   "id": "6c14f69f",
   "metadata": {},
   "outputs": [],
   "source": [
    "# Adagrad better for when feataures vary in magnitude and frequency \n",
    "optimizer = tf.keras.optimizers.Adagrad(learning_rate=0.01)\n",
    "model2.compile(optimizer=optimizer, \n",
    "             loss='binary_crossentropy',\n",
    "             metrics=['accuracy', 'recall'])"
   ]
  },
  {
   "cell_type": "code",
   "execution_count": 22,
   "id": "2238ef2d",
   "metadata": {},
   "outputs": [
    {
     "name": "stdout",
     "output_type": "stream",
     "text": [
      "Epoch 1/10\n",
      "124/124 [==============================] - 0s 811us/step - loss: 0.6439 - accuracy: 0.6653 - recall: 0.0595\n",
      "Epoch 2/10\n",
      "124/124 [==============================] - 0s 819us/step - loss: 0.6229 - accuracy: 0.6820 - recall: 0.0028\n",
      "Epoch 3/10\n",
      "124/124 [==============================] - 0s 819us/step - loss: 0.6149 - accuracy: 0.6810 - recall: 0.0351\n",
      "Epoch 4/10\n",
      "124/124 [==============================] - 0s 843us/step - loss: 0.6098 - accuracy: 0.6845 - recall: 0.0583\n",
      "Epoch 5/10\n",
      "124/124 [==============================] - 0s 835us/step - loss: 0.6058 - accuracy: 0.6883 - recall: 0.0919\n",
      "Epoch 6/10\n",
      "124/124 [==============================] - 0s 835us/step - loss: 0.6021 - accuracy: 0.6888 - recall: 0.1207\n",
      "Epoch 7/10\n",
      "124/124 [==============================] - 0s 819us/step - loss: 0.5997 - accuracy: 0.6910 - recall: 0.1250\n",
      "Epoch 8/10\n",
      "124/124 [==============================] - 0s 835us/step - loss: 0.5980 - accuracy: 0.6905 - recall: 0.1295\n",
      "Epoch 9/10\n",
      "124/124 [==============================] - 0s 835us/step - loss: 0.5948 - accuracy: 0.6863 - recall: 0.1340\n",
      "Epoch 10/10\n",
      "124/124 [==============================] - 0s 819us/step - loss: 0.5943 - accuracy: 0.6921 - recall: 0.1568\n"
     ]
    },
    {
     "data": {
      "text/plain": [
       "<keras.callbacks.History at 0x1fa7ff441f0>"
      ]
     },
     "execution_count": 22,
     "metadata": {},
     "output_type": "execute_result"
    }
   ],
   "source": [
    "model2.fit(X_train_encoded, y_train, epochs=10, batch_size=32)"
   ]
  },
  {
   "cell_type": "code",
   "execution_count": 23,
   "id": "df69d4da",
   "metadata": {},
   "outputs": [
    {
     "name": "stdout",
     "output_type": "stream",
     "text": [
      "54/54 [==============================] - 0s 715us/step - loss: 0.5994 - accuracy: 0.6818 - recall: 0.1569\n",
      "Test Accuracy: 0.6817647218704224\n",
      "Test Loss: 0.5994249582290649\n",
      "Test Recall: 0.15686042606830597\n"
     ]
    }
   ],
   "source": [
    "test_loss, test_acc, test_recall = model2.evaluate(X_test_encoded, y_test)\n",
    "print('Test Accuracy:', test_acc)\n",
    "print('Test Loss:', test_loss)\n",
    "print('Test Recall:', test_recall)"
   ]
  },
  {
   "cell_type": "code",
   "execution_count": 24,
   "id": "9aed1137",
   "metadata": {},
   "outputs": [
    {
     "name": "stdout",
     "output_type": "stream",
     "text": [
      "54/54 [==============================] - 0s 602us/step\n"
     ]
    },
    {
     "name": "stderr",
     "output_type": "stream",
     "text": [
      "C:\\Users\\gwent\\AppData\\Local\\Temp\\ipykernel_4284\\1005917253.py:23: FutureWarning: The frame.append method is deprecated and will be removed from pandas in a future version. Use pandas.concat instead.\n",
      "  master_scores = master_scores.append(new_row, ignore_index=True)\n"
     ]
    },
    {
     "data": {
      "text/plain": [
       "array([[1073,   86],\n",
       "       [ 455,   86]], dtype=int64)"
      ]
     },
     "execution_count": 24,
     "metadata": {},
     "output_type": "execute_result"
    }
   ],
   "source": [
    "y_pred = model2.predict(X_test_encoded)\n",
    "y_pred = np.round(y_pred).astype(int)\n",
    "\n",
    "cm = confusion_matrix(y_test, y_pred)\n",
    "add_to_master(\"1 hidden, 64 nodes per, adagrad\", y_test, y_pred)\n",
    "cm"
   ]
  },
  {
   "cell_type": "markdown",
   "id": "19631b6e",
   "metadata": {},
   "source": [
    "## Scaled with Plain Jane and Adagrad"
   ]
  },
  {
   "cell_type": "code",
   "execution_count": 25,
   "id": "60dcdda8",
   "metadata": {},
   "outputs": [
    {
     "data": {
      "text/html": [
       "<style>#sk-container-id-1 {color: black;background-color: white;}#sk-container-id-1 pre{padding: 0;}#sk-container-id-1 div.sk-toggleable {background-color: white;}#sk-container-id-1 label.sk-toggleable__label {cursor: pointer;display: block;width: 100%;margin-bottom: 0;padding: 0.3em;box-sizing: border-box;text-align: center;}#sk-container-id-1 label.sk-toggleable__label-arrow:before {content: \"▸\";float: left;margin-right: 0.25em;color: #696969;}#sk-container-id-1 label.sk-toggleable__label-arrow:hover:before {color: black;}#sk-container-id-1 div.sk-estimator:hover label.sk-toggleable__label-arrow:before {color: black;}#sk-container-id-1 div.sk-toggleable__content {max-height: 0;max-width: 0;overflow: hidden;text-align: left;background-color: #f0f8ff;}#sk-container-id-1 div.sk-toggleable__content pre {margin: 0.2em;color: black;border-radius: 0.25em;background-color: #f0f8ff;}#sk-container-id-1 input.sk-toggleable__control:checked~div.sk-toggleable__content {max-height: 200px;max-width: 100%;overflow: auto;}#sk-container-id-1 input.sk-toggleable__control:checked~label.sk-toggleable__label-arrow:before {content: \"▾\";}#sk-container-id-1 div.sk-estimator input.sk-toggleable__control:checked~label.sk-toggleable__label {background-color: #d4ebff;}#sk-container-id-1 div.sk-label input.sk-toggleable__control:checked~label.sk-toggleable__label {background-color: #d4ebff;}#sk-container-id-1 input.sk-hidden--visually {border: 0;clip: rect(1px 1px 1px 1px);clip: rect(1px, 1px, 1px, 1px);height: 1px;margin: -1px;overflow: hidden;padding: 0;position: absolute;width: 1px;}#sk-container-id-1 div.sk-estimator {font-family: monospace;background-color: #f0f8ff;border: 1px dotted black;border-radius: 0.25em;box-sizing: border-box;margin-bottom: 0.5em;}#sk-container-id-1 div.sk-estimator:hover {background-color: #d4ebff;}#sk-container-id-1 div.sk-parallel-item::after {content: \"\";width: 100%;border-bottom: 1px solid gray;flex-grow: 1;}#sk-container-id-1 div.sk-label:hover label.sk-toggleable__label {background-color: #d4ebff;}#sk-container-id-1 div.sk-serial::before {content: \"\";position: absolute;border-left: 1px solid gray;box-sizing: border-box;top: 0;bottom: 0;left: 50%;z-index: 0;}#sk-container-id-1 div.sk-serial {display: flex;flex-direction: column;align-items: center;background-color: white;padding-right: 0.2em;padding-left: 0.2em;position: relative;}#sk-container-id-1 div.sk-item {position: relative;z-index: 1;}#sk-container-id-1 div.sk-parallel {display: flex;align-items: stretch;justify-content: center;background-color: white;position: relative;}#sk-container-id-1 div.sk-item::before, #sk-container-id-1 div.sk-parallel-item::before {content: \"\";position: absolute;border-left: 1px solid gray;box-sizing: border-box;top: 0;bottom: 0;left: 50%;z-index: -1;}#sk-container-id-1 div.sk-parallel-item {display: flex;flex-direction: column;z-index: 1;position: relative;background-color: white;}#sk-container-id-1 div.sk-parallel-item:first-child::after {align-self: flex-end;width: 50%;}#sk-container-id-1 div.sk-parallel-item:last-child::after {align-self: flex-start;width: 50%;}#sk-container-id-1 div.sk-parallel-item:only-child::after {width: 0;}#sk-container-id-1 div.sk-dashed-wrapped {border: 1px dashed gray;margin: 0 0.4em 0.5em 0.4em;box-sizing: border-box;padding-bottom: 0.4em;background-color: white;}#sk-container-id-1 div.sk-label label {font-family: monospace;font-weight: bold;display: inline-block;line-height: 1.2em;}#sk-container-id-1 div.sk-label-container {text-align: center;}#sk-container-id-1 div.sk-container {/* jupyter's `normalize.less` sets `[hidden] { display: none; }` but bootstrap.min.css set `[hidden] { display: none !important; }` so we also need the `!important` here to be able to override the default hidden behavior on the sphinx rendered scikit-learn.org. See: https://github.com/scikit-learn/scikit-learn/issues/21755 */display: inline-block !important;position: relative;}#sk-container-id-1 div.sk-text-repr-fallback {display: none;}</style><div id=\"sk-container-id-1\" class=\"sk-top-container\"><div class=\"sk-text-repr-fallback\"><pre>StandardScaler()</pre><b>In a Jupyter environment, please rerun this cell to show the HTML representation or trust the notebook. <br />On GitHub, the HTML representation is unable to render, please try loading this page with nbviewer.org.</b></div><div class=\"sk-container\" hidden><div class=\"sk-item\"><div class=\"sk-estimator sk-toggleable\"><input class=\"sk-toggleable__control sk-hidden--visually\" id=\"sk-estimator-id-1\" type=\"checkbox\" checked><label for=\"sk-estimator-id-1\" class=\"sk-toggleable__label sk-toggleable__label-arrow\">StandardScaler</label><div class=\"sk-toggleable__content\"><pre>StandardScaler()</pre></div></div></div></div></div>"
      ],
      "text/plain": [
       "StandardScaler()"
      ]
     },
     "execution_count": 25,
     "metadata": {},
     "output_type": "execute_result"
    }
   ],
   "source": [
    "scaler = StandardScaler()\n",
    "scaler.fit(X_train_encoded)"
   ]
  },
  {
   "cell_type": "code",
   "execution_count": 26,
   "id": "0ef18545",
   "metadata": {},
   "outputs": [],
   "source": [
    "X_train_scaled_encoded = scaler.transform(X_train_encoded)\n",
    "X_test_scaled_encoded = scaler.transform(X_test_encoded)"
   ]
  },
  {
   "cell_type": "code",
   "execution_count": 27,
   "id": "bccddabe",
   "metadata": {},
   "outputs": [
    {
     "data": {
      "text/plain": [
       "(3965, 25)"
      ]
     },
     "execution_count": 27,
     "metadata": {},
     "output_type": "execute_result"
    }
   ],
   "source": [
    "X_train_scaled_encoded.shape"
   ]
  },
  {
   "cell_type": "code",
   "execution_count": 28,
   "id": "a18c4782",
   "metadata": {},
   "outputs": [
    {
     "name": "stdout",
     "output_type": "stream",
     "text": [
      "Epoch 1/10\n",
      "124/124 [==============================] - 0s 851us/step - loss: 0.6132 - accuracy: 0.6739 - recall: 0.0788\n",
      "Epoch 2/10\n",
      "124/124 [==============================] - 0s 892us/step - loss: 0.5877 - accuracy: 0.6910 - recall: 0.1642\n",
      "Epoch 3/10\n",
      "124/124 [==============================] - 0s 876us/step - loss: 0.5820 - accuracy: 0.6926 - recall: 0.2217\n",
      "Epoch 4/10\n",
      "124/124 [==============================] - 0s 892us/step - loss: 0.5784 - accuracy: 0.6966 - recall: 0.1850\n",
      "Epoch 5/10\n",
      "124/124 [==============================] - 0s 884us/step - loss: 0.5735 - accuracy: 0.7032 - recall: 0.2211\n",
      "Epoch 6/10\n",
      "124/124 [==============================] - 0s 892us/step - loss: 0.5727 - accuracy: 0.7037 - recall: 0.2345\n",
      "Epoch 7/10\n",
      "124/124 [==============================] - 0s 892us/step - loss: 0.5710 - accuracy: 0.7019 - recall: 0.2441\n",
      "Epoch 8/10\n",
      "124/124 [==============================] - 0s 876us/step - loss: 0.5678 - accuracy: 0.7087 - recall: 0.2554\n",
      "Epoch 9/10\n",
      "124/124 [==============================] - 0s 884us/step - loss: 0.5652 - accuracy: 0.7125 - recall: 0.2303\n",
      "Epoch 10/10\n",
      "124/124 [==============================] - 0s 884us/step - loss: 0.5617 - accuracy: 0.7079 - recall: 0.2611\n",
      "54/54 [==============================] - 0s 734us/step - loss: 0.5964 - accuracy: 0.6671 - recall: 0.2650\n",
      "Test Accuracy: 0.6670588254928589\n",
      "Test Loss: 0.596361517906189\n",
      "Test Recall: 0.26495641469955444\n",
      "54/54 [==============================] - 0s 602us/step\n"
     ]
    },
    {
     "name": "stderr",
     "output_type": "stream",
     "text": [
      "C:\\Users\\gwent\\AppData\\Local\\Temp\\ipykernel_4284\\1005917253.py:23: FutureWarning: The frame.append method is deprecated and will be removed from pandas in a future version. Use pandas.concat instead.\n",
      "  master_scores = master_scores.append(new_row, ignore_index=True)\n"
     ]
    },
    {
     "data": {
      "text/plain": [
       "array([[984, 175],\n",
       "       [391, 150]], dtype=int64)"
      ]
     },
     "execution_count": 28,
     "metadata": {},
     "output_type": "execute_result"
    }
   ],
   "source": [
    "# Plain Jane + scaled\n",
    "model3 = keras.Sequential([\n",
    "    keras.layers.Dense(64, activation='relu', input_shape=(25,)),\n",
    "    keras.layers.Dense(64, activation='relu'),\n",
    "    keras.layers.Dense(1, activation='sigmoid')\n",
    "])\n",
    "\n",
    "model3.compile(optimizer='adam', \n",
    "             loss='binary_crossentropy',\n",
    "             metrics=['accuracy', 'recall'])\n",
    "\n",
    "model3.fit(X_train_scaled_encoded, y_train, epochs=10, batch_size=32)\n",
    "\n",
    "test_loss, test_acc, test_recall = model3.evaluate(X_test_scaled_encoded, y_test)\n",
    "print('Test Accuracy:', test_acc)\n",
    "print('Test Loss:', test_loss)\n",
    "print('Test Recall:', test_recall)\n",
    "\n",
    "y_pred = model3.predict(X_test_scaled_encoded)\n",
    "y_pred = np.round(y_pred).astype(int)\n",
    "\n",
    "cm = confusion_matrix(y_test, y_pred)\n",
    "add_to_master(\"1 hidden, 64 nodes per, adam, scaled\", y_test, y_pred)\n",
    "cm"
   ]
  },
  {
   "cell_type": "code",
   "execution_count": 29,
   "id": "424d9860",
   "metadata": {},
   "outputs": [
    {
     "name": "stdout",
     "output_type": "stream",
     "text": [
      "Epoch 1/10\n",
      "124/124 [==============================] - 0s 835us/step - loss: 0.6366 - accuracy: 0.6502 - recall: 0.0893\n",
      "Epoch 2/10\n",
      "124/124 [==============================] - 0s 851us/step - loss: 0.6025 - accuracy: 0.6817 - recall: 0.0365\n",
      "Epoch 3/10\n",
      "124/124 [==============================] - 0s 835us/step - loss: 0.5942 - accuracy: 0.6890 - recall: 0.1029\n",
      "Epoch 4/10\n",
      "124/124 [==============================] - 0s 868us/step - loss: 0.5898 - accuracy: 0.6913 - recall: 0.1275\n",
      "Epoch 5/10\n",
      "124/124 [==============================] - 0s 933us/step - loss: 0.5871 - accuracy: 0.6979 - recall: 0.1513\n",
      "Epoch 6/10\n",
      "124/124 [==============================] - 0s 949us/step - loss: 0.5850 - accuracy: 0.7009 - recall: 0.1813\n",
      "Epoch 7/10\n",
      "124/124 [==============================] - 0s 989us/step - loss: 0.5832 - accuracy: 0.6971 - recall: 0.1735\n",
      "Epoch 8/10\n",
      "124/124 [==============================] - 0s 949us/step - loss: 0.5820 - accuracy: 0.7011 - recall: 0.2003\n",
      "Epoch 9/10\n",
      "124/124 [==============================] - 0s 924us/step - loss: 0.5800 - accuracy: 0.6991 - recall: 0.1921\n",
      "Epoch 10/10\n",
      "124/124 [==============================] - 0s 860us/step - loss: 0.5794 - accuracy: 0.7014 - recall: 0.1821\n",
      "54/54 [==============================] - 0s 715us/step - loss: 0.5834 - accuracy: 0.6782 - recall: 0.1704\n",
      "Test Accuracy: 0.6782352924346924\n",
      "Test Loss: 0.5834013223648071\n",
      "Test Recall: 0.17041374742984772\n",
      "54/54 [==============================] - 0s 583us/step\n"
     ]
    },
    {
     "name": "stderr",
     "output_type": "stream",
     "text": [
      "C:\\Users\\gwent\\AppData\\Local\\Temp\\ipykernel_4284\\1005917253.py:23: FutureWarning: The frame.append method is deprecated and will be removed from pandas in a future version. Use pandas.concat instead.\n",
      "  master_scores = master_scores.append(new_row, ignore_index=True)\n"
     ]
    },
    {
     "data": {
      "text/plain": [
       "array([[1056,  103],\n",
       "       [ 444,   97]], dtype=int64)"
      ]
     },
     "execution_count": 29,
     "metadata": {},
     "output_type": "execute_result"
    }
   ],
   "source": [
    "# adagrad + scaled \n",
    "model4 = keras.Sequential([\n",
    "    keras.layers.Dense(64, activation='relu', input_shape=(25,)),\n",
    "    keras.layers.Dense(64, activation='relu'),\n",
    "    keras.layers.Dense(1, activation='sigmoid')\n",
    "])\n",
    "\n",
    "# Adagrad better for when feataures vary in magnitude and frequency \n",
    "optimizer = tf.keras.optimizers.Adagrad(learning_rate=0.01)\n",
    "model4.compile(optimizer=optimizer, \n",
    "             loss='binary_crossentropy',\n",
    "             metrics=['accuracy', 'recall'])\n",
    "\n",
    "model4.fit(X_train_scaled_encoded, y_train, epochs=10, batch_size=32)\n",
    "\n",
    "test_loss, test_acc, test_recall = model4.evaluate(X_test_scaled_encoded, y_test)\n",
    "print('Test Accuracy:', test_acc)\n",
    "print('Test Loss:', test_loss)\n",
    "print('Test Recall:', test_recall)\n",
    "\n",
    "y_pred = model4.predict(X_test_scaled_encoded)\n",
    "y_pred = np.round(y_pred).astype(int)\n",
    "\n",
    "cm = confusion_matrix(y_test, y_pred)\n",
    "add_to_master(\"1 hidden, 64 nodes per, adagrad, scaled\", y_test, y_pred)\n",
    "cm"
   ]
  },
  {
   "cell_type": "code",
   "execution_count": 30,
   "id": "49bf0634",
   "metadata": {},
   "outputs": [
    {
     "data": {
      "text/html": [
       "<div>\n",
       "<style scoped>\n",
       "    .dataframe tbody tr th:only-of-type {\n",
       "        vertical-align: middle;\n",
       "    }\n",
       "\n",
       "    .dataframe tbody tr th {\n",
       "        vertical-align: top;\n",
       "    }\n",
       "\n",
       "    .dataframe thead th {\n",
       "        text-align: right;\n",
       "    }\n",
       "</style>\n",
       "<table border=\"1\" class=\"dataframe\">\n",
       "  <thead>\n",
       "    <tr style=\"text-align: right;\">\n",
       "      <th></th>\n",
       "      <th>Model</th>\n",
       "      <th>Recall</th>\n",
       "      <th>F1</th>\n",
       "      <th>Precision</th>\n",
       "      <th>Accuracy</th>\n",
       "    </tr>\n",
       "  </thead>\n",
       "  <tbody>\n",
       "    <tr>\n",
       "      <th>2</th>\n",
       "      <td>1 hidden, 64 nodes per, adam, scaled</td>\n",
       "      <td>0.277</td>\n",
       "      <td>0.346</td>\n",
       "      <td>0.462</td>\n",
       "      <td>0.667</td>\n",
       "    </tr>\n",
       "    <tr>\n",
       "      <th>0</th>\n",
       "      <td>1 hidden, 64 nodes per, adam</td>\n",
       "      <td>0.226</td>\n",
       "      <td>0.318</td>\n",
       "      <td>0.540</td>\n",
       "      <td>0.692</td>\n",
       "    </tr>\n",
       "    <tr>\n",
       "      <th>3</th>\n",
       "      <td>1 hidden, 64 nodes per, adagrad, scaled</td>\n",
       "      <td>0.179</td>\n",
       "      <td>0.262</td>\n",
       "      <td>0.485</td>\n",
       "      <td>0.678</td>\n",
       "    </tr>\n",
       "    <tr>\n",
       "      <th>1</th>\n",
       "      <td>1 hidden, 64 nodes per, adagrad</td>\n",
       "      <td>0.159</td>\n",
       "      <td>0.241</td>\n",
       "      <td>0.500</td>\n",
       "      <td>0.682</td>\n",
       "    </tr>\n",
       "  </tbody>\n",
       "</table>\n",
       "</div>"
      ],
      "text/plain": [
       "                                     Model  Recall     F1  Precision  Accuracy\n",
       "2     1 hidden, 64 nodes per, adam, scaled   0.277  0.346      0.462     0.667\n",
       "0             1 hidden, 64 nodes per, adam   0.226  0.318      0.540     0.692\n",
       "3  1 hidden, 64 nodes per, adagrad, scaled   0.179  0.262      0.485     0.678\n",
       "1          1 hidden, 64 nodes per, adagrad   0.159  0.241      0.500     0.682"
      ]
     },
     "execution_count": 30,
     "metadata": {},
     "output_type": "execute_result"
    }
   ],
   "source": [
    "master_scores.sort_values('Recall', ascending=False)"
   ]
  },
  {
   "cell_type": "code",
   "execution_count": 31,
   "id": "256366ac",
   "metadata": {},
   "outputs": [],
   "source": [
    "def create_mlp(nodes, optimizer):\n",
    "    # Define the model architecture\n",
    "    model = keras.Sequential([\n",
    "    keras.layers.Dense(nodes, activation='relu', input_shape=(25,)),\n",
    "    keras.layers.Dense(nodes, activation='relu'),\n",
    "    keras.layers.Dense(1, activation='sigmoid')\n",
    "])\n",
    "\n",
    "    model.compile(optimizer=optimizer, \n",
    "             loss='binary_crossentropy',\n",
    "             metrics=['accuracy', 'recall'])\n",
    "    \n",
    "    return model"
   ]
  },
  {
   "cell_type": "code",
   "execution_count": 32,
   "id": "59ff7897",
   "metadata": {},
   "outputs": [],
   "source": [
    "model5 = create_mlp(100, 'adam')"
   ]
  },
  {
   "cell_type": "code",
   "execution_count": 33,
   "id": "db824e87",
   "metadata": {},
   "outputs": [
    {
     "name": "stdout",
     "output_type": "stream",
     "text": [
      "Epoch 1/10\n",
      "124/124 [==============================] - 0s 965us/step - loss: 0.6079 - accuracy: 0.6797 - recall: 0.1172\n",
      "Epoch 2/10\n",
      "124/124 [==============================] - 0s 973us/step - loss: 0.5879 - accuracy: 0.6966 - recall: 0.1844\n",
      "Epoch 3/10\n",
      "124/124 [==============================] - 0s 973us/step - loss: 0.5817 - accuracy: 0.6979 - recall: 0.2260\n",
      "Epoch 4/10\n",
      "124/124 [==============================] - 0s 973us/step - loss: 0.5786 - accuracy: 0.7014 - recall: 0.1979\n",
      "Epoch 5/10\n",
      "124/124 [==============================] - 0s 981us/step - loss: 0.5715 - accuracy: 0.7064 - recall: 0.2255\n",
      "Epoch 6/10\n",
      "124/124 [==============================] - 0s 981us/step - loss: 0.5722 - accuracy: 0.7069 - recall: 0.2462\n",
      "Epoch 7/10\n",
      "124/124 [==============================] - 0s 973us/step - loss: 0.5705 - accuracy: 0.7079 - recall: 0.2605\n",
      "Epoch 8/10\n",
      "124/124 [==============================] - 0s 973us/step - loss: 0.5659 - accuracy: 0.7110 - recall: 0.2628\n",
      "Epoch 9/10\n",
      "124/124 [==============================] - 0s 973us/step - loss: 0.5622 - accuracy: 0.7137 - recall: 0.2391\n",
      "Epoch 10/10\n",
      "124/124 [==============================] - 0s 973us/step - loss: 0.5595 - accuracy: 0.7112 - recall: 0.2665\n",
      "54/54 [==============================] - 0s 734us/step - loss: 0.5939 - accuracy: 0.6724 - recall: 0.2575\n",
      "Test Accuracy: 0.6723529696464539\n",
      "Test Loss: 0.5939117670059204\n",
      "Test Recall: 0.25747302174568176\n",
      "54/54 [==============================] - 0s 602us/step\n"
     ]
    },
    {
     "name": "stderr",
     "output_type": "stream",
     "text": [
      "C:\\Users\\gwent\\AppData\\Local\\Temp\\ipykernel_4284\\1005917253.py:23: FutureWarning: The frame.append method is deprecated and will be removed from pandas in a future version. Use pandas.concat instead.\n",
      "  master_scores = master_scores.append(new_row, ignore_index=True)\n"
     ]
    },
    {
     "data": {
      "text/plain": [
       "array([[998, 161],\n",
       "       [396, 145]], dtype=int64)"
      ]
     },
     "execution_count": 33,
     "metadata": {},
     "output_type": "execute_result"
    }
   ],
   "source": [
    "model5.fit(X_train_scaled_encoded, y_train, epochs=10, batch_size=32)\n",
    "\n",
    "test_loss, test_acc, test_recall = model5.evaluate(X_test_scaled_encoded, y_test)\n",
    "print('Test Accuracy:', test_acc)\n",
    "print('Test Loss:', test_loss)\n",
    "print('Test Recall:', test_recall)\n",
    "\n",
    "y_pred = model5.predict(X_test_scaled_encoded)\n",
    "y_pred = np.round(y_pred).astype(int)\n",
    "\n",
    "cm = confusion_matrix(y_test, y_pred)\n",
    "add_to_master(\"1 hidden, 100 nodes, adam\", y_test, y_pred)\n",
    "cm"
   ]
  },
  {
   "cell_type": "code",
   "execution_count": 34,
   "id": "80c22910",
   "metadata": {},
   "outputs": [
    {
     "name": "stdout",
     "output_type": "stream",
     "text": [
      "Epoch 1/10\n",
      "124/124 [==============================] - 0s 835us/step - loss: 0.6174 - accuracy: 0.6792 - recall: 0.0502\n",
      "Epoch 2/10\n",
      "124/124 [==============================] - 0s 876us/step - loss: 0.5920 - accuracy: 0.6941 - recall: 0.1011\n",
      "Epoch 3/10\n",
      "124/124 [==============================] - 0s 851us/step - loss: 0.5863 - accuracy: 0.6981 - recall: 0.1709\n",
      "Epoch 4/10\n",
      "124/124 [==============================] - 0s 851us/step - loss: 0.5822 - accuracy: 0.6976 - recall: 0.1704\n",
      "Epoch 5/10\n",
      "124/124 [==============================] - 0s 843us/step - loss: 0.5781 - accuracy: 0.7057 - recall: 0.1878\n",
      "Epoch 6/10\n",
      "124/124 [==============================] - 0s 900us/step - loss: 0.5771 - accuracy: 0.7029 - recall: 0.2089\n",
      "Epoch 7/10\n",
      "124/124 [==============================] - 0s 868us/step - loss: 0.5751 - accuracy: 0.7047 - recall: 0.2079\n",
      "Epoch 8/10\n",
      "124/124 [==============================] - 0s 851us/step - loss: 0.5735 - accuracy: 0.7102 - recall: 0.2380\n",
      "Epoch 9/10\n",
      "124/124 [==============================] - 0s 851us/step - loss: 0.5708 - accuracy: 0.7090 - recall: 0.2153\n",
      "Epoch 10/10\n",
      "124/124 [==============================] - 0s 860us/step - loss: 0.5695 - accuracy: 0.7105 - recall: 0.2254\n",
      "54/54 [==============================] - 0s 715us/step - loss: 0.5916 - accuracy: 0.6788 - recall: 0.2300\n",
      "Test Accuracy: 0.6788235306739807\n",
      "Test Loss: 0.5915916562080383\n",
      "Test Recall: 0.23000499606132507\n",
      "54/54 [==============================] - 0s 583us/step\n"
     ]
    },
    {
     "name": "stderr",
     "output_type": "stream",
     "text": [
      "C:\\Users\\gwent\\AppData\\Local\\Temp\\ipykernel_4284\\1005917253.py:23: FutureWarning: The frame.append method is deprecated and will be removed from pandas in a future version. Use pandas.concat instead.\n",
      "  master_scores = master_scores.append(new_row, ignore_index=True)\n"
     ]
    },
    {
     "data": {
      "text/plain": [
       "array([[1026,  133],\n",
       "       [ 413,  128]], dtype=int64)"
      ]
     },
     "execution_count": 34,
     "metadata": {},
     "output_type": "execute_result"
    }
   ],
   "source": [
    "model6 = create_mlp(32, 'adam')\n",
    "model6.fit(X_train_scaled_encoded, y_train, epochs=10, batch_size=32)\n",
    "\n",
    "test_loss, test_acc, test_recall = model6.evaluate(X_test_scaled_encoded, y_test)\n",
    "print('Test Accuracy:', test_acc)\n",
    "print('Test Loss:', test_loss)\n",
    "print('Test Recall:', test_recall)\n",
    "\n",
    "y_pred = model6.predict(X_test_scaled_encoded)\n",
    "y_pred = np.round(y_pred).astype(int)\n",
    "\n",
    "cm = confusion_matrix(y_test, y_pred)\n",
    "add_to_master(\"1 hidden, 32 nodes, adam\", y_test, y_pred)\n",
    "cm"
   ]
  },
  {
   "cell_type": "code",
   "execution_count": 35,
   "id": "77fd69c4",
   "metadata": {},
   "outputs": [
    {
     "name": "stdout",
     "output_type": "stream",
     "text": [
      "Epoch 1/10\n",
      "124/124 [==============================] - 0s 1ms/step - loss: 0.6079 - accuracy: 0.6820 - recall: 0.1615\n",
      "Epoch 2/10\n",
      "124/124 [==============================] - 0s 1ms/step - loss: 0.5876 - accuracy: 0.6951 - recall: 0.2009\n",
      "Epoch 3/10\n",
      "124/124 [==============================] - 0s 1ms/step - loss: 0.5800 - accuracy: 0.6984 - recall: 0.2258\n",
      "Epoch 4/10\n",
      "124/124 [==============================] - 0s 1ms/step - loss: 0.5769 - accuracy: 0.7006 - recall: 0.1998\n",
      "Epoch 5/10\n",
      "124/124 [==============================] - 0s 1ms/step - loss: 0.5683 - accuracy: 0.7122 - recall: 0.2491\n",
      "Epoch 6/10\n",
      "124/124 [==============================] - 0s 1ms/step - loss: 0.5689 - accuracy: 0.7102 - recall: 0.2545\n",
      "Epoch 7/10\n",
      "124/124 [==============================] - 0s 1ms/step - loss: 0.5669 - accuracy: 0.7084 - recall: 0.2736\n",
      "Epoch 8/10\n",
      "124/124 [==============================] - 0s 1ms/step - loss: 0.5609 - accuracy: 0.7135 - recall: 0.2744\n",
      "Epoch 9/10\n",
      "124/124 [==============================] - 0s 1ms/step - loss: 0.5552 - accuracy: 0.7137 - recall: 0.2451\n",
      "Epoch 10/10\n",
      "124/124 [==============================] - 0s 1ms/step - loss: 0.5519 - accuracy: 0.7183 - recall: 0.2905\n",
      "54/54 [==============================] - 0s 783us/step - loss: 0.6048 - accuracy: 0.6635 - recall: 0.2555\n",
      "Test Accuracy: 0.6635293960571289\n",
      "Test Loss: 0.6048197150230408\n",
      "Test Recall: 0.2555014491081238\n",
      "54/54 [==============================] - 0s 659us/step\n"
     ]
    },
    {
     "name": "stderr",
     "output_type": "stream",
     "text": [
      "C:\\Users\\gwent\\AppData\\Local\\Temp\\ipykernel_4284\\1005917253.py:23: FutureWarning: The frame.append method is deprecated and will be removed from pandas in a future version. Use pandas.concat instead.\n",
      "  master_scores = master_scores.append(new_row, ignore_index=True)\n"
     ]
    },
    {
     "data": {
      "text/plain": [
       "array([[982, 177],\n",
       "       [395, 146]], dtype=int64)"
      ]
     },
     "execution_count": 35,
     "metadata": {},
     "output_type": "execute_result"
    }
   ],
   "source": [
    "model7 = create_mlp(250, 'adam')\n",
    "model7.fit(X_train_scaled_encoded, y_train, epochs=10, batch_size=32)\n",
    "\n",
    "test_loss, test_acc, test_recall = model7.evaluate(X_test_scaled_encoded, y_test)\n",
    "print('Test Accuracy:', test_acc)\n",
    "print('Test Loss:', test_loss)\n",
    "print('Test Recall:', test_recall)\n",
    "\n",
    "y_pred = model7.predict(X_test_scaled_encoded)\n",
    "y_pred = np.round(y_pred).astype(int)\n",
    "\n",
    "cm = confusion_matrix(y_test, y_pred)\n",
    "add_to_master(\"1 hidden, 250 nodes, adam\", y_test, y_pred)\n",
    "cm"
   ]
  },
  {
   "cell_type": "code",
   "execution_count": 36,
   "id": "4ac07e60",
   "metadata": {},
   "outputs": [
    {
     "name": "stdout",
     "output_type": "stream",
     "text": [
      "Epoch 1/10\n",
      "124/124 [==============================] - 1s 1ms/step - loss: 0.6076 - accuracy: 0.6850 - recall: 0.1517\n",
      "Epoch 2/10\n",
      "124/124 [==============================] - 0s 1ms/step - loss: 0.5872 - accuracy: 0.6916 - recall: 0.2058\n",
      "Epoch 3/10\n",
      "124/124 [==============================] - 0s 1ms/step - loss: 0.5797 - accuracy: 0.6979 - recall: 0.2225\n",
      "Epoch 4/10\n",
      "124/124 [==============================] - 0s 1ms/step - loss: 0.5770 - accuracy: 0.6999 - recall: 0.2055\n",
      "Epoch 5/10\n",
      "124/124 [==============================] - 0s 1ms/step - loss: 0.5691 - accuracy: 0.7074 - recall: 0.2443\n",
      "Epoch 6/10\n",
      "124/124 [==============================] - 0s 1ms/step - loss: 0.5713 - accuracy: 0.7064 - recall: 0.2649\n",
      "Epoch 7/10\n",
      "124/124 [==============================] - 0s 1ms/step - loss: 0.5679 - accuracy: 0.7069 - recall: 0.2698\n",
      "Epoch 8/10\n",
      "124/124 [==============================] - 0s 1ms/step - loss: 0.5610 - accuracy: 0.7122 - recall: 0.2732\n",
      "Epoch 9/10\n",
      "124/124 [==============================] - 0s 1ms/step - loss: 0.5554 - accuracy: 0.7145 - recall: 0.2516\n",
      "Epoch 10/10\n",
      "124/124 [==============================] - 0s 1ms/step - loss: 0.5523 - accuracy: 0.7206 - recall: 0.3107\n",
      "54/54 [==============================] - 0s 828us/step - loss: 0.6009 - accuracy: 0.6682 - recall: 0.2635\n",
      "Test Accuracy: 0.6682353019714355\n",
      "Test Loss: 0.6009187698364258\n",
      "Test Recall: 0.26350730657577515\n",
      "54/54 [==============================] - 0s 678us/step\n"
     ]
    },
    {
     "name": "stderr",
     "output_type": "stream",
     "text": [
      "C:\\Users\\gwent\\AppData\\Local\\Temp\\ipykernel_4284\\1005917253.py:23: FutureWarning: The frame.append method is deprecated and will be removed from pandas in a future version. Use pandas.concat instead.\n",
      "  master_scores = master_scores.append(new_row, ignore_index=True)\n"
     ]
    },
    {
     "data": {
      "text/plain": [
       "array([[986, 173],\n",
       "       [391, 150]], dtype=int64)"
      ]
     },
     "execution_count": 36,
     "metadata": {},
     "output_type": "execute_result"
    }
   ],
   "source": [
    "# definitely overfits\n",
    "model8 = create_mlp(300, 'adam')\n",
    "model8.fit(X_train_scaled_encoded, y_train, epochs=10, batch_size=32)\n",
    "\n",
    "test_loss, test_acc, test_recall = model8.evaluate(X_test_scaled_encoded, y_test)\n",
    "print('Test Accuracy:', test_acc)\n",
    "print('Test Loss:', test_loss)\n",
    "print('Test Recall:', test_recall)\n",
    "\n",
    "y_pred = model8.predict(X_test_scaled_encoded)\n",
    "y_pred = np.round(y_pred).astype(int)\n",
    "\n",
    "cm = confusion_matrix(y_test, y_pred)\n",
    "add_to_master(\"1 hidden, 300 nodes, adam\", y_test, y_pred)\n",
    "cm"
   ]
  },
  {
   "cell_type": "code",
   "execution_count": 37,
   "id": "08550f15",
   "metadata": {},
   "outputs": [
    {
     "data": {
      "text/html": [
       "<div>\n",
       "<style scoped>\n",
       "    .dataframe tbody tr th:only-of-type {\n",
       "        vertical-align: middle;\n",
       "    }\n",
       "\n",
       "    .dataframe tbody tr th {\n",
       "        vertical-align: top;\n",
       "    }\n",
       "\n",
       "    .dataframe thead th {\n",
       "        text-align: right;\n",
       "    }\n",
       "</style>\n",
       "<table border=\"1\" class=\"dataframe\">\n",
       "  <thead>\n",
       "    <tr style=\"text-align: right;\">\n",
       "      <th></th>\n",
       "      <th>Model</th>\n",
       "      <th>Recall</th>\n",
       "      <th>F1</th>\n",
       "      <th>Precision</th>\n",
       "      <th>Accuracy</th>\n",
       "    </tr>\n",
       "  </thead>\n",
       "  <tbody>\n",
       "    <tr>\n",
       "      <th>2</th>\n",
       "      <td>1 hidden, 64 nodes per, adam, scaled</td>\n",
       "      <td>0.277</td>\n",
       "      <td>0.346</td>\n",
       "      <td>0.462</td>\n",
       "      <td>0.667</td>\n",
       "    </tr>\n",
       "    <tr>\n",
       "      <th>7</th>\n",
       "      <td>1 hidden, 300 nodes, adam</td>\n",
       "      <td>0.277</td>\n",
       "      <td>0.347</td>\n",
       "      <td>0.464</td>\n",
       "      <td>0.668</td>\n",
       "    </tr>\n",
       "    <tr>\n",
       "      <th>6</th>\n",
       "      <td>1 hidden, 250 nodes, adam</td>\n",
       "      <td>0.270</td>\n",
       "      <td>0.338</td>\n",
       "      <td>0.452</td>\n",
       "      <td>0.664</td>\n",
       "    </tr>\n",
       "    <tr>\n",
       "      <th>4</th>\n",
       "      <td>1 hidden, 100 nodes, adam</td>\n",
       "      <td>0.268</td>\n",
       "      <td>0.342</td>\n",
       "      <td>0.474</td>\n",
       "      <td>0.672</td>\n",
       "    </tr>\n",
       "    <tr>\n",
       "      <th>5</th>\n",
       "      <td>1 hidden, 32 nodes, adam</td>\n",
       "      <td>0.237</td>\n",
       "      <td>0.319</td>\n",
       "      <td>0.490</td>\n",
       "      <td>0.679</td>\n",
       "    </tr>\n",
       "    <tr>\n",
       "      <th>0</th>\n",
       "      <td>1 hidden, 64 nodes per, adam</td>\n",
       "      <td>0.226</td>\n",
       "      <td>0.318</td>\n",
       "      <td>0.540</td>\n",
       "      <td>0.692</td>\n",
       "    </tr>\n",
       "    <tr>\n",
       "      <th>3</th>\n",
       "      <td>1 hidden, 64 nodes per, adagrad, scaled</td>\n",
       "      <td>0.179</td>\n",
       "      <td>0.262</td>\n",
       "      <td>0.485</td>\n",
       "      <td>0.678</td>\n",
       "    </tr>\n",
       "    <tr>\n",
       "      <th>1</th>\n",
       "      <td>1 hidden, 64 nodes per, adagrad</td>\n",
       "      <td>0.159</td>\n",
       "      <td>0.241</td>\n",
       "      <td>0.500</td>\n",
       "      <td>0.682</td>\n",
       "    </tr>\n",
       "  </tbody>\n",
       "</table>\n",
       "</div>"
      ],
      "text/plain": [
       "                                     Model  Recall     F1  Precision  Accuracy\n",
       "2     1 hidden, 64 nodes per, adam, scaled   0.277  0.346      0.462     0.667\n",
       "7                1 hidden, 300 nodes, adam   0.277  0.347      0.464     0.668\n",
       "6                1 hidden, 250 nodes, adam   0.270  0.338      0.452     0.664\n",
       "4                1 hidden, 100 nodes, adam   0.268  0.342      0.474     0.672\n",
       "5                 1 hidden, 32 nodes, adam   0.237  0.319      0.490     0.679\n",
       "0             1 hidden, 64 nodes per, adam   0.226  0.318      0.540     0.692\n",
       "3  1 hidden, 64 nodes per, adagrad, scaled   0.179  0.262      0.485     0.678\n",
       "1          1 hidden, 64 nodes per, adagrad   0.159  0.241      0.500     0.682"
      ]
     },
     "execution_count": 37,
     "metadata": {},
     "output_type": "execute_result"
    }
   ],
   "source": [
    "master_scores.sort_values('Recall', ascending=False)"
   ]
  },
  {
   "cell_type": "markdown",
   "id": "7feac994",
   "metadata": {},
   "source": [
    "Okay so we are pretty similar in performance to the logistic regression models from cat-pstone 1 on every metric except recall (and the part it plays in F1, of course). Let's see if over or undersampling with the top performing model architecture (model1). "
   ]
  },
  {
   "cell_type": "code",
   "execution_count": 38,
   "id": "07a5b843",
   "metadata": {},
   "outputs": [],
   "source": [
    "from imblearn.under_sampling import RandomUnderSampler\n",
    "from imblearn.over_sampling import RandomOverSampler"
   ]
  },
  {
   "cell_type": "code",
   "execution_count": 39,
   "id": "5e6d046a",
   "metadata": {},
   "outputs": [],
   "source": [
    "rus = RandomUnderSampler()\n",
    "X_resampled_rus, y_resampled_rus = rus.fit_resample(X_train_scaled_encoded, y_train)\n",
    "\n",
    "ros = RandomOverSampler()\n",
    "X_resampled_ros, y_resampled_ros = ros.fit_resample(X_train_scaled_encoded, y_train)"
   ]
  },
  {
   "cell_type": "code",
   "execution_count": 40,
   "id": "85c92206",
   "metadata": {},
   "outputs": [
    {
     "name": "stdout",
     "output_type": "stream",
     "text": [
      "Epoch 1/10\n",
      "79/79 [==============================] - 0s 870us/step - loss: 0.6755 - accuracy: 0.5884 - recall: 0.5741\n",
      "Epoch 2/10\n",
      "79/79 [==============================] - 0s 895us/step - loss: 0.6502 - accuracy: 0.6288 - recall: 0.6164\n",
      "Epoch 3/10\n",
      "79/79 [==============================] - 0s 921us/step - loss: 0.6430 - accuracy: 0.6387 - recall: 0.6308\n",
      "Epoch 4/10\n",
      "79/79 [==============================] - 0s 895us/step - loss: 0.6375 - accuracy: 0.6375 - recall: 0.6230\n",
      "Epoch 5/10\n",
      "79/79 [==============================] - 0s 908us/step - loss: 0.6334 - accuracy: 0.6462 - recall: 0.6276\n",
      "Epoch 6/10\n",
      "79/79 [==============================] - 0s 895us/step - loss: 0.6298 - accuracy: 0.6502 - recall: 0.6600\n",
      "Epoch 7/10\n",
      "79/79 [==============================] - 0s 908us/step - loss: 0.6245 - accuracy: 0.6585 - recall: 0.6378\n",
      "Epoch 8/10\n",
      "79/79 [==============================] - 0s 997us/step - loss: 0.6206 - accuracy: 0.6668 - recall: 0.6622\n",
      "Epoch 9/10\n",
      "79/79 [==============================] - 0s 946us/step - loss: 0.6204 - accuracy: 0.6613 - recall: 0.6468\n",
      "Epoch 10/10\n",
      "79/79 [==============================] - 0s 921us/step - loss: 0.6173 - accuracy: 0.6569 - recall: 0.6560\n",
      "54/54 [==============================] - 0s 602us/step\n"
     ]
    },
    {
     "name": "stderr",
     "output_type": "stream",
     "text": [
      "C:\\Users\\gwent\\AppData\\Local\\Temp\\ipykernel_4284\\1005917253.py:23: FutureWarning: The frame.append method is deprecated and will be removed from pandas in a future version. Use pandas.concat instead.\n",
      "  master_scores = master_scores.append(new_row, ignore_index=True)\n"
     ]
    },
    {
     "data": {
      "text/plain": [
       "array([[732, 427],\n",
       "       [223, 318]], dtype=int64)"
      ]
     },
     "execution_count": 40,
     "metadata": {},
     "output_type": "execute_result"
    }
   ],
   "source": [
    "# RUS \n",
    "model9 = create_mlp(64, 'adam')\n",
    "model9.fit(X_resampled_rus, y_resampled_rus, epochs=10, batch_size=32)\n",
    "\n",
    "y_pred = model9.predict(X_test_scaled_encoded)\n",
    "y_pred = np.round(y_pred).astype(int)\n",
    "\n",
    "cm = confusion_matrix(y_test, y_pred)\n",
    "add_to_master(\"RUS 1 hidden, 64 nodes, adam\", y_test, y_pred)\n",
    "cm"
   ]
  },
  {
   "cell_type": "code",
   "execution_count": 41,
   "id": "145dd3c1",
   "metadata": {},
   "outputs": [
    {
     "name": "stdout",
     "output_type": "stream",
     "text": [
      "Epoch 1/10\n",
      "169/169 [==============================] - 1s 861us/step - loss: 0.6704 - accuracy: 0.5877 - recall: 0.5971\n",
      "Epoch 2/10\n",
      "169/169 [==============================] - 0s 879us/step - loss: 0.6443 - accuracy: 0.6287 - recall: 0.6066\n",
      "Epoch 3/10\n",
      "169/169 [==============================] - 0s 879us/step - loss: 0.6360 - accuracy: 0.6417 - recall: 0.6290\n",
      "Epoch 4/10\n",
      "169/169 [==============================] - 0s 891us/step - loss: 0.6290 - accuracy: 0.6461 - recall: 0.6291\n",
      "Epoch 5/10\n",
      "169/169 [==============================] - 0s 879us/step - loss: 0.6209 - accuracy: 0.6535 - recall: 0.6364\n",
      "Epoch 6/10\n",
      "169/169 [==============================] - 0s 879us/step - loss: 0.6175 - accuracy: 0.6583 - recall: 0.6634\n",
      "Epoch 7/10\n",
      "169/169 [==============================] - 0s 879us/step - loss: 0.6138 - accuracy: 0.6552 - recall: 0.6483\n",
      "Epoch 8/10\n",
      "169/169 [==============================] - 0s 873us/step - loss: 0.6096 - accuracy: 0.6624 - recall: 0.6428\n",
      "Epoch 9/10\n",
      "169/169 [==============================] - 0s 879us/step - loss: 0.6050 - accuracy: 0.6706 - recall: 0.6710\n",
      "Epoch 10/10\n",
      "169/169 [==============================] - 0s 885us/step - loss: 0.6010 - accuracy: 0.6696 - recall: 0.6716\n",
      "54/54 [==============================] - 0s 583us/step\n"
     ]
    },
    {
     "name": "stderr",
     "output_type": "stream",
     "text": [
      "C:\\Users\\gwent\\AppData\\Local\\Temp\\ipykernel_4284\\1005917253.py:23: FutureWarning: The frame.append method is deprecated and will be removed from pandas in a future version. Use pandas.concat instead.\n",
      "  master_scores = master_scores.append(new_row, ignore_index=True)\n"
     ]
    },
    {
     "data": {
      "text/plain": [
       "array([[836, 323],\n",
       "       [291, 250]], dtype=int64)"
      ]
     },
     "execution_count": 41,
     "metadata": {},
     "output_type": "execute_result"
    }
   ],
   "source": [
    "# ROS \n",
    "model10 = create_mlp(64, 'adam')\n",
    "model10.fit(X_resampled_ros, y_resampled_ros, epochs=10, batch_size=32)\n",
    "\n",
    "y_pred = model10.predict(X_test_scaled_encoded)\n",
    "y_pred = np.round(y_pred).astype(int)\n",
    "\n",
    "cm = confusion_matrix(y_test, y_pred)\n",
    "add_to_master(\"ROS 1 hidden, 64 nodes, adam\", y_test, y_pred)\n",
    "cm"
   ]
  },
  {
   "cell_type": "code",
   "execution_count": 42,
   "id": "9c93d735",
   "metadata": {},
   "outputs": [
    {
     "data": {
      "text/html": [
       "<div>\n",
       "<style scoped>\n",
       "    .dataframe tbody tr th:only-of-type {\n",
       "        vertical-align: middle;\n",
       "    }\n",
       "\n",
       "    .dataframe tbody tr th {\n",
       "        vertical-align: top;\n",
       "    }\n",
       "\n",
       "    .dataframe thead th {\n",
       "        text-align: right;\n",
       "    }\n",
       "</style>\n",
       "<table border=\"1\" class=\"dataframe\">\n",
       "  <thead>\n",
       "    <tr style=\"text-align: right;\">\n",
       "      <th></th>\n",
       "      <th>Model</th>\n",
       "      <th>Recall</th>\n",
       "      <th>F1</th>\n",
       "      <th>Precision</th>\n",
       "      <th>Accuracy</th>\n",
       "    </tr>\n",
       "  </thead>\n",
       "  <tbody>\n",
       "    <tr>\n",
       "      <th>8</th>\n",
       "      <td>RUS 1 hidden, 64 nodes, adam</td>\n",
       "      <td>0.588</td>\n",
       "      <td>0.495</td>\n",
       "      <td>0.427</td>\n",
       "      <td>0.618</td>\n",
       "    </tr>\n",
       "    <tr>\n",
       "      <th>9</th>\n",
       "      <td>ROS 1 hidden, 64 nodes, adam</td>\n",
       "      <td>0.462</td>\n",
       "      <td>0.449</td>\n",
       "      <td>0.436</td>\n",
       "      <td>0.639</td>\n",
       "    </tr>\n",
       "    <tr>\n",
       "      <th>2</th>\n",
       "      <td>1 hidden, 64 nodes per, adam, scaled</td>\n",
       "      <td>0.277</td>\n",
       "      <td>0.346</td>\n",
       "      <td>0.462</td>\n",
       "      <td>0.667</td>\n",
       "    </tr>\n",
       "    <tr>\n",
       "      <th>7</th>\n",
       "      <td>1 hidden, 300 nodes, adam</td>\n",
       "      <td>0.277</td>\n",
       "      <td>0.347</td>\n",
       "      <td>0.464</td>\n",
       "      <td>0.668</td>\n",
       "    </tr>\n",
       "    <tr>\n",
       "      <th>6</th>\n",
       "      <td>1 hidden, 250 nodes, adam</td>\n",
       "      <td>0.270</td>\n",
       "      <td>0.338</td>\n",
       "      <td>0.452</td>\n",
       "      <td>0.664</td>\n",
       "    </tr>\n",
       "    <tr>\n",
       "      <th>4</th>\n",
       "      <td>1 hidden, 100 nodes, adam</td>\n",
       "      <td>0.268</td>\n",
       "      <td>0.342</td>\n",
       "      <td>0.474</td>\n",
       "      <td>0.672</td>\n",
       "    </tr>\n",
       "    <tr>\n",
       "      <th>5</th>\n",
       "      <td>1 hidden, 32 nodes, adam</td>\n",
       "      <td>0.237</td>\n",
       "      <td>0.319</td>\n",
       "      <td>0.490</td>\n",
       "      <td>0.679</td>\n",
       "    </tr>\n",
       "    <tr>\n",
       "      <th>0</th>\n",
       "      <td>1 hidden, 64 nodes per, adam</td>\n",
       "      <td>0.226</td>\n",
       "      <td>0.318</td>\n",
       "      <td>0.540</td>\n",
       "      <td>0.692</td>\n",
       "    </tr>\n",
       "    <tr>\n",
       "      <th>3</th>\n",
       "      <td>1 hidden, 64 nodes per, adagrad, scaled</td>\n",
       "      <td>0.179</td>\n",
       "      <td>0.262</td>\n",
       "      <td>0.485</td>\n",
       "      <td>0.678</td>\n",
       "    </tr>\n",
       "    <tr>\n",
       "      <th>1</th>\n",
       "      <td>1 hidden, 64 nodes per, adagrad</td>\n",
       "      <td>0.159</td>\n",
       "      <td>0.241</td>\n",
       "      <td>0.500</td>\n",
       "      <td>0.682</td>\n",
       "    </tr>\n",
       "  </tbody>\n",
       "</table>\n",
       "</div>"
      ],
      "text/plain": [
       "                                     Model  Recall     F1  Precision  Accuracy\n",
       "8             RUS 1 hidden, 64 nodes, adam   0.588  0.495      0.427     0.618\n",
       "9             ROS 1 hidden, 64 nodes, adam   0.462  0.449      0.436     0.639\n",
       "2     1 hidden, 64 nodes per, adam, scaled   0.277  0.346      0.462     0.667\n",
       "7                1 hidden, 300 nodes, adam   0.277  0.347      0.464     0.668\n",
       "6                1 hidden, 250 nodes, adam   0.270  0.338      0.452     0.664\n",
       "4                1 hidden, 100 nodes, adam   0.268  0.342      0.474     0.672\n",
       "5                 1 hidden, 32 nodes, adam   0.237  0.319      0.490     0.679\n",
       "0             1 hidden, 64 nodes per, adam   0.226  0.318      0.540     0.692\n",
       "3  1 hidden, 64 nodes per, adagrad, scaled   0.179  0.262      0.485     0.678\n",
       "1          1 hidden, 64 nodes per, adagrad   0.159  0.241      0.500     0.682"
      ]
     },
     "execution_count": 42,
     "metadata": {},
     "output_type": "execute_result"
    }
   ],
   "source": [
    "master_scores.sort_values('Recall', ascending=False)"
   ]
  },
  {
   "cell_type": "code",
   "execution_count": 47,
   "id": "ed8efbe0",
   "metadata": {},
   "outputs": [
    {
     "name": "stdout",
     "output_type": "stream",
     "text": [
      "Epoch 1/10\n",
      "101/101 [==============================] - 0s 928us/step - loss: 0.6834 - accuracy: 0.5697 - recall: 0.5898\n",
      "Epoch 2/10\n",
      "101/101 [==============================] - 0s 964us/step - loss: 0.6529 - accuracy: 0.6169 - recall: 0.6031\n",
      "Epoch 3/10\n",
      "101/101 [==============================] - 0s 1ms/step - loss: 0.6457 - accuracy: 0.6280 - recall: 0.6251\n",
      "Epoch 4/10\n",
      "101/101 [==============================] - 0s 977us/step - loss: 0.6393 - accuracy: 0.6335 - recall: 0.6208\n",
      "Epoch 5/10\n",
      "101/101 [==============================] - 0s 958us/step - loss: 0.6355 - accuracy: 0.6462 - recall: 0.6295\n",
      "Epoch 6/10\n",
      "101/101 [==============================] - 0s 908us/step - loss: 0.6286 - accuracy: 0.6494 - recall: 0.6607\n",
      "Epoch 7/10\n",
      "101/101 [==============================] - 0s 968us/step - loss: 0.6266 - accuracy: 0.6533 - recall: 0.6427\n",
      "Epoch 8/10\n",
      "101/101 [==============================] - 0s 928us/step - loss: 0.6226 - accuracy: 0.6605 - recall: 0.6630\n",
      "Epoch 9/10\n",
      "101/101 [==============================] - 0s 958us/step - loss: 0.6216 - accuracy: 0.6549 - recall: 0.6485\n",
      "Epoch 10/10\n",
      "101/101 [==============================] - 0s 1ms/step - loss: 0.6193 - accuracy: 0.6553 - recall: 0.6553\n",
      "54/54 [==============================] - 0s 640us/step\n"
     ]
    },
    {
     "name": "stderr",
     "output_type": "stream",
     "text": [
      "C:\\Users\\gwent\\AppData\\Local\\Temp\\ipykernel_4284\\1005917253.py:23: FutureWarning: The frame.append method is deprecated and will be removed from pandas in a future version. Use pandas.concat instead.\n",
      "  master_scores = master_scores.append(new_row, ignore_index=True)\n"
     ]
    },
    {
     "data": {
      "text/plain": [
       "array([[736, 423],\n",
       "       [231, 310]], dtype=int64)"
      ]
     },
     "execution_count": 47,
     "metadata": {},
     "output_type": "execute_result"
    }
   ],
   "source": [
    "# RUS \n",
    "model11 = create_mlp(64, 'adam')\n",
    "model11.fit(X_resampled_rus, y_resampled_rus, epochs=10, batch_size=25)\n",
    "\n",
    "y_pred = model11.predict(X_test_scaled_encoded)\n",
    "y_pred = np.round(y_pred).astype(int)\n",
    "\n",
    "cm = confusion_matrix(y_test, y_pred)\n",
    "add_to_master(\"RUS 1 hidden, 64 nodes, adam, batch 25\", y_test, y_pred)\n",
    "cm"
   ]
  },
  {
   "cell_type": "code",
   "execution_count": 48,
   "id": "6b41c705",
   "metadata": {},
   "outputs": [
    {
     "data": {
      "text/html": [
       "<div>\n",
       "<style scoped>\n",
       "    .dataframe tbody tr th:only-of-type {\n",
       "        vertical-align: middle;\n",
       "    }\n",
       "\n",
       "    .dataframe tbody tr th {\n",
       "        vertical-align: top;\n",
       "    }\n",
       "\n",
       "    .dataframe thead th {\n",
       "        text-align: right;\n",
       "    }\n",
       "</style>\n",
       "<table border=\"1\" class=\"dataframe\">\n",
       "  <thead>\n",
       "    <tr style=\"text-align: right;\">\n",
       "      <th></th>\n",
       "      <th>Model</th>\n",
       "      <th>Recall</th>\n",
       "      <th>F1</th>\n",
       "      <th>Precision</th>\n",
       "      <th>Accuracy</th>\n",
       "    </tr>\n",
       "  </thead>\n",
       "  <tbody>\n",
       "    <tr>\n",
       "      <th>8</th>\n",
       "      <td>RUS 1 hidden, 64 nodes, adam</td>\n",
       "      <td>0.588</td>\n",
       "      <td>0.495</td>\n",
       "      <td>0.427</td>\n",
       "      <td>0.618</td>\n",
       "    </tr>\n",
       "    <tr>\n",
       "      <th>12</th>\n",
       "      <td>RUS 1 hidden, 64 nodes, adam, batch 25</td>\n",
       "      <td>0.573</td>\n",
       "      <td>0.487</td>\n",
       "      <td>0.423</td>\n",
       "      <td>0.615</td>\n",
       "    </tr>\n",
       "    <tr>\n",
       "      <th>10</th>\n",
       "      <td>RUS 1 hidden, 100 nodes, adam</td>\n",
       "      <td>0.527</td>\n",
       "      <td>0.465</td>\n",
       "      <td>0.417</td>\n",
       "      <td>0.615</td>\n",
       "    </tr>\n",
       "    <tr>\n",
       "      <th>11</th>\n",
       "      <td>RUS 1 hidden, 64 nodes, adam</td>\n",
       "      <td>0.518</td>\n",
       "      <td>0.471</td>\n",
       "      <td>0.432</td>\n",
       "      <td>0.630</td>\n",
       "    </tr>\n",
       "    <tr>\n",
       "      <th>9</th>\n",
       "      <td>ROS 1 hidden, 64 nodes, adam</td>\n",
       "      <td>0.462</td>\n",
       "      <td>0.449</td>\n",
       "      <td>0.436</td>\n",
       "      <td>0.639</td>\n",
       "    </tr>\n",
       "  </tbody>\n",
       "</table>\n",
       "</div>"
      ],
      "text/plain": [
       "                                     Model  Recall     F1  Precision  Accuracy\n",
       "8             RUS 1 hidden, 64 nodes, adam   0.588  0.495      0.427     0.618\n",
       "12  RUS 1 hidden, 64 nodes, adam, batch 25   0.573  0.487      0.423     0.615\n",
       "10           RUS 1 hidden, 100 nodes, adam   0.527  0.465      0.417     0.615\n",
       "11            RUS 1 hidden, 64 nodes, adam   0.518  0.471      0.432     0.630\n",
       "9             ROS 1 hidden, 64 nodes, adam   0.462  0.449      0.436     0.639"
      ]
     },
     "execution_count": 48,
     "metadata": {},
     "output_type": "execute_result"
    }
   ],
   "source": [
    "master_scores.sort_values('Recall', ascending=False).head()"
   ]
  },
  {
   "cell_type": "code",
   "execution_count": null,
   "id": "f3358cd3",
   "metadata": {},
   "outputs": [],
   "source": []
  }
 ],
 "metadata": {
  "kernelspec": {
   "display_name": "Python 3 (ipykernel)",
   "language": "python",
   "name": "python3"
  },
  "language_info": {
   "codemirror_mode": {
    "name": "ipython",
    "version": 3
   },
   "file_extension": ".py",
   "mimetype": "text/x-python",
   "name": "python",
   "nbconvert_exporter": "python",
   "pygments_lexer": "ipython3",
   "version": "3.9.0"
  }
 },
 "nbformat": 4,
 "nbformat_minor": 5
}
